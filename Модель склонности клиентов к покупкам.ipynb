{
 "cells": [
  {
   "cell_type": "markdown",
   "id": "c6fc1567",
   "metadata": {
    "cell_style": "split"
   },
   "source": [
    "![](pictures/shopping_propensity.png)"
   ]
  },
  {
   "cell_type": "markdown",
   "id": "a44fe294",
   "metadata": {
    "cell_style": "split"
   },
   "source": [
    "<b>  </b>  \n",
    "<b>  </b>  \n",
    "<b>  </b>  \n",
    "<b>  </b>  \n",
    "Ноутбук от 30.09.23 \n",
    "<b>  </b>  \n",
    "<b>  </b>  \n",
    "<b>  </b>  \n",
    "<b>  </b>  \n",
    "<b>  </b>  \n",
    "<b>  </b>  \n",
    "<b>  </b>   \n",
    "**_\"Data Science Analyst\"_  \n",
    "_МОДЕЛЬ СКЛОННОСТИ КЛИЕНТОВ К ПОКУПКАМ В ФЕДЕРАЛЬНОЙ СЕТИ ПРОДАЖ СПОРТИВНЫХ ТОВАРОВ_**  \n",
    "\n",
    "Выполнено по технологии CRISP-DM:  \n",
    "Аргентов Сергей, г.Липецк  \n",
    "https://argentov.pro\n",
    "<b>  </b>  \n",
    "<b>  </b>  "
   ]
  },
  {
   "cell_type": "markdown",
   "id": "9db302d7",
   "metadata": {
    "toc": true
   },
   "source": [
    "<h1>СОДЕРЖАНИЕ<span class=\"tocSkip\"></span></h1>\n",
    "<div class=\"toc\"><ul class=\"toc-item\"><li><span><a href=\"#1.-Предобработка-данных\" data-toc-modified-id=\"1.-Предобработка-данных-1\">1. Предобработка данных</a></span><ul class=\"toc-item\"><li><span><a href=\"#1.1.-Анализ-источников-данных\" data-toc-modified-id=\"1.1.-Анализ-источников-данных-1.1\">1.1. Анализ источников данных</a></span></li><li><span><a href=\"#1.2.-Устранение-пропусков-в-данных\" data-toc-modified-id=\"1.2.-Устранение-пропусков-в-данных-1.2\">1.2. Устранение пропусков в данных</a></span><ul class=\"toc-item\"><li><span><a href=\"#1.2.1.-Проверим-гипотезу-что-для-товаров-с-пропуском-в-признаке-&quot;гендерная-принадлежность-потенциальных-покупателей-товара&quot;-есть-признаки-принадлежности-к-полу-в-наименовании-товара\" data-toc-modified-id=\"1.2.1.-Проверим-гипотезу-что-для-товаров-с-пропуском-в-признаке-&quot;гендерная-принадлежность-потенциальных-покупателей-товара&quot;-есть-признаки-принадлежности-к-полу-в-наименовании-товара-1.2.1\">1.2.1. Проверим гипотезу что для товаров с пропуском в признаке \"гендерная принадлежность потенциальных покупателей товара\" есть признаки принадлежности к полу в наименовании товара</a></span></li><li><span><a href=\"#1.2.2.-Проверим-гипотезы-о-причинах-пропусков-знаений-в-признаке-&quot;цвет&quot;\" data-toc-modified-id=\"1.2.2.-Проверим-гипотезы-о-причинах-пропусков-знаений-в-признаке-&quot;цвет&quot;-1.2.2\">1.2.2. Проверим гипотезы о причинах пропусков знаений в признаке \"цвет\"</a></span><ul class=\"toc-item\"><li><span><a href=\"#1.2.2.1.-Проверим-попала-ли-информация-об-уникальныхзначениях-признака-&quot;цвет&quot;-в-наименование-товара-без-признака-&quot;цвет&quot;\" data-toc-modified-id=\"1.2.2.1.-Проверим-попала-ли-информация-об-уникальныхзначениях-признака-&quot;цвет&quot;-в-наименование-товара-без-признака-&quot;цвет&quot;-1.2.2.1\">1.2.2.1. Проверим попала ли информация об уникальныхзначениях признака \"цвет\" в наименование товара без признака \"цвет\"</a></span></li><li><span><a href=\"#1.2.2.2.-Проверим-есть-ли-одноимённые-товары-с-наличием-значения-в-признаке-&quot;цвет&quot;-для-товаров-с-пропущенным-значением-в-признаке-&quot;цвет&quot;\" data-toc-modified-id=\"1.2.2.2.-Проверим-есть-ли-одноимённые-товары-с-наличием-значения-в-признаке-&quot;цвет&quot;-для-товаров-с-пропущенным-значением-в-признаке-&quot;цвет&quot;-1.2.2.2\">1.2.2.2. Проверим есть ли одноимённые товары с наличием значения в признаке \"цвет\" для товаров с пропущенным значением в признаке \"цвет\"</a></span></li><li><span><a href=\"#1.2.2.3.-Проставим-признак-цвет-для-оставшихся-3,2-тыс.-товаров-при-наличии-в-названии-товара-и-не-определённого-автоматически-признака-&quot;цвет&quot;\" data-toc-modified-id=\"1.2.2.3.-Проставим-признак-цвет-для-оставшихся-3,2-тыс.-товаров-при-наличии-в-названии-товара-и-не-определённого-автоматически-признака-&quot;цвет&quot;-1.2.2.3\">1.2.2.3. Проставим признак цвет для оставшихся 3,2 тыс. товаров при наличии в названии товара и не определённого автоматически признака \"цвет\"</a></span></li><li><span><a href=\"#1.2.2.4.-Проверим-однородность-значений-признаков-&quot;цвет&quot;-и-исправим-неоднородные-значения\" data-toc-modified-id=\"1.2.2.4.-Проверим-однородность-значений-признаков-&quot;цвет&quot;-и-исправим-неоднородные-значения-1.2.2.4\">1.2.2.4. Проверим однородность значений признаков \"цвет\" и исправим неоднородные значения</a></span></li></ul></li></ul></li><li><span><a href=\"#1.3.-Обогащение-данных-таблицы-personal_data-из-дополнительного-источника\" data-toc-modified-id=\"1.3.-Обогащение-данных-таблицы-personal_data-из-дополнительного-источника-1.3\">1.3. Обогащение данных таблицы personal_data из дополнительного источника</a></span></li></ul></li></ul></div>"
   ]
  },
  {
   "cell_type": "code",
   "execution_count": 1,
   "id": "106183f9",
   "metadata": {
    "ExecuteTime": {
     "end_time": "2023-10-02T20:48:19.002975Z",
     "start_time": "2023-10-02T20:48:18.830832Z"
    }
   },
   "outputs": [],
   "source": [
    "# Загрузка биьлиотек\n",
    "import pandas as pd\n",
    "import sqlite3 as db\n",
    "\n",
    "import datetime as dt\n",
    "import multiprocessing\n",
    "from multiprocessing import Pool, Manager"
   ]
  },
  {
   "cell_type": "markdown",
   "id": "929c1cb5",
   "metadata": {},
   "source": [
    "# 1. Предобработка данных"
   ]
  },
  {
   "cell_type": "markdown",
   "id": "cf733abb",
   "metadata": {},
   "source": [
    "## 1.1. Анализ источников данных"
   ]
  },
  {
   "cell_type": "code",
   "execution_count": 2,
   "id": "80889f01",
   "metadata": {
    "ExecuteTime": {
     "end_time": "2023-10-02T20:48:22.451492Z",
     "start_time": "2023-10-02T20:48:20.966061Z"
    }
   },
   "outputs": [
    {
     "name": "stdout",
     "output_type": "stream",
     "text": [
      "\n",
      "purchases\n",
      "<class 'pandas.core.frame.DataFrame'>\n",
      "RangeIndex: 786260 entries, 0 to 786259\n",
      "Data columns (total 7 columns):\n",
      " #   Column       Non-Null Count   Dtype  \n",
      "---  ------       --------------   -----  \n",
      " 0   id           786260 non-null  int64  \n",
      " 1   product      786260 non-null  object \n",
      " 2   colour       666736 non-null  object \n",
      " 3   cost         786260 non-null  int64  \n",
      " 4   product_sex  471548 non-null  float64\n",
      " 5   base_sale    786260 non-null  int64  \n",
      " 6   dt           786260 non-null  int64  \n",
      "dtypes: float64(1), int64(4), object(2)\n",
      "memory usage: 42.0+ MB\n",
      "None\n",
      "\n",
      "personal_data_coeffs\n",
      "<class 'pandas.core.frame.DataFrame'>\n",
      "RangeIndex: 104989 entries, 0 to 104988\n",
      "Data columns (total 5 columns):\n",
      " #   Column         Non-Null Count   Dtype  \n",
      "---  ------         --------------   -----  \n",
      " 0   id             104989 non-null  int64  \n",
      " 1   lbt_coef       104989 non-null  float64\n",
      " 2   ac_coef        104989 non-null  float64\n",
      " 3   sm_coef        104989 non-null  float64\n",
      " 4   personal_coef  104989 non-null  float64\n",
      "dtypes: float64(4), int64(1)\n",
      "memory usage: 4.0 MB\n",
      "None\n",
      "\n",
      "personal_data\n",
      "<class 'pandas.core.frame.DataFrame'>\n",
      "RangeIndex: 89241 entries, 0 to 89240\n",
      "Data columns (total 6 columns):\n",
      " #   Column     Non-Null Count  Dtype \n",
      "---  ------     --------------  ----- \n",
      " 0   id         89241 non-null  int64 \n",
      " 1   gender     89241 non-null  int64 \n",
      " 2   age        89241 non-null  int64 \n",
      " 3   education  89241 non-null  object\n",
      " 4   city       89241 non-null  int64 \n",
      " 5   country    89241 non-null  int64 \n",
      "dtypes: int64(5), object(1)\n",
      "memory usage: 4.1+ MB\n",
      "None\n"
     ]
    }
   ],
   "source": [
    "# Предоставленная база данных\n",
    "with db.connect('data/result_data/shop_database.db') as con:\n",
    "    rows = con.cursor().execute(\"SELECT name FROM sqlite_master WHERE type='table';\").fetchall()\n",
    "    dfs = {}\n",
    "    for row in rows:\n",
    "        dfs[row[0]] = pd.read_sql(f'SELECT * FROM {row[0]}', con)\n",
    "        print(f'\\n{row[0]}')\n",
    "        print(dfs[row[0]].info())"
   ]
  },
  {
   "cell_type": "markdown",
   "id": "40870a0d",
   "metadata": {},
   "source": [
    "## 1.2. Устранение пропусков в данных"
   ]
  },
  {
   "cell_type": "markdown",
   "id": "100d44e6",
   "metadata": {},
   "source": [
    "Пропущенные значения есть в таблице `product_sex` (15%) и `color` (40%). Это может быть следствием технической/организационой ошибок при заполнении данных или может отображать следующее:  \n",
    "- для признака `product_sex` в случае унисекс товаров данные о гендерной принадлежности потенциальных покупателей товара не проставлялась,\n",
    "- для признака `colour` часть информации могла попасть в наименование товара, часть информации может быть получены из информации по одноимённым товарам, а в случае когда товар не имеет цветовой характеристики (пищевые продукты, лекарственные средствва и т.п. или товары с незафиксированным признаком цвета по техническим или организационным причинам) цвет товара не проставлялся.  \n",
    "Проверим вышеуказанные гипотизы"
   ]
  },
  {
   "cell_type": "markdown",
   "id": "f57c087f",
   "metadata": {},
   "source": [
    "### 1.2.1. Проверим гипотезу что для товаров с пропуском в признаке \"гендерная принадлежность потенциальных покупателей товара\" есть признаки принадлежности к полу в наименовании товара"
   ]
  },
  {
   "cell_type": "code",
   "execution_count": 3,
   "id": "85516476",
   "metadata": {
    "ExecuteTime": {
     "end_time": "2023-10-02T20:48:25.585532Z",
     "start_time": "2023-10-02T20:48:25.424330Z"
    }
   },
   "outputs": [
    {
     "name": "stdout",
     "output_type": "stream",
     "text": [
      "Уникальные значения гендерной принадлежности потенциального покупателя: [nan  0.  1.]\n",
      "Количесвто уникальных товаров: 23145\n"
     ]
    }
   ],
   "source": [
    "# Соберём уникальный перечень покупок\n",
    "df_product_sex = dfs['purchases'].groupby('product').agg({'product_sex': 'max'})\n",
    "df_product_sex['product'] = df_product_sex.index\n",
    "df_product_sex.reset_index(drop=True, inplace=True)\n",
    "print(f'Уникальные значения гендерной принадлежности '\n",
    "      f'потенциального покупателя: {df_product_sex.product_sex.unique()}\\n'\n",
    "      f'Количесвто уникальных товаров: {len(df_product_sex)}')"
   ]
  },
  {
   "cell_type": "code",
   "execution_count": 4,
   "id": "9ed3028f",
   "metadata": {
    "ExecuteTime": {
     "end_time": "2023-10-02T20:48:26.224689Z",
     "start_time": "2023-10-02T20:48:26.182312Z"
    }
   },
   "outputs": [],
   "source": [
    "# Проверим какие покупки и с какими признаками гендерной принадлежности\n",
    "# имеют в наименовании товара слова 'муж, жен'\n",
    "def check_product_name_sex(x, fit) -> int:\n",
    "    if fit in x:\n",
    "        return 1\n",
    "    else:\n",
    "        return 0\n",
    "\n",
    "df_product_sex['муж'] = df_product_sex['product'].\\\n",
    "                        apply(lambda x:check_product_name_sex(x,'муж'))\n",
    "df_product_sex['жен'] = df_product_sex['product'].\\\n",
    "                        apply(lambda x: check_product_name_sex(x,'жен'))"
   ]
  },
  {
   "cell_type": "code",
   "execution_count": 5,
   "id": "815adae5",
   "metadata": {
    "ExecuteTime": {
     "end_time": "2023-10-02T20:48:27.225840Z",
     "start_time": "2023-10-02T20:48:27.085033Z"
    }
   },
   "outputs": [
    {
     "data": {
      "text/plain": [
       "0"
      ]
     },
     "execution_count": 5,
     "metadata": {},
     "output_type": "execute_result"
    }
   ],
   "source": [
    "# Проверим все ли товары,\n",
    "# не имеющие гендерной принадлежности потенциального покупателя\n",
    "# не имеют в названии явного указания на пол 'муж', 'жен'\n",
    "df_product_sex['унисекс'] = df_product_sex.\\\n",
    "                            apply(lambda x: 1\n",
    "                                 if x['муж'] == 0 and x['жен'] == 0\n",
    "                                 else 0,\n",
    "                                 axis=1)\n",
    "# Определим количество строк где в названиии продукта нет гендерной принадлежности\n",
    "# потенциального покупатнлы и не проставлены соответсвующие признаки\n",
    "len(df_product_sex[(df_product_sex['унисекс'] != 1) & (df_product_sex.product_sex.isna())])"
   ]
  },
  {
   "cell_type": "markdown",
   "id": "d8a36544",
   "metadata": {},
   "source": [
    "**Вывод:** В признаке `product_sex` пропущенные данные с большой вероятностью обозначают что товар пренадлежит к категории `унисекс`. Для возможности использования данного признака в дальнейшем проставим ему в датасете значение 2.0"
   ]
  },
  {
   "cell_type": "code",
   "execution_count": 6,
   "id": "524e79e0",
   "metadata": {
    "ExecuteTime": {
     "end_time": "2023-10-02T20:48:28.565295Z",
     "start_time": "2023-10-02T20:48:28.547658Z"
    }
   },
   "outputs": [],
   "source": [
    "# Заменим пустые значения признака `product_sex` на значение 2.0\n",
    "dfs['purchases'].product_sex = dfs['purchases'].product_sex.fillna(2.0)"
   ]
  },
  {
   "cell_type": "markdown",
   "id": "0a179ac2",
   "metadata": {},
   "source": [
    "### 1.2.2. Проверим гипотезы о причинах пропусков знаений в признаке \"цвет\""
   ]
  },
  {
   "cell_type": "code",
   "execution_count": 7,
   "id": "279bf313",
   "metadata": {
    "ExecuteTime": {
     "end_time": "2023-10-02T20:48:30.072961Z",
     "start_time": "2023-10-02T20:48:30.009745Z"
    }
   },
   "outputs": [
    {
     "data": {
      "text/plain": [
       "15.2"
      ]
     },
     "execution_count": 7,
     "metadata": {},
     "output_type": "execute_result"
    }
   ],
   "source": [
    "# первоначальный процент строк без заполненного значения признака \"цвет\"\n",
    "round((len(dfs['purchases'][dfs['purchases']['colour'].isna()])/len(dfs['purchases'])) * 100, 2)"
   ]
  },
  {
   "cell_type": "markdown",
   "id": "415d5187",
   "metadata": {},
   "source": [
    "#### 1.2.2.1. Проверим попала ли информация об уникальныхзначениях признака \"цвет\" в наименование товара без признака \"цвет\""
   ]
  },
  {
   "cell_type": "code",
   "execution_count": 8,
   "id": "3a0b9a69",
   "metadata": {
    "ExecuteTime": {
     "end_time": "2023-10-02T20:48:31.864130Z",
     "start_time": "2023-10-02T20:48:31.361397Z"
    }
   },
   "outputs": [
    {
     "name": "stdout",
     "output_type": "stream",
     "text": [
      "Количесвто уникальных цветов: 361\n"
     ]
    }
   ],
   "source": [
    "# Создадим множество используемых названий цветов в товарах с проставленным признаком \"цвет\"\n",
    "colors = list(dfs['purchases'][~dfs['purchases']['colour'].isna()]['colour'].\n",
    "              apply(lambda x: x.split('/')))\n",
    "colors_all = []\n",
    "for color in colors:\n",
    "    if isinstance(color, list):\n",
    "        colors_all.extend(color)\n",
    "colors_set = set(colors_all)\n",
    "print(f'Количесвто уникальных цветов: {len(colors_set)}')"
   ]
  },
  {
   "cell_type": "code",
   "execution_count": 9,
   "id": "dba6e051",
   "metadata": {
    "ExecuteTime": {
     "end_time": "2023-10-02T20:48:33.099113Z",
     "start_time": "2023-10-02T20:48:33.087761Z"
    }
   },
   "outputs": [],
   "source": [
    "# Функция проверки наличия информации о цвете товара в наименовании товара\n",
    "def check_name_product(product):\n",
    "    colors = []\n",
    "    for word in product.split(' '):\n",
    "        if word in colors_set:\n",
    "            colors.append(word)\n",
    "    if len(colors):\n",
    "        return '/'.join(colors)"
   ]
  },
  {
   "cell_type": "code",
   "execution_count": 10,
   "id": "2635b9f4",
   "metadata": {
    "ExecuteTime": {
     "end_time": "2023-10-02T20:48:34.093944Z",
     "start_time": "2023-10-02T20:48:33.958510Z"
    }
   },
   "outputs": [
    {
     "name": "stderr",
     "output_type": "stream",
     "text": [
      "/var/folders/5h/1vkpjwr90l19cmzfgsfrcpvm0000gp/T/ipykernel_11670/1099927576.py:3: SettingWithCopyWarning: \n",
      "A value is trying to be set on a copy of a slice from a DataFrame.\n",
      "Try using .loc[row_indexer,col_indexer] = value instead\n",
      "\n",
      "See the caveats in the documentation: https://pandas.pydata.org/pandas-docs/stable/user_guide/indexing.html#returning-a-view-versus-a-copy\n",
      "  df_non_colors['colorus_new'] = df_non_colors['product'].apply(lambda x: check_name_product(x))\n"
     ]
    }
   ],
   "source": [
    "# Получим датасет с отсутствующими значениями в признаке \"цвет\"\n",
    "df_non_colors = dfs['purchases'][dfs['purchases']['colour'].isna()]\n",
    "df_non_colors['colorus_new'] = df_non_colors['product'].apply(lambda x: check_name_product(x))\n",
    "indexs_color = df_non_colors[~df_non_colors['colorus_new'].isna()]['colorus_new']"
   ]
  },
  {
   "cell_type": "code",
   "execution_count": 11,
   "id": "0183d85e",
   "metadata": {
    "ExecuteTime": {
     "end_time": "2023-10-02T20:48:35.877942Z",
     "start_time": "2023-10-02T20:48:35.594934Z"
    }
   },
   "outputs": [],
   "source": [
    "# Добавим полученные цвета в столбец датасета с покупками\n",
    "for index, new_color in zip(indexs_color.index, indexs_color[indexs_color.index]):\n",
    "    dfs['purchases'].loc[index, ['colour']] = new_color"
   ]
  },
  {
   "cell_type": "code",
   "execution_count": 12,
   "id": "0895748b",
   "metadata": {
    "ExecuteTime": {
     "end_time": "2023-10-02T20:48:37.277078Z",
     "start_time": "2023-10-02T20:48:37.211911Z"
    }
   },
   "outputs": [
    {
     "data": {
      "text/plain": [
       "15.04"
      ]
     },
     "execution_count": 12,
     "metadata": {},
     "output_type": "execute_result"
    }
   ],
   "source": [
    "# Процент строк без заполненного значения признака \"цвет\" после первого этапа предобработки данных\n",
    "round((len(dfs['purchases'][dfs['purchases']['colour'].isna()])/len(dfs['purchases'])) * 100, 2)"
   ]
  },
  {
   "cell_type": "markdown",
   "id": "0ca43840",
   "metadata": {},
   "source": [
    "**Вывод:** Данным методом удалось добавить только 0.16% значений признака \"цвет\""
   ]
  },
  {
   "cell_type": "markdown",
   "id": "10c7f2bc",
   "metadata": {},
   "source": [
    "#### 1.2.2.2. Проверим есть ли одноимённые товары с наличием значения в признаке \"цвет\" для товаров с пропущенным значением в признаке \"цвет\""
   ]
  },
  {
   "cell_type": "markdown",
   "id": "f0fd57be",
   "metadata": {},
   "source": [
    "Проставим каждому товару из списка товаров без признака \"цвет\" наиболее часто встречающееся значение цвета.  \n",
    "Для экономии времени при расчёте выполним присвоение в мультипроцессорном режиме"
   ]
  },
  {
   "cell_type": "code",
   "execution_count": 13,
   "id": "2a7709a5",
   "metadata": {
    "ExecuteTime": {
     "end_time": "2023-10-02T20:48:42.096421Z",
     "start_time": "2023-10-02T20:48:42.084503Z"
    }
   },
   "outputs": [],
   "source": [
    "# Загрузим функции поиска во всех записях о товаре наиболее часто встречающихся значений признака \"цвет\"\n",
    "# для наименований товаров, по которым есть записи с незаполненым признаком \"цвет\"\n",
    "# (функции написаны в отдельном модуле для обеспечения требований блиотеки  multiprocessing)\n",
    "from package.preparation import add_freq_product_color, freq_product_color"
   ]
  },
  {
   "cell_type": "code",
   "execution_count": 14,
   "id": "a0caac54",
   "metadata": {
    "ExecuteTime": {
     "end_time": "2023-10-02T20:48:43.302406Z",
     "start_time": "2023-10-02T20:48:42.908991Z"
    }
   },
   "outputs": [],
   "source": [
    "# Сформируем датасеты:\n",
    "\n",
    "# df_1 - датасет в котором среди уникальных наименований товара будем искать такие товары,\n",
    "#        в которых проставлено наиболее часто встречающееся значение признака \"цвет\" для этого товара \n",
    "df_1 = dfs['purchases'][['product', 'colour']]\n",
    "\n",
    "# df_2 - датасет в котором сформируем список всех уникальных товаров с пропущенным значение признака \"цвет\"\n",
    "df_2 = df_1[df_1['colour'].isna()].groupby('product').agg({'colour': 'max'})\n",
    "df_2.reset_index(inplace=True)"
   ]
  },
  {
   "cell_type": "code",
   "execution_count": 15,
   "id": "b56be499",
   "metadata": {
    "ExecuteTime": {
     "end_time": "2023-10-02T20:48:43.889746Z",
     "start_time": "2023-10-02T20:48:43.887767Z"
    }
   },
   "outputs": [],
   "source": [
    "######   ЗАПУСКАЕМ РАСЧЁТЫ В МНОГОПРОЦЕССОРНОМ РЕЖИМЕ   ######"
   ]
  },
  {
   "cell_type": "code",
   "execution_count": 16,
   "id": "45b823cd",
   "metadata": {
    "ExecuteTime": {
     "end_time": "2023-10-02T20:48:44.960447Z",
     "start_time": "2023-10-02T20:48:44.949254Z"
    }
   },
   "outputs": [
    {
     "name": "stdout",
     "output_type": "stream",
     "text": [
      "Количество доступных процессоров: 9\n",
      "Размеры подмассивов: 1308 \n",
      "\n"
     ]
    }
   ],
   "source": [
    "# 1. Рассчитываем количество ядер процесса, которые можно задействовать для вычислений\n",
    "#    (уменьшаем количество доступных ядер на 1 ядро, которое оставляем на системные потребности)\n",
    "n_cpu = multiprocessing.cpu_count() - 1\n",
    "print('Количество доступных процессоров:', n_cpu)\n",
    "\n",
    "# 2. Расчитаем минимальный размер обрабатываемых парралельно подмассивов\n",
    "# (по кратности ядер, которые будем использовать)\n",
    "val_sub = int(len(df_2)/n_cpu)\n",
    "print('Размеры подмассивов:', val_sub, '\\n')"
   ]
  },
  {
   "cell_type": "code",
   "execution_count": 17,
   "id": "a8ac8dd3",
   "metadata": {
    "ExecuteTime": {
     "end_time": "2023-10-02T20:50:02.992456Z",
     "start_time": "2023-10-02T20:48:46.745260Z"
    }
   },
   "outputs": [
    {
     "name": "stdout",
     "output_type": "stream",
     "text": [
      "ВРЕМЯ СТАРТА РАСЧЁТА: 2023-10-02 23:48:46.758237 \n",
      "\n",
      "Размеры массивов: 11775 и 786260\n",
      "\n",
      "\n",
      "Подготовлен 1 массив размером: 1308 для сравнения с 786260\n",
      "Подготовлен 2 массив размером: 1308 для сравнения с 786260\n",
      "Подготовлен 3 массив размером: 1308 для сравнения с 786260\n",
      "Подготовлен 4 массив размером: 1308 для сравнения с 786260\n",
      "Подготовлен 5 массив размером: 1308 для сравнения с 786260\n",
      "Подготовлен 6 массив размером: 1308 для сравнения с 786260\n",
      "Подготовлен 7 массив размером: 1308 для сравнения с 786260\n",
      "Подготовлен 8 массив размером: 1308 для сравнения с 786260\n",
      "Подготовлен последний массив размером: 1311 для сравнения с 786260\n",
      "... запущен параллельный расчёт на 9 ядрах процессора ...\n",
      "\n",
      "\n",
      "ВРЕМЯ ОКОНЧАНИЯ РАСЧЁТА: 2023-10-02 23:50:02.990853\n",
      "ВРЕМЯ ВЫПОЛНЕНИЯ: 0:01:16.232616 \n",
      "\n",
      "\n"
     ]
    }
   ],
   "source": [
    "# Ииспользуем признак работы в главном модуле (для обеспечения требований блиотеки  multiprocessing)\n",
    "if __name__ == '__main__':\n",
    "    \n",
    "    # Начнём замер времени\n",
    "    start_time = dt.datetime.now()\n",
    "    print('ВРЕМЯ СТАРТА РАСЧЁТА:', start_time, '\\n')\n",
    "    \n",
    "    # Распарралелим расчёты между доступными ядрами процессора\n",
    "    # 3. Создаём менеджера парралельных процессов\n",
    "    #    и его пространство имён для обмена данными между процессами\n",
    "    with Manager() as mng:\n",
    "        ns = mng.Namespace()\n",
    "        ns.dfs = mng.list()\n",
    "        df = df_1\n",
    "        df_u = df_2\n",
    "        print(f'Размеры массивов: {len(df_u)} и {len(df)}\\n\\n')\n",
    "        \n",
    "        # 4. Делим датасет на составляющие,\n",
    "        #    которые будут рассчитываться в парралельных процессах\n",
    "        for i in range(n_cpu - 1):\n",
    "            df = df_1.copy()\n",
    "            ns.dfs.append((df_u[val_sub*i:val_sub*(i+1)], df.copy()))\n",
    "            print(f'Подготовлен {i+1} массив размером: {len(ns.dfs[i][0])} для сравнения с {len(ns.dfs[i][1])}')\n",
    "        ns.dfs.append((df_u[(n_cpu-1)*val_sub:], df.copy()))\n",
    "        print(f'Подготовлен последний массив размером: {len(ns.dfs[i+1][0])} для сравнения с {len(ns.dfs[i+1][1])}')\n",
    "\n",
    "        # 5. Запустим пул парралельных процессов вычислений\n",
    "        #    и результат объединим в единый датафрейм\n",
    "        with Pool(processes=n_cpu) as p:\n",
    "            print(f'... запущен параллельный расчёт на {n_cpu} ядрах процессора ...')\n",
    "            df_non_colours = pd.concat(list(p.map(add_freq_product_color, ns.dfs)), axis=0)\n",
    "\n",
    "    # Закончим замер времени\n",
    "    finish_time = dt.datetime.now()\n",
    "    print('\\n\\nВРЕМЯ ОКОНЧАНИЯ РАСЧЁТА:', finish_time)\n",
    "    print('ВРЕМЯ ВЫПОЛНЕНИЯ:', finish_time - start_time, '\\n' * 2)"
   ]
  },
  {
   "cell_type": "code",
   "execution_count": 18,
   "id": "17e171fd",
   "metadata": {
    "ExecuteTime": {
     "end_time": "2023-10-02T20:50:17.088313Z",
     "start_time": "2023-10-02T20:50:17.068744Z"
    }
   },
   "outputs": [],
   "source": [
    "# Сформируем датасет с вновь заполненным признаком \"цвет\"\n",
    "df_3 = df_non_colours[~df_non_colours['freq_color'].isna()]\n",
    "\n",
    "# Создадим словарь восстановленных данных о признаке \"цвет\"\n",
    "recovered_color_data = {}\n",
    "for key, value in zip(list(df_3['product']), list(df_3['freq_color'])):\n",
    "    recovered_color_data[key] = value"
   ]
  },
  {
   "cell_type": "code",
   "execution_count": 19,
   "id": "b2a5002a",
   "metadata": {
    "ExecuteTime": {
     "end_time": "2023-10-02T20:50:18.813584Z",
     "start_time": "2023-10-02T20:50:18.803072Z"
    }
   },
   "outputs": [],
   "source": [
    "# Функция добавления восстановленных данных в признак \"цвет\"\n",
    "def replace_none_1(product, colour, recovered_color_data):\n",
    "    if pd.isna(colour):\n",
    "        if product in list(recovered_color_data.keys()):\n",
    "            return recovered_color_data[product]\n",
    "        else:\n",
    "            return None\n",
    "    else:\n",
    "        return colour"
   ]
  },
  {
   "cell_type": "code",
   "execution_count": 20,
   "id": "a394cbde",
   "metadata": {
    "ExecuteTime": {
     "end_time": "2023-10-02T20:50:34.323148Z",
     "start_time": "2023-10-02T20:50:20.136500Z"
    }
   },
   "outputs": [],
   "source": [
    "# Добавим восстановленные записи признака \"цвет\" в исходный датасет с товарами\n",
    "dfs['purchases']['colour'] = dfs['purchases'].apply(lambda x:\n",
    "                                                    replace_none_1(x['product'],\n",
    "                                                                   x['colour'],\n",
    "                                                                   recovered_color_data),\n",
    "                                                    axis=1)"
   ]
  },
  {
   "cell_type": "code",
   "execution_count": 21,
   "id": "d910bddb",
   "metadata": {
    "ExecuteTime": {
     "end_time": "2023-10-02T20:51:02.506225Z",
     "start_time": "2023-10-02T20:51:02.396574Z"
    }
   },
   "outputs": [
    {
     "data": {
      "text/plain": [
       "0.42"
      ]
     },
     "execution_count": 21,
     "metadata": {},
     "output_type": "execute_result"
    }
   ],
   "source": [
    "# Процент строк без заполненного значения признака \"цвет\" после первого этапа предобработки данных\n",
    "round((len(dfs['purchases'][dfs['purchases']['colour'].isna()])/len(dfs['purchases'])) * 100, 2)"
   ]
  },
  {
   "cell_type": "markdown",
   "id": "8708a365",
   "metadata": {},
   "source": [
    "**Вывод:** Данным методом удалось добавить только 14.62% значений признака \"цвет\" и довести уровень заполненности данного признака до 99,6%"
   ]
  },
  {
   "cell_type": "markdown",
   "id": "7dee10cf",
   "metadata": {},
   "source": [
    "#### 1.2.2.3. Проставим признак цвет для оставшихся 3,2 тыс. товаров при наличии в названии товара и не определённого автоматически признака \"цвет\""
   ]
  },
  {
   "cell_type": "markdown",
   "id": "b91ca2b4",
   "metadata": {},
   "source": [
    "Создадим словарь цветов и их сочетаний, визуально выявленных в названиях 3,2 тыс. товаров, в которых не удалось проставить признак \"цвет\" автоматически"
   ]
  },
  {
   "cell_type": "code",
   "execution_count": 24,
   "id": "064d9348",
   "metadata": {
    "ExecuteTime": {
     "end_time": "2023-10-02T20:52:26.983346Z",
     "start_time": "2023-10-02T20:52:26.976564Z"
    }
   },
   "outputs": [],
   "source": [
    "colors_manual = {'(бесцветный)': 'бесцветный', '(зеленый': 'зеленый', 'зеленый)': 'зеленый',\n",
    "                 '(камуфляж)': 'милитари', '(серый': 'серый', 'серый)': 'серый',\n",
    "                 'белая': 'белый', 'голубой/белый': 'голубой/белый',\n",
    "                 'горчичный/темно-серый': 'горчичный/темно-серый',\n",
    "                 'зеленый/морковный': 'зеленый/морковный', 'красный/никель': 'красный/никель',\n",
    "                 'люминисцентно-желтый': 'люминисцентно-желтый', 'синий/авокадо': 'синий/авокадо',\n",
    "                 'фиолетовый/белый': 'фиолетовый/белый',\n",
    "                 'black': 'черный', 'white': 'белый', 'blue': 'синий', 'red': 'красный',\n",
    "                 'green': 'green', 'gray': 'серый', 'lavender': 'лавандовый',\n",
    "                 'blue/green': 'синий/зеленый', 'blue/white': 'синий/зеленый',\n",
    "                 'bright blue': 'светло-синий', 'dark blue': 'темно-синий',\n",
    "                 'multicolor': 'мультицвет', 'white/gray/lavender': 'белый/серый/лавандовый'}"
   ]
  },
  {
   "cell_type": "code",
   "execution_count": 25,
   "id": "bf2dab0f",
   "metadata": {
    "ExecuteTime": {
     "end_time": "2023-10-02T20:55:58.949935Z",
     "start_time": "2023-10-02T20:55:58.940759Z"
    }
   },
   "outputs": [],
   "source": [
    "# Функция добавления в признак \"цвет\" восстановленных данных из названия товара\n",
    "def replace_none_2(product, colour, recovered_color_data):\n",
    "    if pd.isna(colour):\n",
    "        for word in product.split(' '):\n",
    "            if word in list(recovered_color_data.keys()):\n",
    "                return recovered_color_data[word]\n",
    "            else:\n",
    "                return None\n",
    "    else:\n",
    "        return colour"
   ]
  },
  {
   "cell_type": "code",
   "execution_count": 26,
   "id": "b1840115",
   "metadata": {
    "ExecuteTime": {
     "end_time": "2023-10-02T20:56:05.140863Z",
     "start_time": "2023-10-02T20:56:00.943281Z"
    }
   },
   "outputs": [],
   "source": [
    "# Добавим восстановленные записи признака \"цвет\" в исходный датасет с товарами\n",
    "dfs['purchases']['colour'] = dfs['purchases'].apply(lambda x:\n",
    "                                                    replace_none_2(x['product'],\n",
    "                                                                   x['colour'],\n",
    "                                                                   colors_manual),\n",
    "                                                    axis=1)"
   ]
  },
  {
   "cell_type": "code",
   "execution_count": 28,
   "id": "23240066",
   "metadata": {
    "ExecuteTime": {
     "end_time": "2023-10-02T20:58:10.927516Z",
     "start_time": "2023-10-02T20:58:10.887551Z"
    }
   },
   "outputs": [
    {
     "data": {
      "text/plain": [
       "0.39"
      ]
     },
     "execution_count": 28,
     "metadata": {},
     "output_type": "execute_result"
    }
   ],
   "source": [
    "# Процент строк без заполненного значения признака \"цвет\" после первого этапа предобработки данных\n",
    "round((len(dfs['purchases'][dfs['purchases']['colour'].isna()])/len(dfs['purchases'])) * 100, 2)"
   ]
  },
  {
   "cell_type": "markdown",
   "id": "d8f7b69d",
   "metadata": {},
   "source": [
    "**Вывод:** Данным методом удалось добавить только 0.03% значений признака \"цвет\", уровень заполненности данного признака остался  равным 99,6%"
   ]
  },
  {
   "cell_type": "markdown",
   "id": "3404ff69",
   "metadata": {},
   "source": [
    "#### 1.2.2.4. Проверим однородность значений признаков \"цвет\" и исправим неоднородные значения"
   ]
  },
  {
   "cell_type": "code",
   "execution_count": 44,
   "id": "9e41c65b",
   "metadata": {
    "ExecuteTime": {
     "end_time": "2023-10-02T21:27:57.301053Z",
     "start_time": "2023-10-02T21:27:57.292703Z"
    }
   },
   "outputs": [],
   "source": [
    "# Функция приведения всех букв признака цвет к нижнему регистру и замены буквы 'ё' на 'е'\n",
    "def replace_symbol(colour):\n",
    "    if not pd.isna(colour):\n",
    "        colour = colour.lower()\n",
    "        colour = colour.replace('ё', 'е')\n",
    "        return colour\n",
    "    else:\n",
    "        return None"
   ]
  },
  {
   "cell_type": "code",
   "execution_count": 45,
   "id": "7fbe9726",
   "metadata": {
    "ExecuteTime": {
     "end_time": "2023-10-02T21:28:00.212941Z",
     "start_time": "2023-10-02T21:27:59.865234Z"
    },
    "code_folding": []
   },
   "outputs": [],
   "source": [
    "# Приведём все значения признаков цвет к нижнему регистру и заменим все буквы 'ё' на 'е'\n",
    "dfs['purchases']['colour'] = dfs['purchases']['colour'].apply(lambda x: replace_symbol(x))"
   ]
  },
  {
   "cell_type": "code",
   "execution_count": 47,
   "id": "b209daad",
   "metadata": {
    "ExecuteTime": {
     "end_time": "2023-10-02T21:44:52.304148Z",
     "start_time": "2023-10-02T21:44:51.703214Z"
    }
   },
   "outputs": [
    {
     "name": "stdout",
     "output_type": "stream",
     "text": [
      "Количесвто уникальных цветов: 329\n"
     ]
    }
   ],
   "source": [
    "# Создадим множество используемых названий цветов в товарах с проставленным признаком \"цвет\"\n",
    "colors = list(dfs['purchases'][~dfs['purchases']['colour'].isna()]['colour'].\n",
    "              apply(lambda x: x.split('/')))\n",
    "colors_all = []\n",
    "for color in colors:\n",
    "    if isinstance(color, list):\n",
    "        colors_all.extend(color)\n",
    "colors_set = set(colors_all)\n",
    "print(f'Количесвто уникальных цветов: {len(colors_set)}')"
   ]
  },
  {
   "cell_type": "code",
   "execution_count": 82,
   "id": "522a8d3d",
   "metadata": {
    "ExecuteTime": {
     "end_time": "2023-10-02T22:08:01.103910Z",
     "start_time": "2023-10-02T22:08:01.089818Z"
    }
   },
   "outputs": [],
   "source": [
    "# Создадим словарь одородности названий признака \"цвет\"\n",
    "uniformity_colours = {\n",
    "                      'cеребряный': 'серебряный',\n",
    "                      'антрацит': 'антрацитовый', 'бeлый': 'белый', 'волна': 'волны',\n",
    "                      'графит': 'графитовый', 'золото': 'золотистый', 'золотой': 'золотистый',\n",
    "                      'ирис': 'ирисовый', 'камуфляж': 'камуфляжный', 'клетка': 'клетчатый',\n",
    "                      'коралл': 'коралловый', 'лайм': 'лаймовый', 'леопард': 'леопардовый',\n",
    "                      'металлик': 'металлический', 'милитари': 'камуфляжный',\n",
    "                      'мультиколор': 'многоцветный', 'мультицвет': 'многоцветный',\n",
    "                      'нюд': 'нюдовый', 'персик': 'персиковый', 'полоски': 'полоска',\n",
    "                      'св.розовый': 'светло-розовый', 'серебро': 'серебряный',\n",
    "                      'серебристый': 'серебряный', 'сиинй': 'синий', 'синий-белый': 'сине-белый',\n",
    "                      'хром': 'хромовый', 'цветной': 'многоцветный',\n",
    "                      'черный-белый': 'черно-белый', 'черный-желтый': 'черно-желтый',\n",
    "                      'черный-красный': 'черно-красный', 'яблоко': 'яблочный', \n",
    "                      }"
   ]
  },
  {
   "cell_type": "code",
   "execution_count": 94,
   "id": "00d0c19f",
   "metadata": {
    "ExecuteTime": {
     "end_time": "2023-10-02T22:24:41.483552Z",
     "start_time": "2023-10-02T22:24:41.476302Z"
    }
   },
   "outputs": [],
   "source": [
    "# Функция замены значения признака \"цвет\" на однородное по всему датасету\n",
    "def replace_none_3(colour, uniformity_colours):\n",
    "    if not pd.isna(colour):\n",
    "        words_colour = colour.split('/')\n",
    "        words_uniformity = []\n",
    "        for word in words_colour:\n",
    "            if word in list(uniformity_colours.keys()):\n",
    "                words_uniformity.append(uniformity_colours[word])\n",
    "            else:\n",
    "                words_uniformity.append(word)\n",
    "        return ('/').join(words_uniformity)\n",
    "    else:\n",
    "        return None"
   ]
  },
  {
   "cell_type": "code",
   "execution_count": 95,
   "id": "1b518856",
   "metadata": {
    "ExecuteTime": {
     "end_time": "2023-10-02T22:24:43.827450Z",
     "start_time": "2023-10-02T22:24:43.077908Z"
    }
   },
   "outputs": [],
   "source": [
    "# Приведём все значения признака \"цвет\" к однородным\n",
    "dfs['purchases']['colour'] = dfs['purchases']['colour'].apply(lambda x:\n",
    "                                                              replace_none_3(x,\n",
    "                                                                             uniformity_colours))"
   ]
  },
  {
   "cell_type": "code",
   "execution_count": 96,
   "id": "657959c3",
   "metadata": {
    "ExecuteTime": {
     "end_time": "2023-10-02T22:24:47.572005Z",
     "start_time": "2023-10-02T22:24:46.768110Z"
    }
   },
   "outputs": [
    {
     "name": "stdout",
     "output_type": "stream",
     "text": [
      "Количесвто уникальных цветов: 300\n"
     ]
    }
   ],
   "source": [
    "# Создадим множество используемых названий цветов в товарах с проставленным признаком \"цвет\"\n",
    "colors = list(dfs['purchases'][~dfs['purchases']['colour'].isna()]['colour'].\n",
    "              apply(lambda x: x.split('/')))\n",
    "colors_all = []\n",
    "for color in colors:\n",
    "    if isinstance(color, list):\n",
    "        colors_all.extend(color)\n",
    "colors_set = set(colors_all)\n",
    "print(f'Количесвто уникальных цветов: {len(colors_set)}')"
   ]
  },
  {
   "cell_type": "code",
   "execution_count": 99,
   "id": "453c4c46",
   "metadata": {
    "ExecuteTime": {
     "end_time": "2023-10-02T22:32:11.874056Z",
     "start_time": "2023-10-02T22:32:11.810876Z"
    }
   },
   "outputs": [],
   "source": [
    "# Заменим пустые значения признака \"цвет\" на значение 'неопределенный',\n",
    "# так как оно уже существует в значениях признака отдельных товаров\n",
    "dfs['purchases'].colour = dfs['purchases'].colour.fillna('неопределенный')"
   ]
  },
  {
   "cell_type": "markdown",
   "id": "32b53955",
   "metadata": {},
   "source": [
    "## 1.3. Обогащение данных таблицы personal_data из дополнительного источника"
   ]
  },
  {
   "cell_type": "code",
   "execution_count": 101,
   "id": "ad18980c",
   "metadata": {
    "ExecuteTime": {
     "end_time": "2023-10-02T22:36:18.947619Z",
     "start_time": "2023-10-02T22:36:18.934408Z"
    }
   },
   "outputs": [
    {
     "name": "stdout",
     "output_type": "stream",
     "text": [
      "<class 'pandas.core.frame.DataFrame'>\n",
      "RangeIndex: 15748 entries, 0 to 15747\n",
      "Data columns (total 5 columns):\n",
      " #   Column     Non-Null Count  Dtype \n",
      "---  ------     --------------  ----- \n",
      " 0   id         15748 non-null  int64 \n",
      " 1   age        15748 non-null  int64 \n",
      " 2   education  15748 non-null  object\n",
      " 3   city       15748 non-null  int64 \n",
      " 4   country    15748 non-null  int64 \n",
      "dtypes: int64(4), object(1)\n",
      "memory usage: 615.3+ KB\n"
     ]
    }
   ],
   "source": [
    "# Прочитаем восстановленные данные\n",
    "df_recovered  = pd.read_csv('data/result_data/personal_data.csv')\n",
    "df_recovered.info()"
   ]
  },
  {
   "cell_type": "code",
   "execution_count": 102,
   "id": "f2f2a34b",
   "metadata": {
    "ExecuteTime": {
     "end_time": "2023-10-02T22:36:51.161595Z",
     "start_time": "2023-10-02T22:36:51.146542Z"
    }
   },
   "outputs": [
    {
     "name": "stdout",
     "output_type": "stream",
     "text": [
      "<class 'pandas.core.frame.DataFrame'>\n",
      "Int64Index: 104989 entries, 0 to 15747\n",
      "Data columns (total 6 columns):\n",
      " #   Column     Non-Null Count   Dtype  \n",
      "---  ------     --------------   -----  \n",
      " 0   id         104989 non-null  int64  \n",
      " 1   gender     89241 non-null   float64\n",
      " 2   age        104989 non-null  int64  \n",
      " 3   education  104989 non-null  object \n",
      " 4   city       104989 non-null  int64  \n",
      " 5   country    104989 non-null  int64  \n",
      "dtypes: float64(1), int64(4), object(1)\n",
      "memory usage: 5.6+ MB\n"
     ]
    }
   ],
   "source": [
    "# Добавим восстановленные данные в общий датафрейм\n",
    "dfs['personal_data_recovered'] = pd.concat([dfs['personal_data'], df_recovered], axis=0)\n",
    "dfs['personal_data_recovered'].info()"
   ]
  },
  {
   "cell_type": "code",
   "execution_count": null,
   "id": "142f9ab2",
   "metadata": {},
   "outputs": [],
   "source": []
  }
 ],
 "metadata": {
  "kernelspec": {
   "display_name": "Python 3 (ipykernel)",
   "language": "python",
   "name": "python3"
  },
  "language_info": {
   "codemirror_mode": {
    "name": "ipython",
    "version": 3
   },
   "file_extension": ".py",
   "mimetype": "text/x-python",
   "name": "python",
   "nbconvert_exporter": "python",
   "pygments_lexer": "ipython3",
   "version": "3.9.13"
  },
  "toc": {
   "base_numbering": 1,
   "nav_menu": {},
   "number_sections": false,
   "sideBar": true,
   "skip_h1_title": false,
   "title_cell": "СОДЕРЖАНИЕ",
   "title_sidebar": "Contents",
   "toc_cell": true,
   "toc_position": {},
   "toc_section_display": true,
   "toc_window_display": false
  },
  "varInspector": {
   "cols": {
    "lenName": 16,
    "lenType": 16,
    "lenVar": 40
   },
   "kernels_config": {
    "python": {
     "delete_cmd_postfix": "",
     "delete_cmd_prefix": "del ",
     "library": "var_list.py",
     "varRefreshCmd": "print(var_dic_list())"
    },
    "r": {
     "delete_cmd_postfix": ") ",
     "delete_cmd_prefix": "rm(",
     "library": "var_list.r",
     "varRefreshCmd": "cat(var_dic_list()) "
    }
   },
   "types_to_exclude": [
    "module",
    "function",
    "builtin_function_or_method",
    "instance",
    "_Feature"
   ],
   "window_display": false
  }
 },
 "nbformat": 4,
 "nbformat_minor": 5
}
