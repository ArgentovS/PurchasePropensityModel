{
 "cells": [
  {
   "cell_type": "markdown",
   "id": "6815f1ff",
   "metadata": {
    "cell_style": "split"
   },
   "source": [
    "![](pictures/shopping_propensity.png)"
   ]
  },
  {
   "cell_type": "markdown",
   "id": "36b5ffb6",
   "metadata": {
    "cell_style": "split"
   },
   "source": [
    "<b>  </b>  \n",
    "<b>  </b>  \n",
    "<b>  </b>  \n",
    "<b>  </b>  \n",
    "Ноутбук от 30.09.23 \n",
    "<b>  </b>  \n",
    "<b>  </b>  \n",
    "<b>  </b>  \n",
    "<b>  </b>  \n",
    "<b>  </b>  \n",
    "<b>  </b>  \n",
    "<b>  </b>   \n",
    "**_\"Data Science Analyst\"_  \n",
    "_МОДЕЛЬ СКЛОННОСТИ КЛИЕНТОВ К ПОКУПКАМ В ФЕДЕРАЛЬНОЙ СЕТИ ПРОДАЖ СПОРТИВНЫХ ТОВАРОВ_**  \n",
    "\n",
    "Выполнено по технологии CRISP-DM:  \n",
    "Аргентов Сергей, г.Липецк  \n",
    "https://argentov.pro\n",
    "<b>  </b>  \n",
    "<b>  </b>  "
   ]
  },
  {
   "cell_type": "markdown",
   "id": "ad367021",
   "metadata": {
    "toc": true
   },
   "source": [
    "<h1>СОДЕРЖАНИЕ<span class=\"tocSkip\"></span></h1>\n",
    "<div class=\"toc\"><ul class=\"toc-item\"><li><span><a href=\"#1.-Предобработка-данных\" data-toc-modified-id=\"1.-Предобработка-данных-1\">1. Предобработка данных</a></span><ul class=\"toc-item\"><li><span><a href=\"#1.1.-Анализ-источников-данных\" data-toc-modified-id=\"1.1.-Анализ-источников-данных-1.1\">1.1. Анализ источников данных</a></span></li><li><span><a href=\"#1.2.-Устранение-пропусков-в-данных\" data-toc-modified-id=\"1.2.-Устранение-пропусков-в-данных-1.2\">1.2. Устранение пропусков в данных</a></span><ul class=\"toc-item\"><li><span><a href=\"#1.2.1.-Проверим-гипотезу-что-для-товаров-с-пропуском-в-признаке-&quot;гендерная-принадлежность-потенциальных-покупателей-товара&quot;-нет-признаков-принадлежности-к-полу-в-наименовании-товара\" data-toc-modified-id=\"1.2.1.-Проверим-гипотезу-что-для-товаров-с-пропуском-в-признаке-&quot;гендерная-принадлежность-потенциальных-покупателей-товара&quot;-нет-признаков-принадлежности-к-полу-в-наименовании-товара-1.2.1\">1.2.1. Проверим гипотезу что для товаров с пропуском в признаке \"гендерная принадлежность потенциальных покупателей товара\" нет признаков принадлежности к полу в наименовании товара</a></span></li><li><span><a href=\"#1.2.2.-Проверим-гипотезы-о-причинах-пропусков-знаений-в-признаке-&quot;цвет&quot;\" data-toc-modified-id=\"1.2.2.-Проверим-гипотезы-о-причинах-пропусков-знаений-в-признаке-&quot;цвет&quot;-1.2.2\">1.2.2. Проверим гипотезы о причинах пропусков знаений в признаке \"цвет\"</a></span><ul class=\"toc-item\"><li><span><a href=\"#1.2.2.1.-Проверим-попала-ли-информация-о-&quot;цвете&quot;-в-наименование-товара\" data-toc-modified-id=\"1.2.2.1.-Проверим-попала-ли-информация-о-&quot;цвете&quot;-в-наименование-товара-1.2.2.1\">1.2.2.1. Проверим попала ли информация о \"цвете\" в наименование товара</a></span></li><li><span><a href=\"#1.2.2.2.-Проверим-есть-ли-одноимённые-товары-с-наличием-значения-в-признаке-&quot;цвет&quot;-для-товаров-с-пропущенным-значением-в-признаке-&quot;цвет&quot;\" data-toc-modified-id=\"1.2.2.2.-Проверим-есть-ли-одноимённые-товары-с-наличием-значения-в-признаке-&quot;цвет&quot;-для-товаров-с-пропущенным-значением-в-признаке-&quot;цвет&quot;-1.2.2.2\">1.2.2.2. Проверим есть ли одноимённые товары с наличием значения в признаке \"цвет\" для товаров с пропущенным значением в признаке \"цвет\"</a></span></li></ul></li></ul></li></ul></li></ul></div>"
   ]
  },
  {
   "cell_type": "code",
   "execution_count": 1,
   "id": "060449a1",
   "metadata": {
    "ExecuteTime": {
     "end_time": "2023-10-01T23:34:23.756327Z",
     "start_time": "2023-10-01T23:34:23.197579Z"
    }
   },
   "outputs": [],
   "source": [
    "# Загрузка биьлиотек\n",
    "import pandas as pd\n",
    "import sqlite3 as db\n",
    "\n",
    "import datetime as dt\n",
    "import multiprocessing\n",
    "from multiprocessing import Pool, Manager"
   ]
  },
  {
   "cell_type": "markdown",
   "id": "481b824a",
   "metadata": {},
   "source": [
    "# 1. Предобработка данных"
   ]
  },
  {
   "cell_type": "markdown",
   "id": "dda418b9",
   "metadata": {},
   "source": [
    "## 1.1. Анализ источников данных"
   ]
  },
  {
   "cell_type": "code",
   "execution_count": 2,
   "id": "d1c61a29",
   "metadata": {
    "ExecuteTime": {
     "end_time": "2023-10-01T23:36:52.344285Z",
     "start_time": "2023-10-01T23:36:48.692501Z"
    }
   },
   "outputs": [
    {
     "name": "stdout",
     "output_type": "stream",
     "text": [
      "\n",
      "purchases\n",
      "<class 'pandas.core.frame.DataFrame'>\n",
      "RangeIndex: 786260 entries, 0 to 786259\n",
      "Data columns (total 7 columns):\n",
      " #   Column       Non-Null Count   Dtype  \n",
      "---  ------       --------------   -----  \n",
      " 0   id           786260 non-null  int64  \n",
      " 1   product      786260 non-null  object \n",
      " 2   colour       666736 non-null  object \n",
      " 3   cost         786260 non-null  int64  \n",
      " 4   product_sex  471548 non-null  float64\n",
      " 5   base_sale    786260 non-null  int64  \n",
      " 6   dt           786260 non-null  int64  \n",
      "dtypes: float64(1), int64(4), object(2)\n",
      "memory usage: 42.0+ MB\n",
      "None\n",
      "\n",
      "personal_data_coeffs\n",
      "<class 'pandas.core.frame.DataFrame'>\n",
      "RangeIndex: 104989 entries, 0 to 104988\n",
      "Data columns (total 5 columns):\n",
      " #   Column         Non-Null Count   Dtype  \n",
      "---  ------         --------------   -----  \n",
      " 0   id             104989 non-null  int64  \n",
      " 1   lbt_coef       104989 non-null  float64\n",
      " 2   ac_coef        104989 non-null  float64\n",
      " 3   sm_coef        104989 non-null  float64\n",
      " 4   personal_coef  104989 non-null  float64\n",
      "dtypes: float64(4), int64(1)\n",
      "memory usage: 4.0 MB\n",
      "None\n",
      "\n",
      "personal_data\n",
      "<class 'pandas.core.frame.DataFrame'>\n",
      "RangeIndex: 89241 entries, 0 to 89240\n",
      "Data columns (total 6 columns):\n",
      " #   Column     Non-Null Count  Dtype \n",
      "---  ------     --------------  ----- \n",
      " 0   id         89241 non-null  int64 \n",
      " 1   gender     89241 non-null  int64 \n",
      " 2   age        89241 non-null  int64 \n",
      " 3   education  89241 non-null  object\n",
      " 4   city       89241 non-null  int64 \n",
      " 5   country    89241 non-null  int64 \n",
      "dtypes: int64(5), object(1)\n",
      "memory usage: 4.1+ MB\n",
      "None\n"
     ]
    }
   ],
   "source": [
    "# Предоставленная база данных\n",
    "with db.connect('data/result_data/shop_database.db') as con:\n",
    "    rows = con.cursor().execute(\"SELECT name FROM sqlite_master WHERE type='table';\").fetchall()\n",
    "    dfs = {}\n",
    "    for row in rows:\n",
    "        dfs[row[0]] = pd.read_sql(f'SELECT * FROM {row[0]}', con)\n",
    "        print(f'\\n{row[0]}')\n",
    "        print(dfs[row[0]].info())"
   ]
  },
  {
   "cell_type": "markdown",
   "id": "b6459a97",
   "metadata": {},
   "source": [
    "## 1.2. Устранение пропусков в данных"
   ]
  },
  {
   "cell_type": "markdown",
   "id": "2a231a83",
   "metadata": {},
   "source": [
    "Пропущенные значения есть в таблице `product_sex` (15%) и `color` (40%). Это может быть следствием технической/организационой ошибок при заполнении данных или может отображать следующее:  \n",
    "- для признака `product_sex` в случае унисекс товаров данные о гендерной принадлежности потенциальных покупателей товара не проставлялась,\n",
    "- для признака `colour` часть информации могла попасть в наименование товара, часть информации может быть получены из информации по одноимённым товарам, а в случае когда товар не имеет цветовой характеристики (пищевые продукты, лекарственные средствва и т.п. или товары с незафиксированным признаком цвета по техническим или организационным причинам) цвет товара не проставлялся.  \n",
    "Проверим вышеуказанные гипотизы"
   ]
  },
  {
   "cell_type": "markdown",
   "id": "53a71daa",
   "metadata": {},
   "source": [
    "### 1.2.1. Проверим гипотезу что для товаров с пропуском в признаке \"гендерная принадлежность потенциальных покупателей товара\" нет признаков принадлежности к полу в наименовании товара"
   ]
  },
  {
   "cell_type": "code",
   "execution_count": 3,
   "id": "64a53228",
   "metadata": {
    "ExecuteTime": {
     "end_time": "2023-10-01T23:38:56.423022Z",
     "start_time": "2023-10-01T23:38:56.091237Z"
    }
   },
   "outputs": [
    {
     "name": "stdout",
     "output_type": "stream",
     "text": [
      "Уникальные значения гендерной принадлежности потенциального покупателя: [nan  0.  1.]\n",
      "Количесвто уникальных товаров: 23145\n"
     ]
    }
   ],
   "source": [
    "# Соберём уникальный перечень покупок\n",
    "df_product_sex = dfs['purchases'].groupby('product').agg({'product_sex': 'max'})\n",
    "df_product_sex['product'] = df_product_sex.index\n",
    "df_product_sex.reset_index(drop=True, inplace=True)\n",
    "print(f'Уникальные значения гендерной принадлежности '\n",
    "      f'потенциального покупателя: {df_product_sex.product_sex.unique()}\\n'\n",
    "      f'Количесвто уникальных товаров: {len(df_product_sex)}')"
   ]
  },
  {
   "cell_type": "code",
   "execution_count": 4,
   "id": "2f8068fc",
   "metadata": {
    "ExecuteTime": {
     "end_time": "2023-10-01T23:39:12.612832Z",
     "start_time": "2023-10-01T23:39:12.571968Z"
    }
   },
   "outputs": [],
   "source": [
    "# Проверим какие покупки и с какими признаками гендерной принадлежности\n",
    "# имеют в наименовании товара слова 'муж, жен'\n",
    "def check_product_name_sex(x, fit) -> int:\n",
    "    if fit in x:\n",
    "        return 1\n",
    "    else:\n",
    "        return 0\n",
    "\n",
    "df_product_sex['муж'] = df_product_sex['product'].\\\n",
    "                        apply(lambda x:check_product_name_sex(x,'муж'))\n",
    "df_product_sex['жен'] = df_product_sex['product'].\\\n",
    "                        apply(lambda x: check_product_name_sex(x,'жен'))"
   ]
  },
  {
   "cell_type": "code",
   "execution_count": 5,
   "id": "131626dd",
   "metadata": {
    "ExecuteTime": {
     "end_time": "2023-10-01T23:39:24.816155Z",
     "start_time": "2023-10-01T23:39:24.601107Z"
    }
   },
   "outputs": [
    {
     "data": {
      "text/plain": [
       "0"
      ]
     },
     "execution_count": 5,
     "metadata": {},
     "output_type": "execute_result"
    }
   ],
   "source": [
    "# Проверим все ли товары,\n",
    "# не имеющие гендерной принадлежности потенциального покупателя\n",
    "# не имеют в названии явного указания на пол 'муж', 'жен'\n",
    "df_product_sex['унисекс'] = df_product_sex.\\\n",
    "                            apply(lambda x: 1\n",
    "                                 if x['муж'] == 0 and x['жен'] == 0\n",
    "                                 else 0,\n",
    "                                 axis=1)\n",
    "# Определим количество стрк где в названиии продукта нет гендерной принадлежности\n",
    "# потенциального покупатнлы и не проставлены соответсвующие признаки\n",
    "len(df_product_sex[(df_product_sex['унисекс'] != 1) & (df_product_sex.product_sex.isna())])"
   ]
  },
  {
   "cell_type": "markdown",
   "id": "4907b541",
   "metadata": {},
   "source": [
    "**Вывод:** В признаке `product_sex` пропущенные данные с большой вероятностью обозначают что товар пренадлежит к категории `унисекс`. Для возможности использования данного признака в дальнейшем проставим ему в датасете значение 2.0"
   ]
  },
  {
   "cell_type": "code",
   "execution_count": 6,
   "id": "9556ada2",
   "metadata": {
    "ExecuteTime": {
     "end_time": "2023-10-01T23:39:58.996808Z",
     "start_time": "2023-10-01T23:39:58.987148Z"
    }
   },
   "outputs": [],
   "source": [
    "# Заменим пустые значения признака `product_sex` на значение 2.0\n",
    "dfs['purchases'].product_sex = dfs['purchases'].product_sex.fillna(2.0)"
   ]
  },
  {
   "cell_type": "markdown",
   "id": "c4430028",
   "metadata": {},
   "source": [
    "### 1.2.2. Проверим гипотезы о причинах пропусков знаений в признаке \"цвет\""
   ]
  },
  {
   "cell_type": "code",
   "execution_count": 7,
   "id": "c043470a",
   "metadata": {
    "ExecuteTime": {
     "end_time": "2023-10-01T23:40:24.867415Z",
     "start_time": "2023-10-01T23:40:24.794107Z"
    }
   },
   "outputs": [
    {
     "data": {
      "text/plain": [
       "15.2"
      ]
     },
     "execution_count": 7,
     "metadata": {},
     "output_type": "execute_result"
    }
   ],
   "source": [
    "# первоначальный процент строк без заполненного значения признака \"цвет\"\n",
    "round((len(dfs['purchases'][dfs['purchases']['colour'].isna()])/len(dfs['purchases'])) * 100, 2)"
   ]
  },
  {
   "cell_type": "markdown",
   "id": "ecb4bb87",
   "metadata": {},
   "source": [
    "#### 1.2.2.1. Проверим попала ли информация о \"цвете\" в наименование товара"
   ]
  },
  {
   "cell_type": "code",
   "execution_count": 8,
   "id": "53e14bbd",
   "metadata": {
    "ExecuteTime": {
     "end_time": "2023-10-01T23:40:48.635021Z",
     "start_time": "2023-10-01T23:40:47.139363Z"
    }
   },
   "outputs": [
    {
     "name": "stdout",
     "output_type": "stream",
     "text": [
      "Количесвто уникальных цветов: 361\n"
     ]
    }
   ],
   "source": [
    "# Создалим множество используемых цветов в товарах\n",
    "colors = list(dfs['purchases'][~dfs['purchases']['colour'].isna()]['colour'].\n",
    "              apply(lambda x: x.split('/')))\n",
    "colors_all = []\n",
    "for color in colors:\n",
    "    if isinstance(color, list):\n",
    "        colors_all.extend(color)\n",
    "colors_set = set(colors_all)\n",
    "print(f'Количесвто уникальных цветов: {len(colors_set)}')"
   ]
  },
  {
   "cell_type": "code",
   "execution_count": 9,
   "id": "5224b734",
   "metadata": {
    "ExecuteTime": {
     "end_time": "2023-10-01T23:40:59.778622Z",
     "start_time": "2023-10-01T23:40:59.774101Z"
    }
   },
   "outputs": [],
   "source": [
    "# Функция проверки наличия информации о цвете товара в наименовании товара\n",
    "def check_name_product(product):\n",
    "    colors = []\n",
    "    for word in product.split(' '):\n",
    "        if word in colors_set:\n",
    "            colors.append(word)\n",
    "    if len(colors):\n",
    "        return '/'.join(colors)"
   ]
  },
  {
   "cell_type": "code",
   "execution_count": 10,
   "id": "2072cd97",
   "metadata": {
    "ExecuteTime": {
     "end_time": "2023-10-01T23:41:12.014957Z",
     "start_time": "2023-10-01T23:41:11.777539Z"
    }
   },
   "outputs": [
    {
     "name": "stderr",
     "output_type": "stream",
     "text": [
      "/var/folders/5h/1vkpjwr90l19cmzfgsfrcpvm0000gn/T/ipykernel_5496/1099927576.py:3: SettingWithCopyWarning: \n",
      "A value is trying to be set on a copy of a slice from a DataFrame.\n",
      "Try using .loc[row_indexer,col_indexer] = value instead\n",
      "\n",
      "See the caveats in the documentation: https://pandas.pydata.org/pandas-docs/stable/user_guide/indexing.html#returning-a-view-versus-a-copy\n",
      "  df_non_colors['colorus_new'] = df_non_colors['product'].apply(lambda x: check_name_product(x))\n"
     ]
    }
   ],
   "source": [
    "# Получим датасет с отсутствующими значениями в признаке \"цвет\"\n",
    "df_non_colors = dfs['purchases'][dfs['purchases']['colour'].isna()]\n",
    "df_non_colors['colorus_new'] = df_non_colors['product'].apply(lambda x: check_name_product(x))\n",
    "indexs_color = df_non_colors[~df_non_colors['colorus_new'].isna()]['colorus_new']"
   ]
  },
  {
   "cell_type": "code",
   "execution_count": 11,
   "id": "463297df",
   "metadata": {
    "ExecuteTime": {
     "end_time": "2023-10-01T23:41:39.276919Z",
     "start_time": "2023-10-01T23:41:23.862424Z"
    }
   },
   "outputs": [],
   "source": [
    "# Добавим полученные цвета в столбец датасета с покупками\n",
    "for index, new_color in zip(indexs_color.index, indexs_color[indexs_color.index]):\n",
    "    dfs['purchases'].loc[index, ['colour']] = new_color"
   ]
  },
  {
   "cell_type": "code",
   "execution_count": 12,
   "id": "7363906a",
   "metadata": {
    "ExecuteTime": {
     "end_time": "2023-10-01T23:41:40.282084Z",
     "start_time": "2023-10-01T23:41:40.218477Z"
    }
   },
   "outputs": [
    {
     "data": {
      "text/plain": [
       "15.04"
      ]
     },
     "execution_count": 12,
     "metadata": {},
     "output_type": "execute_result"
    }
   ],
   "source": [
    "# Процент строк без заполненного значения признака \"цвет\" после первого этапа предобработки данных\n",
    "round((len(dfs['purchases'][dfs['purchases']['colour'].isna()])/len(dfs['purchases'])) * 100, 2)"
   ]
  },
  {
   "cell_type": "markdown",
   "id": "b031c1b0",
   "metadata": {},
   "source": [
    "**Вывод:** Данным методом удалось добавить только 0.16% значений признака \"цвет\""
   ]
  },
  {
   "cell_type": "markdown",
   "id": "7da551c2",
   "metadata": {},
   "source": [
    "#### 1.2.2.2. Проверим есть ли одноимённые товары с наличием значения в признаке \"цвет\" для товаров с пропущенным значением в признаке \"цвет\""
   ]
  },
  {
   "cell_type": "markdown",
   "id": "b18b9ef4",
   "metadata": {},
   "source": [
    "Проставим каждому товару из списка товаров без признака \"цвет\" наиболее часто встречающееся значение цвета.  \n",
    "Для экономии времени при расчёте выполним присвоение в мультипроцессорном режиме"
   ]
  },
  {
   "cell_type": "code",
   "execution_count": 13,
   "id": "ad57a804",
   "metadata": {
    "ExecuteTime": {
     "end_time": "2023-10-01T23:42:30.059799Z",
     "start_time": "2023-10-01T23:42:30.056603Z"
    }
   },
   "outputs": [],
   "source": [
    "# Загрузим функции поиска во всех записях о товаре наиболее часто встречающихся значений признака \"цвет\"\n",
    "# для наименований товаров, по которым есть записи с незаполненым признаком \"цвет\"\n",
    "# (функции написаны в отдельном модуле для обеспечения требований блиотеки  multiprocessing)\n",
    "from package.preparation import add_freq_product_color, freq_product_color"
   ]
  },
  {
   "cell_type": "code",
   "execution_count": 14,
   "id": "e9312c1f",
   "metadata": {
    "ExecuteTime": {
     "end_time": "2023-10-01T23:42:42.577680Z",
     "start_time": "2023-10-01T23:42:41.380327Z"
    }
   },
   "outputs": [],
   "source": [
    "# Сформируем датасеты:\n",
    "\n",
    "# df_1 - датасет в котором среди уникальных наименований товара будем искать такие товары,\n",
    "#        в которых проставлено наиболее часто встречающееся значение признака \"цвет\" для этого товара \n",
    "df_1 = dfs['purchases'][['product', 'colour']]\n",
    "\n",
    "# df_2 - датасет в котором сформируем список всех уникальных товаров с пропущенным значение признака \"цвет\"\n",
    "df_2 = df_1[df_1['colour'].isna()].groupby('product').agg({'colour': 'max'})\n",
    "df_2.reset_index(inplace=True)"
   ]
  },
  {
   "cell_type": "code",
   "execution_count": 15,
   "id": "9fb133b3",
   "metadata": {
    "ExecuteTime": {
     "end_time": "2023-10-01T23:42:54.816629Z",
     "start_time": "2023-10-01T23:42:54.813826Z"
    }
   },
   "outputs": [],
   "source": [
    "######   ЗАПУСКАЕМ РАСЧЁТЫ В МНОГОПРОЦЕССОРНОМ РЕЖИМЕ   ######"
   ]
  },
  {
   "cell_type": "code",
   "execution_count": 16,
   "id": "92817153",
   "metadata": {
    "ExecuteTime": {
     "end_time": "2023-10-01T23:43:04.231282Z",
     "start_time": "2023-10-01T23:43:04.226049Z"
    }
   },
   "outputs": [
    {
     "name": "stdout",
     "output_type": "stream",
     "text": [
      "Количество доступных процессоров: 7\n",
      "Размеры подмассивов: 1682 \n",
      "\n"
     ]
    }
   ],
   "source": [
    "# 1. Рассчитываем количество ядер процесса, которые можно задействовать для вычислений\n",
    "#    (уменьшаем количество доступных ядер на 1 ядро, которое оставляем на системные потребности)\n",
    "n_cpu = multiprocessing.cpu_count() - 1\n",
    "print('Количество доступных процессоров:', n_cpu)\n",
    "\n",
    "# 2. Расчитаем минимальный размер обрабатываемых парралельно подмассивов\n",
    "# (по кратности ядер, которые будем использовать)\n",
    "val_sub = int(len(df_2)/n_cpu)\n",
    "print('Размеры подмассивов:', val_sub, '\\n')"
   ]
  },
  {
   "cell_type": "code",
   "execution_count": 17,
   "id": "312255d5",
   "metadata": {
    "ExecuteTime": {
     "end_time": "2023-10-01T23:49:37.160498Z",
     "start_time": "2023-10-01T23:43:21.673676Z"
    }
   },
   "outputs": [
    {
     "name": "stdout",
     "output_type": "stream",
     "text": [
      "ВРЕМЯ СТАРТА РАСЧЁТА: 2023-10-02 02:43:21.681496 \n",
      "\n",
      "Размеры массивов: 11775 и 786260\n",
      "\n",
      "\n",
      "Подготовлен 1 массив размером: 1682 для сравнения с 786260\n",
      "Подготовлен 2 массив размером: 1682 для сравнения с 786260\n",
      "Подготовлен 3 массив размером: 1682 для сравнения с 786260\n",
      "Подготовлен 4 массив размером: 1682 для сравнения с 786260\n",
      "Подготовлен 5 массив размером: 1682 для сравнения с 786260\n",
      "Подготовлен 6 массив размером: 1682 для сравнения с 786260\n",
      "Подготовлен последний массив размером: 1683 для сравнения с 786260\n",
      "... запущен параллельный расчёт на 7 ядрах процессора ...\n",
      "\n",
      "\n",
      "ВРЕМЯ ОКОНЧАНИЯ РАСЧЁТА: 2023-10-02 02:49:37.124587\n",
      "ВРЕМЯ ВЫПОЛНЕНИЯ: 0:06:15.443091 \n",
      "\n",
      "\n"
     ]
    }
   ],
   "source": [
    "# Ииспользуем признак работы в главном модуле (для обеспечения требований блиотеки  multiprocessing)\n",
    "if __name__ == '__main__':\n",
    "    \n",
    "    # Начнём замер времени\n",
    "    start_time = dt.datetime.now()\n",
    "    print('ВРЕМЯ СТАРТА РАСЧЁТА:', start_time, '\\n')\n",
    "    \n",
    "    # Распарралелим расчёты между доступными ядрами процессора\n",
    "    # 3. Создаём менеджера парралельных процессов\n",
    "    #    и его пространство имён для обмена данными между процессами\n",
    "    with Manager() as mng:\n",
    "        ns = mng.Namespace()\n",
    "        ns.dfs = mng.list()\n",
    "        df = df_1\n",
    "        df_u = df_2\n",
    "        print(f'Размеры массивов: {len(df_u)} и {len(df)}\\n\\n')\n",
    "        \n",
    "        # 4. Делим датасет на составляющие,\n",
    "        #    которые будут рассчитываться в парралельных процессах\n",
    "        for i in range(n_cpu - 1):\n",
    "            df = df_1.copy()\n",
    "            ns.dfs.append((df_u[val_sub*i:val_sub*(i+1)], df.copy()))\n",
    "            print(f'Подготовлен {i+1} массив размером: {len(ns.dfs[i][0])} для сравнения с {len(ns.dfs[i][1])}')\n",
    "        ns.dfs.append((df_u[(n_cpu-1)*val_sub:], df.copy()))\n",
    "        print(f'Подготовлен последний массив размером: {len(ns.dfs[i+1][0])} для сравнения с {len(ns.dfs[i+1][1])}')\n",
    "\n",
    "        # 5. Запустим пул парралельных процессов вычислений\n",
    "        #    и результат объединим в единый датафрейм\n",
    "        with Pool(processes=n_cpu) as p:\n",
    "            print(f'... запущен параллельный расчёт на {n_cpu} ядрах процессора ...')\n",
    "            df_non_colours = pd.concat(list(p.map(add_freq_product_color, ns.dfs)), axis=0)\n",
    "\n",
    "    # Закончим замер времени\n",
    "    finish_time = dt.datetime.now()\n",
    "    print('\\n\\nВРЕМЯ ОКОНЧАНИЯ РАСЧЁТА:', finish_time)\n",
    "    print('ВРЕМЯ ВЫПОЛНЕНИЯ:', finish_time - start_time, '\\n' * 2)"
   ]
  },
  {
   "cell_type": "code",
   "execution_count": 18,
   "id": "44831b0a",
   "metadata": {
    "ExecuteTime": {
     "end_time": "2023-10-02T00:05:52.527312Z",
     "start_time": "2023-10-02T00:05:52.509431Z"
    }
   },
   "outputs": [],
   "source": [
    "# Сформируем датасет с вновь заполненным признаком \"цвет\"\n",
    "df_3 = df_non_colours[~df_non_colours['freq_color'].isna()]\n",
    "\n",
    "# Создадим словарь восстановленных данных о признаке \"цвет\"\n",
    "recovered_color_data = {}\n",
    "for key, value in zip(list(df_3['product']), list(df_3['freq_color'])):\n",
    "    recovered_color_data[key] = value"
   ]
  },
  {
   "cell_type": "code",
   "execution_count": 19,
   "id": "de24b1a0",
   "metadata": {
    "ExecuteTime": {
     "end_time": "2023-10-02T00:50:32.786339Z",
     "start_time": "2023-10-02T00:50:32.781238Z"
    }
   },
   "outputs": [],
   "source": [
    "# Функция добавления восстановленных данных в признак \"цвет\"\n",
    "def replace_none(product, colour, recovered_color_data=recovered_color_data):\n",
    "    if pd.isna(colour):\n",
    "        if product in list(recovered_color_data.keys()):\n",
    "            return recovered_color_data[product]\n",
    "        else:\n",
    "            return None\n",
    "    else:\n",
    "        return colour"
   ]
  },
  {
   "cell_type": "code",
   "execution_count": 20,
   "id": "8ad8d53c",
   "metadata": {
    "ExecuteTime": {
     "end_time": "2023-10-02T00:52:49.300977Z",
     "start_time": "2023-10-02T00:52:08.391068Z"
    }
   },
   "outputs": [],
   "source": [
    "# Добавим восстановленные записи признака \"цвет\" в исходный датасет с товарами\n",
    "dfs['purchases']['colour'] = dfs['purchases'].apply(lambda x: replace_none(x['product'], x['colour']), axis=1)"
   ]
  },
  {
   "cell_type": "code",
   "execution_count": 21,
   "id": "10547a5d",
   "metadata": {
    "ExecuteTime": {
     "end_time": "2023-10-02T00:52:52.907808Z",
     "start_time": "2023-10-02T00:52:52.703236Z"
    }
   },
   "outputs": [
    {
     "data": {
      "text/plain": [
       "0.42"
      ]
     },
     "execution_count": 21,
     "metadata": {},
     "output_type": "execute_result"
    }
   ],
   "source": [
    "# Процент строк без заполненного значения признака \"цвет\" после первого этапа предобработки данных\n",
    "round((len(dfs['purchases'][dfs['purchases']['colour'].isna()])/len(dfs['purchases'])) * 100, 2)"
   ]
  },
  {
   "cell_type": "markdown",
   "id": "2a25ec39",
   "metadata": {},
   "source": [
    "**Вывод:** Данным методом удалось добавить только 14.62% значений признака \"цвет\" и довести уровень заполненности данного признака до 99,6%"
   ]
  },
  {
   "cell_type": "code",
   "execution_count": null,
   "id": "bde0b9ef",
   "metadata": {},
   "outputs": [],
   "source": []
  },
  {
   "cell_type": "code",
   "execution_count": null,
   "id": "1ad88302",
   "metadata": {},
   "outputs": [],
   "source": []
  },
  {
   "cell_type": "code",
   "execution_count": null,
   "id": "0a55c080",
   "metadata": {},
   "outputs": [],
   "source": []
  },
  {
   "cell_type": "code",
   "execution_count": null,
   "id": "bb45fc82",
   "metadata": {},
   "outputs": [],
   "source": [
    "# Посчитаем сколько % записей с признаком \"цвет\" удалось восстановить\n",
    "round((len(df_non_colours[~df_non_colours['freq_color'].isna()]) / len(dfs['purchases'])) * 100, 2)"
   ]
  },
  {
   "cell_type": "code",
   "execution_count": null,
   "id": "23a85261",
   "metadata": {},
   "outputs": [],
   "source": [
    "# добавим восстановленные записи в датасет с товарами\n",
    "# for ind, prod, colour in zip(dfs['purchases'].index, dfs['purchases'].index, dfs['purchases'].colour):\n",
    "#     if pd.isna(colour):\n",
    "#         if prod in recovered_color_data.keys():\n",
    "#             print(recovered_color_data[prod])"
   ]
  }
 ],
 "metadata": {
  "kernelspec": {
   "display_name": "Python 3 (ipykernel)",
   "language": "python",
   "name": "python3"
  },
  "language_info": {
   "codemirror_mode": {
    "name": "ipython",
    "version": 3
   },
   "file_extension": ".py",
   "mimetype": "text/x-python",
   "name": "python",
   "nbconvert_exporter": "python",
   "pygments_lexer": "ipython3",
   "version": "3.9.13"
  },
  "toc": {
   "base_numbering": 1,
   "nav_menu": {},
   "number_sections": false,
   "sideBar": true,
   "skip_h1_title": false,
   "title_cell": "СОДЕРЖАНИЕ",
   "title_sidebar": "Contents",
   "toc_cell": true,
   "toc_position": {},
   "toc_section_display": true,
   "toc_window_display": true
  },
  "varInspector": {
   "cols": {
    "lenName": 16,
    "lenType": 16,
    "lenVar": 40
   },
   "kernels_config": {
    "python": {
     "delete_cmd_postfix": "",
     "delete_cmd_prefix": "del ",
     "library": "var_list.py",
     "varRefreshCmd": "print(var_dic_list())"
    },
    "r": {
     "delete_cmd_postfix": ") ",
     "delete_cmd_prefix": "rm(",
     "library": "var_list.r",
     "varRefreshCmd": "cat(var_dic_list()) "
    }
   },
   "types_to_exclude": [
    "module",
    "function",
    "builtin_function_or_method",
    "instance",
    "_Feature"
   ],
   "window_display": false
  }
 },
 "nbformat": 4,
 "nbformat_minor": 5
}
