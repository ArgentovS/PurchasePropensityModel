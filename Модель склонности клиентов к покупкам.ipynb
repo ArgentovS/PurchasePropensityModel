{
 "cells": [
  {
   "cell_type": "markdown",
   "id": "c6fc1567",
   "metadata": {
    "cell_style": "split"
   },
   "source": [
    "![](pictures/shopping_propensity.png)"
   ]
  },
  {
   "cell_type": "markdown",
   "id": "a44fe294",
   "metadata": {
    "cell_style": "split"
   },
   "source": [
    "<b>  </b>  \n",
    "<b>  </b>  \n",
    "<b>  </b>  \n",
    "<b>  </b>  \n",
    "Ноутбук от 30.09.23 \n",
    "<b>  </b>  \n",
    "<b>  </b>  \n",
    "<b>  </b>  \n",
    "<b>  </b>  \n",
    "<b>  </b>  \n",
    "<b>  </b>  \n",
    "<b>  </b>   \n",
    "**_\"Data Science Analyst\"_  \n",
    "_МОДЕЛЬ СКЛОННОСТИ КЛИЕНТОВ К ПОКУПКАМ В ФЕДЕРАЛЬНОЙ СЕТИ ПРОДАЖ СПОРТИВНЫХ ТОВАРОВ_**  \n",
    "\n",
    "Выполнено по технологии CRISP-DM:  \n",
    "Аргентов Сергей, г.Липецк  \n",
    "https://argentov.pro\n",
    "<b>  </b>  \n",
    "<b>  </b>  "
   ]
  },
  {
   "cell_type": "markdown",
   "id": "9db302d7",
   "metadata": {
    "toc": true
   },
   "source": [
    "<h1>СОДЕРЖАНИЕ<span class=\"tocSkip\"></span></h1>\n",
    "<div class=\"toc\"><ul class=\"toc-item\"><li><span><a href=\"#1.-Предобработка-данных\" data-toc-modified-id=\"1.-Предобработка-данных-1\">1. Предобработка данных</a></span><ul class=\"toc-item\"><li><span><a href=\"#1.1.-Анализ-источников-данных\" data-toc-modified-id=\"1.1.-Анализ-источников-данных-1.1\">1.1. Анализ источников данных</a></span></li><li><span><a href=\"#1.2.-Устранение-пропусков-в-данных\" data-toc-modified-id=\"1.2.-Устранение-пропусков-в-данных-1.2\">1.2. Устранение пропусков в данных</a></span><ul class=\"toc-item\"><li><span><a href=\"#1.2.1.-Проверим-гипотезу-что-для-товаров-с-пропуском-в-признаке-&quot;гендерная-принадлежность-потенциальных-покупателей-товара&quot;-есть-признаки-принадлежности-к-полу-в-наименовании-товара\" data-toc-modified-id=\"1.2.1.-Проверим-гипотезу-что-для-товаров-с-пропуском-в-признаке-&quot;гендерная-принадлежность-потенциальных-покупателей-товара&quot;-есть-признаки-принадлежности-к-полу-в-наименовании-товара-1.2.1\">1.2.1. Проверим гипотезу что для товаров с пропуском в признаке \"гендерная принадлежность потенциальных покупателей товара\" есть признаки принадлежности к полу в наименовании товара</a></span></li><li><span><a href=\"#1.2.2.-Проверим-гипотезы-о-причинах-пропусков-знаений-в-признаке-&quot;цвет&quot;\" data-toc-modified-id=\"1.2.2.-Проверим-гипотезы-о-причинах-пропусков-знаений-в-признаке-&quot;цвет&quot;-1.2.2\">1.2.2. Проверим гипотезы о причинах пропусков знаений в признаке \"цвет\"</a></span><ul class=\"toc-item\"><li><span><a href=\"#1.2.2.1.-Проверим-попала-ли-информация-об-уникальныхзначениях-признака-&quot;цвет&quot;-в-наименование-товара-без-признака-&quot;цвет&quot;\" data-toc-modified-id=\"1.2.2.1.-Проверим-попала-ли-информация-об-уникальныхзначениях-признака-&quot;цвет&quot;-в-наименование-товара-без-признака-&quot;цвет&quot;-1.2.2.1\">1.2.2.1. Проверим попала ли информация об уникальныхзначениях признака \"цвет\" в наименование товара без признака \"цвет\"</a></span></li><li><span><a href=\"#1.2.2.2.-Проверим-есть-ли-одноимённые-товары-с-наличием-значения-в-признаке-&quot;цвет&quot;-для-товаров-с-пропущенным-значением-в-признаке-&quot;цвет&quot;\" data-toc-modified-id=\"1.2.2.2.-Проверим-есть-ли-одноимённые-товары-с-наличием-значения-в-признаке-&quot;цвет&quot;-для-товаров-с-пропущенным-значением-в-признаке-&quot;цвет&quot;-1.2.2.2\">1.2.2.2. Проверим есть ли одноимённые товары с наличием значения в признаке \"цвет\" для товаров с пропущенным значением в признаке \"цвет\"</a></span></li><li><span><a href=\"#1.2.2.3.-Проставим-признак-цвет-для-оставшихся-3,2-тыс.-товаров-при-наличии-в-названии-товара-и-не-определённого-автоматически-признака-&quot;цвет&quot;\" data-toc-modified-id=\"1.2.2.3.-Проставим-признак-цвет-для-оставшихся-3,2-тыс.-товаров-при-наличии-в-названии-товара-и-не-определённого-автоматически-признака-&quot;цвет&quot;-1.2.2.3\">1.2.2.3. Проставим признак цвет для оставшихся 3,2 тыс. товаров при наличии в названии товара и не определённого автоматически признака \"цвет\"</a></span></li><li><span><a href=\"#1.2.2.4.-Проверим-однородность-значений-признаков-&quot;цвет&quot;-и-исправим-неоднородные-значения\" data-toc-modified-id=\"1.2.2.4.-Проверим-однородность-значений-признаков-&quot;цвет&quot;-и-исправим-неоднородные-значения-1.2.2.4\">1.2.2.4. Проверим однородность значений признаков \"цвет\" и исправим неоднородные значения</a></span></li></ul></li></ul></li><li><span><a href=\"#1.3.-Обогащение-данных-таблицы-personal_data\" data-toc-modified-id=\"1.3.-Обогащение-данных-таблицы-personal_data-1.3\">1.3. Обогащение данных таблицы personal_data</a></span><ul class=\"toc-item\"><li><span><a href=\"#1.3.1.-Получим-данные-из-дополнительного-источника\" data-toc-modified-id=\"1.3.1.-Получим-данные-из-дополнительного-источника-1.3.1\">1.3.1. Получим данные из дополнительного источника</a></span></li><li><span><a href=\"#1.3.2.-Восстановим-данные-моделями-машинного-обучения\" data-toc-modified-id=\"1.3.2.-Восстановим-данные-моделями-машинного-обучения-1.3.2\">1.3.2. Восстановим данные моделями машинного обучения</a></span></li></ul></li></ul></li></ul></div>"
   ]
  },
  {
   "cell_type": "code",
   "execution_count": 1,
   "id": "106183f9",
   "metadata": {
    "ExecuteTime": {
     "end_time": "2023-10-13T23:13:36.235014Z",
     "start_time": "2023-10-13T23:13:34.058935Z"
    }
   },
   "outputs": [],
   "source": [
    "# Загрузка биьлиотек\n",
    "import pandas as pd\n",
    "import sqlite3 as db\n",
    "\n",
    "import datetime as dt\n",
    "import multiprocessing\n",
    "from multiprocessing import Pool, Manager\n",
    "\n",
    "from sklearn.preprocessing import LabelEncoder\n",
    "from sklearn.neighbors import LocalOutlierFactor\n",
    "from sklearn.ensemble import IsolationForest\n",
    "import pprint\n",
    "from sklearn.preprocessing import OneHotEncoder, StandardScaler, OrdinalEncoder\n",
    "\n",
    "from sklearn.model_selection import train_test_split\n",
    "\n",
    "from sklearn.ensemble import RandomForestClassifier\n",
    "from sklearn.linear_model import LogisticRegression\n",
    "from sklearn.neural_network import MLPClassifier\n",
    "\n",
    "from sklearn.metrics import accuracy_score"
   ]
  },
  {
   "cell_type": "markdown",
   "id": "929c1cb5",
   "metadata": {},
   "source": [
    "# 1. Предобработка данных"
   ]
  },
  {
   "cell_type": "markdown",
   "id": "cf733abb",
   "metadata": {},
   "source": [
    "## 1.1. Анализ источников данных"
   ]
  },
  {
   "cell_type": "code",
   "execution_count": 2,
   "id": "80889f01",
   "metadata": {
    "ExecuteTime": {
     "end_time": "2023-10-13T23:13:44.835077Z",
     "start_time": "2023-10-13T23:13:40.228639Z"
    }
   },
   "outputs": [
    {
     "name": "stdout",
     "output_type": "stream",
     "text": [
      "\n",
      "purchases\n",
      "<class 'pandas.core.frame.DataFrame'>\n",
      "RangeIndex: 786260 entries, 0 to 786259\n",
      "Data columns (total 7 columns):\n",
      " #   Column       Non-Null Count   Dtype  \n",
      "---  ------       --------------   -----  \n",
      " 0   id           786260 non-null  int64  \n",
      " 1   product      786260 non-null  object \n",
      " 2   colour       666736 non-null  object \n",
      " 3   cost         786260 non-null  int64  \n",
      " 4   product_sex  471548 non-null  float64\n",
      " 5   base_sale    786260 non-null  int64  \n",
      " 6   dt           786260 non-null  int64  \n",
      "dtypes: float64(1), int64(4), object(2)\n",
      "memory usage: 42.0+ MB\n",
      "None\n",
      "\n",
      "personal_data_coeffs\n",
      "<class 'pandas.core.frame.DataFrame'>\n",
      "RangeIndex: 104989 entries, 0 to 104988\n",
      "Data columns (total 5 columns):\n",
      " #   Column         Non-Null Count   Dtype  \n",
      "---  ------         --------------   -----  \n",
      " 0   id             104989 non-null  int64  \n",
      " 1   lbt_coef       104989 non-null  float64\n",
      " 2   ac_coef        104989 non-null  float64\n",
      " 3   sm_coef        104989 non-null  float64\n",
      " 4   personal_coef  104989 non-null  float64\n",
      "dtypes: float64(4), int64(1)\n",
      "memory usage: 4.0 MB\n",
      "None\n",
      "\n",
      "personal_data\n",
      "<class 'pandas.core.frame.DataFrame'>\n",
      "RangeIndex: 89241 entries, 0 to 89240\n",
      "Data columns (total 6 columns):\n",
      " #   Column     Non-Null Count  Dtype \n",
      "---  ------     --------------  ----- \n",
      " 0   id         89241 non-null  int64 \n",
      " 1   gender     89241 non-null  int64 \n",
      " 2   age        89241 non-null  int64 \n",
      " 3   education  89241 non-null  object\n",
      " 4   city       89241 non-null  int64 \n",
      " 5   country    89241 non-null  int64 \n",
      "dtypes: int64(5), object(1)\n",
      "memory usage: 4.1+ MB\n",
      "None\n"
     ]
    }
   ],
   "source": [
    "# Предоставленная база данных\n",
    "with db.connect('data/result_data/shop_database.db') as con:\n",
    "    rows = con.cursor().execute(\"SELECT name FROM sqlite_master WHERE type='table';\").fetchall()\n",
    "    dfs = {}\n",
    "    for row in rows:\n",
    "        dfs[row[0]] = pd.read_sql(f'SELECT * FROM {row[0]}', con)\n",
    "        print(f'\\n{row[0]}')\n",
    "        print(dfs[row[0]].info())"
   ]
  },
  {
   "cell_type": "markdown",
   "id": "40870a0d",
   "metadata": {},
   "source": [
    "## 1.2. Устранение пропусков в данных"
   ]
  },
  {
   "cell_type": "markdown",
   "id": "100d44e6",
   "metadata": {},
   "source": [
    "Пропущенные значения есть в таблице `product_sex` (15%) и `color` (40%). Это может быть следствием технической/организационой ошибок при заполнении данных или может отображать следующее:  \n",
    "- для признака `product_sex` в случае унисекс товаров данные о гендерной принадлежности потенциальных покупателей товара не проставлялась,\n",
    "- для признака `colour` часть информации могла попасть в наименование товара, часть информации может быть получены из информации по одноимённым товарам, а в случае когда товар не имеет цветовой характеристики (пищевые продукты, лекарственные средствва и т.п. или товары с незафиксированным признаком цвета по техническим или организационным причинам) цвет товара не проставлялся.  \n",
    "Проверим вышеуказанные гипотизы"
   ]
  },
  {
   "cell_type": "markdown",
   "id": "f57c087f",
   "metadata": {},
   "source": [
    "### 1.2.1. Проверим гипотезу что для товаров с пропуском в признаке \"гендерная принадлежность потенциальных покупателей товара\" есть признаки принадлежности к полу в наименовании товара"
   ]
  },
  {
   "cell_type": "code",
   "execution_count": 3,
   "id": "85516476",
   "metadata": {
    "ExecuteTime": {
     "end_time": "2023-10-13T23:13:52.168137Z",
     "start_time": "2023-10-13T23:13:51.811606Z"
    }
   },
   "outputs": [
    {
     "name": "stdout",
     "output_type": "stream",
     "text": [
      "Уникальные значения гендерной принадлежности потенциального покупателя: [nan  0.  1.]\n",
      "Количесвто уникальных товаров: 23145\n"
     ]
    }
   ],
   "source": [
    "# Соберём уникальный перечень покупок\n",
    "df_product_sex = dfs['purchases'].groupby('product').agg({'product_sex': 'max'})\n",
    "df_product_sex['product'] = df_product_sex.index\n",
    "df_product_sex.reset_index(drop=True, inplace=True)\n",
    "print(f'Уникальные значения гендерной принадлежности '\n",
    "      f'потенциального покупателя: {df_product_sex.product_sex.unique()}\\n'\n",
    "      f'Количесвто уникальных товаров: {len(df_product_sex)}')"
   ]
  },
  {
   "cell_type": "code",
   "execution_count": 4,
   "id": "9ed3028f",
   "metadata": {
    "ExecuteTime": {
     "end_time": "2023-10-13T23:13:53.028510Z",
     "start_time": "2023-10-13T23:13:52.983956Z"
    }
   },
   "outputs": [],
   "source": [
    "# Проверим какие покупки и с какими признаками гендерной принадлежности\n",
    "# имеют в наименовании товара слова 'муж, жен'\n",
    "def check_product_name_sex(x, fit) -> int:\n",
    "    if fit in x:\n",
    "        return 1\n",
    "    else:\n",
    "        return 0\n",
    "\n",
    "df_product_sex['муж'] = df_product_sex['product'].\\\n",
    "                        apply(lambda x:check_product_name_sex(x,'муж'))\n",
    "df_product_sex['жен'] = df_product_sex['product'].\\\n",
    "                        apply(lambda x: check_product_name_sex(x,'жен'))"
   ]
  },
  {
   "cell_type": "code",
   "execution_count": 5,
   "id": "815adae5",
   "metadata": {
    "ExecuteTime": {
     "end_time": "2023-10-13T23:13:54.458272Z",
     "start_time": "2023-10-13T23:13:54.192994Z"
    }
   },
   "outputs": [
    {
     "data": {
      "text/plain": [
       "0"
      ]
     },
     "execution_count": 5,
     "metadata": {},
     "output_type": "execute_result"
    }
   ],
   "source": [
    "# Проверим все ли товары,\n",
    "# не имеющие гендерной принадлежности потенциального покупателя\n",
    "# не имеют в названии явного указания на пол 'муж', 'жен'\n",
    "df_product_sex['унисекс'] = df_product_sex.\\\n",
    "                            apply(lambda x: 1\n",
    "                                 if x['муж'] == 0 and x['жен'] == 0\n",
    "                                 else 0,\n",
    "                                 axis=1)\n",
    "# Определим количество строк где в названиии продукта нет гендерной принадлежности\n",
    "# потенциального покупатнлы и не проставлены соответсвующие признаки\n",
    "len(df_product_sex[(df_product_sex['унисекс'] != 1) & (df_product_sex.product_sex.isna())])"
   ]
  },
  {
   "cell_type": "markdown",
   "id": "d8a36544",
   "metadata": {},
   "source": [
    "**Вывод:** В признаке `product_sex` пропущенные данные с большой вероятностью обозначают что товар пренадлежит к категории `унисекс`. Для возможности использования данного признака в дальнейшем проставим ему в датасете значение 2.0"
   ]
  },
  {
   "cell_type": "code",
   "execution_count": 6,
   "id": "524e79e0",
   "metadata": {
    "ExecuteTime": {
     "end_time": "2023-10-13T23:13:57.025639Z",
     "start_time": "2023-10-13T23:13:57.015336Z"
    }
   },
   "outputs": [],
   "source": [
    "# Заменим пустые значения признака `product_sex` на значение 2.0\n",
    "dfs['purchases'].product_sex = dfs['purchases'].product_sex.fillna(2.0)"
   ]
  },
  {
   "cell_type": "markdown",
   "id": "0a179ac2",
   "metadata": {},
   "source": [
    "### 1.2.2. Проверим гипотезы о причинах пропусков знаений в признаке \"цвет\""
   ]
  },
  {
   "cell_type": "code",
   "execution_count": 7,
   "id": "279bf313",
   "metadata": {
    "ExecuteTime": {
     "end_time": "2023-10-13T23:13:59.674234Z",
     "start_time": "2023-10-13T23:13:59.577080Z"
    }
   },
   "outputs": [
    {
     "data": {
      "text/plain": [
       "15.2"
      ]
     },
     "execution_count": 7,
     "metadata": {},
     "output_type": "execute_result"
    }
   ],
   "source": [
    "# первоначальный процент строк без заполненного значения признака \"цвет\"\n",
    "round((len(dfs['purchases'][dfs['purchases']['colour'].isna()])/len(dfs['purchases'])) * 100, 2)"
   ]
  },
  {
   "cell_type": "markdown",
   "id": "415d5187",
   "metadata": {},
   "source": [
    "#### 1.2.2.1. Проверим попала ли информация об уникальныхзначениях признака \"цвет\" в наименование товара без признака \"цвет\""
   ]
  },
  {
   "cell_type": "code",
   "execution_count": 8,
   "id": "3a0b9a69",
   "metadata": {
    "ExecuteTime": {
     "end_time": "2023-10-13T23:14:03.709622Z",
     "start_time": "2023-10-13T23:14:02.404247Z"
    }
   },
   "outputs": [
    {
     "name": "stdout",
     "output_type": "stream",
     "text": [
      "Количесвто уникальных цветов: 361\n"
     ]
    }
   ],
   "source": [
    "# Создадим множество используемых названий цветов в товарах с проставленным признаком \"цвет\"\n",
    "colors = list(dfs['purchases'][~dfs['purchases']['colour'].isna()]['colour'].\n",
    "              apply(lambda x: x.split('/')))\n",
    "colors_all = []\n",
    "for color in colors:\n",
    "    if isinstance(color, list):\n",
    "        colors_all.extend(color)\n",
    "colors_set = set(colors_all)\n",
    "print(f'Количесвто уникальных цветов: {len(colors_set)}')"
   ]
  },
  {
   "cell_type": "code",
   "execution_count": 9,
   "id": "dba6e051",
   "metadata": {
    "ExecuteTime": {
     "end_time": "2023-10-13T23:14:05.803765Z",
     "start_time": "2023-10-13T23:14:05.797912Z"
    }
   },
   "outputs": [],
   "source": [
    "# Функция проверки наличия информации о цвете товара в наименовании товара\n",
    "def check_name_product(product):\n",
    "    colors = []\n",
    "    for word in product.split(' '):\n",
    "        if word in colors_set:\n",
    "            colors.append(word)\n",
    "    if len(colors):\n",
    "        return '/'.join(colors)"
   ]
  },
  {
   "cell_type": "code",
   "execution_count": 10,
   "id": "2635b9f4",
   "metadata": {
    "ExecuteTime": {
     "end_time": "2023-10-13T23:14:08.107578Z",
     "start_time": "2023-10-13T23:14:07.848266Z"
    }
   },
   "outputs": [
    {
     "name": "stderr",
     "output_type": "stream",
     "text": [
      "/var/folders/5h/1vkpjwr90l19cmzfgsfrcpvm0000gn/T/ipykernel_13216/1099927576.py:3: SettingWithCopyWarning: \n",
      "A value is trying to be set on a copy of a slice from a DataFrame.\n",
      "Try using .loc[row_indexer,col_indexer] = value instead\n",
      "\n",
      "See the caveats in the documentation: https://pandas.pydata.org/pandas-docs/stable/user_guide/indexing.html#returning-a-view-versus-a-copy\n",
      "  df_non_colors['colorus_new'] = df_non_colors['product'].apply(lambda x: check_name_product(x))\n"
     ]
    }
   ],
   "source": [
    "# Получим датасет с отсутствующими значениями в признаке \"цвет\"\n",
    "df_non_colors = dfs['purchases'][dfs['purchases']['colour'].isna()]\n",
    "df_non_colors['colorus_new'] = df_non_colors['product'].apply(lambda x: check_name_product(x))\n",
    "indexs_color = df_non_colors[~df_non_colors['colorus_new'].isna()]['colorus_new']"
   ]
  },
  {
   "cell_type": "code",
   "execution_count": 11,
   "id": "0183d85e",
   "metadata": {
    "ExecuteTime": {
     "end_time": "2023-10-13T23:14:22.921937Z",
     "start_time": "2023-10-13T23:14:10.257178Z"
    }
   },
   "outputs": [],
   "source": [
    "# Добавим полученные цвета в столбец датасета с покупками\n",
    "for index, new_color in zip(indexs_color.index, indexs_color[indexs_color.index]):\n",
    "    dfs['purchases'].loc[index, ['colour']] = new_color"
   ]
  },
  {
   "cell_type": "code",
   "execution_count": 12,
   "id": "0895748b",
   "metadata": {
    "ExecuteTime": {
     "end_time": "2023-10-13T23:14:25.482022Z",
     "start_time": "2023-10-13T23:14:25.406935Z"
    }
   },
   "outputs": [
    {
     "data": {
      "text/plain": [
       "15.04"
      ]
     },
     "execution_count": 12,
     "metadata": {},
     "output_type": "execute_result"
    }
   ],
   "source": [
    "# Процент строк без заполненного значения признака \"цвет\" после первого этапа предобработки данных\n",
    "round((len(dfs['purchases'][dfs['purchases']['colour'].isna()])/len(dfs['purchases'])) * 100, 2)"
   ]
  },
  {
   "cell_type": "markdown",
   "id": "0ca43840",
   "metadata": {},
   "source": [
    "**Вывод:** Данным методом удалось добавить только 0.16% значений признака \"цвет\""
   ]
  },
  {
   "cell_type": "markdown",
   "id": "10c7f2bc",
   "metadata": {},
   "source": [
    "#### 1.2.2.2. Проверим есть ли одноимённые товары с наличием значения в признаке \"цвет\" для товаров с пропущенным значением в признаке \"цвет\""
   ]
  },
  {
   "cell_type": "markdown",
   "id": "f0fd57be",
   "metadata": {},
   "source": [
    "Проставим каждому товару из списка товаров без признака \"цвет\" наиболее часто встречающееся значение цвета.  \n",
    "Для экономии времени при расчёте выполним присвоение в мультипроцессорном режиме"
   ]
  },
  {
   "cell_type": "code",
   "execution_count": 14,
   "id": "2a7709a5",
   "metadata": {
    "ExecuteTime": {
     "end_time": "2023-10-13T23:14:33.963326Z",
     "start_time": "2023-10-13T23:14:33.959644Z"
    }
   },
   "outputs": [],
   "source": [
    "# Загрузим функции поиска во всех записях о товаре наиболее часто встречающихся значений признака \"цвет\"\n",
    "# для наименований товаров, по которым есть записи с незаполненым признаком \"цвет\"\n",
    "# (функции написаны в отдельном модуле для обеспечения требований блиотеки  multiprocessing)\n",
    "from package.preparation import add_freq_product_color, freq_product_color"
   ]
  },
  {
   "cell_type": "code",
   "execution_count": 15,
   "id": "a0caac54",
   "metadata": {
    "ExecuteTime": {
     "end_time": "2023-10-13T23:14:39.979456Z",
     "start_time": "2023-10-13T23:14:38.400786Z"
    }
   },
   "outputs": [],
   "source": [
    "# Сформируем датасеты:\n",
    "\n",
    "# df_1 - датасет в котором среди уникальных наименований товара будем искать такие товары,\n",
    "#        в которых проставлено наиболее часто встречающееся значение признака \"цвет\" для этого товара \n",
    "df_1 = dfs['purchases'][['product', 'colour']]\n",
    "\n",
    "# df_2 - датасет в котором сформируем список всех уникальных товаров с пропущенным значение признака \"цвет\"\n",
    "df_2 = df_1[df_1['colour'].isna()].groupby('product').agg({'colour': 'max'})\n",
    "df_2.reset_index(inplace=True)"
   ]
  },
  {
   "cell_type": "code",
   "execution_count": 16,
   "id": "b56be499",
   "metadata": {
    "ExecuteTime": {
     "end_time": "2023-10-13T23:14:42.173151Z",
     "start_time": "2023-10-13T23:14:42.169626Z"
    }
   },
   "outputs": [],
   "source": [
    "######   ЗАПУСКАЕМ РАСЧЁТЫ В МНОГОПРОЦЕССОРНОМ РЕЖИМЕ   ######"
   ]
  },
  {
   "cell_type": "code",
   "execution_count": 17,
   "id": "45b823cd",
   "metadata": {
    "ExecuteTime": {
     "end_time": "2023-10-13T23:14:44.297499Z",
     "start_time": "2023-10-13T23:14:44.292355Z"
    }
   },
   "outputs": [
    {
     "name": "stdout",
     "output_type": "stream",
     "text": [
      "Количество доступных процессоров: 7\n",
      "Размеры подмассивов: 1682 \n",
      "\n"
     ]
    }
   ],
   "source": [
    "# 1. Рассчитываем количество ядер процесса, которые можно задействовать для вычислений\n",
    "#    (уменьшаем количество доступных ядер на 1 ядро, которое оставляем на системные потребности)\n",
    "n_cpu = multiprocessing.cpu_count() - 1\n",
    "print('Количество доступных процессоров:', n_cpu)\n",
    "\n",
    "# 2. Расчитаем минимальный размер обрабатываемых парралельно подмассивов\n",
    "# (по кратности ядер, которые будем использовать)\n",
    "val_sub = int(len(df_2)/n_cpu)\n",
    "print('Размеры подмассивов:', val_sub, '\\n')"
   ]
  },
  {
   "cell_type": "code",
   "execution_count": 18,
   "id": "a8ac8dd3",
   "metadata": {
    "ExecuteTime": {
     "end_time": "2023-10-13T23:19:55.016165Z",
     "start_time": "2023-10-13T23:14:47.566843Z"
    }
   },
   "outputs": [
    {
     "name": "stdout",
     "output_type": "stream",
     "text": [
      "ВРЕМЯ СТАРТА РАСЧЁТА: 2023-10-14 02:14:47.574795 \n",
      "\n",
      "Размеры массивов: 11775 и 786260\n",
      "\n",
      "\n",
      "Подготовлен 1 массив размером: 1682 для сравнения с 786260\n",
      "Подготовлен 2 массив размером: 1682 для сравнения с 786260\n",
      "Подготовлен 3 массив размером: 1682 для сравнения с 786260\n",
      "Подготовлен 4 массив размером: 1682 для сравнения с 786260\n",
      "Подготовлен 5 массив размером: 1682 для сравнения с 786260\n",
      "Подготовлен 6 массив размером: 1682 для сравнения с 786260\n",
      "Подготовлен последний массив размером: 1683 для сравнения с 786260\n",
      "... запущен параллельный расчёт на 7 ядрах процессора ...\n",
      "\n",
      "\n",
      "ВРЕМЯ ОКОНЧАНИЯ РАСЧЁТА: 2023-10-14 02:19:55.013324\n",
      "ВРЕМЯ ВЫПОЛНЕНИЯ: 0:05:07.438529 \n",
      "\n",
      "\n"
     ]
    }
   ],
   "source": [
    "# Ииспользуем признак работы в главном модуле (для обеспечения требований блиотеки  multiprocessing)\n",
    "if __name__ == '__main__':\n",
    "    \n",
    "    # Начнём замер времени\n",
    "    start_time = dt.datetime.now()\n",
    "    print('ВРЕМЯ СТАРТА РАСЧЁТА:', start_time, '\\n')\n",
    "    \n",
    "    # Распарралелим расчёты между доступными ядрами процессора\n",
    "    # 3. Создаём менеджера парралельных процессов\n",
    "    #    и его пространство имён для обмена данными между процессами\n",
    "    with Manager() as mng:\n",
    "        ns = mng.Namespace()\n",
    "        ns.dfs = mng.list()\n",
    "        df = df_1\n",
    "        df_u = df_2\n",
    "        print(f'Размеры массивов: {len(df_u)} и {len(df)}\\n\\n')\n",
    "        \n",
    "        # 4. Делим датасет на составляющие,\n",
    "        #    которые будут рассчитываться в парралельных процессах\n",
    "        for i in range(n_cpu - 1):\n",
    "            df = df_1.copy()\n",
    "            ns.dfs.append((df_u[val_sub*i:val_sub*(i+1)], df.copy()))\n",
    "            print(f'Подготовлен {i+1} массив размером: {len(ns.dfs[i][0])} для сравнения с {len(ns.dfs[i][1])}')\n",
    "        ns.dfs.append((df_u[(n_cpu-1)*val_sub:], df.copy()))\n",
    "        print(f'Подготовлен последний массив размером: {len(ns.dfs[i+1][0])} для сравнения с {len(ns.dfs[i+1][1])}')\n",
    "\n",
    "        # 5. Запустим пул парралельных процессов вычислений\n",
    "        #    и результат объединим в единый датафрейм\n",
    "        with Pool(processes=n_cpu) as p:\n",
    "            print(f'... запущен параллельный расчёт на {n_cpu} ядрах процессора ...')\n",
    "            df_non_colours = pd.concat(list(p.map(add_freq_product_color, ns.dfs)), axis=0)\n",
    "\n",
    "    # Закончим замер времени\n",
    "    finish_time = dt.datetime.now()\n",
    "    print('\\n\\nВРЕМЯ ОКОНЧАНИЯ РАСЧЁТА:', finish_time)\n",
    "    print('ВРЕМЯ ВЫПОЛНЕНИЯ:', finish_time - start_time, '\\n' * 2)"
   ]
  },
  {
   "cell_type": "code",
   "execution_count": 19,
   "id": "17e171fd",
   "metadata": {
    "ExecuteTime": {
     "end_time": "2023-10-13T23:20:15.144338Z",
     "start_time": "2023-10-13T23:20:15.129840Z"
    }
   },
   "outputs": [],
   "source": [
    "# Сформируем датасет с вновь заполненным признаком \"цвет\"\n",
    "df_3 = df_non_colours[~df_non_colours['freq_color'].isna()]\n",
    "\n",
    "# Создадим словарь восстановленных данных о признаке \"цвет\"\n",
    "recovered_color_data = {}\n",
    "for key, value in zip(list(df_3['product']), list(df_3['freq_color'])):\n",
    "    recovered_color_data[key] = value"
   ]
  },
  {
   "cell_type": "code",
   "execution_count": 20,
   "id": "b2a5002a",
   "metadata": {
    "ExecuteTime": {
     "end_time": "2023-10-13T23:20:16.882836Z",
     "start_time": "2023-10-13T23:20:16.878439Z"
    }
   },
   "outputs": [],
   "source": [
    "# Функция добавления восстановленных данных в признак \"цвет\"\n",
    "def replace_none_1(product, colour, recovered_color_data):\n",
    "    if pd.isna(colour):\n",
    "        if product in list(recovered_color_data.keys()):\n",
    "            return recovered_color_data[product]\n",
    "        else:\n",
    "            return None\n",
    "    else:\n",
    "        return colour"
   ]
  },
  {
   "cell_type": "code",
   "execution_count": 21,
   "id": "a394cbde",
   "metadata": {
    "ExecuteTime": {
     "end_time": "2023-10-13T23:20:57.253981Z",
     "start_time": "2023-10-13T23:20:18.325049Z"
    }
   },
   "outputs": [],
   "source": [
    "# Добавим восстановленные записи признака \"цвет\" в исходный датасет с товарами\n",
    "dfs['purchases']['colour'] = dfs['purchases'].apply(lambda x:\n",
    "                                                    replace_none_1(x['product'],\n",
    "                                                                   x['colour'],\n",
    "                                                                   recovered_color_data),\n",
    "                                                    axis=1)"
   ]
  },
  {
   "cell_type": "code",
   "execution_count": 22,
   "id": "d910bddb",
   "metadata": {
    "ExecuteTime": {
     "end_time": "2023-10-13T23:21:01.737468Z",
     "start_time": "2023-10-13T23:21:01.550050Z"
    }
   },
   "outputs": [
    {
     "data": {
      "text/plain": [
       "0.42"
      ]
     },
     "execution_count": 22,
     "metadata": {},
     "output_type": "execute_result"
    }
   ],
   "source": [
    "# Процент строк без заполненного значения признака \"цвет\" после первого этапа предобработки данных\n",
    "round((len(dfs['purchases'][dfs['purchases']['colour'].isna()])/len(dfs['purchases'])) * 100, 2)"
   ]
  },
  {
   "cell_type": "markdown",
   "id": "8708a365",
   "metadata": {},
   "source": [
    "**Вывод:** Данным методом удалось добавить только 14.62% значений признака \"цвет\" и довести уровень заполненности данного признака до 99,6%"
   ]
  },
  {
   "cell_type": "markdown",
   "id": "7dee10cf",
   "metadata": {},
   "source": [
    "#### 1.2.2.3. Проставим признак цвет для оставшихся 3,2 тыс. товаров при наличии в названии товара и не определённого автоматически признака \"цвет\""
   ]
  },
  {
   "cell_type": "markdown",
   "id": "b91ca2b4",
   "metadata": {},
   "source": [
    "Создадим словарь цветов и их сочетаний, визуально выявленных в названиях 3,2 тыс. товаров, в которых не удалось проставить признак \"цвет\" автоматически"
   ]
  },
  {
   "cell_type": "code",
   "execution_count": 23,
   "id": "064d9348",
   "metadata": {
    "ExecuteTime": {
     "end_time": "2023-10-13T23:21:10.864386Z",
     "start_time": "2023-10-13T23:21:10.858100Z"
    }
   },
   "outputs": [],
   "source": [
    "colors_manual = {'(бесцветный)': 'бесцветный', '(зеленый': 'зеленый', 'зеленый)': 'зеленый',\n",
    "                 '(камуфляж)': 'милитари', '(серый': 'серый', 'серый)': 'серый',\n",
    "                 'белая': 'белый', 'голубой/белый': 'голубой/белый',\n",
    "                 'горчичный/темно-серый': 'горчичный/темно-серый',\n",
    "                 'зеленый/морковный': 'зеленый/морковный', 'красный/никель': 'красный/никель',\n",
    "                 'люминисцентно-желтый': 'люминисцентно-желтый', 'синий/авокадо': 'синий/авокадо',\n",
    "                 'фиолетовый/белый': 'фиолетовый/белый',\n",
    "                 'black': 'черный', 'white': 'белый', 'blue': 'синий', 'red': 'красный',\n",
    "                 'green': 'green', 'gray': 'серый', 'lavender': 'лавандовый',\n",
    "                 'blue/green': 'синий/зеленый', 'blue/white': 'синий/зеленый',\n",
    "                 'bright blue': 'светло-синий', 'dark blue': 'темно-синий',\n",
    "                 'multicolor': 'мультицвет', 'white/gray/lavender': 'белый/серый/лавандовый'}"
   ]
  },
  {
   "cell_type": "code",
   "execution_count": 24,
   "id": "bf2dab0f",
   "metadata": {
    "ExecuteTime": {
     "end_time": "2023-10-13T23:21:12.505432Z",
     "start_time": "2023-10-13T23:21:12.500183Z"
    }
   },
   "outputs": [],
   "source": [
    "# Функция добавления в признак \"цвет\" восстановленных данных из названия товара\n",
    "def replace_none_2(product, colour, recovered_color_data):\n",
    "    if pd.isna(colour):\n",
    "        for word in product.split(' '):\n",
    "            if word in list(recovered_color_data.keys()):\n",
    "                return recovered_color_data[word]\n",
    "            else:\n",
    "                return None\n",
    "    else:\n",
    "        return colour"
   ]
  },
  {
   "cell_type": "code",
   "execution_count": 25,
   "id": "b1840115",
   "metadata": {
    "ExecuteTime": {
     "end_time": "2023-10-13T23:21:23.627197Z",
     "start_time": "2023-10-13T23:21:13.670565Z"
    }
   },
   "outputs": [],
   "source": [
    "# Добавим восстановленные записи признака \"цвет\" в исходный датасет с товарами\n",
    "dfs['purchases']['colour'] = dfs['purchases'].apply(lambda x:\n",
    "                                                    replace_none_2(x['product'],\n",
    "                                                                   x['colour'],\n",
    "                                                                   colors_manual),\n",
    "                                                    axis=1)"
   ]
  },
  {
   "cell_type": "code",
   "execution_count": 26,
   "id": "23240066",
   "metadata": {
    "ExecuteTime": {
     "end_time": "2023-10-13T23:21:24.733750Z",
     "start_time": "2023-10-13T23:21:24.514519Z"
    }
   },
   "outputs": [
    {
     "data": {
      "text/plain": [
       "0.42"
      ]
     },
     "execution_count": 26,
     "metadata": {},
     "output_type": "execute_result"
    }
   ],
   "source": [
    "# Процент строк без заполненного значения признака \"цвет\" после первого этапа предобработки данных\n",
    "round((len(dfs['purchases'][dfs['purchases']['colour'].isna()])/len(dfs['purchases'])) * 100, 2)"
   ]
  },
  {
   "cell_type": "markdown",
   "id": "d8f7b69d",
   "metadata": {},
   "source": [
    "**Вывод:** Данным методом удалось добавить только 0.03% значений признака \"цвет\", уровень заполненности данного признака остался  равным 99,6%"
   ]
  },
  {
   "cell_type": "markdown",
   "id": "3404ff69",
   "metadata": {},
   "source": [
    "#### 1.2.2.4. Проверим однородность значений признаков \"цвет\" и исправим неоднородные значения"
   ]
  },
  {
   "cell_type": "code",
   "execution_count": 27,
   "id": "9e41c65b",
   "metadata": {
    "ExecuteTime": {
     "end_time": "2023-10-13T23:21:29.456064Z",
     "start_time": "2023-10-13T23:21:29.450026Z"
    }
   },
   "outputs": [],
   "source": [
    "# Функция приведения всех букв признака цвет к нижнему регистру и замены буквы 'ё' на 'е'\n",
    "def replace_symbol(colour):\n",
    "    if not pd.isna(colour):\n",
    "        colour = colour.lower()\n",
    "        colour = colour.replace('ё', 'е')\n",
    "        return colour\n",
    "    else:\n",
    "        return None"
   ]
  },
  {
   "cell_type": "code",
   "execution_count": 28,
   "id": "7fbe9726",
   "metadata": {
    "ExecuteTime": {
     "end_time": "2023-10-13T23:21:31.732952Z",
     "start_time": "2023-10-13T23:21:30.618956Z"
    },
    "code_folding": []
   },
   "outputs": [],
   "source": [
    "# Приведём все значения признаков цвет к нижнему регистру и заменим все буквы 'ё' на 'е'\n",
    "dfs['purchases']['colour'] = dfs['purchases']['colour'].apply(lambda x: replace_symbol(x))"
   ]
  },
  {
   "cell_type": "code",
   "execution_count": 29,
   "id": "b209daad",
   "metadata": {
    "ExecuteTime": {
     "end_time": "2023-10-13T23:21:37.689511Z",
     "start_time": "2023-10-13T23:21:36.036716Z"
    }
   },
   "outputs": [
    {
     "name": "stdout",
     "output_type": "stream",
     "text": [
      "Количесвто уникальных цветов: 328\n"
     ]
    }
   ],
   "source": [
    "# Создадим множество используемых названий цветов в товарах с проставленным признаком \"цвет\"\n",
    "colors = list(dfs['purchases'][~dfs['purchases']['colour'].isna()]['colour'].\n",
    "              apply(lambda x: x.split('/')))\n",
    "colors_all = []\n",
    "for color in colors:\n",
    "    if isinstance(color, list):\n",
    "        colors_all.extend(color)\n",
    "colors_set = set(colors_all)\n",
    "print(f'Количесвто уникальных цветов: {len(colors_set)}')"
   ]
  },
  {
   "cell_type": "code",
   "execution_count": 30,
   "id": "522a8d3d",
   "metadata": {
    "ExecuteTime": {
     "end_time": "2023-10-13T23:21:38.769599Z",
     "start_time": "2023-10-13T23:21:38.760822Z"
    }
   },
   "outputs": [],
   "source": [
    "# Создадим словарь одородности названий признака \"цвет\"\n",
    "uniformity_colours = {\n",
    "                      'cеребряный': 'серебряный',\n",
    "                      'антрацит': 'антрацитовый', 'бeлый': 'белый', 'волна': 'волны',\n",
    "                      'графит': 'графитовый', 'золото': 'золотистый', 'золотой': 'золотистый',\n",
    "                      'ирис': 'ирисовый', 'камуфляж': 'камуфляжный', 'клетка': 'клетчатый',\n",
    "                      'коралл': 'коралловый', 'лайм': 'лаймовый', 'леопард': 'леопардовый',\n",
    "                      'металлик': 'металлический', 'милитари': 'камуфляжный',\n",
    "                      'мультиколор': 'многоцветный', 'мультицвет': 'многоцветный',\n",
    "                      'нюд': 'нюдовый', 'персик': 'персиковый', 'полоски': 'полоска',\n",
    "                      'св.розовый': 'светло-розовый', 'серебро': 'серебряный',\n",
    "                      'серебристый': 'серебряный', 'сиинй': 'синий', 'синий-белый': 'сине-белый',\n",
    "                      'хром': 'хромовый', 'цветной': 'многоцветный',\n",
    "                      'черный-белый': 'черно-белый', 'черный-желтый': 'черно-желтый',\n",
    "                      'черный-красный': 'черно-красный', 'яблоко': 'яблочный', \n",
    "                      }"
   ]
  },
  {
   "cell_type": "code",
   "execution_count": 32,
   "id": "00d0c19f",
   "metadata": {
    "ExecuteTime": {
     "end_time": "2023-10-13T23:21:45.438542Z",
     "start_time": "2023-10-13T23:21:45.432331Z"
    }
   },
   "outputs": [],
   "source": [
    "# Функция замены значения признака \"цвет\" на однородное по всему датасету\n",
    "def replace_none_3(colour, uniformity_colours):\n",
    "    if not pd.isna(colour):\n",
    "        words_colour = colour.split('/')\n",
    "        words_uniformity = []\n",
    "        for word in words_colour:\n",
    "            if word in list(uniformity_colours.keys()):\n",
    "                words_uniformity.append(uniformity_colours[word])\n",
    "            else:\n",
    "                words_uniformity.append(word)\n",
    "        return ('/').join(words_uniformity)\n",
    "    else:\n",
    "        return None"
   ]
  },
  {
   "cell_type": "code",
   "execution_count": 33,
   "id": "1b518856",
   "metadata": {
    "ExecuteTime": {
     "end_time": "2023-10-13T23:21:48.939962Z",
     "start_time": "2023-10-13T23:21:46.560155Z"
    }
   },
   "outputs": [],
   "source": [
    "# Приведём все значения признака \"цвет\" к однородным\n",
    "dfs['purchases']['colour'] = dfs['purchases']['colour'].apply(lambda x:\n",
    "                                                              replace_none_3(x,\n",
    "                                                                             uniformity_colours))"
   ]
  },
  {
   "cell_type": "code",
   "execution_count": 34,
   "id": "657959c3",
   "metadata": {
    "ExecuteTime": {
     "end_time": "2023-10-13T23:21:51.698667Z",
     "start_time": "2023-10-13T23:21:49.930972Z"
    }
   },
   "outputs": [
    {
     "name": "stdout",
     "output_type": "stream",
     "text": [
      "Количесвто уникальных цветов: 299\n"
     ]
    }
   ],
   "source": [
    "# Создадим множество используемых названий цветов в товарах с проставленным признаком \"цвет\"\n",
    "colors = list(dfs['purchases'][~dfs['purchases']['colour'].isna()]['colour'].\n",
    "              apply(lambda x: x.split('/')))\n",
    "colors_all = []\n",
    "for color in colors:\n",
    "    if isinstance(color, list):\n",
    "        colors_all.extend(color)\n",
    "colors_set = set(colors_all)\n",
    "print(f'Количесвто уникальных цветов: {len(colors_set)}')"
   ]
  },
  {
   "cell_type": "code",
   "execution_count": 35,
   "id": "453c4c46",
   "metadata": {
    "ExecuteTime": {
     "end_time": "2023-10-13T23:21:52.855525Z",
     "start_time": "2023-10-13T23:21:52.737300Z"
    }
   },
   "outputs": [],
   "source": [
    "# Заменим пустые значения признака \"цвет\" на значение 'неопределенный',\n",
    "# так как оно уже существует в значениях признака отдельных товаров\n",
    "dfs['purchases'].colour = dfs['purchases'].colour.fillna('неопределенный')"
   ]
  },
  {
   "cell_type": "code",
   "execution_count": 36,
   "id": "db1ef356",
   "metadata": {
    "ExecuteTime": {
     "end_time": "2023-10-13T23:21:56.734905Z",
     "start_time": "2023-10-13T23:21:56.431744Z"
    }
   },
   "outputs": [
    {
     "name": "stdout",
     "output_type": "stream",
     "text": [
      "<class 'pandas.core.frame.DataFrame'>\n",
      "RangeIndex: 786260 entries, 0 to 786259\n",
      "Data columns (total 7 columns):\n",
      " #   Column       Non-Null Count   Dtype  \n",
      "---  ------       --------------   -----  \n",
      " 0   id           786260 non-null  int64  \n",
      " 1   product      786260 non-null  object \n",
      " 2   colour       786260 non-null  object \n",
      " 3   cost         786260 non-null  int64  \n",
      " 4   product_sex  786260 non-null  float64\n",
      " 5   base_sale    786260 non-null  int64  \n",
      " 6   dt           786260 non-null  int64  \n",
      "dtypes: float64(1), int64(4), object(2)\n",
      "memory usage: 42.0+ MB\n"
     ]
    }
   ],
   "source": [
    "dfs['purchases'].info()"
   ]
  },
  {
   "cell_type": "markdown",
   "id": "32b53955",
   "metadata": {},
   "source": [
    "## 1.3. Обогащение данных таблицы personal_data"
   ]
  },
  {
   "cell_type": "markdown",
   "id": "24f2abcb",
   "metadata": {},
   "source": [
    "### 1.3.1. Получим данные из дополнительного источника"
   ]
  },
  {
   "cell_type": "code",
   "execution_count": 37,
   "id": "ad18980c",
   "metadata": {
    "ExecuteTime": {
     "end_time": "2023-10-13T23:22:01.316262Z",
     "start_time": "2023-10-13T23:22:01.268930Z"
    }
   },
   "outputs": [
    {
     "name": "stdout",
     "output_type": "stream",
     "text": [
      "<class 'pandas.core.frame.DataFrame'>\n",
      "RangeIndex: 15748 entries, 0 to 15747\n",
      "Data columns (total 5 columns):\n",
      " #   Column     Non-Null Count  Dtype \n",
      "---  ------     --------------  ----- \n",
      " 0   id         15748 non-null  int64 \n",
      " 1   age        15748 non-null  int64 \n",
      " 2   education  15748 non-null  object\n",
      " 3   city       15748 non-null  int64 \n",
      " 4   country    15748 non-null  int64 \n",
      "dtypes: int64(4), object(1)\n",
      "memory usage: 615.3+ KB\n"
     ]
    }
   ],
   "source": [
    "# Прочитаем восстановленные данные\n",
    "df_recovered  = pd.read_csv('data/result_data/personal_data.csv')\n",
    "df_recovered.info()"
   ]
  },
  {
   "cell_type": "code",
   "execution_count": 38,
   "id": "f2f2a34b",
   "metadata": {
    "ExecuteTime": {
     "end_time": "2023-10-13T23:22:03.787163Z",
     "start_time": "2023-10-13T23:22:03.733797Z"
    }
   },
   "outputs": [
    {
     "name": "stdout",
     "output_type": "stream",
     "text": [
      "<class 'pandas.core.frame.DataFrame'>\n",
      "Int64Index: 104989 entries, 0 to 15747\n",
      "Data columns (total 6 columns):\n",
      " #   Column     Non-Null Count   Dtype  \n",
      "---  ------     --------------   -----  \n",
      " 0   id         104989 non-null  int64  \n",
      " 1   gender     89241 non-null   float64\n",
      " 2   age        104989 non-null  int64  \n",
      " 3   education  104989 non-null  object \n",
      " 4   city       104989 non-null  int64  \n",
      " 5   country    104989 non-null  int64  \n",
      "dtypes: float64(1), int64(4), object(1)\n",
      "memory usage: 5.6+ MB\n"
     ]
    }
   ],
   "source": [
    "# Добавим восстановленные данные в общий датафрейм\n",
    "dfs['personal_data_recovered'] = pd.concat([dfs['personal_data'], df_recovered], axis=0)\n",
    "dfs['personal_data_recovered'].info()"
   ]
  },
  {
   "cell_type": "markdown",
   "id": "acfa3aad",
   "metadata": {},
   "source": [
    "### 1.3.2. Восстановим данные моделями машинного обучения"
   ]
  },
  {
   "cell_type": "markdown",
   "id": "173d6c6e",
   "metadata": {},
   "source": [
    "Необхлодимо выбрать и обучить модель для прогнозирования признака \"gender\" в записях с недостающими значениями такого признака.  \n",
    "Для обучения подготовим датасет"
   ]
  },
  {
   "cell_type": "code",
   "execution_count": 39,
   "id": "142f9ab2",
   "metadata": {
    "ExecuteTime": {
     "end_time": "2023-10-13T23:22:10.844240Z",
     "start_time": "2023-10-13T23:22:10.256309Z"
    }
   },
   "outputs": [],
   "source": [
    "# С целью получения максимально большого массива данных для обучении модели\n",
    "# объединим датасеты 'purchases', 'personal_data_coeffs', 'personal_data'\n",
    "df_personal = dfs['personal_data_recovered'].set_index('id').\\\n",
    "                                             join(dfs['personal_data_coeffs'].set_index('id'))\n",
    "df = dfs['purchases'].set_index('id').join(df_personal)\n",
    "# Перенесём id покупателя в отдельный признак итогового датасета и сбросим индексы\n",
    "# (это необходимо для дальнейшей работы при выявлении аномальных записей в датасете)\n",
    "df.reset_index(drop=False, inplace=True)"
   ]
  },
  {
   "cell_type": "code",
   "execution_count": 40,
   "id": "e95a605e",
   "metadata": {
    "ExecuteTime": {
     "end_time": "2023-10-13T23:22:12.835773Z",
     "start_time": "2023-10-13T23:22:12.457034Z"
    }
   },
   "outputs": [
    {
     "data": {
      "text/html": [
       "<div>\n",
       "<style scoped>\n",
       "    .dataframe tbody tr th:only-of-type {\n",
       "        vertical-align: middle;\n",
       "    }\n",
       "\n",
       "    .dataframe tbody tr th {\n",
       "        vertical-align: top;\n",
       "    }\n",
       "\n",
       "    .dataframe thead th {\n",
       "        text-align: right;\n",
       "    }\n",
       "</style>\n",
       "<table border=\"1\" class=\"dataframe\">\n",
       "  <thead>\n",
       "    <tr style=\"text-align: right;\">\n",
       "      <th></th>\n",
       "      <th>index</th>\n",
       "      <th>id</th>\n",
       "      <th>product</th>\n",
       "      <th>colour</th>\n",
       "      <th>cost</th>\n",
       "      <th>product_sex</th>\n",
       "      <th>base_sale</th>\n",
       "      <th>dt</th>\n",
       "      <th>gender</th>\n",
       "      <th>age</th>\n",
       "      <th>education</th>\n",
       "      <th>city</th>\n",
       "      <th>country</th>\n",
       "      <th>lbt_coef</th>\n",
       "      <th>ac_coef</th>\n",
       "      <th>sm_coef</th>\n",
       "      <th>personal_coef</th>\n",
       "    </tr>\n",
       "  </thead>\n",
       "  <tbody>\n",
       "    <tr>\n",
       "      <th>0</th>\n",
       "      <td>0</td>\n",
       "      <td>0</td>\n",
       "      <td>Велосипед горный женский Stern Mira 2.0 26\"</td>\n",
       "      <td>белый/синий</td>\n",
       "      <td>13599</td>\n",
       "      <td>0.0</td>\n",
       "      <td>1</td>\n",
       "      <td>7</td>\n",
       "      <td>0.0</td>\n",
       "      <td>36</td>\n",
       "      <td>среднее</td>\n",
       "      <td>1201</td>\n",
       "      <td>32</td>\n",
       "      <td>5.078678</td>\n",
       "      <td>-0.307147</td>\n",
       "      <td>0.959027</td>\n",
       "      <td>0.5072</td>\n",
       "    </tr>\n",
       "    <tr>\n",
       "      <th>1</th>\n",
       "      <td>1</td>\n",
       "      <td>0</td>\n",
       "      <td>Стол Outventure</td>\n",
       "      <td>зеленый</td>\n",
       "      <td>1499</td>\n",
       "      <td>2.0</td>\n",
       "      <td>0</td>\n",
       "      <td>37</td>\n",
       "      <td>0.0</td>\n",
       "      <td>36</td>\n",
       "      <td>среднее</td>\n",
       "      <td>1201</td>\n",
       "      <td>32</td>\n",
       "      <td>5.078678</td>\n",
       "      <td>-0.307147</td>\n",
       "      <td>0.959027</td>\n",
       "      <td>0.5072</td>\n",
       "    </tr>\n",
       "    <tr>\n",
       "      <th>2</th>\n",
       "      <td>2</td>\n",
       "      <td>0</td>\n",
       "      <td>Набор Outventure: стол + 4 стула</td>\n",
       "      <td>бежевый</td>\n",
       "      <td>4799</td>\n",
       "      <td>2.0</td>\n",
       "      <td>0</td>\n",
       "      <td>37</td>\n",
       "      <td>0.0</td>\n",
       "      <td>36</td>\n",
       "      <td>среднее</td>\n",
       "      <td>1201</td>\n",
       "      <td>32</td>\n",
       "      <td>5.078678</td>\n",
       "      <td>-0.307147</td>\n",
       "      <td>0.959027</td>\n",
       "      <td>0.5072</td>\n",
       "    </tr>\n",
       "  </tbody>\n",
       "</table>\n",
       "</div>"
      ],
      "text/plain": [
       "   index  id                                      product       colour   cost  \\\n",
       "0      0   0  Велосипед горный женский Stern Mira 2.0 26\"  белый/синий  13599   \n",
       "1      1   0                              Стол Outventure      зеленый   1499   \n",
       "2      2   0             Набор Outventure: стол + 4 стула      бежевый   4799   \n",
       "\n",
       "   product_sex  base_sale  dt  gender  age education  city  country  lbt_coef  \\\n",
       "0          0.0          1   7     0.0   36   среднее  1201       32  5.078678   \n",
       "1          2.0          0  37     0.0   36   среднее  1201       32  5.078678   \n",
       "2          2.0          0  37     0.0   36   среднее  1201       32  5.078678   \n",
       "\n",
       "    ac_coef   sm_coef  personal_coef  \n",
       "0 -0.307147  0.959027         0.5072  \n",
       "1 -0.307147  0.959027         0.5072  \n",
       "2 -0.307147  0.959027         0.5072  "
      ]
     },
     "execution_count": 40,
     "metadata": {},
     "output_type": "execute_result"
    }
   ],
   "source": [
    "# Выделим данные с заполненным признаком 'gender' для формирования датасета для обучения модели классификации\n",
    "df_train_test = df[~df.gender.isna()]\n",
    "df_train_test.reset_index(inplace=True)\n",
    "df_train_test.head(3)"
   ]
  },
  {
   "cell_type": "markdown",
   "id": "3d49e8d3",
   "metadata": {
    "ExecuteTime": {
     "end_time": "2023-10-03T00:14:09.963912Z",
     "start_time": "2023-10-03T00:14:09.763290Z"
    }
   },
   "source": [
    "Перед обучением модели целесообразно проверить данные на аномалии и исключить такие данные из обучающего датасета.  \n",
    "1) При проверки датасета на аномальные записи используем три метода, результаты которых дополним друг другом для повышения качества обучающей выборки.  \n",
    "2) При проверки данных на аномалии не будем учитывать значения признаков `id`, `lbt_coef`, `ac_coef`, `sm_coef` - так как эти данные уникальны почти для каждого покупателя, а значит не принесут пользы для факторной оценки данных и дальнейшего обучения модели.  \n",
    "3) При использовании методов попризнакового выявления аномалий не будем учитывать признаки `product_sex`,`base_sale`,`education` - так как они имеют понятные уникальные значения без аномалий (выявлено визуально). Также не будем учитывать признак `gender` - так как это целевая переменная для обуения модели.  "
   ]
  },
  {
   "cell_type": "code",
   "execution_count": 41,
   "id": "0f047eb8",
   "metadata": {
    "ExecuteTime": {
     "end_time": "2023-10-13T23:22:16.531471Z",
     "start_time": "2023-10-13T23:22:16.526682Z"
    }
   },
   "outputs": [],
   "source": [
    "# Определим колонки для попризнакового выявления аномалий\n",
    "check_columns = ['index', 'product', 'colour', 'cost', 'dt', 'age', 'city', 'country', 'personal_coef']"
   ]
  },
  {
   "cell_type": "code",
   "execution_count": 42,
   "id": "be1c31f9",
   "metadata": {
    "ExecuteTime": {
     "end_time": "2023-10-13T23:22:19.120602Z",
     "start_time": "2023-10-13T23:22:18.002950Z"
    }
   },
   "outputs": [
    {
     "data": {
      "text/html": [
       "<div>\n",
       "<style scoped>\n",
       "    .dataframe tbody tr th:only-of-type {\n",
       "        vertical-align: middle;\n",
       "    }\n",
       "\n",
       "    .dataframe tbody tr th {\n",
       "        vertical-align: top;\n",
       "    }\n",
       "\n",
       "    .dataframe thead th {\n",
       "        text-align: right;\n",
       "    }\n",
       "</style>\n",
       "<table border=\"1\" class=\"dataframe\">\n",
       "  <thead>\n",
       "    <tr style=\"text-align: right;\">\n",
       "      <th></th>\n",
       "      <th>index</th>\n",
       "      <th>product</th>\n",
       "      <th>colour</th>\n",
       "      <th>cost</th>\n",
       "      <th>dt</th>\n",
       "      <th>age</th>\n",
       "      <th>city</th>\n",
       "      <th>country</th>\n",
       "      <th>personal_coef</th>\n",
       "    </tr>\n",
       "  </thead>\n",
       "  <tbody>\n",
       "    <tr>\n",
       "      <th>0</th>\n",
       "      <td>0</td>\n",
       "      <td>3259</td>\n",
       "      <td>203</td>\n",
       "      <td>1475</td>\n",
       "      <td>7</td>\n",
       "      <td>31</td>\n",
       "      <td>694</td>\n",
       "      <td>16</td>\n",
       "      <td>13</td>\n",
       "    </tr>\n",
       "    <tr>\n",
       "      <th>1</th>\n",
       "      <td>1</td>\n",
       "      <td>17773</td>\n",
       "      <td>433</td>\n",
       "      <td>371</td>\n",
       "      <td>37</td>\n",
       "      <td>31</td>\n",
       "      <td>694</td>\n",
       "      <td>16</td>\n",
       "      <td>13</td>\n",
       "    </tr>\n",
       "    <tr>\n",
       "      <th>2</th>\n",
       "      <td>2</td>\n",
       "      <td>12187</td>\n",
       "      <td>35</td>\n",
       "      <td>882</td>\n",
       "      <td>37</td>\n",
       "      <td>31</td>\n",
       "      <td>694</td>\n",
       "      <td>16</td>\n",
       "      <td>13</td>\n",
       "    </tr>\n",
       "    <tr>\n",
       "      <th>3</th>\n",
       "      <td>3</td>\n",
       "      <td>15582</td>\n",
       "      <td>1456</td>\n",
       "      <td>1256</td>\n",
       "      <td>0</td>\n",
       "      <td>30</td>\n",
       "      <td>627</td>\n",
       "      <td>16</td>\n",
       "      <td>13</td>\n",
       "    </tr>\n",
       "    <tr>\n",
       "      <th>4</th>\n",
       "      <td>4</td>\n",
       "      <td>21057</td>\n",
       "      <td>87</td>\n",
       "      <td>907</td>\n",
       "      <td>0</td>\n",
       "      <td>30</td>\n",
       "      <td>627</td>\n",
       "      <td>16</td>\n",
       "      <td>13</td>\n",
       "    </tr>\n",
       "  </tbody>\n",
       "</table>\n",
       "</div>"
      ],
      "text/plain": [
       "   index  product  colour  cost  dt  age  city  country  personal_coef\n",
       "0      0     3259     203  1475   7   31   694       16             13\n",
       "1      1    17773     433   371  37   31   694       16             13\n",
       "2      2    12187      35   882  37   31   694       16             13\n",
       "3      3    15582    1456  1256   0   30   627       16             13\n",
       "4      4    21057      87   907   0   30   627       16             13"
      ]
     },
     "execution_count": 42,
     "metadata": {},
     "output_type": "execute_result"
    }
   ],
   "source": [
    "# Проведём кодирование каждого признака \n",
    "df_fit = pd.DataFrame()\n",
    "for column in check_columns:\n",
    "    le = LabelEncoder()\n",
    "    df_fit[column] = le.fit_transform(df_train_test[column])\n",
    "df_fit.head()"
   ]
  },
  {
   "cell_type": "code",
   "execution_count": 43,
   "id": "d84def37",
   "metadata": {
    "ExecuteTime": {
     "end_time": "2023-10-13T23:22:20.237892Z",
     "start_time": "2023-10-13T23:22:20.191749Z"
    }
   },
   "outputs": [],
   "source": [
    "df_fit.index = df_fit['index']\n",
    "df_fit.drop(columns=['index'], axis=1, inplace=True)"
   ]
  },
  {
   "cell_type": "code",
   "execution_count": 44,
   "id": "4aca196d",
   "metadata": {
    "ExecuteTime": {
     "end_time": "2023-10-13T23:22:21.831207Z",
     "start_time": "2023-10-13T23:22:21.826185Z"
    }
   },
   "outputs": [],
   "source": [
    "# Инициализируем словарь индексов, в котором будем фиксировать:\n",
    "# метод выявления аномалий; список индексов записей-аномалий\n",
    "indexs = {'Quantile': []}"
   ]
  },
  {
   "cell_type": "code",
   "execution_count": 45,
   "id": "bc38b8db",
   "metadata": {
    "ExecuteTime": {
     "end_time": "2023-10-13T23:22:23.230185Z",
     "start_time": "2023-10-13T23:22:23.061583Z"
    }
   },
   "outputs": [],
   "source": [
    "# Заполним словарь индексов записей-аномалий, индексами аномалий,\n",
    "# выявленными квантилями более 3-сигма\n",
    "for column in df_fit.columns:\n",
    "    quantile_indexs = list(df_fit[df_fit[column] > df_fit[column].quantile(0.997)].index)\n",
    "    if len(quantile_indexs) > 0:\n",
    "        indexs['Quantile'].extend(quantile_indexs)\n",
    "indexs['Quantile'] = list(set(indexs['Quantile']))"
   ]
  },
  {
   "cell_type": "code",
   "execution_count": 46,
   "id": "91e2a1c6",
   "metadata": {
    "ExecuteTime": {
     "end_time": "2023-10-13T23:27:16.606923Z",
     "start_time": "2023-10-13T23:22:24.450708Z"
    }
   },
   "outputs": [],
   "source": [
    "# Заполним словарь индексов записей-аномалий, индексами аномалий,\n",
    "# выявленными Локалфактором и Изолесом\n",
    "lof = LocalOutlierFactor(n_neighbors=693, n_jobs=-1)\n",
    "ifo = IsolationForest(max_samples=12300, n_jobs=-1, random_state=42)\n",
    "pred_lof = lof.fit_predict(df_fit)\n",
    "pred_ifo = ifo.fit_predict(df_fit)\n",
    "indexs['LocalOutlierFactor'] = list(df_fit[pred_lof == -1].index)\n",
    "indexs['IsolationForest'] = list(df_fit[pred_ifo == -1].index)"
   ]
  },
  {
   "cell_type": "code",
   "execution_count": 47,
   "id": "5f7b9e40",
   "metadata": {
    "ExecuteTime": {
     "end_time": "2023-10-13T23:27:24.899023Z",
     "start_time": "2023-10-13T23:27:24.872971Z"
    }
   },
   "outputs": [
    {
     "name": "stdout",
     "output_type": "stream",
     "text": [
      "Методом 'Quantile' выявлено 8928 записей-аномалий, что составляет 1.33% всех записей\n",
      "Методом 'LocalOutlierFactor' выявлено 35630 записей-аномалий, что составляет 5.32% всех записей\n",
      "Методом 'IsolationForest' выявлено 61030 записей-аномалий, что составляет 9.11% всех записей\n",
      "\n",
      "ИТОГО вывленных записей-аномалий 82150, что составляет 12.26% всех записей\n"
     ]
    }
   ],
   "source": [
    "# Сформируемый единый список индексов, полученных всеми методами\n",
    "indexs_all = []\n",
    "# Определим долю выбросов, выявленную каждым методом\n",
    "for method in indexs.keys():\n",
    "    count_anomaly = len(indexs[method])\n",
    "    print(f\"Методом '{method}' выявлено {count_anomaly} записей-аномалий,\", end=' ')\n",
    "    print(f\"что составляет {round(count_anomaly/len(df_train_test) * 100, 2)}% всех записей\")\n",
    "    indexs_all.extend(indexs[method])\n",
    "indexs_all = list(set(indexs_all))\n",
    "indexs_all.sort()\n",
    "print(f'\\nИТОГО вывленных записей-аномалий {len(indexs_all)},', end=' ')\n",
    "print(f'что составляет {round(len(indexs_all)/len(df_train_test) * 100, 2)}% всех записей')"
   ]
  },
  {
   "cell_type": "code",
   "execution_count": 48,
   "id": "691a64c9",
   "metadata": {
    "ExecuteTime": {
     "end_time": "2023-10-13T23:27:29.177177Z",
     "start_time": "2023-10-13T23:27:28.479286Z"
    }
   },
   "outputs": [],
   "source": [
    "# Удалим из обучающего датасета записи с признаками аномалий\n",
    "df_train_test_norm = df_train_test.drop(index=indexs_all)"
   ]
  },
  {
   "cell_type": "code",
   "execution_count": 49,
   "id": "31543739",
   "metadata": {
    "ExecuteTime": {
     "end_time": "2023-10-13T23:27:30.111842Z",
     "start_time": "2023-10-13T23:27:30.092636Z"
    }
   },
   "outputs": [
    {
     "name": "stdout",
     "output_type": "stream",
     "text": [
      "Положительный класс: 324347 (55)%\n",
      "Отрицательный класс: 263459 (45)%\n"
     ]
    }
   ],
   "source": [
    "# Проверим сбалансированность записей датасета по целевому признаку\n",
    "balance = df_train_test_norm.gender.value_counts()\n",
    "print(f'Положительный класс: {balance[1]} ({round(balance[1]/(balance[0]+balance[1])*100)})%')\n",
    "print(f'Отрицательный класс: {balance[0]} ({round(balance[0]/(balance[0]+balance[1])*100)})%')"
   ]
  },
  {
   "cell_type": "markdown",
   "id": "922a7e1e",
   "metadata": {},
   "source": [
    "**Вывод:** Так как датасет неполностью сбалансирован используем при обучении моделей параметр `class_weight='balanced'`, который позволяет учесть разбалансировку до соотношения (57%/43%)"
   ]
  },
  {
   "cell_type": "code",
   "execution_count": 50,
   "id": "ae28ae70",
   "metadata": {
    "ExecuteTime": {
     "end_time": "2023-10-13T23:27:48.001715Z",
     "start_time": "2023-10-13T23:27:47.981049Z"
    }
   },
   "outputs": [
    {
     "data": {
      "text/html": [
       "<div>\n",
       "<style scoped>\n",
       "    .dataframe tbody tr th:only-of-type {\n",
       "        vertical-align: middle;\n",
       "    }\n",
       "\n",
       "    .dataframe tbody tr th {\n",
       "        vertical-align: top;\n",
       "    }\n",
       "\n",
       "    .dataframe thead th {\n",
       "        text-align: right;\n",
       "    }\n",
       "</style>\n",
       "<table border=\"1\" class=\"dataframe\">\n",
       "  <thead>\n",
       "    <tr style=\"text-align: right;\">\n",
       "      <th></th>\n",
       "      <th>index</th>\n",
       "      <th>id</th>\n",
       "      <th>product</th>\n",
       "      <th>colour</th>\n",
       "      <th>cost</th>\n",
       "      <th>product_sex</th>\n",
       "      <th>base_sale</th>\n",
       "      <th>dt</th>\n",
       "      <th>gender</th>\n",
       "      <th>age</th>\n",
       "      <th>education</th>\n",
       "      <th>city</th>\n",
       "      <th>country</th>\n",
       "      <th>lbt_coef</th>\n",
       "      <th>ac_coef</th>\n",
       "      <th>sm_coef</th>\n",
       "      <th>personal_coef</th>\n",
       "    </tr>\n",
       "  </thead>\n",
       "  <tbody>\n",
       "    <tr>\n",
       "      <th>0</th>\n",
       "      <td>0</td>\n",
       "      <td>0</td>\n",
       "      <td>Велосипед горный женский Stern Mira 2.0 26\"</td>\n",
       "      <td>белый/синий</td>\n",
       "      <td>13599</td>\n",
       "      <td>0.0</td>\n",
       "      <td>1</td>\n",
       "      <td>7</td>\n",
       "      <td>0.0</td>\n",
       "      <td>36</td>\n",
       "      <td>среднее</td>\n",
       "      <td>1201</td>\n",
       "      <td>32</td>\n",
       "      <td>5.078678</td>\n",
       "      <td>-0.307147</td>\n",
       "      <td>0.959027</td>\n",
       "      <td>0.5072</td>\n",
       "    </tr>\n",
       "    <tr>\n",
       "      <th>1</th>\n",
       "      <td>1</td>\n",
       "      <td>0</td>\n",
       "      <td>Стол Outventure</td>\n",
       "      <td>зеленый</td>\n",
       "      <td>1499</td>\n",
       "      <td>2.0</td>\n",
       "      <td>0</td>\n",
       "      <td>37</td>\n",
       "      <td>0.0</td>\n",
       "      <td>36</td>\n",
       "      <td>среднее</td>\n",
       "      <td>1201</td>\n",
       "      <td>32</td>\n",
       "      <td>5.078678</td>\n",
       "      <td>-0.307147</td>\n",
       "      <td>0.959027</td>\n",
       "      <td>0.5072</td>\n",
       "    </tr>\n",
       "    <tr>\n",
       "      <th>2</th>\n",
       "      <td>2</td>\n",
       "      <td>0</td>\n",
       "      <td>Набор Outventure: стол + 4 стула</td>\n",
       "      <td>бежевый</td>\n",
       "      <td>4799</td>\n",
       "      <td>2.0</td>\n",
       "      <td>0</td>\n",
       "      <td>37</td>\n",
       "      <td>0.0</td>\n",
       "      <td>36</td>\n",
       "      <td>среднее</td>\n",
       "      <td>1201</td>\n",
       "      <td>32</td>\n",
       "      <td>5.078678</td>\n",
       "      <td>-0.307147</td>\n",
       "      <td>0.959027</td>\n",
       "      <td>0.5072</td>\n",
       "    </tr>\n",
       "  </tbody>\n",
       "</table>\n",
       "</div>"
      ],
      "text/plain": [
       "   index  id                                      product       colour   cost  \\\n",
       "0      0   0  Велосипед горный женский Stern Mira 2.0 26\"  белый/синий  13599   \n",
       "1      1   0                              Стол Outventure      зеленый   1499   \n",
       "2      2   0             Набор Outventure: стол + 4 стула      бежевый   4799   \n",
       "\n",
       "   product_sex  base_sale  dt  gender  age education  city  country  lbt_coef  \\\n",
       "0          0.0          1   7     0.0   36   среднее  1201       32  5.078678   \n",
       "1          2.0          0  37     0.0   36   среднее  1201       32  5.078678   \n",
       "2          2.0          0  37     0.0   36   среднее  1201       32  5.078678   \n",
       "\n",
       "    ac_coef   sm_coef  personal_coef  \n",
       "0 -0.307147  0.959027         0.5072  \n",
       "1 -0.307147  0.959027         0.5072  \n",
       "2 -0.307147  0.959027         0.5072  "
      ]
     },
     "execution_count": 50,
     "metadata": {},
     "output_type": "execute_result"
    }
   ],
   "source": [
    "df_train_test_norm.head(3)"
   ]
  },
  {
   "cell_type": "code",
   "execution_count": 51,
   "id": "034e2ffb",
   "metadata": {
    "ExecuteTime": {
     "end_time": "2023-10-13T23:27:54.828866Z",
     "start_time": "2023-10-13T23:27:51.637016Z"
    }
   },
   "outputs": [
    {
     "data": {
      "text/html": [
       "<div>\n",
       "<style scoped>\n",
       "    .dataframe tbody tr th:only-of-type {\n",
       "        vertical-align: middle;\n",
       "    }\n",
       "\n",
       "    .dataframe tbody tr th {\n",
       "        vertical-align: top;\n",
       "    }\n",
       "\n",
       "    .dataframe thead th {\n",
       "        text-align: right;\n",
       "    }\n",
       "</style>\n",
       "<table border=\"1\" class=\"dataframe\">\n",
       "  <thead>\n",
       "    <tr style=\"text-align: right;\">\n",
       "      <th></th>\n",
       "      <th>index</th>\n",
       "      <th>id</th>\n",
       "      <th>product</th>\n",
       "      <th>colour</th>\n",
       "      <th>cost</th>\n",
       "      <th>product_sex</th>\n",
       "      <th>base_sale</th>\n",
       "      <th>dt</th>\n",
       "      <th>gender</th>\n",
       "      <th>age</th>\n",
       "      <th>education</th>\n",
       "      <th>city</th>\n",
       "      <th>country</th>\n",
       "      <th>lbt_coef</th>\n",
       "      <th>ac_coef</th>\n",
       "      <th>sm_coef</th>\n",
       "      <th>personal_coef</th>\n",
       "    </tr>\n",
       "  </thead>\n",
       "  <tbody>\n",
       "    <tr>\n",
       "      <th>0</th>\n",
       "      <td>0</td>\n",
       "      <td>0</td>\n",
       "      <td>2753</td>\n",
       "      <td>179</td>\n",
       "      <td>13599</td>\n",
       "      <td>0.0</td>\n",
       "      <td>1</td>\n",
       "      <td>7</td>\n",
       "      <td>0.0</td>\n",
       "      <td>36</td>\n",
       "      <td>1</td>\n",
       "      <td>1201</td>\n",
       "      <td>32</td>\n",
       "      <td>5.078678</td>\n",
       "      <td>-0.307147</td>\n",
       "      <td>0.959027</td>\n",
       "      <td>0.5072</td>\n",
       "    </tr>\n",
       "    <tr>\n",
       "      <th>1</th>\n",
       "      <td>1</td>\n",
       "      <td>0</td>\n",
       "      <td>16189</td>\n",
       "      <td>400</td>\n",
       "      <td>1499</td>\n",
       "      <td>2.0</td>\n",
       "      <td>0</td>\n",
       "      <td>37</td>\n",
       "      <td>0.0</td>\n",
       "      <td>36</td>\n",
       "      <td>1</td>\n",
       "      <td>1201</td>\n",
       "      <td>32</td>\n",
       "      <td>5.078678</td>\n",
       "      <td>-0.307147</td>\n",
       "      <td>0.959027</td>\n",
       "      <td>0.5072</td>\n",
       "    </tr>\n",
       "    <tr>\n",
       "      <th>2</th>\n",
       "      <td>2</td>\n",
       "      <td>0</td>\n",
       "      <td>11116</td>\n",
       "      <td>21</td>\n",
       "      <td>4799</td>\n",
       "      <td>2.0</td>\n",
       "      <td>0</td>\n",
       "      <td>37</td>\n",
       "      <td>0.0</td>\n",
       "      <td>36</td>\n",
       "      <td>1</td>\n",
       "      <td>1201</td>\n",
       "      <td>32</td>\n",
       "      <td>5.078678</td>\n",
       "      <td>-0.307147</td>\n",
       "      <td>0.959027</td>\n",
       "      <td>0.5072</td>\n",
       "    </tr>\n",
       "  </tbody>\n",
       "</table>\n",
       "</div>"
      ],
      "text/plain": [
       "   index  id  product  colour   cost  product_sex  base_sale  dt  gender  age  \\\n",
       "0      0   0     2753     179  13599          0.0          1   7     0.0   36   \n",
       "1      1   0    16189     400   1499          2.0          0  37     0.0   36   \n",
       "2      2   0    11116      21   4799          2.0          0  37     0.0   36   \n",
       "\n",
       "   education  city  country  lbt_coef   ac_coef   sm_coef  personal_coef  \n",
       "0          1  1201       32  5.078678 -0.307147  0.959027         0.5072  \n",
       "1          1  1201       32  5.078678 -0.307147  0.959027         0.5072  \n",
       "2          1  1201       32  5.078678 -0.307147  0.959027         0.5072  "
      ]
     },
     "execution_count": 51,
     "metadata": {},
     "output_type": "execute_result"
    }
   ],
   "source": [
    "# Закодируем категориальные признаки 'product', 'colour', 'education':\n",
    "le1 = LabelEncoder()\n",
    "df_train_test_norm_ = df_train_test_norm.copy()\n",
    "for col in ['product', 'colour', 'education']:\n",
    "    le1.fit(list(set(df_train_test_norm_[col].dropna().unique())))\n",
    "    df_train_test_norm_[col] = le1.transform(df_train_test_norm_[col])\n",
    "df_train_test_norm_.head(3)"
   ]
  },
  {
   "cell_type": "code",
   "execution_count": 53,
   "id": "03b2a3f2",
   "metadata": {
    "ExecuteTime": {
     "end_time": "2023-10-13T23:28:00.699997Z",
     "start_time": "2023-10-13T23:28:00.025216Z"
    }
   },
   "outputs": [
    {
     "data": {
      "text/html": [
       "<div>\n",
       "<style scoped>\n",
       "    .dataframe tbody tr th:only-of-type {\n",
       "        vertical-align: middle;\n",
       "    }\n",
       "\n",
       "    .dataframe tbody tr th {\n",
       "        vertical-align: top;\n",
       "    }\n",
       "\n",
       "    .dataframe thead th {\n",
       "        text-align: right;\n",
       "    }\n",
       "</style>\n",
       "<table border=\"1\" class=\"dataframe\">\n",
       "  <thead>\n",
       "    <tr style=\"text-align: right;\">\n",
       "      <th></th>\n",
       "      <th>index</th>\n",
       "      <th>id</th>\n",
       "      <th>product</th>\n",
       "      <th>colour</th>\n",
       "      <th>cost</th>\n",
       "      <th>product_sex</th>\n",
       "      <th>base_sale</th>\n",
       "      <th>dt</th>\n",
       "      <th>gender</th>\n",
       "      <th>age</th>\n",
       "      <th>education</th>\n",
       "      <th>city</th>\n",
       "      <th>country</th>\n",
       "      <th>lbt_coef</th>\n",
       "      <th>ac_coef</th>\n",
       "      <th>sm_coef</th>\n",
       "      <th>personal_coef</th>\n",
       "    </tr>\n",
       "  </thead>\n",
       "  <tbody>\n",
       "    <tr>\n",
       "      <th>0</th>\n",
       "      <td>0</td>\n",
       "      <td>0</td>\n",
       "      <td>-1.358996</td>\n",
       "      <td>-1.533852</td>\n",
       "      <td>1.542745</td>\n",
       "      <td>0.0</td>\n",
       "      <td>1</td>\n",
       "      <td>-1.046609</td>\n",
       "      <td>0.0</td>\n",
       "      <td>-0.27796</td>\n",
       "      <td>1</td>\n",
       "      <td>0.828864</td>\n",
       "      <td>0.0</td>\n",
       "      <td>5.078678</td>\n",
       "      <td>-0.307147</td>\n",
       "      <td>0.959027</td>\n",
       "      <td>0.803887</td>\n",
       "    </tr>\n",
       "    <tr>\n",
       "      <th>1</th>\n",
       "      <td>1</td>\n",
       "      <td>0</td>\n",
       "      <td>0.979997</td>\n",
       "      <td>-1.034691</td>\n",
       "      <td>-0.530135</td>\n",
       "      <td>2.0</td>\n",
       "      <td>0</td>\n",
       "      <td>0.705950</td>\n",
       "      <td>0.0</td>\n",
       "      <td>-0.27796</td>\n",
       "      <td>1</td>\n",
       "      <td>0.828864</td>\n",
       "      <td>0.0</td>\n",
       "      <td>5.078678</td>\n",
       "      <td>-0.307147</td>\n",
       "      <td>0.959027</td>\n",
       "      <td>0.803887</td>\n",
       "    </tr>\n",
       "    <tr>\n",
       "      <th>2</th>\n",
       "      <td>2</td>\n",
       "      <td>0</td>\n",
       "      <td>0.096869</td>\n",
       "      <td>-1.890718</td>\n",
       "      <td>0.035196</td>\n",
       "      <td>2.0</td>\n",
       "      <td>0</td>\n",
       "      <td>0.705950</td>\n",
       "      <td>0.0</td>\n",
       "      <td>-0.27796</td>\n",
       "      <td>1</td>\n",
       "      <td>0.828864</td>\n",
       "      <td>0.0</td>\n",
       "      <td>5.078678</td>\n",
       "      <td>-0.307147</td>\n",
       "      <td>0.959027</td>\n",
       "      <td>0.803887</td>\n",
       "    </tr>\n",
       "  </tbody>\n",
       "</table>\n",
       "</div>"
      ],
      "text/plain": [
       "   index  id   product    colour      cost  product_sex  base_sale        dt  \\\n",
       "0      0   0 -1.358996 -1.533852  1.542745          0.0          1 -1.046609   \n",
       "1      1   0  0.979997 -1.034691 -0.530135          2.0          0  0.705950   \n",
       "2      2   0  0.096869 -1.890718  0.035196          2.0          0  0.705950   \n",
       "\n",
       "   gender      age  education      city  country  lbt_coef   ac_coef  \\\n",
       "0     0.0 -0.27796          1  0.828864      0.0  5.078678 -0.307147   \n",
       "1     0.0 -0.27796          1  0.828864      0.0  5.078678 -0.307147   \n",
       "2     0.0 -0.27796          1  0.828864      0.0  5.078678 -0.307147   \n",
       "\n",
       "    sm_coef  personal_coef  \n",
       "0  0.959027       0.803887  \n",
       "1  0.959027       0.803887  \n",
       "2  0.959027       0.803887  "
      ]
     },
     "execution_count": 53,
     "metadata": {},
     "output_type": "execute_result"
    }
   ],
   "source": [
    "# Стандартизуем не бинарные признаки, которые будем использовать при обучении\n",
    "ss = StandardScaler()\n",
    "for col in ['product', 'colour', 'cost', 'dt', 'age', 'city', 'country', 'personal_coef']:\n",
    "    df_train_test_norm_[col] = ss.fit_transform(df_train_test_norm_[[col]])\n",
    "df_train_test_norm_.head(3)"
   ]
  },
  {
   "cell_type": "code",
   "execution_count": 54,
   "id": "1a74113a",
   "metadata": {
    "ExecuteTime": {
     "end_time": "2023-10-13T23:28:05.377781Z",
     "start_time": "2023-10-13T23:28:05.373862Z"
    }
   },
   "outputs": [],
   "source": [
    "# Признаки используемые при обучении модели\n",
    "cols = ['product', 'colour', 'cost', 'product_sex', 'base_sale', 'dt', 'age', 'education',\n",
    "        'city', 'country', 'personal_coef']"
   ]
  },
  {
   "cell_type": "code",
   "execution_count": 55,
   "id": "6d1fa53a",
   "metadata": {
    "ExecuteTime": {
     "end_time": "2023-10-13T23:28:10.022320Z",
     "start_time": "2023-10-13T23:28:09.832408Z"
    }
   },
   "outputs": [],
   "source": [
    "# Подготовим датасет для обучения\n",
    "X_train, X_test, y_train, y_test = train_test_split(df_train_test_norm_[cols],\n",
    "                                                    df_train_test_norm_['gender'],\n",
    "                                                    test_size=0.3, random_state=42)"
   ]
  },
  {
   "cell_type": "code",
   "execution_count": 56,
   "id": "85cbe882",
   "metadata": {
    "ExecuteTime": {
     "end_time": "2023-10-13T23:28:12.216755Z",
     "start_time": "2023-10-13T23:28:11.317439Z"
    }
   },
   "outputs": [
    {
     "name": "stdout",
     "output_type": "stream",
     "text": [
      "Метрика: 0.9912783114629526\n"
     ]
    }
   ],
   "source": [
    "# Обучим модель \"Линейная регресия\"\n",
    "lr = LogisticRegression(class_weight='balanced')\n",
    "lr.fit(X_train, y_train)\n",
    "y_pred = lr.predict(X_test)\n",
    "print(f'Метрика: {accuracy_score(y_test, y_pred)}')"
   ]
  },
  {
   "cell_type": "code",
   "execution_count": 57,
   "id": "0c94fe9c",
   "metadata": {
    "ExecuteTime": {
     "end_time": "2023-10-13T23:28:42.146203Z",
     "start_time": "2023-10-13T23:28:13.760494Z"
    }
   },
   "outputs": [
    {
     "name": "stdout",
     "output_type": "stream",
     "text": [
      "Метрика: 1.0\n"
     ]
    }
   ],
   "source": [
    "# Обучим модель \"Случайный лес Деревьев принятия решения\"\n",
    "rf = RandomForestClassifier(class_weight='balanced')\n",
    "rf.fit(X_train, y_train)\n",
    "y_pred = rf.predict(X_test)\n",
    "print(f'Метрика: {accuracy_score(y_pred, y_test)}')"
   ]
  },
  {
   "cell_type": "code",
   "execution_count": 59,
   "id": "88c485b7",
   "metadata": {
    "ExecuteTime": {
     "end_time": "2023-10-13T23:29:49.815178Z",
     "start_time": "2023-10-13T23:28:58.423532Z"
    }
   },
   "outputs": [
    {
     "name": "stdout",
     "output_type": "stream",
     "text": [
      "Метрика: 1.0\n"
     ]
    }
   ],
   "source": [
    "# Обучим модель \"Нейронная сеть - ПЕРЦЕПТРОН\"\n",
    "mlp = MLPClassifier()\n",
    "mlp.fit(X_train, y_train)\n",
    "y_pred = rf.predict(X_test)\n",
    "print(f'Метрика: {accuracy_score(y_pred, y_test)}')"
   ]
  },
  {
   "cell_type": "markdown",
   "id": "b4880130",
   "metadata": {},
   "source": [
    "**Вывод:** Метрики трёх алгоритмов машинного обучения показали высокое качество предсказаний, что может свидетельствовать о наличии признаков, тесно связанных с целевой переменной. При решении нашей задачи - это положительный фактор. Для восстановления пропущенных данных в признаке `gender` выбирем алгоритм \"Случайный лес\" так как данный алгоритм показал максимальное значение метрики (1) при минимальном времени обучения (28 сек.)."
   ]
  },
  {
   "cell_type": "code",
   "execution_count": 60,
   "id": "65c3d4bf",
   "metadata": {
    "ExecuteTime": {
     "end_time": "2023-10-13T23:31:01.636086Z",
     "start_time": "2023-10-13T23:30:18.616422Z"
    }
   },
   "outputs": [
    {
     "data": {
      "text/html": [
       "<style>#sk-container-id-1 {color: black;background-color: white;}#sk-container-id-1 pre{padding: 0;}#sk-container-id-1 div.sk-toggleable {background-color: white;}#sk-container-id-1 label.sk-toggleable__label {cursor: pointer;display: block;width: 100%;margin-bottom: 0;padding: 0.3em;box-sizing: border-box;text-align: center;}#sk-container-id-1 label.sk-toggleable__label-arrow:before {content: \"▸\";float: left;margin-right: 0.25em;color: #696969;}#sk-container-id-1 label.sk-toggleable__label-arrow:hover:before {color: black;}#sk-container-id-1 div.sk-estimator:hover label.sk-toggleable__label-arrow:before {color: black;}#sk-container-id-1 div.sk-toggleable__content {max-height: 0;max-width: 0;overflow: hidden;text-align: left;background-color: #f0f8ff;}#sk-container-id-1 div.sk-toggleable__content pre {margin: 0.2em;color: black;border-radius: 0.25em;background-color: #f0f8ff;}#sk-container-id-1 input.sk-toggleable__control:checked~div.sk-toggleable__content {max-height: 200px;max-width: 100%;overflow: auto;}#sk-container-id-1 input.sk-toggleable__control:checked~label.sk-toggleable__label-arrow:before {content: \"▾\";}#sk-container-id-1 div.sk-estimator input.sk-toggleable__control:checked~label.sk-toggleable__label {background-color: #d4ebff;}#sk-container-id-1 div.sk-label input.sk-toggleable__control:checked~label.sk-toggleable__label {background-color: #d4ebff;}#sk-container-id-1 input.sk-hidden--visually {border: 0;clip: rect(1px 1px 1px 1px);clip: rect(1px, 1px, 1px, 1px);height: 1px;margin: -1px;overflow: hidden;padding: 0;position: absolute;width: 1px;}#sk-container-id-1 div.sk-estimator {font-family: monospace;background-color: #f0f8ff;border: 1px dotted black;border-radius: 0.25em;box-sizing: border-box;margin-bottom: 0.5em;}#sk-container-id-1 div.sk-estimator:hover {background-color: #d4ebff;}#sk-container-id-1 div.sk-parallel-item::after {content: \"\";width: 100%;border-bottom: 1px solid gray;flex-grow: 1;}#sk-container-id-1 div.sk-label:hover label.sk-toggleable__label {background-color: #d4ebff;}#sk-container-id-1 div.sk-serial::before {content: \"\";position: absolute;border-left: 1px solid gray;box-sizing: border-box;top: 0;bottom: 0;left: 50%;z-index: 0;}#sk-container-id-1 div.sk-serial {display: flex;flex-direction: column;align-items: center;background-color: white;padding-right: 0.2em;padding-left: 0.2em;position: relative;}#sk-container-id-1 div.sk-item {position: relative;z-index: 1;}#sk-container-id-1 div.sk-parallel {display: flex;align-items: stretch;justify-content: center;background-color: white;position: relative;}#sk-container-id-1 div.sk-item::before, #sk-container-id-1 div.sk-parallel-item::before {content: \"\";position: absolute;border-left: 1px solid gray;box-sizing: border-box;top: 0;bottom: 0;left: 50%;z-index: -1;}#sk-container-id-1 div.sk-parallel-item {display: flex;flex-direction: column;z-index: 1;position: relative;background-color: white;}#sk-container-id-1 div.sk-parallel-item:first-child::after {align-self: flex-end;width: 50%;}#sk-container-id-1 div.sk-parallel-item:last-child::after {align-self: flex-start;width: 50%;}#sk-container-id-1 div.sk-parallel-item:only-child::after {width: 0;}#sk-container-id-1 div.sk-dashed-wrapped {border: 1px dashed gray;margin: 0 0.4em 0.5em 0.4em;box-sizing: border-box;padding-bottom: 0.4em;background-color: white;}#sk-container-id-1 div.sk-label label {font-family: monospace;font-weight: bold;display: inline-block;line-height: 1.2em;}#sk-container-id-1 div.sk-label-container {text-align: center;}#sk-container-id-1 div.sk-container {/* jupyter's `normalize.less` sets `[hidden] { display: none; }` but bootstrap.min.css set `[hidden] { display: none !important; }` so we also need the `!important` here to be able to override the default hidden behavior on the sphinx rendered scikit-learn.org. See: https://github.com/scikit-learn/scikit-learn/issues/21755 */display: inline-block !important;position: relative;}#sk-container-id-1 div.sk-text-repr-fallback {display: none;}</style><div id=\"sk-container-id-1\" class=\"sk-top-container\"><div class=\"sk-text-repr-fallback\"><pre>RandomForestClassifier(class_weight=&#x27;balanced&#x27;)</pre><b>In a Jupyter environment, please rerun this cell to show the HTML representation or trust the notebook. <br />On GitHub, the HTML representation is unable to render, please try loading this page with nbviewer.org.</b></div><div class=\"sk-container\" hidden><div class=\"sk-item\"><div class=\"sk-estimator sk-toggleable\"><input class=\"sk-toggleable__control sk-hidden--visually\" id=\"sk-estimator-id-1\" type=\"checkbox\" checked><label for=\"sk-estimator-id-1\" class=\"sk-toggleable__label sk-toggleable__label-arrow\">RandomForestClassifier</label><div class=\"sk-toggleable__content\"><pre>RandomForestClassifier(class_weight=&#x27;balanced&#x27;)</pre></div></div></div></div></div>"
      ],
      "text/plain": [
       "RandomForestClassifier(class_weight='balanced')"
      ]
     },
     "execution_count": 60,
     "metadata": {},
     "output_type": "execute_result"
    }
   ],
   "source": [
    "# Обучим модель \"Случайный лес Деревьев принятия решения\" на всех имеющихся данных \n",
    "rf = RandomForestClassifier(class_weight='balanced')\n",
    "rf.fit(df_train_test_norm_[cols], df_train_test_norm_['gender'])"
   ]
  },
  {
   "cell_type": "code",
   "execution_count": 61,
   "id": "c149c085",
   "metadata": {
    "ExecuteTime": {
     "end_time": "2023-10-13T23:31:09.341387Z",
     "start_time": "2023-10-13T23:31:08.264923Z"
    }
   },
   "outputs": [
    {
     "data": {
      "text/html": [
       "<div>\n",
       "<style scoped>\n",
       "    .dataframe tbody tr th:only-of-type {\n",
       "        vertical-align: middle;\n",
       "    }\n",
       "\n",
       "    .dataframe tbody tr th {\n",
       "        vertical-align: top;\n",
       "    }\n",
       "\n",
       "    .dataframe thead th {\n",
       "        text-align: right;\n",
       "    }\n",
       "</style>\n",
       "<table border=\"1\" class=\"dataframe\">\n",
       "  <thead>\n",
       "    <tr style=\"text-align: right;\">\n",
       "      <th></th>\n",
       "      <th>id</th>\n",
       "      <th>product</th>\n",
       "      <th>colour</th>\n",
       "      <th>cost</th>\n",
       "      <th>product_sex</th>\n",
       "      <th>base_sale</th>\n",
       "      <th>dt</th>\n",
       "      <th>gender</th>\n",
       "      <th>age</th>\n",
       "      <th>education</th>\n",
       "      <th>city</th>\n",
       "      <th>country</th>\n",
       "      <th>lbt_coef</th>\n",
       "      <th>ac_coef</th>\n",
       "      <th>sm_coef</th>\n",
       "      <th>personal_coef</th>\n",
       "    </tr>\n",
       "  </thead>\n",
       "  <tbody>\n",
       "    <tr>\n",
       "      <th>3</th>\n",
       "      <td>3</td>\n",
       "      <td>-1.404714</td>\n",
       "      <td>-1.711752</td>\n",
       "      <td>-0.370080</td>\n",
       "      <td>1.0</td>\n",
       "      <td>0</td>\n",
       "      <td>-0.693454</td>\n",
       "      <td>NaN</td>\n",
       "      <td>-0.601036</td>\n",
       "      <td>1</td>\n",
       "      <td>0.018259</td>\n",
       "      <td>0.003842</td>\n",
       "      <td>7.764766</td>\n",
       "      <td>-0.030225</td>\n",
       "      <td>0.79472</td>\n",
       "      <td>-0.474307</td>\n",
       "    </tr>\n",
       "    <tr>\n",
       "      <th>4</th>\n",
       "      <td>3</td>\n",
       "      <td>0.091138</td>\n",
       "      <td>-0.553376</td>\n",
       "      <td>0.177158</td>\n",
       "      <td>2.0</td>\n",
       "      <td>0</td>\n",
       "      <td>0.116252</td>\n",
       "      <td>NaN</td>\n",
       "      <td>-0.601036</td>\n",
       "      <td>1</td>\n",
       "      <td>0.018259</td>\n",
       "      <td>0.003842</td>\n",
       "      <td>7.764766</td>\n",
       "      <td>-0.030225</td>\n",
       "      <td>0.79472</td>\n",
       "      <td>-0.474307</td>\n",
       "    </tr>\n",
       "    <tr>\n",
       "      <th>5</th>\n",
       "      <td>3</td>\n",
       "      <td>-0.859274</td>\n",
       "      <td>-1.711752</td>\n",
       "      <td>-0.252814</td>\n",
       "      <td>1.0</td>\n",
       "      <td>1</td>\n",
       "      <td>0.521105</td>\n",
       "      <td>NaN</td>\n",
       "      <td>-0.601036</td>\n",
       "      <td>1</td>\n",
       "      <td>0.018259</td>\n",
       "      <td>0.003842</td>\n",
       "      <td>7.764766</td>\n",
       "      <td>-0.030225</td>\n",
       "      <td>0.79472</td>\n",
       "      <td>-0.474307</td>\n",
       "    </tr>\n",
       "  </tbody>\n",
       "</table>\n",
       "</div>"
      ],
      "text/plain": [
       "   id   product    colour      cost  product_sex  base_sale        dt  gender  \\\n",
       "3   3 -1.404714 -1.711752 -0.370080          1.0          0 -0.693454     NaN   \n",
       "4   3  0.091138 -0.553376  0.177158          2.0          0  0.116252     NaN   \n",
       "5   3 -0.859274 -1.711752 -0.252814          1.0          1  0.521105     NaN   \n",
       "\n",
       "        age  education      city   country  lbt_coef   ac_coef  sm_coef  \\\n",
       "3 -0.601036          1  0.018259  0.003842  7.764766 -0.030225  0.79472   \n",
       "4 -0.601036          1  0.018259  0.003842  7.764766 -0.030225  0.79472   \n",
       "5 -0.601036          1  0.018259  0.003842  7.764766 -0.030225  0.79472   \n",
       "\n",
       "   personal_coef  \n",
       "3      -0.474307  \n",
       "4      -0.474307  \n",
       "5      -0.474307  "
      ]
     },
     "execution_count": 61,
     "metadata": {},
     "output_type": "execute_result"
    }
   ],
   "source": [
    "# Выберем, закодируем и стандартизуем признаки записей,\n",
    "# в которых необходимо восстановить знпачени признака 'gender'\n",
    "df_pred = df[df.gender.isna()]\n",
    "gender_index = df_pred.index\n",
    "\n",
    "# Закодируем категориальные признаки 'product', 'colour', 'education':\n",
    "le2 = LabelEncoder()\n",
    "df_pred_ = df_pred.copy()\n",
    "for col in ['product', 'colour', 'education']:\n",
    "    le1.fit(list(set(df_pred_[col].dropna().unique())))\n",
    "    df_pred_[col] = le1.transform(df_pred_[col])\n",
    "\n",
    "# Стандартизуем не бинарные признаки, которые будем использовать при обучении\n",
    "ss = StandardScaler()\n",
    "for col in ['product', 'colour', 'cost', 'dt', 'age', 'city', 'country', 'personal_coef']:\n",
    "    df_pred_[col] = ss.fit_transform(df_pred_[[col]])\n",
    "df_pred_.head(3)"
   ]
  },
  {
   "cell_type": "code",
   "execution_count": 62,
   "id": "782b649c",
   "metadata": {
    "ExecuteTime": {
     "end_time": "2023-10-13T23:31:14.123573Z",
     "start_time": "2023-10-13T23:31:13.313233Z"
    }
   },
   "outputs": [],
   "source": [
    "# Восстановим признак 'gender' с помощью обученной ранее модели, используя признаки с непустыми данными\n",
    "gender_pred = rf.predict(df_pred_[cols])\n",
    "df_gender = pd.DataFrame({'gender': gender_pred})\n",
    "df_gender.index = gender_index"
   ]
  },
  {
   "cell_type": "code",
   "execution_count": 63,
   "id": "1b6177ae",
   "metadata": {
    "ExecuteTime": {
     "end_time": "2023-10-13T23:31:39.480049Z",
     "start_time": "2023-10-13T23:31:22.293743Z"
    }
   },
   "outputs": [
    {
     "data": {
      "text/html": [
       "<div>\n",
       "<style scoped>\n",
       "    .dataframe tbody tr th:only-of-type {\n",
       "        vertical-align: middle;\n",
       "    }\n",
       "\n",
       "    .dataframe tbody tr th {\n",
       "        vertical-align: top;\n",
       "    }\n",
       "\n",
       "    .dataframe thead th {\n",
       "        text-align: right;\n",
       "    }\n",
       "</style>\n",
       "<table border=\"1\" class=\"dataframe\">\n",
       "  <thead>\n",
       "    <tr style=\"text-align: right;\">\n",
       "      <th></th>\n",
       "      <th>id</th>\n",
       "      <th>product</th>\n",
       "      <th>colour</th>\n",
       "      <th>cost</th>\n",
       "      <th>product_sex</th>\n",
       "      <th>base_sale</th>\n",
       "      <th>dt</th>\n",
       "      <th>gender</th>\n",
       "      <th>age</th>\n",
       "      <th>education</th>\n",
       "      <th>city</th>\n",
       "      <th>country</th>\n",
       "      <th>lbt_coef</th>\n",
       "      <th>ac_coef</th>\n",
       "      <th>sm_coef</th>\n",
       "      <th>personal_coef</th>\n",
       "    </tr>\n",
       "  </thead>\n",
       "  <tbody>\n",
       "    <tr>\n",
       "      <th>0</th>\n",
       "      <td>0</td>\n",
       "      <td>Велосипед горный женский Stern Mira 2.0 26\"</td>\n",
       "      <td>белый/синий</td>\n",
       "      <td>13599</td>\n",
       "      <td>0.0</td>\n",
       "      <td>1</td>\n",
       "      <td>7</td>\n",
       "      <td>0.0</td>\n",
       "      <td>36</td>\n",
       "      <td>среднее</td>\n",
       "      <td>1201</td>\n",
       "      <td>32</td>\n",
       "      <td>5.078678</td>\n",
       "      <td>-0.307147</td>\n",
       "      <td>0.959027</td>\n",
       "      <td>0.5072</td>\n",
       "    </tr>\n",
       "    <tr>\n",
       "      <th>1</th>\n",
       "      <td>0</td>\n",
       "      <td>Стол Outventure</td>\n",
       "      <td>зеленый</td>\n",
       "      <td>1499</td>\n",
       "      <td>2.0</td>\n",
       "      <td>0</td>\n",
       "      <td>37</td>\n",
       "      <td>0.0</td>\n",
       "      <td>36</td>\n",
       "      <td>среднее</td>\n",
       "      <td>1201</td>\n",
       "      <td>32</td>\n",
       "      <td>5.078678</td>\n",
       "      <td>-0.307147</td>\n",
       "      <td>0.959027</td>\n",
       "      <td>0.5072</td>\n",
       "    </tr>\n",
       "    <tr>\n",
       "      <th>2</th>\n",
       "      <td>0</td>\n",
       "      <td>Набор Outventure: стол + 4 стула</td>\n",
       "      <td>бежевый</td>\n",
       "      <td>4799</td>\n",
       "      <td>2.0</td>\n",
       "      <td>0</td>\n",
       "      <td>37</td>\n",
       "      <td>0.0</td>\n",
       "      <td>36</td>\n",
       "      <td>среднее</td>\n",
       "      <td>1201</td>\n",
       "      <td>32</td>\n",
       "      <td>5.078678</td>\n",
       "      <td>-0.307147</td>\n",
       "      <td>0.959027</td>\n",
       "      <td>0.5072</td>\n",
       "    </tr>\n",
       "    <tr>\n",
       "      <th>3</th>\n",
       "      <td>3</td>\n",
       "      <td>Бутсы мужские GSD Astro</td>\n",
       "      <td>белый</td>\n",
       "      <td>1599</td>\n",
       "      <td>1.0</td>\n",
       "      <td>0</td>\n",
       "      <td>13</td>\n",
       "      <td>1.0</td>\n",
       "      <td>31</td>\n",
       "      <td>среднее</td>\n",
       "      <td>1134</td>\n",
       "      <td>32</td>\n",
       "      <td>7.764766</td>\n",
       "      <td>-0.030225</td>\n",
       "      <td>0.794720</td>\n",
       "      <td>0.4304</td>\n",
       "    </tr>\n",
       "    <tr>\n",
       "      <th>4</th>\n",
       "      <td>3</td>\n",
       "      <td>Мяч футбольный PUMA TEAMFINAL 21.2 FIFA QUALIT...</td>\n",
       "      <td>многоцветный</td>\n",
       "      <td>7199</td>\n",
       "      <td>2.0</td>\n",
       "      <td>0</td>\n",
       "      <td>27</td>\n",
       "      <td>1.0</td>\n",
       "      <td>31</td>\n",
       "      <td>среднее</td>\n",
       "      <td>1134</td>\n",
       "      <td>32</td>\n",
       "      <td>7.764766</td>\n",
       "      <td>-0.030225</td>\n",
       "      <td>0.794720</td>\n",
       "      <td>0.4304</td>\n",
       "    </tr>\n",
       "    <tr>\n",
       "      <th>5</th>\n",
       "      <td>3</td>\n",
       "      <td>Кеды мужские FILA A-Low</td>\n",
       "      <td>белый</td>\n",
       "      <td>2799</td>\n",
       "      <td>1.0</td>\n",
       "      <td>1</td>\n",
       "      <td>34</td>\n",
       "      <td>1.0</td>\n",
       "      <td>31</td>\n",
       "      <td>среднее</td>\n",
       "      <td>1134</td>\n",
       "      <td>32</td>\n",
       "      <td>7.764766</td>\n",
       "      <td>-0.030225</td>\n",
       "      <td>0.794720</td>\n",
       "      <td>0.4304</td>\n",
       "    </tr>\n",
       "  </tbody>\n",
       "</table>\n",
       "</div>"
      ],
      "text/plain": [
       "   id                                            product        colour   cost  \\\n",
       "0   0        Велосипед горный женский Stern Mira 2.0 26\"   белый/синий  13599   \n",
       "1   0                                    Стол Outventure       зеленый   1499   \n",
       "2   0                   Набор Outventure: стол + 4 стула       бежевый   4799   \n",
       "3   3                            Бутсы мужские GSD Astro         белый   1599   \n",
       "4   3  Мяч футбольный PUMA TEAMFINAL 21.2 FIFA QUALIT...  многоцветный   7199   \n",
       "5   3                            Кеды мужские FILA A-Low         белый   2799   \n",
       "\n",
       "   product_sex  base_sale  dt  gender  age education  city  country  lbt_coef  \\\n",
       "0          0.0          1   7     0.0   36   среднее  1201       32  5.078678   \n",
       "1          2.0          0  37     0.0   36   среднее  1201       32  5.078678   \n",
       "2          2.0          0  37     0.0   36   среднее  1201       32  5.078678   \n",
       "3          1.0          0  13     1.0   31   среднее  1134       32  7.764766   \n",
       "4          2.0          0  27     1.0   31   среднее  1134       32  7.764766   \n",
       "5          1.0          1  34     1.0   31   среднее  1134       32  7.764766   \n",
       "\n",
       "    ac_coef   sm_coef  personal_coef  \n",
       "0 -0.307147  0.959027         0.5072  \n",
       "1 -0.307147  0.959027         0.5072  \n",
       "2 -0.307147  0.959027         0.5072  \n",
       "3 -0.030225  0.794720         0.4304  \n",
       "4 -0.030225  0.794720         0.4304  \n",
       "5 -0.030225  0.794720         0.4304  "
      ]
     },
     "execution_count": 63,
     "metadata": {},
     "output_type": "execute_result"
    }
   ],
   "source": [
    "# Добавим восстановленные значения в общий датафрейм\n",
    "for ind in df_gender.index:\n",
    "    df.loc[ind, 'gender'] = df_gender.loc[ind, 'gender']\n",
    "df.head(6)"
   ]
  },
  {
   "cell_type": "code",
   "execution_count": 213,
   "id": "70fd0e29",
   "metadata": {
    "ExecuteTime": {
     "end_time": "2023-10-13T23:12:51.030384Z",
     "start_time": "2023-10-13T23:12:47.057949Z"
    }
   },
   "outputs": [
    {
     "name": "stdout",
     "output_type": "stream",
     "text": [
      "База данных создана и подключена\n",
      "Таблица заполнена\n",
      "Соединение с базой данных закрыто\n"
     ]
    }
   ],
   "source": [
    "# Загрузим итоговый датаcет в хранилище (база данных sqlite3)\n",
    "connection = db.connect('data/purchases.db')\n",
    "print(\"База данных создана и подключена\")\n",
    "df.to_sql(\"full_table\", connection, if_exists=\"replace\", index=False)\n",
    "print(\"Таблица заполнена\")\n",
    "connection.close()\n",
    "print(\"Соединение с базой данных закрыто\")"
   ]
  },
  {
   "cell_type": "code",
   "execution_count": 66,
   "id": "9b804e81",
   "metadata": {
    "ExecuteTime": {
     "end_time": "2023-10-13T23:32:40.174901Z",
     "start_time": "2023-10-13T23:32:39.726393Z"
    }
   },
   "outputs": [
    {
     "name": "stdout",
     "output_type": "stream",
     "text": [
      "<class 'pandas.core.frame.DataFrame'>\n",
      "RangeIndex: 786260 entries, 0 to 786259\n",
      "Data columns (total 16 columns):\n",
      " #   Column         Non-Null Count   Dtype  \n",
      "---  ------         --------------   -----  \n",
      " 0   id             786260 non-null  int64  \n",
      " 1   product        786260 non-null  object \n",
      " 2   colour         786260 non-null  object \n",
      " 3   cost           786260 non-null  int64  \n",
      " 4   product_sex    786260 non-null  float64\n",
      " 5   base_sale      786260 non-null  int64  \n",
      " 6   dt             786260 non-null  int64  \n",
      " 7   gender         786260 non-null  float64\n",
      " 8   age            786260 non-null  int64  \n",
      " 9   education      786260 non-null  object \n",
      " 10  city           786260 non-null  int64  \n",
      " 11  country        786260 non-null  int64  \n",
      " 12  lbt_coef       786260 non-null  float64\n",
      " 13  ac_coef        786260 non-null  float64\n",
      " 14  sm_coef        786260 non-null  float64\n",
      " 15  personal_coef  786260 non-null  float64\n",
      "dtypes: float64(6), int64(7), object(3)\n",
      "memory usage: 96.0+ MB\n"
     ]
    }
   ],
   "source": [
    "# Проверим полноту данных в итоговом датасете\n",
    "df.info()"
   ]
  },
  {
   "cell_type": "code",
   "execution_count": 68,
   "id": "76ba2223",
   "metadata": {
    "ExecuteTime": {
     "end_time": "2023-10-13T23:33:22.884304Z",
     "start_time": "2023-10-13T23:33:22.879641Z"
    }
   },
   "outputs": [],
   "source": [
    "# Оптимизируем используемую память\n",
    "# Определяем список загруженных датафреймов\n",
    "dfs = []\n",
    "local_variable_scope =locals().keys()\n",
    "for elem in local_variable_scope:\n",
    "    if 'df' in elem:\n",
    "        dfs.append(elem)\n",
    "# Удаляем не используемые датафреймы\n",
    "for elem in dfs:\n",
    "    del locals()[elem]"
   ]
  },
  {
   "cell_type": "code",
   "execution_count": null,
   "id": "e0b2d42b",
   "metadata": {},
   "outputs": [],
   "source": []
  }
 ],
 "metadata": {
  "kernelspec": {
   "display_name": "Python 3 (ipykernel)",
   "language": "python",
   "name": "python3"
  },
  "language_info": {
   "codemirror_mode": {
    "name": "ipython",
    "version": 3
   },
   "file_extension": ".py",
   "mimetype": "text/x-python",
   "name": "python",
   "nbconvert_exporter": "python",
   "pygments_lexer": "ipython3",
   "version": "3.9.13"
  },
  "toc": {
   "base_numbering": 1,
   "nav_menu": {},
   "number_sections": false,
   "sideBar": true,
   "skip_h1_title": false,
   "title_cell": "СОДЕРЖАНИЕ",
   "title_sidebar": "Contents",
   "toc_cell": true,
   "toc_position": {},
   "toc_section_display": true,
   "toc_window_display": false
  },
  "varInspector": {
   "cols": {
    "lenName": 16,
    "lenType": 16,
    "lenVar": 40
   },
   "kernels_config": {
    "python": {
     "delete_cmd_postfix": "",
     "delete_cmd_prefix": "del ",
     "library": "var_list.py",
     "varRefreshCmd": "print(var_dic_list())"
    },
    "r": {
     "delete_cmd_postfix": ") ",
     "delete_cmd_prefix": "rm(",
     "library": "var_list.r",
     "varRefreshCmd": "cat(var_dic_list()) "
    }
   },
   "types_to_exclude": [
    "module",
    "function",
    "builtin_function_or_method",
    "instance",
    "_Feature"
   ],
   "window_display": false
  }
 },
 "nbformat": 4,
 "nbformat_minor": 5
}
