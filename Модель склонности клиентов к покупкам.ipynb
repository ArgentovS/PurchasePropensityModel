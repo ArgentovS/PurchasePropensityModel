{
 "cells": [
  {
   "cell_type": "markdown",
   "id": "5dab25c7",
   "metadata": {
    "cell_style": "split"
   },
   "source": [
    "![](pictures/shopping_propensity.png)"
   ]
  },
  {
   "cell_type": "markdown",
   "id": "e1822e8b",
   "metadata": {
    "ExecuteTime": {
     "end_time": "2023-09-29T13:29:59.791972Z",
     "start_time": "2023-09-29T13:29:59.779916Z"
    },
    "cell_style": "split"
   },
   "source": [
    "<b>  </b>  \n",
    "<b>  </b>  \n",
    "<b>  </b>  \n",
    "<b>  </b>  \n",
    "Ноутбук от 30.09.23 \n",
    "<b>  </b>  \n",
    "<b>  </b>  \n",
    "<b>  </b>  \n",
    "<b>  </b>  \n",
    "<b>  </b>  \n",
    "<b>  </b>  \n",
    "<b>  </b>   \n",
    "**_\"Data Science Analyst\"_  \n",
    "_МОДЕЛЬ СКЛОННОСТИ КЛИЕНТОВ К ПОКУПКАМ В ФЕДЕРАЛЬНОЙ СЕТИ ПРОДАЖ СПОРТИВНЫХ ТОВАРОВ_**  \n",
    "\n",
    "Выполнено по технологии CRISP-DM:  \n",
    "Аргентов Сергей, г.Липецк  \n",
    "https://argentov.pro\n",
    "<b>  </b>  \n",
    "<b>  </b>  "
   ]
  },
  {
   "cell_type": "markdown",
   "id": "e6fccfe3",
   "metadata": {
    "toc": true
   },
   "source": [
    "<h1>СОДЕРЖАНИЕ<span class=\"tocSkip\"></span></h1>\n",
    "<div class=\"toc\"><ul class=\"toc-item\"><li><span><a href=\"#1.-Предобработка-данных\" data-toc-modified-id=\"1.-Предобработка-данных-1\">1. Предобработка данных</a></span></li><li><span><a href=\"#2.-Бинарная-классификация\" data-toc-modified-id=\"2.-Бинарная-классификация-2\">2. Бинарная классификация</a></span></li><li><span><a href=\"#3.-Анализ-проведённого-АВ-тестирования\" data-toc-modified-id=\"3.-Анализ-проведённого-АВ-тестирования-3\">3. Анализ проведённого АВ-тестирования</a></span></li><li><span><a href=\"#4.-Кластерезация\" data-toc-modified-id=\"4.-Кластерезация-4\">4. Кластерезация</a></span></li><li><span><a href=\"#5.-Построение-модели-склорнности-клиентов-к-покупкам\" data-toc-modified-id=\"5.-Построение-модели-склорнности-клиентов-к-покупкам-5\">5. Построение модели склорнности клиентов к покупкам</a></span></li></ul></div>"
   ]
  },
  {
   "cell_type": "markdown",
   "id": "90eca855",
   "metadata": {},
   "source": [
    "# 1. Предобработка данных"
   ]
  },
  {
   "cell_type": "code",
   "execution_count": null,
   "id": "1ec7367a",
   "metadata": {},
   "outputs": [],
   "source": []
  },
  {
   "cell_type": "code",
   "execution_count": null,
   "id": "d8fc02a1",
   "metadata": {},
   "outputs": [],
   "source": []
  },
  {
   "cell_type": "code",
   "execution_count": null,
   "id": "fb3dbb65",
   "metadata": {},
   "outputs": [],
   "source": []
  },
  {
   "cell_type": "code",
   "execution_count": null,
   "id": "91c79c5d",
   "metadata": {},
   "outputs": [],
   "source": []
  },
  {
   "cell_type": "code",
   "execution_count": null,
   "id": "0da1cf04",
   "metadata": {},
   "outputs": [],
   "source": []
  },
  {
   "cell_type": "markdown",
   "id": "5e2578dd",
   "metadata": {},
   "source": [
    "# 2. Бинарная классификация"
   ]
  },
  {
   "cell_type": "markdown",
   "id": "634ecfad",
   "metadata": {},
   "source": [
    "# 3. Анализ проведённого АВ-тестирования"
   ]
  },
  {
   "cell_type": "markdown",
   "id": "349097aa",
   "metadata": {},
   "source": [
    "# 4. Кластерезация"
   ]
  },
  {
   "cell_type": "markdown",
   "id": "e01ad3c5",
   "metadata": {},
   "source": [
    "# 5. Построение модели склорнности клиентов к покупкам"
   ]
  },
  {
   "cell_type": "code",
   "execution_count": null,
   "id": "7d52de28",
   "metadata": {},
   "outputs": [],
   "source": []
  }
 ],
 "metadata": {
  "kernelspec": {
   "display_name": "Python 3 (ipykernel)",
   "language": "python",
   "name": "python3"
  },
  "language_info": {
   "codemirror_mode": {
    "name": "ipython",
    "version": 3
   },
   "file_extension": ".py",
   "mimetype": "text/x-python",
   "name": "python",
   "nbconvert_exporter": "python",
   "pygments_lexer": "ipython3",
   "version": "3.9.13"
  },
  "toc": {
   "base_numbering": 1,
   "nav_menu": {},
   "number_sections": false,
   "sideBar": true,
   "skip_h1_title": false,
   "title_cell": "СОДЕРЖАНИЕ",
   "title_sidebar": "Contents",
   "toc_cell": true,
   "toc_position": {},
   "toc_section_display": true,
   "toc_window_display": false
  },
  "varInspector": {
   "cols": {
    "lenName": 16,
    "lenType": 16,
    "lenVar": 40
   },
   "kernels_config": {
    "python": {
     "delete_cmd_postfix": "",
     "delete_cmd_prefix": "del ",
     "library": "var_list.py",
     "varRefreshCmd": "print(var_dic_list())"
    },
    "r": {
     "delete_cmd_postfix": ") ",
     "delete_cmd_prefix": "rm(",
     "library": "var_list.r",
     "varRefreshCmd": "cat(var_dic_list()) "
    }
   },
   "types_to_exclude": [
    "module",
    "function",
    "builtin_function_or_method",
    "instance",
    "_Feature"
   ],
   "window_display": false
  }
 },
 "nbformat": 4,
 "nbformat_minor": 5
}
