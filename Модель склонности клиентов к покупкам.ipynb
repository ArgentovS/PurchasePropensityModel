{
 "cells": [
  {
   "cell_type": "markdown",
   "id": "c1546c9a",
   "metadata": {
    "cell_style": "split"
   },
   "source": [
    "![](pictures/shopping_propensity.png)"
   ]
  },
  {
   "cell_type": "markdown",
   "id": "afe4d9ff",
   "metadata": {
    "ExecuteTime": {
     "end_time": "2023-09-29T13:29:59.791972Z",
     "start_time": "2023-09-29T13:29:59.779916Z"
    },
    "cell_style": "split"
   },
   "source": [
    "<b>  </b>  \n",
    "<b>  </b>  \n",
    "<b>  </b>  \n",
    "<b>  </b>  \n",
    "Ноутбук от 30.09.23 \n",
    "<b>  </b>  \n",
    "<b>  </b>  \n",
    "<b>  </b>  \n",
    "<b>  </b>  \n",
    "<b>  </b>  \n",
    "<b>  </b>  \n",
    "<b>  </b>   \n",
    "**_\"Data Science Analyst\"_  \n",
    "_МОДЕЛЬ СКЛОННОСТИ КЛИЕНТОВ К ПОКУПКАМ В ФЕДЕРАЛЬНОЙ СЕТИ ПРОДАЖ СПОРТИВНЫХ ТОВАРОВ_**  \n",
    "\n",
    "Выполнено по технологии CRISP-DM:  \n",
    "Аргентов Сергей, г.Липецк  \n",
    "https://argentov.pro\n",
    "<b>  </b>  \n",
    "<b>  </b>  "
   ]
  },
  {
   "cell_type": "markdown",
   "id": "e513cbcc",
   "metadata": {
    "toc": true
   },
   "source": [
    "<h1>СОДЕРЖАНИЕ<span class=\"tocSkip\"></span></h1>\n",
    "<div class=\"toc\"><ul class=\"toc-item\"><li><span><a href=\"#1.-Предобработка-данных\" data-toc-modified-id=\"1.-Предобработка-данных-1\">1. Предобработка данных</a></span><ul class=\"toc-item\"><li><span><a href=\"#1.1.-Анализ-источников-данных\" data-toc-modified-id=\"1.1.-Анализ-источников-данных-1.1\">1.1. Анализ источников данных</a></span></li></ul></li><li><span><a href=\"#2.-Бинарная-классификация\" data-toc-modified-id=\"2.-Бинарная-классификация-2\">2. Бинарная классификация</a></span></li><li><span><a href=\"#3.-Анализ-проведённого-АВ-тестирования\" data-toc-modified-id=\"3.-Анализ-проведённого-АВ-тестирования-3\">3. Анализ проведённого АВ-тестирования</a></span></li><li><span><a href=\"#4.-Кластерезация\" data-toc-modified-id=\"4.-Кластерезация-4\">4. Кластерезация</a></span></li><li><span><a href=\"#5.-Построение-модели-склорнности-клиентов-к-покупкам\" data-toc-modified-id=\"5.-Построение-модели-склорнности-клиентов-к-покупкам-5\">5. Построение модели склорнности клиентов к покупкам</a></span></li></ul></div>"
   ]
  },
  {
   "cell_type": "code",
   "execution_count": 2,
   "id": "f4df723f",
   "metadata": {
    "ExecuteTime": {
     "end_time": "2023-09-29T14:02:15.366416Z",
     "start_time": "2023-09-29T14:02:14.590412Z"
    }
   },
   "outputs": [],
   "source": [
    "# Загрузка биьлиотек\n",
    "import pandas as pd\n",
    "import sqlite3 as db"
   ]
  },
  {
   "cell_type": "markdown",
   "id": "86b4bb1c",
   "metadata": {},
   "source": [
    "# 1. Предобработка данных"
   ]
  },
  {
   "cell_type": "markdown",
   "id": "9aa49aaa",
   "metadata": {},
   "source": [
    "## 1.1. Анализ источников данных"
   ]
  },
  {
   "cell_type": "code",
   "execution_count": 13,
   "id": "a2c69150",
   "metadata": {
    "ExecuteTime": {
     "end_time": "2023-09-29T14:11:04.144220Z",
     "start_time": "2023-09-29T14:11:04.138729Z"
    }
   },
   "outputs": [
    {
     "name": "stdout",
     "output_type": "stream",
     "text": [
      "purchases\n",
      "personal_data_coeffs\n",
      "personal_data\n"
     ]
    }
   ],
   "source": [
    "# Предоставленная база данных\n",
    "with db.connect('data/result_data/shop_database.db') as con:\n",
    "    rows1 = con.cursor().execute(\"SELECT name FROM sqlite_master WHERE type='table';\").fetchall()\n",
    "    rows2 = \n",
    "for row in rows:\n",
    "    print(row[0])"
   ]
  },
  {
   "cell_type": "code",
   "execution_count": null,
   "id": "50f96a0c",
   "metadata": {},
   "outputs": [],
   "source": []
  },
  {
   "cell_type": "code",
   "execution_count": null,
   "id": "acfc5704",
   "metadata": {},
   "outputs": [],
   "source": []
  },
  {
   "cell_type": "code",
   "execution_count": null,
   "id": "283fb3b4",
   "metadata": {},
   "outputs": [],
   "source": []
  },
  {
   "cell_type": "markdown",
   "id": "8da62d7b",
   "metadata": {},
   "source": [
    "# 2. Бинарная классификация"
   ]
  },
  {
   "cell_type": "markdown",
   "id": "b5511733",
   "metadata": {},
   "source": [
    "# 3. Анализ проведённого АВ-тестирования"
   ]
  },
  {
   "cell_type": "markdown",
   "id": "ee7c8ca2",
   "metadata": {},
   "source": [
    "# 4. Кластерезация"
   ]
  },
  {
   "cell_type": "markdown",
   "id": "4dbd286f",
   "metadata": {},
   "source": [
    "# 5. Построение модели склорнности клиентов к покупкам"
   ]
  },
  {
   "cell_type": "code",
   "execution_count": null,
   "id": "123e59b9",
   "metadata": {},
   "outputs": [],
   "source": []
  }
 ],
 "metadata": {
  "kernelspec": {
   "display_name": "Python 3 (ipykernel)",
   "language": "python",
   "name": "python3"
  },
  "language_info": {
   "codemirror_mode": {
    "name": "ipython",
    "version": 3
   },
   "file_extension": ".py",
   "mimetype": "text/x-python",
   "name": "python",
   "nbconvert_exporter": "python",
   "pygments_lexer": "ipython3",
   "version": "3.9.13"
  },
  "toc": {
   "base_numbering": 1,
   "nav_menu": {},
   "number_sections": false,
   "sideBar": true,
   "skip_h1_title": false,
   "title_cell": "СОДЕРЖАНИЕ",
   "title_sidebar": "Contents",
   "toc_cell": true,
   "toc_position": {},
   "toc_section_display": true,
   "toc_window_display": false
  },
  "varInspector": {
   "cols": {
    "lenName": 16,
    "lenType": 16,
    "lenVar": 40
   },
   "kernels_config": {
    "python": {
     "delete_cmd_postfix": "",
     "delete_cmd_prefix": "del ",
     "library": "var_list.py",
     "varRefreshCmd": "print(var_dic_list())"
    },
    "r": {
     "delete_cmd_postfix": ") ",
     "delete_cmd_prefix": "rm(",
     "library": "var_list.r",
     "varRefreshCmd": "cat(var_dic_list()) "
    }
   },
   "types_to_exclude": [
    "module",
    "function",
    "builtin_function_or_method",
    "instance",
    "_Feature"
   ],
   "window_display": false
  }
 },
 "nbformat": 4,
 "nbformat_minor": 5
}
