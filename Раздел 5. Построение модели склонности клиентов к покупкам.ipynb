{
 "cells": [
  {
   "cell_type": "code",
   "execution_count": 1,
   "id": "c268c0c1",
   "metadata": {
    "ExecuteTime": {
     "end_time": "2023-11-22T17:17:20.113419Z",
     "start_time": "2023-11-22T17:17:15.474000Z"
    }
   },
   "outputs": [],
   "source": [
    "# Загрузка библиотек\n",
    "import pandas as pd\n",
    "import sqlite3 as db\n",
    "\n",
    "import datetime as dt\n",
    "import multiprocessing\n",
    "from multiprocessing import Pool, Manager\n",
    "\n",
    "from sklearn.preprocessing import LabelEncoder\n",
    "from sklearn.neighbors import LocalOutlierFactor\n",
    "from sklearn.ensemble import IsolationForest\n",
    "import pprint\n",
    "from sklearn.preprocessing import OneHotEncoder, StandardScaler, OrdinalEncoder\n",
    "\n",
    "from sklearn.model_selection import train_test_split\n",
    "\n",
    "from sklearn.ensemble import RandomForestClassifier\n",
    "from sklearn.linear_model import LogisticRegression\n",
    "from sklearn.neural_network import MLPClassifier\n",
    "\n",
    "from sklearn.metrics import accuracy_score\n",
    "from package.select_run_test import SampleComparisonTest\n",
    "\n",
    "# Загрузим функции поиска во всех записях о товаре наиболее часто встречающихся значений признака \"цвет\"\n",
    "# для наименований товаров, по которым есть записи с незаполненым признаком \"цвет\"\n",
    "# (функции написаны в отдельном модуле для обеспечения требований блиотеки  multiprocessing)\n",
    "from package.preparation import add_freq_product_color, freq_product_color\n",
    "\n",
    "import matplotlib.pyplot as plt\n",
    "import seaborn as sns\n",
    "\n",
    "from matplotlib.ticker import FormatStrFormatter\n",
    "\n",
    "from sklearn.preprocessing import StandardScaler\n",
    "from sklearn.manifold import TSNE\n",
    "from sklearn.cluster import AgglomerativeClustering, KMeans\n",
    "from sklearn.metrics import silhouette_score"
   ]
  },
  {
   "cell_type": "markdown",
   "id": "1dc49d51",
   "metadata": {
    "toc": true
   },
   "source": [
    "<h1>СОДЕРЖАНИЕ РАЗДЕЛА 5<span class=\"tocSkip\"></span></h1>\n",
    "<div class=\"toc\"><ul class=\"toc-item\"><li><span><a href=\"#5.-Построение-модели-склонности-клиентов-к-покупкам\" data-toc-modified-id=\"5.-Построение-модели-склонности-клиентов-к-покупкам-1\">5. Построение модели склонности клиентов к покупкам</a></span><ul class=\"toc-item\"><li><span><a href=\"#5.1.-Загрузка-датасета,-полученного-в-разделе-3\" data-toc-modified-id=\"5.1.-Загрузка-датасета,-полученного-в-разделе-3-1.1\">5.1. Загрузка датасета, полученного в разделе 3</a></span></li><li><span><a href=\"#5.2.-Формирование-датасета-клиентов,-склонных-к-покупке\" data-toc-modified-id=\"5.2.-Формирование-датасета-клиентов,-склонных-к-покупке-1.2\">5.2. Формирование датасета клиентов, склонных к покупке</a></span></li><li><span><a href=\"#5.3.-Проверка-склонность-к-покупкам-покупателей-страны-32-города-1188\" data-toc-modified-id=\"5.3.-Проверка-склонность-к-покупкам-покупателей-страны-32-города-1188-1.3\">5.3. Проверка склонность к покупкам покупателей страны 32 города 1188</a></span></li></ul></li></ul></div>"
   ]
  },
  {
   "cell_type": "markdown",
   "id": "4ec1f4b5",
   "metadata": {},
   "source": [
    "# 5. Построение модели склонности клиентов к покупкам"
   ]
  },
  {
   "cell_type": "markdown",
   "id": "53316868",
   "metadata": {},
   "source": [
    "## 5.1. Загрузка датасета, полученного в разделе 3"
   ]
  },
  {
   "cell_type": "code",
   "execution_count": 5,
   "id": "d1bfa069",
   "metadata": {
    "ExecuteTime": {
     "end_time": "2023-11-22T17:25:05.920468Z",
     "start_time": "2023-11-22T17:25:03.402920Z"
    }
   },
   "outputs": [
    {
     "name": "stdout",
     "output_type": "stream",
     "text": [
      "База данных подключена\n",
      "Таблица загружена\n",
      "Соединение с базой данных закрыто\n"
     ]
    }
   ],
   "source": [
    "# Загрузим итоговый датаcет из хранилища\n",
    "connection = db.connect('data/purchases.db')\n",
    "print(\"База данных подключена\")\n",
    "query = 'SELECT * FROM full_table'\n",
    "df_all = pd.read_sql_query(query, connection)\n",
    "print(\"Таблица загружена\")\n",
    "connection.close()\n",
    "print(\"Соединение с базой данных закрыто\")"
   ]
  },
  {
   "cell_type": "markdown",
   "id": "afcb1d42",
   "metadata": {},
   "source": [
    "## 5.2. Формирование датасета клиентов, склонных к покупке"
   ]
  },
  {
   "cell_type": "markdown",
   "id": "7910aaf6",
   "metadata": {},
   "source": [
    "**Определим характеристику \"склонность клиента к покупке\":**  \n",
    "Склонность клиента к покупке это признак того что после коммуникации с клиентом в успешной рекламной кампании клиент купил больше одного товара."
   ]
  },
  {
   "cell_type": "code",
   "execution_count": 7,
   "id": "e576b506",
   "metadata": {
    "ExecuteTime": {
     "end_time": "2023-11-22T17:25:18.237069Z",
     "start_time": "2023-11-22T17:25:18.198412Z"
    }
   },
   "outputs": [],
   "source": [
    "# Сформируем датасет клиентов, участвовавших в первой (успешной) маркетинговой кампании и получивших скидку\n",
    "df_client = df_all[((df_all.test == 1) & (df_all.dt<16)) | ((df_all.city == 1134) & \\\n",
    "                                                            ((df_all.dt == 14) | (df_all.dt == 44)))]\n",
    "df_client.reset_index(drop=False, inplace=True)"
   ]
  },
  {
   "cell_type": "code",
   "execution_count": 8,
   "id": "24ce372e",
   "metadata": {
    "ExecuteTime": {
     "end_time": "2023-11-22T17:25:20.212617Z",
     "start_time": "2023-11-22T17:25:20.204603Z"
    }
   },
   "outputs": [],
   "source": [
    "# Функция разметки клиентов на тех кто совершил одну покупку и несколько покупок\n",
    "def any_pusher(df, x):\n",
    "    if len(df[df['id']==x]) > 1: return 1\n",
    "    else: return 0"
   ]
  },
  {
   "cell_type": "code",
   "execution_count": 9,
   "id": "e8554985",
   "metadata": {
    "ExecuteTime": {
     "end_time": "2023-11-22T17:25:24.765923Z",
     "start_time": "2023-11-22T17:25:21.359868Z"
    }
   },
   "outputs": [
    {
     "name": "stderr",
     "output_type": "stream",
     "text": [
      "/var/folders/5h/1vkpjwr90l19cmzfgsfrcpvm0000gp/T/ipykernel_87009/1335346606.py:2: SettingWithCopyWarning: \n",
      "A value is trying to be set on a copy of a slice from a DataFrame.\n",
      "Try using .loc[row_indexer,col_indexer] = value instead\n",
      "\n",
      "See the caveats in the documentation: https://pandas.pydata.org/pandas-docs/stable/user_guide/indexing.html#returning-a-view-versus-a-copy\n",
      "  df_client['inclination'] = df_client['id'].apply(lambda x: any_pusher(df_client, x))\n"
     ]
    }
   ],
   "source": [
    "# Проставим прзнак нескольких покупок\n",
    "df_client['inclination'] = df_client['id'].apply(lambda x: any_pusher(df_client, x))"
   ]
  },
  {
   "cell_type": "code",
   "execution_count": 10,
   "id": "d227f377",
   "metadata": {
    "ExecuteTime": {
     "end_time": "2023-11-22T17:25:26.726203Z",
     "start_time": "2023-11-22T17:25:26.436962Z"
    }
   },
   "outputs": [
    {
     "data": {
      "text/plain": [
       "(6313, 3397)"
      ]
     },
     "execution_count": 10,
     "metadata": {},
     "output_type": "execute_result"
    }
   ],
   "source": [
    "# Проверим сбалансированность количества клиентов в датасете\n",
    "df = df_client.groupby('id').agg({'gender': 'max', 'age': 'max', 'education': 'max',\n",
    "                                  'city': 'max', 'country': 'max',\n",
    "                                  'cost': 'sum', 'product': 'count', 'colour': 'count', 'product_sex': 'count',\n",
    "                                  'personal_coef': 'max', 'inclination': 'max'})\n",
    "len(df[df['inclination']==1]), len(df[df['inclination']==0])"
   ]
  },
  {
   "cell_type": "markdown",
   "id": "300f48b1",
   "metadata": {},
   "source": [
    "Перед обучением модели целесообразно проверить данные на аномалии и исключить такие данные из обучающего датасета.  \n",
    "1) При проверке датасета на аномальные записи используем три метода, результаты которых дополним друг другом для повышения качества обучающей выборки.  \n",
    "2) При проверке данных на аномалии не будем учитывать значения признаков `id`, `lbt_coef`, `ac_coef`, `sm_coef` - так как эти данные уникальны почти для каждого покупателя, а значит не принесут пользы для факторной оценки данных и дальнейшего обучения модели.  \n",
    "3) При использовании методов попризнакового выявления аномалий не будем учитывать признаки `product_sex`,`base_sale`,`education`, `gender`, `test` - так как они имеют понятные уникальные значения без аномалий (выявлено визуально). Также не будем учитывать признак `inclination` - так как это целевая переменная для обуения модели."
   ]
  },
  {
   "cell_type": "code",
   "execution_count": 11,
   "id": "724f6523",
   "metadata": {
    "ExecuteTime": {
     "end_time": "2023-11-22T17:25:31.449927Z",
     "start_time": "2023-11-22T17:25:31.441806Z"
    }
   },
   "outputs": [],
   "source": [
    "# Определим колонки для попризнакового выявления аномалий\n",
    "check_columns = ['product', 'colour', 'cost', 'product_sex', 'base_sale', 'dt',\n",
    "                 'gender', 'age', 'education', 'city', 'country', 'personal_coef']"
   ]
  },
  {
   "cell_type": "code",
   "execution_count": 12,
   "id": "effca832",
   "metadata": {
    "ExecuteTime": {
     "end_time": "2023-11-22T17:25:38.488720Z",
     "start_time": "2023-11-22T17:25:38.413203Z"
    }
   },
   "outputs": [],
   "source": [
    "# Проведём кодирование каждого признака \n",
    "df_fit = pd.DataFrame()\n",
    "for column in check_columns:\n",
    "    le = LabelEncoder()\n",
    "    df_fit[column] = le.fit_transform(df_client[column])"
   ]
  },
  {
   "cell_type": "code",
   "execution_count": 13,
   "id": "931a9bf4",
   "metadata": {
    "ExecuteTime": {
     "end_time": "2023-11-22T17:25:39.347769Z",
     "start_time": "2023-11-22T17:25:39.342162Z"
    }
   },
   "outputs": [],
   "source": [
    "# Инициализируем словарь индексов, в котором будем фиксировать:\n",
    "# метод выявления аномалий; список индексов записей-аномалий\n",
    "indexs = {'Quantile': []}"
   ]
  },
  {
   "cell_type": "code",
   "execution_count": 14,
   "id": "6bc9251b",
   "metadata": {
    "ExecuteTime": {
     "end_time": "2023-11-22T17:25:40.240809Z",
     "start_time": "2023-11-22T17:25:40.207194Z"
    }
   },
   "outputs": [],
   "source": [
    "# Заполним словарь индексов записей-аномалий, индексами аномалий,\n",
    "# выявленными квантилями более 3-сигма\n",
    "for column in df_fit.columns:\n",
    "    quantile_indexs = list(df_fit[df_fit[column] > df_fit[column].quantile(0.997)].index)\n",
    "    if len(quantile_indexs) > 0:\n",
    "        indexs['Quantile'].extend(quantile_indexs)\n",
    "indexs['Quantile'] = list(set(indexs['Quantile']))"
   ]
  },
  {
   "cell_type": "code",
   "execution_count": 15,
   "id": "687f9ed4",
   "metadata": {
    "ExecuteTime": {
     "end_time": "2023-11-22T17:25:45.078016Z",
     "start_time": "2023-11-22T17:25:41.199881Z"
    }
   },
   "outputs": [],
   "source": [
    "# Заполним словарь индексов записей-аномалий, индексами аномалий,\n",
    "# выявленными Локалфактором и Изолесом\n",
    "lof = LocalOutlierFactor(n_neighbors=693, n_jobs=-1)\n",
    "ifo = IsolationForest(max_samples=12300, n_jobs=-1, random_state=42)\n",
    "pred_lof = lof.fit_predict(df_fit)\n",
    "pred_ifo = ifo.fit_predict(df_fit)\n",
    "indexs['LocalOutlierFactor'] = list(df_fit[pred_lof == -1].index)\n",
    "indexs['IsolationForest'] = list(df_fit[pred_ifo == -1].index)"
   ]
  },
  {
   "cell_type": "code",
   "execution_count": 16,
   "id": "fcb8c7a2",
   "metadata": {
    "ExecuteTime": {
     "end_time": "2023-11-22T17:25:48.503646Z",
     "start_time": "2023-11-22T17:25:48.487605Z"
    }
   },
   "outputs": [
    {
     "name": "stdout",
     "output_type": "stream",
     "text": [
      "Методом 'Quantile' выявлено 507 записей-аномалий, что составляет 1.31% всех записей\n",
      "Методом 'LocalOutlierFactor' выявлено 400 записей-аномалий, что составляет 1.04% всех записей\n",
      "Методом 'IsolationForest' выявлено 7344 записей-аномалий, что составляет 19.04% всех записей\n",
      "\n",
      "ИТОГО вывленных записей-аномалий 7717, что составляет 20.0% всех записей\n"
     ]
    }
   ],
   "source": [
    "# Сформируем единый список индексов, полученных всеми методами\n",
    "indexs_all = []\n",
    "# Определим долю выбросов, выявленную каждым методом\n",
    "for method in indexs.keys():\n",
    "    count_anomaly = len(indexs[method])\n",
    "    print(f\"Методом '{method}' выявлено {count_anomaly} записей-аномалий,\", end=' ')\n",
    "    print(f\"что составляет {round(count_anomaly/len(df_client) * 100, 2)}% всех записей\")\n",
    "    indexs_all.extend(indexs[method])\n",
    "indexs_all = list(set(indexs_all))\n",
    "indexs_all.sort()\n",
    "print(f'\\nИТОГО вывленных записей-аномалий {len(indexs_all)},', end=' ')\n",
    "print(f'что составляет {round(len(indexs_all)/len(df_client) * 100, 2)}% всех записей')"
   ]
  },
  {
   "cell_type": "code",
   "execution_count": 17,
   "id": "fbad03b1",
   "metadata": {
    "ExecuteTime": {
     "end_time": "2023-11-22T17:25:49.216315Z",
     "start_time": "2023-11-22T17:25:49.158645Z"
    }
   },
   "outputs": [],
   "source": [
    "# Удалим из обучающего датасета записи с признаками аномалий\n",
    "df_client = df_client.drop(index=indexs_all)"
   ]
  },
  {
   "cell_type": "code",
   "execution_count": 18,
   "id": "e3f0ea03",
   "metadata": {
    "ExecuteTime": {
     "end_time": "2023-11-22T17:25:50.333426Z",
     "start_time": "2023-11-22T17:25:50.077013Z"
    }
   },
   "outputs": [
    {
     "name": "stdout",
     "output_type": "stream",
     "text": [
      "Положительный класс: 5650 (66)%\n",
      "Отрицательный класс: 2880 (34)%\n"
     ]
    }
   ],
   "source": [
    "# Проверим сбалансированность количества клиентов в датасете\n",
    "df = df_client.groupby('id').agg({'gender': 'max', 'age': 'max', 'education': 'max',\n",
    "                                  'city': 'max', 'country': 'max',\n",
    "                                  'cost': 'sum', 'product': 'count', 'colour': 'count', 'product_sex': 'count',\n",
    "                                  'personal_coef': 'max', 'inclination': 'max'})\n",
    "# Проверим сбалансированность записей датасета по целевому признаку\n",
    "balance = df.inclination.value_counts()\n",
    "print(f'Положительный класс: {balance[1]} ({round(balance[1]/(balance[0]+balance[1])*100)})%')\n",
    "print(f'Отрицательный класс: {balance[0]} ({round(balance[0]/(balance[0]+balance[1])*100)})%')"
   ]
  },
  {
   "cell_type": "markdown",
   "id": "e4c481f4",
   "metadata": {},
   "source": [
    "**Вывод:** Так как датасет неполностью сбалансирован, снизим разбалансировку до соотношения 57%/43% и используем при обучении моделей параметр `class_weight='balanced'`, который позволяет учесть разбалансировку такого масштаба. Для этого достаточно исключитить из положительного класса 6пп, то есть около 1800 записей."
   ]
  },
  {
   "cell_type": "code",
   "execution_count": 19,
   "id": "fb5e302e",
   "metadata": {
    "ExecuteTime": {
     "end_time": "2023-11-22T17:25:51.938292Z",
     "start_time": "2023-11-22T17:25:51.921361Z"
    }
   },
   "outputs": [],
   "source": [
    "# Соберём итоговый датасет\n",
    "df_train_test = pd.concat([df[df.inclination==1][:3840], df[df.inclination==0]])"
   ]
  },
  {
   "cell_type": "code",
   "execution_count": 20,
   "id": "1d052182",
   "metadata": {
    "ExecuteTime": {
     "end_time": "2023-11-22T17:25:53.285764Z",
     "start_time": "2023-11-22T17:25:53.272450Z"
    }
   },
   "outputs": [
    {
     "name": "stdout",
     "output_type": "stream",
     "text": [
      "Положительный класс: 3840 (57)%\n",
      "Отрицательный класс: 2880 (43)%\n"
     ]
    }
   ],
   "source": [
    "# Проверим сбалансированность записей датасета по целевому признаку\n",
    "balance_1 = df_train_test.inclination.value_counts()\n",
    "print(f'Положительный класс: {balance_1[1]} ({round(balance_1[1]/(balance_1[0]+balance_1[1])*100)})%')\n",
    "print(f'Отрицательный класс: {balance_1[0]} ({round(balance_1[0]/(balance_1[0]+balance_1[1])*100)})%')"
   ]
  },
  {
   "cell_type": "code",
   "execution_count": 21,
   "id": "7d2b9101",
   "metadata": {
    "ExecuteTime": {
     "end_time": "2023-11-22T17:25:54.679259Z",
     "start_time": "2023-11-22T17:25:54.647834Z"
    }
   },
   "outputs": [
    {
     "data": {
      "text/html": [
       "<div>\n",
       "<style scoped>\n",
       "    .dataframe tbody tr th:only-of-type {\n",
       "        vertical-align: middle;\n",
       "    }\n",
       "\n",
       "    .dataframe tbody tr th {\n",
       "        vertical-align: top;\n",
       "    }\n",
       "\n",
       "    .dataframe thead th {\n",
       "        text-align: right;\n",
       "    }\n",
       "</style>\n",
       "<table border=\"1\" class=\"dataframe\">\n",
       "  <thead>\n",
       "    <tr style=\"text-align: right;\">\n",
       "      <th></th>\n",
       "      <th>gender</th>\n",
       "      <th>age</th>\n",
       "      <th>education</th>\n",
       "      <th>city</th>\n",
       "      <th>country</th>\n",
       "      <th>cost</th>\n",
       "      <th>product</th>\n",
       "      <th>colour</th>\n",
       "      <th>product_sex</th>\n",
       "      <th>personal_coef</th>\n",
       "      <th>inclination</th>\n",
       "    </tr>\n",
       "    <tr>\n",
       "      <th>id</th>\n",
       "      <th></th>\n",
       "      <th></th>\n",
       "      <th></th>\n",
       "      <th></th>\n",
       "      <th></th>\n",
       "      <th></th>\n",
       "      <th></th>\n",
       "      <th></th>\n",
       "      <th></th>\n",
       "      <th></th>\n",
       "      <th></th>\n",
       "    </tr>\n",
       "  </thead>\n",
       "  <tbody>\n",
       "    <tr>\n",
       "      <th>4</th>\n",
       "      <td>0.0</td>\n",
       "      <td>35</td>\n",
       "      <td>1</td>\n",
       "      <td>1134</td>\n",
       "      <td>32</td>\n",
       "      <td>23095</td>\n",
       "      <td>5</td>\n",
       "      <td>5</td>\n",
       "      <td>5</td>\n",
       "      <td>0.5072</td>\n",
       "      <td>1</td>\n",
       "    </tr>\n",
       "    <tr>\n",
       "      <th>6</th>\n",
       "      <td>1.0</td>\n",
       "      <td>52</td>\n",
       "      <td>1</td>\n",
       "      <td>1188</td>\n",
       "      <td>32</td>\n",
       "      <td>27013</td>\n",
       "      <td>7</td>\n",
       "      <td>7</td>\n",
       "      <td>7</td>\n",
       "      <td>0.4304</td>\n",
       "      <td>1</td>\n",
       "    </tr>\n",
       "    <tr>\n",
       "      <th>18</th>\n",
       "      <td>1.0</td>\n",
       "      <td>53</td>\n",
       "      <td>1</td>\n",
       "      <td>1188</td>\n",
       "      <td>32</td>\n",
       "      <td>27535</td>\n",
       "      <td>5</td>\n",
       "      <td>5</td>\n",
       "      <td>5</td>\n",
       "      <td>0.4304</td>\n",
       "      <td>1</td>\n",
       "    </tr>\n",
       "  </tbody>\n",
       "</table>\n",
       "</div>"
      ],
      "text/plain": [
       "    gender  age  education  city  country   cost  product  colour  \\\n",
       "id                                                                  \n",
       "4      0.0   35          1  1134       32  23095        5       5   \n",
       "6      1.0   52          1  1188       32  27013        7       7   \n",
       "18     1.0   53          1  1188       32  27535        5       5   \n",
       "\n",
       "    product_sex  personal_coef  inclination  \n",
       "id                                           \n",
       "4             5         0.5072            1  \n",
       "6             7         0.4304            1  \n",
       "18            5         0.4304            1  "
      ]
     },
     "execution_count": 21,
     "metadata": {},
     "output_type": "execute_result"
    }
   ],
   "source": [
    "# Закодируем категориальный признак 'education':\n",
    "le = LabelEncoder()\n",
    "le.fit(list(set(df_train_test['education'].dropna().unique())))\n",
    "df_train_test['education'] = le.transform(df_train_test['education'])\n",
    "df_train_test.head(3)"
   ]
  },
  {
   "cell_type": "code",
   "execution_count": 22,
   "id": "165cbd80",
   "metadata": {
    "ExecuteTime": {
     "end_time": "2023-11-22T17:25:55.431107Z",
     "start_time": "2023-11-22T17:25:55.395902Z"
    }
   },
   "outputs": [
    {
     "data": {
      "text/html": [
       "<div>\n",
       "<style scoped>\n",
       "    .dataframe tbody tr th:only-of-type {\n",
       "        vertical-align: middle;\n",
       "    }\n",
       "\n",
       "    .dataframe tbody tr th {\n",
       "        vertical-align: top;\n",
       "    }\n",
       "\n",
       "    .dataframe thead th {\n",
       "        text-align: right;\n",
       "    }\n",
       "</style>\n",
       "<table border=\"1\" class=\"dataframe\">\n",
       "  <thead>\n",
       "    <tr style=\"text-align: right;\">\n",
       "      <th></th>\n",
       "      <th>gender</th>\n",
       "      <th>age</th>\n",
       "      <th>education</th>\n",
       "      <th>city</th>\n",
       "      <th>country</th>\n",
       "      <th>cost</th>\n",
       "      <th>product</th>\n",
       "      <th>colour</th>\n",
       "      <th>product_sex</th>\n",
       "      <th>personal_coef</th>\n",
       "      <th>inclination</th>\n",
       "    </tr>\n",
       "    <tr>\n",
       "      <th>id</th>\n",
       "      <th></th>\n",
       "      <th></th>\n",
       "      <th></th>\n",
       "      <th></th>\n",
       "      <th></th>\n",
       "      <th></th>\n",
       "      <th></th>\n",
       "      <th></th>\n",
       "      <th></th>\n",
       "      <th></th>\n",
       "      <th></th>\n",
       "    </tr>\n",
       "  </thead>\n",
       "  <tbody>\n",
       "    <tr>\n",
       "      <th>4</th>\n",
       "      <td>0.0</td>\n",
       "      <td>-0.510197</td>\n",
       "      <td>1</td>\n",
       "      <td>-0.121086</td>\n",
       "      <td>0.0</td>\n",
       "      <td>0.338253</td>\n",
       "      <td>0.457156</td>\n",
       "      <td>0.457156</td>\n",
       "      <td>0.457156</td>\n",
       "      <td>1.030330</td>\n",
       "      <td>1</td>\n",
       "    </tr>\n",
       "    <tr>\n",
       "      <th>6</th>\n",
       "      <td>1.0</td>\n",
       "      <td>1.093416</td>\n",
       "      <td>1</td>\n",
       "      <td>0.621074</td>\n",
       "      <td>0.0</td>\n",
       "      <td>0.508417</td>\n",
       "      <td>0.969470</td>\n",
       "      <td>0.969470</td>\n",
       "      <td>0.969470</td>\n",
       "      <td>-0.836599</td>\n",
       "      <td>1</td>\n",
       "    </tr>\n",
       "    <tr>\n",
       "      <th>18</th>\n",
       "      <td>1.0</td>\n",
       "      <td>1.187746</td>\n",
       "      <td>1</td>\n",
       "      <td>0.621074</td>\n",
       "      <td>0.0</td>\n",
       "      <td>0.531089</td>\n",
       "      <td>0.457156</td>\n",
       "      <td>0.457156</td>\n",
       "      <td>0.457156</td>\n",
       "      <td>-0.836599</td>\n",
       "      <td>1</td>\n",
       "    </tr>\n",
       "  </tbody>\n",
       "</table>\n",
       "</div>"
      ],
      "text/plain": [
       "    gender       age  education      city  country      cost   product  \\\n",
       "id                                                                       \n",
       "4      0.0 -0.510197          1 -0.121086      0.0  0.338253  0.457156   \n",
       "6      1.0  1.093416          1  0.621074      0.0  0.508417  0.969470   \n",
       "18     1.0  1.187746          1  0.621074      0.0  0.531089  0.457156   \n",
       "\n",
       "      colour  product_sex  personal_coef  inclination  \n",
       "id                                                     \n",
       "4   0.457156     0.457156       1.030330            1  \n",
       "6   0.969470     0.969470      -0.836599            1  \n",
       "18  0.457156     0.457156      -0.836599            1  "
      ]
     },
     "execution_count": 22,
     "metadata": {},
     "output_type": "execute_result"
    }
   ],
   "source": [
    "# Стандартизуем не бинарные признаки, которые будем использовать при обучении\n",
    "ss = StandardScaler()\n",
    "for col in ['age', 'city', 'country', 'cost', 'product', 'colour', 'product_sex', 'personal_coef']:\n",
    "    df_train_test[col] = ss.fit_transform(df_train_test[[col]])\n",
    "df_train_test.head(3)"
   ]
  },
  {
   "cell_type": "code",
   "execution_count": 23,
   "id": "ce101df9",
   "metadata": {
    "ExecuteTime": {
     "end_time": "2023-11-22T17:25:56.099140Z",
     "start_time": "2023-11-22T17:25:56.090702Z"
    }
   },
   "outputs": [],
   "source": [
    "# Признаки используемые при обучении модели\n",
    "cols = ['gender', 'age', 'education', 'city', 'country', 'cost', 'product',\n",
    "       'colour', 'product_sex', 'personal_coef']"
   ]
  },
  {
   "cell_type": "code",
   "execution_count": 32,
   "id": "0590e5aa",
   "metadata": {
    "ExecuteTime": {
     "end_time": "2023-11-22T17:26:51.492470Z",
     "start_time": "2023-11-22T17:26:51.484269Z"
    }
   },
   "outputs": [],
   "source": [
    "# Подготовим датасет для обучения\n",
    "X_train, X_test, y_train, y_test = train_test_split(df_train_test[cols],\n",
    "                                                    df_train_test['inclination'],\n",
    "                                                    test_size=0.3, random_state=3)"
   ]
  },
  {
   "cell_type": "code",
   "execution_count": 33,
   "id": "91c02ae9",
   "metadata": {
    "ExecuteTime": {
     "end_time": "2023-11-22T17:26:52.085756Z",
     "start_time": "2023-11-22T17:26:52.019426Z"
    }
   },
   "outputs": [
    {
     "name": "stdout",
     "output_type": "stream",
     "text": [
      "Метрика: 0.9652777777777778\n"
     ]
    }
   ],
   "source": [
    "# Обучим модель \"Логистическая регресия\"\n",
    "lr = LogisticRegression(class_weight='balanced')\n",
    "lr.fit(X_train, y_train)\n",
    "y_pred = lr.predict(X_test)\n",
    "print(f'Метрика: {accuracy_score(y_test, y_pred)}')"
   ]
  },
  {
   "cell_type": "code",
   "execution_count": 34,
   "id": "d2772af2",
   "metadata": {
    "ExecuteTime": {
     "end_time": "2023-11-22T17:26:53.991018Z",
     "start_time": "2023-11-22T17:26:53.787679Z"
    }
   },
   "outputs": [
    {
     "name": "stdout",
     "output_type": "stream",
     "text": [
      "Метрика: 0.96875\n"
     ]
    }
   ],
   "source": [
    "# Обучим модель \"Случайный лес Деревьев принятия решения\"\n",
    "rf = RandomForestClassifier(class_weight='balanced')\n",
    "rf.fit(X_train, y_train)\n",
    "y_pred = rf.predict(X_test)\n",
    "print(f'Метрика: {accuracy_score(y_pred, y_test)}')"
   ]
  },
  {
   "cell_type": "code",
   "execution_count": 35,
   "id": "8b9bf99f",
   "metadata": {
    "ExecuteTime": {
     "end_time": "2023-11-22T17:26:55.864658Z",
     "start_time": "2023-11-22T17:26:55.226989Z"
    }
   },
   "outputs": [
    {
     "name": "stdout",
     "output_type": "stream",
     "text": [
      "Метрика: 0.9702380952380952\n"
     ]
    }
   ],
   "source": [
    "# Обучим модель \"Нейронная сеть - ПЕРЦЕПТРОН\"\n",
    "mlp = MLPClassifier()\n",
    "mlp.fit(X_train, y_train)\n",
    "y_pred = mlp.predict(X_test)\n",
    "print(f'Метрика: {accuracy_score(y_pred, y_test)}')"
   ]
  },
  {
   "cell_type": "markdown",
   "id": "695e39ee",
   "metadata": {},
   "source": [
    "**Вывод:** Метрики трёх алгоритмов машинного обучения показали хорошее качество. В качестве модели для прогнозирования признака `inclination` выбирем алгоритм нейросети \"Пепцептрон\"."
   ]
  },
  {
   "cell_type": "code",
   "execution_count": 36,
   "id": "e9459441",
   "metadata": {
    "ExecuteTime": {
     "end_time": "2023-11-22T17:27:31.326876Z",
     "start_time": "2023-11-22T17:27:30.531475Z"
    }
   },
   "outputs": [
    {
     "data": {
      "text/html": [
       "<style>#sk-container-id-1 {color: black;background-color: white;}#sk-container-id-1 pre{padding: 0;}#sk-container-id-1 div.sk-toggleable {background-color: white;}#sk-container-id-1 label.sk-toggleable__label {cursor: pointer;display: block;width: 100%;margin-bottom: 0;padding: 0.3em;box-sizing: border-box;text-align: center;}#sk-container-id-1 label.sk-toggleable__label-arrow:before {content: \"▸\";float: left;margin-right: 0.25em;color: #696969;}#sk-container-id-1 label.sk-toggleable__label-arrow:hover:before {color: black;}#sk-container-id-1 div.sk-estimator:hover label.sk-toggleable__label-arrow:before {color: black;}#sk-container-id-1 div.sk-toggleable__content {max-height: 0;max-width: 0;overflow: hidden;text-align: left;background-color: #f0f8ff;}#sk-container-id-1 div.sk-toggleable__content pre {margin: 0.2em;color: black;border-radius: 0.25em;background-color: #f0f8ff;}#sk-container-id-1 input.sk-toggleable__control:checked~div.sk-toggleable__content {max-height: 200px;max-width: 100%;overflow: auto;}#sk-container-id-1 input.sk-toggleable__control:checked~label.sk-toggleable__label-arrow:before {content: \"▾\";}#sk-container-id-1 div.sk-estimator input.sk-toggleable__control:checked~label.sk-toggleable__label {background-color: #d4ebff;}#sk-container-id-1 div.sk-label input.sk-toggleable__control:checked~label.sk-toggleable__label {background-color: #d4ebff;}#sk-container-id-1 input.sk-hidden--visually {border: 0;clip: rect(1px 1px 1px 1px);clip: rect(1px, 1px, 1px, 1px);height: 1px;margin: -1px;overflow: hidden;padding: 0;position: absolute;width: 1px;}#sk-container-id-1 div.sk-estimator {font-family: monospace;background-color: #f0f8ff;border: 1px dotted black;border-radius: 0.25em;box-sizing: border-box;margin-bottom: 0.5em;}#sk-container-id-1 div.sk-estimator:hover {background-color: #d4ebff;}#sk-container-id-1 div.sk-parallel-item::after {content: \"\";width: 100%;border-bottom: 1px solid gray;flex-grow: 1;}#sk-container-id-1 div.sk-label:hover label.sk-toggleable__label {background-color: #d4ebff;}#sk-container-id-1 div.sk-serial::before {content: \"\";position: absolute;border-left: 1px solid gray;box-sizing: border-box;top: 0;bottom: 0;left: 50%;z-index: 0;}#sk-container-id-1 div.sk-serial {display: flex;flex-direction: column;align-items: center;background-color: white;padding-right: 0.2em;padding-left: 0.2em;position: relative;}#sk-container-id-1 div.sk-item {position: relative;z-index: 1;}#sk-container-id-1 div.sk-parallel {display: flex;align-items: stretch;justify-content: center;background-color: white;position: relative;}#sk-container-id-1 div.sk-item::before, #sk-container-id-1 div.sk-parallel-item::before {content: \"\";position: absolute;border-left: 1px solid gray;box-sizing: border-box;top: 0;bottom: 0;left: 50%;z-index: -1;}#sk-container-id-1 div.sk-parallel-item {display: flex;flex-direction: column;z-index: 1;position: relative;background-color: white;}#sk-container-id-1 div.sk-parallel-item:first-child::after {align-self: flex-end;width: 50%;}#sk-container-id-1 div.sk-parallel-item:last-child::after {align-self: flex-start;width: 50%;}#sk-container-id-1 div.sk-parallel-item:only-child::after {width: 0;}#sk-container-id-1 div.sk-dashed-wrapped {border: 1px dashed gray;margin: 0 0.4em 0.5em 0.4em;box-sizing: border-box;padding-bottom: 0.4em;background-color: white;}#sk-container-id-1 div.sk-label label {font-family: monospace;font-weight: bold;display: inline-block;line-height: 1.2em;}#sk-container-id-1 div.sk-label-container {text-align: center;}#sk-container-id-1 div.sk-container {/* jupyter's `normalize.less` sets `[hidden] { display: none; }` but bootstrap.min.css set `[hidden] { display: none !important; }` so we also need the `!important` here to be able to override the default hidden behavior on the sphinx rendered scikit-learn.org. See: https://github.com/scikit-learn/scikit-learn/issues/21755 */display: inline-block !important;position: relative;}#sk-container-id-1 div.sk-text-repr-fallback {display: none;}</style><div id=\"sk-container-id-1\" class=\"sk-top-container\"><div class=\"sk-text-repr-fallback\"><pre>MLPClassifier()</pre><b>In a Jupyter environment, please rerun this cell to show the HTML representation or trust the notebook. <br />On GitHub, the HTML representation is unable to render, please try loading this page with nbviewer.org.</b></div><div class=\"sk-container\" hidden><div class=\"sk-item\"><div class=\"sk-estimator sk-toggleable\"><input class=\"sk-toggleable__control sk-hidden--visually\" id=\"sk-estimator-id-1\" type=\"checkbox\" checked><label for=\"sk-estimator-id-1\" class=\"sk-toggleable__label sk-toggleable__label-arrow\">MLPClassifier</label><div class=\"sk-toggleable__content\"><pre>MLPClassifier()</pre></div></div></div></div></div>"
      ],
      "text/plain": [
       "MLPClassifier()"
      ]
     },
     "execution_count": 36,
     "metadata": {},
     "output_type": "execute_result"
    }
   ],
   "source": [
    "# Обучим модель \"Случайный лес Деревьев принятия решения\" на всех имеющихся данных \n",
    "mlp = MLPClassifier()\n",
    "mlp.fit(df_train_test[cols], df_train_test['inclination'])"
   ]
  },
  {
   "cell_type": "markdown",
   "id": "a14f0bea",
   "metadata": {},
   "source": [
    "## 5.3. Проверка склонность к покупкам покупателей страны 32 города 1188"
   ]
  },
  {
   "cell_type": "code",
   "execution_count": 37,
   "id": "afe6d336",
   "metadata": {
    "ExecuteTime": {
     "end_time": "2023-11-22T17:27:35.190651Z",
     "start_time": "2023-11-22T17:27:34.798817Z"
    }
   },
   "outputs": [],
   "source": [
    "# Определим покупателей страны 32 города 1188\n",
    "df_32_1188 = df_all[(df_all.country==32) & (df_all.city==1188)]\n",
    "df_32_1188_client = df_32_1188.groupby('id').agg({'gender': 'max', 'age': 'max', 'education': 'max',\n",
    "                                  'city': 'max', 'country': 'max',\n",
    "                                  'cost': 'sum', 'product': 'count', 'colour': 'count', 'product_sex': 'count',\n",
    "                                  'personal_coef': 'max'})"
   ]
  },
  {
   "cell_type": "code",
   "execution_count": 38,
   "id": "1412f2f3",
   "metadata": {
    "ExecuteTime": {
     "end_time": "2023-11-22T17:27:36.325501Z",
     "start_time": "2023-11-22T17:27:36.291098Z"
    }
   },
   "outputs": [],
   "source": [
    "# Закодируем категориальный признак 'education':\n",
    "le = LabelEncoder()\n",
    "le.fit(list(set(df_32_1188_client['education'].dropna().unique())))\n",
    "df_32_1188_client['education'] = le.transform(df_32_1188_client['education'])\n",
    "# Стандартизуем не бинарные признаки, которые будем использовать при обучении\n",
    "ss = StandardScaler()\n",
    "for col in ['age', 'city', 'country', 'cost', 'product', 'colour', 'product_sex', 'personal_coef']:\n",
    "    df_32_1188_client[col] = ss.fit_transform(df_32_1188_client[[col]])"
   ]
  },
  {
   "cell_type": "code",
   "execution_count": 39,
   "id": "cb429dab",
   "metadata": {
    "ExecuteTime": {
     "end_time": "2023-11-22T17:27:37.328999Z",
     "start_time": "2023-11-22T17:27:37.286326Z"
    }
   },
   "outputs": [],
   "source": [
    "# Определим сколько покупателей страны 32 города 1188 склонны к покупкам\n",
    "df_32_1188_client['inclination'] = mlp.predict(df_32_1188_client)"
   ]
  },
  {
   "cell_type": "code",
   "execution_count": 40,
   "id": "fde09a84",
   "metadata": {
    "ExecuteTime": {
     "end_time": "2023-11-22T17:27:38.685888Z",
     "start_time": "2023-11-22T17:27:38.672546Z"
    }
   },
   "outputs": [
    {
     "name": "stdout",
     "output_type": "stream",
     "text": [
      "Положительный класс: 9584 (77)%\n",
      "Отрицательный класс: 2854 (23)%\n"
     ]
    }
   ],
   "source": [
    "# Посчитаем баланс клиентов склонных и не склонных к покупкам в стране 32 городе 1188\n",
    "balance_2 = df_32_1188_client.inclination.value_counts()\n",
    "print(f'Положительный класс: {balance_2[1]} ({round(balance_2[1]/(balance_2[0]+balance_2[1])*100)})%')\n",
    "print(f'Отрицательный класс: {balance_2[0]} ({round(balance_2[0]/(balance_2[0]+balance_2[1])*100)})%')"
   ]
  },
  {
   "cell_type": "code",
   "execution_count": 41,
   "id": "19cb09e2",
   "metadata": {
    "ExecuteTime": {
     "end_time": "2023-11-22T17:27:39.944885Z",
     "start_time": "2023-11-22T17:27:39.931851Z"
    }
   },
   "outputs": [
    {
     "name": "stdout",
     "output_type": "stream",
     "text": [
      "Положительный класс: 5650 (66)%\n",
      "Отрицательный класс: 2880 (34)%\n"
     ]
    }
   ],
   "source": [
    "# Посчитаем баланс клиентов склонных и не склонных к покупкам в городе с проведённой рекламной кампанией\n",
    "balance_2 = df.inclination.value_counts()\n",
    "print(f'Положительный класс: {balance_2[1]} ({round(balance_2[1]/(balance_2[0]+balance_2[1])*100)})%')\n",
    "print(f'Отрицательный класс: {balance_2[0]} ({round(balance_2[0]/(balance_2[0]+balance_2[1])*100)})%')"
   ]
  },
  {
   "cell_type": "markdown",
   "id": "540f52ba",
   "metadata": {},
   "source": [
    "**Вывод:** В городе 1188 страны 32 клиентов сколнных к покупке на 11пп больше чем в горде, в котором была проведена рекламная кампания, принёсшая значительный прирост выручки и оптимизацию частоты покупок клиентами. Таким образом, проводить подобную рекламную кампанию в городе 1188 страны 32 целесообразно, в том числе с учётом дополнительных её доработок, рекомендованных в п.3 и п.4 исслдедования."
   ]
  }
 ],
 "metadata": {
  "kernelspec": {
   "display_name": "Python 3 (ipykernel)",
   "language": "python",
   "name": "python3"
  },
  "language_info": {
   "codemirror_mode": {
    "name": "ipython",
    "version": 3
   },
   "file_extension": ".py",
   "mimetype": "text/x-python",
   "name": "python",
   "nbconvert_exporter": "python",
   "pygments_lexer": "ipython3",
   "version": "3.9.13"
  },
  "toc": {
   "base_numbering": 1,
   "nav_menu": {},
   "number_sections": false,
   "sideBar": true,
   "skip_h1_title": false,
   "title_cell": "СОДЕРЖАНИЕ РАЗДЕЛА 5",
   "title_sidebar": "Contents",
   "toc_cell": true,
   "toc_position": {},
   "toc_section_display": true,
   "toc_window_display": false
  },
  "varInspector": {
   "cols": {
    "lenName": 16,
    "lenType": 16,
    "lenVar": 40
   },
   "kernels_config": {
    "python": {
     "delete_cmd_postfix": "",
     "delete_cmd_prefix": "del ",
     "library": "var_list.py",
     "varRefreshCmd": "print(var_dic_list())"
    },
    "r": {
     "delete_cmd_postfix": ") ",
     "delete_cmd_prefix": "rm(",
     "library": "var_list.r",
     "varRefreshCmd": "cat(var_dic_list()) "
    }
   },
   "types_to_exclude": [
    "module",
    "function",
    "builtin_function_or_method",
    "instance",
    "_Feature"
   ],
   "window_display": false
  }
 },
 "nbformat": 4,
 "nbformat_minor": 5
}
