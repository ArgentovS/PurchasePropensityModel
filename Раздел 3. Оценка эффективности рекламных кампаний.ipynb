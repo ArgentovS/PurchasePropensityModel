{
 "cells": [
  {
   "cell_type": "code",
   "execution_count": 1,
   "id": "6ffed306",
   "metadata": {
    "ExecuteTime": {
     "end_time": "2023-11-06T23:07:08.453615Z",
     "start_time": "2023-11-06T23:07:07.616553Z"
    }
   },
   "outputs": [],
   "source": [
    "# Загрузка библиотек\n",
    "import pandas as pd\n",
    "import sqlite3 as db\n",
    "\n",
    "import datetime as dt\n",
    "import multiprocessing\n",
    "from multiprocessing import Pool, Manager\n",
    "\n",
    "from sklearn.preprocessing import LabelEncoder\n",
    "from sklearn.neighbors import LocalOutlierFactor\n",
    "from sklearn.ensemble import IsolationForest\n",
    "import pprint\n",
    "from sklearn.preprocessing import OneHotEncoder, StandardScaler, OrdinalEncoder\n",
    "\n",
    "from sklearn.model_selection import train_test_split\n",
    "\n",
    "from sklearn.ensemble import RandomForestClassifier\n",
    "from sklearn.linear_model import LogisticRegression\n",
    "from sklearn.neural_network import MLPClassifier\n",
    "\n",
    "from sklearn.metrics import accuracy_score\n",
    "from package.select_run_test import SampleComparisonTest\n",
    "\n",
    "# Загрузим функции поиска во всех записях о товаре наиболее часто встречающихся значений признака \"цвет\"\n",
    "# для наименований товаров, по которым есть записи с незаполненым признаком \"цвет\"\n",
    "# (функции написаны в отдельном модуле для обеспечения требований блиотеки  multiprocessing)\n",
    "from package.preparation import add_freq_product_color, freq_product_color\n",
    "\n",
    "import matplotlib.pyplot as plt\n",
    "import seaborn as sns\n",
    "\n",
    "from matplotlib.ticker import FormatStrFormatter\n",
    "\n",
    "from sklearn.preprocessing import StandardScaler\n",
    "from sklearn.manifold import TSNE\n",
    "from sklearn.cluster import AgglomerativeClustering, KMeans\n",
    "from sklearn.metrics import silhouette_score"
   ]
  },
  {
   "cell_type": "markdown",
   "id": "df1f7e1f",
   "metadata": {
    "toc": true
   },
   "source": [
    "<h1>СОДЕРЖАНИЕ РАЗДЕЛА 3<span class=\"tocSkip\"></span></h1>\n",
    "<div class=\"toc\"><ul class=\"toc-item\"><li><span><a href=\"#3.-Оценка-эффективности-рекламных-кампаний\" data-toc-modified-id=\"3.-Оценка-эффективности-рекламных-кампаний-1\">3. Оценка эффективности рекламных кампаний</a></span><ul class=\"toc-item\"><li><span><a href=\"#3.1.-Загрузка-датасета,-полученного-в-п.1-и-п.2-исследования\" data-toc-modified-id=\"3.1.-Загрузка-датасета,-полученного-в-п.1-и-п.2-исследования-1.1\">3.1. Загрузка датасета, полученного в п.1 и п.2 исследования</a></span></li><li><span><a href=\"#3.2.-Оценка-первой-рекламной-кампании\" data-toc-modified-id=\"3.2.-Оценка-первой-рекламной-кампании-1.2\">3.2. Оценка первой рекламной кампании</a></span><ul class=\"toc-item\"><li><span><a href=\"#3.2.1.-Проверка-метрики-&quot;Увеличение-стоимости-покупок&quot;\" data-toc-modified-id=\"3.2.1.-Проверка-метрики-&quot;Увеличение-стоимости-покупок&quot;-1.2.1\">3.2.1. Проверка метрики \"Увеличение стоимости покупок\"</a></span></li><li><span><a href=\"#3.2.2.-Проверка-метрики-&quot;Изменение-частоты-покупок&quot;\" data-toc-modified-id=\"3.2.2.-Проверка-метрики-&quot;Изменение-частоты-покупок&quot;-1.2.2\">3.2.2. Проверка метрики \"Изменение частоты покупок\"</a></span></li><li><span><a href=\"#3.2.3.-Проверка-метрики-&quot;Увеличение-частоты-и-суммы-покупок-наиболее-состоятельными-клиентами&quot;\" data-toc-modified-id=\"3.2.3.-Проверка-метрики-&quot;Увеличение-частоты-и-суммы-покупок-наиболее-состоятельными-клиентами&quot;-1.2.3\">3.2.3. Проверка метрики \"Увеличение частоты и суммы покупок наиболее состоятельными клиентами\"</a></span></li></ul></li><li><span><a href=\"#3.3.-Оценка-второй-рекламной-кампании\" data-toc-modified-id=\"3.3.-Оценка-второй-рекламной-кампании-1.3\">3.3. Оценка второй рекламной кампании</a></span></li></ul></li></ul></div>"
   ]
  },
  {
   "cell_type": "markdown",
   "id": "3ce05f38",
   "metadata": {},
   "source": [
    "# 3. Оценка эффективности рекламных кампаний"
   ]
  },
  {
   "cell_type": "markdown",
   "id": "84f8b77a",
   "metadata": {},
   "source": [
    "## 3.1. Загрузка датасета, полученного в п.1 и п.2 исследования"
   ]
  },
  {
   "cell_type": "code",
   "execution_count": 2,
   "id": "9b1d581e",
   "metadata": {
    "ExecuteTime": {
     "end_time": "2023-11-06T23:07:12.739462Z",
     "start_time": "2023-11-06T23:07:10.137013Z"
    }
   },
   "outputs": [
    {
     "name": "stdout",
     "output_type": "stream",
     "text": [
      "База данных подключена\n",
      "Таблица загружена\n",
      "Соединение с базой данных закрыто\n"
     ]
    }
   ],
   "source": [
    "# Загрузим итоговый датаcет из хранилища\n",
    "connection = db.connect('data/purchases.db')\n",
    "print(\"База данных подключена\")\n",
    "query = 'SELECT * FROM full_table'\n",
    "df_all = pd.read_sql_query(query, connection)\n",
    "print(\"Таблица загружена\")\n",
    "connection.close()\n",
    "print(\"Соединение с базой данных закрыто\")"
   ]
  },
  {
   "cell_type": "markdown",
   "id": "932e8bd9",
   "metadata": {},
   "source": [
    "## 3.2. Оценка первой рекламной кампании"
   ]
  },
  {
   "cell_type": "code",
   "execution_count": 3,
   "id": "13e97125",
   "metadata": {
    "ExecuteTime": {
     "end_time": "2023-11-06T23:07:15.647792Z",
     "start_time": "2023-11-06T23:07:15.628068Z"
    }
   },
   "outputs": [],
   "source": [
    "# Функция присвоения значения признаку проведения первой рекламной кампании\n",
    "def f_indexes(df, col, file_name, value):\n",
    "    def f(x, y, value, indexes):\n",
    "        if x in indexes:\n",
    "            return value\n",
    "        else:\n",
    "            return y\n",
    "    \n",
    "    indexes = list()\n",
    "    with open(file_name) as file:\n",
    "        while True:\n",
    "            line = file.readline()\n",
    "            if not line:\n",
    "                break\n",
    "            row = line[:-1].replace(' ', ',').replace(';', ',').split(',')\n",
    "            for elem in row:\n",
    "                if elem.isdigit():\n",
    "                    indexes.append(int(elem))\n",
    "    \n",
    "    # Оставим только уникальные значения индексов\n",
    "    indexes = list(set(indexes))\n",
    "    print(f'Количество записей {file_name[-12:-4]}: {len(indexes)}')\n",
    "\n",
    "    df[col] = df.apply(lambda x: f(x.id, x[col], value, indexes), axis=1)\n",
    "\n",
    "    return df"
   ]
  },
  {
   "cell_type": "code",
   "execution_count": 4,
   "id": "d7f9b1a2",
   "metadata": {
    "ExecuteTime": {
     "end_time": "2023-11-06T23:08:11.872758Z",
     "start_time": "2023-11-06T23:07:16.782832Z"
    }
   },
   "outputs": [
    {
     "name": "stdout",
     "output_type": "stream",
     "text": [
      "Количество записей positive: 5016\n",
      "Количество записей negative: 5009\n"
     ]
    }
   ],
   "source": [
    "# Добавим в датасет признак тестовой группы\n",
    "col = 'test'\n",
    "df_all[col] = None\n",
    "\n",
    "# Заполним признак данными о тестовой группе потребителей\n",
    "df_all = f_indexes(df_all, col, 'data/result_data/ids_first_company_positive.txt', 1)\n",
    "\n",
    "# Заполним признак данными о контрольной группе потребителей\n",
    "df_all = f_indexes(df_all, col, 'data/result_data/ids_first_company_negative.txt', 0)"
   ]
  },
  {
   "cell_type": "markdown",
   "id": "77eaec27",
   "metadata": {},
   "source": [
    "**Вывод:** количество покупателей, совершивших покупки в тестовой и контрольной группах, сбалансировано. Соответсвенно тестовая и контрольные группы реливантны."
   ]
  },
  {
   "cell_type": "code",
   "execution_count": 5,
   "id": "40f9101e",
   "metadata": {
    "ExecuteTime": {
     "end_time": "2023-11-06T23:08:11.909874Z",
     "start_time": "2023-11-06T23:08:11.886645Z"
    }
   },
   "outputs": [
    {
     "name": "stdout",
     "output_type": "stream",
     "text": [
      "Количесвто записей для расчёта AB теста: 47120\n",
      "Количество записей в тестовой группе: 29850\n",
      "Количество записей в контрольной группе: 17270\n"
     ]
    }
   ],
   "source": [
    "# Получим датасет выбранный для AB тестирования первой маркетенговой компании\n",
    "df_AB_1 = df_all[~(df_all.test.isna()) & (df_all.dt<16)]\n",
    "print(f'Количесвто записей для расчёта AB теста: {df_AB_1.shape[0]}')\n",
    "# Датасеты тестовой и контрольной групп\n",
    "df_test = df_AB_1[df_AB_1.test == 1]\n",
    "df_control = df_AB_1[df_AB_1.test == 0]\n",
    "print(f'Количество записей в тестовой группе: {len(df_test)}')\n",
    "print(f'Количество записей в контрольной группе: {len(df_control)}')"
   ]
  },
  {
   "cell_type": "markdown",
   "id": "ccd59939",
   "metadata": {},
   "source": [
    "Эффективность проведённой рекламной кампании можно проверить по:\n",
    " - увеличению стоимости покупок покупателями,  \n",
    " - увеличению частоты покупок,\n",
    " - увеличение покупок группой клиентов в возрасной категории от 31 до 61 лет (как наиболее состоятельной)\n",
    " https://blog.domclick.ru/ipoteka/post/kazhduyu-desyatuyu-ipoteku-v-sbere-berut-molodye-lyudi-analitika-domklik"
   ]
  },
  {
   "cell_type": "markdown",
   "id": "a9d5ce10",
   "metadata": {},
   "source": [
    "### 3.2.1. Проверка метрики \"Увеличение стоимости покупок\""
   ]
  },
  {
   "cell_type": "code",
   "execution_count": 6,
   "id": "88cec101",
   "metadata": {
    "ExecuteTime": {
     "end_time": "2023-11-06T23:08:34.400454Z",
     "start_time": "2023-11-06T23:08:34.380261Z"
    }
   },
   "outputs": [],
   "source": [
    "# Сформируем выборки по стоимости покупок покупателей\n",
    "df_test_cost = df_test.groupby('dt').agg({'cost': 'sum'})\n",
    "df_control_cost = df_control.groupby('dt').agg({'cost': 'sum'})"
   ]
  },
  {
   "cell_type": "code",
   "execution_count": 7,
   "id": "cf9688a3",
   "metadata": {
    "ExecuteTime": {
     "end_time": "2023-11-06T23:08:35.560398Z",
     "start_time": "2023-11-06T23:08:35.539852Z"
    }
   },
   "outputs": [
    {
     "name": "stdout",
     "output_type": "stream",
     "text": [
      "\n",
      "Пользователь задал условие - выборки НЕЗАВИСИМЫЕ\n",
      "\n",
      "=================================================================\n",
      " Проверка каждой выборки на прараметричность тестом Шапира-Уилка\n",
      "=================================================================\n",
      " ЗНАЧЕНИЯ p-value ВЫБОРОК\n",
      "  - первая выборка: 56.596833%\n",
      "  - вторая выборка: 0.270581%\n",
      "--------------------------------------\n",
      " ВЫВОД: Одна или все выборки НЕПАРАМЕТРИЧЕСКИЕ (не распеределены по нормальному закону распределения)\n",
      "\n",
      "\n",
      "=================================================================================\n",
      "  Для сравнения выборок выбран тест: Критерий Мана-Уитни\n",
      "=================================================================================\n",
      " ЗНАЧЕНИЕ p-value при тестировании выборок: 0.001593%\n",
      "-------------------------------------------------------\n",
      " ВЫВОД: выборки статистически значимо РАЗЛИЧАЮТСЯ (гипотеза H1)\n"
     ]
    },
    {
     "data": {
      "text/plain": [
       "{'Условие зависимости выборок': 'no_dependency',\n",
       " 'Предпроверка 1': {'name_test': 'Тест Шапиро',\n",
       "  'p-value df1': 0.5659683346748352,\n",
       "  'p-value df2': 0.002705811057239771},\n",
       " 'Результат': {'name_test': 'Критерий Мана-Уитни',\n",
       "  'p-value': 1.5932777797286954e-05}}"
      ]
     },
     "execution_count": 7,
     "metadata": {},
     "output_type": "execute_result"
    }
   ],
   "source": [
    "# Применим разработанный класс (см. файл package.select_run_test)\n",
    "# для определения статистически значисого отличия сформированных выборок\n",
    "test = SampleComparisonTest(print_console_flag=True)\n",
    "test.select_run_test(df_test_cost['cost'], df_control_cost['cost'])"
   ]
  },
  {
   "cell_type": "code",
   "execution_count": 8,
   "id": "fc358e7c",
   "metadata": {
    "ExecuteTime": {
     "end_time": "2023-11-06T23:08:47.985786Z",
     "start_time": "2023-11-06T23:08:47.854109Z"
    }
   },
   "outputs": [
    {
     "data": {
      "image/png": "[encoded data removed]",
      "text/plain": [
       "<Figure size 1200x300 with 1 Axes>"
      ]
     },
     "metadata": {},
     "output_type": "display_data"
    }
   ],
   "source": [
    "# Визуализируем распределения\n",
    "fig, ax = plt.subplots(figsize=(12, 3))\n",
    "ax.set_title('РАСПРЕДЕЛЕНИЕ СТОИМОСТИ ПОКУПОК ПО ДНЯМ ПЕРВОЙ РЕКЛАМНОЙ КАМПАНИИ')\n",
    "ax.set_ylabel('Стоимость покупок, руб.')\n",
    "ax.set_xlabel('Дни первой рекламной кампании')\n",
    "ax.bar(df_test_cost.index, df_test_cost['cost'], width=0.6,\n",
    "       color='green', label='Тестовая группа')\n",
    "ax.bar(df_control_cost.index-0.1, df_control_cost['cost'], width=0.6,\n",
    "       color='gray', label='Контрольная группа')\n",
    "ax.yaxis.set_major_formatter(FormatStrFormatter('%.0f'))\n",
    "plt.legend();"
   ]
  },
  {
   "cell_type": "markdown",
   "id": "0dbb253e",
   "metadata": {},
   "source": [
    "**Вывод:** Первая рекуламная кампании значительно увеличила стоимость продаж практически в каждый день её проведения."
   ]
  },
  {
   "cell_type": "markdown",
   "id": "b72a51ca",
   "metadata": {},
   "source": [
    "### 3.2.2. Проверка метрики \"Изменение частоты покупок\""
   ]
  },
  {
   "cell_type": "code",
   "execution_count": 9,
   "id": "6b4c5e9e",
   "metadata": {
    "ExecuteTime": {
     "end_time": "2023-11-06T23:08:55.040604Z",
     "start_time": "2023-11-06T23:08:55.015137Z"
    }
   },
   "outputs": [],
   "source": [
    "# Сформируем выборки по частоте покупок покупателями\n",
    "df_test_client = df_test.groupby('id').agg({'product': 'count'})\n",
    "df_control_client = df_control.groupby('id').agg({'product': 'count'})"
   ]
  },
  {
   "cell_type": "code",
   "execution_count": 10,
   "id": "6d1080ac",
   "metadata": {
    "ExecuteTime": {
     "end_time": "2023-11-06T23:08:56.955782Z",
     "start_time": "2023-11-06T23:08:56.931007Z"
    }
   },
   "outputs": [
    {
     "name": "stdout",
     "output_type": "stream",
     "text": [
      "\n",
      "Пользователь задал условие - выборки НЕЗАВИСИМЫЕ\n",
      "\n",
      "=================================================================\n",
      " Проверка каждой выборки на прараметричность тестом Шапира-Уилка\n",
      "=================================================================\n",
      " ЗНАЧЕНИЯ p-value ВЫБОРОК\n",
      "  - первая выборка: 0.000000%\n",
      "  - вторая выборка: 0.000000%\n",
      "--------------------------------------\n",
      " ВЫВОД: Одна или все выборки НЕПАРАМЕТРИЧЕСКИЕ (не распеределены по нормальному закону распределения)\n",
      "\n",
      "\n",
      "=================================================================================\n",
      "  Для сравнения выборок выбран тест: Критерий Мана-Уитни\n",
      "=================================================================================\n",
      " ЗНАЧЕНИЕ p-value при тестировании выборок: 0.000000%\n",
      "-------------------------------------------------------\n",
      " ВЫВОД: выборки статистически значимо РАЗЛИЧАЮТСЯ (гипотеза H1)\n"
     ]
    },
    {
     "data": {
      "text/plain": [
       "{'Условие зависимости выборок': 'no_dependency',\n",
       " 'Предпроверка 1': {'name_test': 'Тест Шапиро',\n",
       "  'p-value df1': 0.0,\n",
       "  'p-value df2': 0.0},\n",
       " 'Результат': {'name_test': 'Критерий Мана-Уитни',\n",
       "  'p-value': 4.0493932665489114e-109}}"
      ]
     },
     "execution_count": 10,
     "metadata": {},
     "output_type": "execute_result"
    }
   ],
   "source": [
    "# Применим разработанный класс (см. файл package.select_run_test)\n",
    "# для определения статистически значисого отличия сформированных выборок\n",
    "test = SampleComparisonTest(print_console_flag=True)\n",
    "test.select_run_test(df_test_client['product'], df_control_client['product'])"
   ]
  },
  {
   "cell_type": "code",
   "execution_count": 11,
   "id": "dc14eabc",
   "metadata": {
    "ExecuteTime": {
     "end_time": "2023-11-06T23:09:02.448934Z",
     "start_time": "2023-11-06T23:09:02.309781Z"
    }
   },
   "outputs": [
    {
     "name": "stderr",
     "output_type": "stream",
     "text": [
      "/opt/anaconda3/lib/python3.9/site-packages/seaborn/distributions.py:2619: FutureWarning: `distplot` is a deprecated function and will be removed in a future version. Please adapt your code to use either `displot` (a figure-level function with similar flexibility) or `kdeplot` (an axes-level function for kernel density plots).\n",
      "  warnings.warn(msg, FutureWarning)\n",
      "/opt/anaconda3/lib/python3.9/site-packages/seaborn/distributions.py:2619: FutureWarning: `distplot` is a deprecated function and will be removed in a future version. Please adapt your code to use either `displot` (a figure-level function with similar flexibility) or `kdeplot` (an axes-level function for kernel density plots).\n",
      "  warnings.warn(msg, FutureWarning)\n"
     ]
    },
    {
     "data": {
      "image/png": "[encoded data removed]",
      "text/plain": [
       "<Figure size 1200x300 with 2 Axes>"
      ]
     },
     "metadata": {},
     "output_type": "display_data"
    }
   ],
   "source": [
    "# Визуализируем распределения\n",
    "fig, axs = plt.subplots(1, 2, figsize=(12, 3))\n",
    "axs[0].set_title('ЧАСТОТА ПОКУПОК')\n",
    "axs[0].set_ylabel('Клиенты, ед.')\n",
    "axs[0].set_xlabel('Количество покупок')\n",
    "axs[0].set_xlim(0, 36)\n",
    "axs[1].set_title('ПЛОТНОСТЬ ВЕРОЯТНОСТИ ПОКУПКИ')\n",
    "axs[1].set_ylabel('Вероятность')\n",
    "axs[1].set_xlim(0, 36)\n",
    "axs[0].hist(df_test_client['product'], color='green',  width=+6)\n",
    "axs[0].hist(df_control_client['product'], color='gray', width=+5.1)\n",
    "axs[1] = sns.distplot(df_test_client['product'], hist=False, kde=True, color='green',\n",
    "                      label='Тестовая группа', kde_kws = {'linewidth': 3})\n",
    "axs[1] = sns.distplot(df_control_client['product'], hist=False, kde=True, color='gray',\n",
    "                      label='Контрольная группа', kde_kws = {'shade': True, 'linewidth': 2})\n",
    "plt.xlabel('Количество покупок')\n",
    "plt.legend();"
   ]
  },
  {
   "cell_type": "markdown",
   "id": "612890f8",
   "metadata": {},
   "source": [
    "**Вывод:** Значительно возрасло количество клиентов, совершивших несколько покупок, что свидетельствует об эффективности рекланой кампании, которая привлекает клиентов за повторными покупками. Частота покупок, а следовательно и посещений клиентами магазинов стало более равномерным что позитивно для нагрузки на инфраструктуру обслуживания, так как требует более равного количества обслуживающего персонала в разные периоды работы магазинов. Это также подтверждается возросшей плотностью вероятности покупок (посещений) практисчески у всех клиентов, совершивших 3 и более покупок."
   ]
  },
  {
   "cell_type": "markdown",
   "id": "bb08b197",
   "metadata": {},
   "source": [
    "### 3.2.3. Проверка метрики \"Увеличение частоты и суммы покупок наиболее состоятельными клиентами\""
   ]
  },
  {
   "cell_type": "code",
   "execution_count": 12,
   "id": "ddc3dbd7",
   "metadata": {
    "ExecuteTime": {
     "end_time": "2023-11-06T23:09:16.810134Z",
     "start_time": "2023-11-06T23:09:16.772682Z"
    }
   },
   "outputs": [
    {
     "name": "stderr",
     "output_type": "stream",
     "text": [
      "/var/folders/5h/1vkpjwr90l19cmzfgsfrcpvm0000gp/T/ipykernel_40627/2882487264.py:12: SettingWithCopyWarning: \n",
      "A value is trying to be set on a copy of a slice from a DataFrame.\n",
      "Try using .loc[row_indexer,col_indexer] = value instead\n",
      "\n",
      "See the caveats in the documentation: https://pandas.pydata.org/pandas-docs/stable/user_guide/indexing.html#returning-a-view-versus-a-copy\n",
      "  df_test['age_rank'] = df_test['age'].apply(lambda x: age_rank(x))\n",
      "/var/folders/5h/1vkpjwr90l19cmzfgsfrcpvm0000gp/T/ipykernel_40627/2882487264.py:13: SettingWithCopyWarning: \n",
      "A value is trying to be set on a copy of a slice from a DataFrame.\n",
      "Try using .loc[row_indexer,col_indexer] = value instead\n",
      "\n",
      "See the caveats in the documentation: https://pandas.pydata.org/pandas-docs/stable/user_guide/indexing.html#returning-a-view-versus-a-copy\n",
      "  df_control['age_rank'] = df_control['age'].apply(lambda x: age_rank(x))\n"
     ]
    }
   ],
   "source": [
    "# Функция разметки данных по возрастным категориям \n",
    "# данные из статьи: https://blog.domclick.ru/ipoteka/post/kazhduyu-desyatuyu-ipoteku-v-sbere-berut-molodye-lyudi-analitika-domklik\n",
    "def age_rank(age):\n",
    "    if   age < 26: return 1 # меньшие доходы\n",
    "    elif age < 31: return 2 # средние доходы\n",
    "    elif age < 41: return 3 # наибольшие доходы\n",
    "    elif age < 51: return 3 # наибольшие доходы\n",
    "    elif age < 61: return 2 # средние доходы\n",
    "    else: return 1 # меншие доходы\n",
    "    \n",
    "# Разметим данные \n",
    "df_test['age_rank'] = df_test['age'].apply(lambda x: age_rank(x))\n",
    "df_control['age_rank'] = df_control['age'].apply(lambda x: age_rank(x))"
   ]
  },
  {
   "cell_type": "code",
   "execution_count": 14,
   "id": "aee21483",
   "metadata": {
    "ExecuteTime": {
     "end_time": "2023-11-06T23:09:28.707009Z",
     "start_time": "2023-11-06T23:09:28.688147Z"
    }
   },
   "outputs": [],
   "source": [
    "# Сформируем выборки по возрастным категориям и стоимости покупок\n",
    "df_test_age = df_test.groupby('age_rank').agg({'cost': 'sum'})\n",
    "df_control_age = df_control.groupby('age_rank').agg({'cost': 'sum'})"
   ]
  },
  {
   "cell_type": "code",
   "execution_count": 15,
   "id": "43f8e733",
   "metadata": {
    "ExecuteTime": {
     "end_time": "2023-11-06T23:09:31.753218Z",
     "start_time": "2023-11-06T23:09:31.736596Z"
    }
   },
   "outputs": [
    {
     "name": "stdout",
     "output_type": "stream",
     "text": [
      "\n",
      "Пользователь задал условие - выборки НЕЗАВИСИМЫЕ\n",
      "\n",
      "=================================================================\n",
      " Проверка каждой выборки на прараметричность тестом Шапира-Уилка\n",
      "=================================================================\n",
      " ЗНАЧЕНИЯ p-value ВЫБОРОК\n",
      "  - первая выборка: 6.376481%\n",
      "  - вторая выборка: 8.279554%\n",
      "--------------------------------------\n",
      " ВЫВОД: Все выборки ПАРАМЕТРИЧЕСКИЕ (распеределены по нормальному закону распределения)\n",
      "\n",
      "====================================================\n",
      " Проверка равенства Дисперсий выборок тестом Левене\n",
      "====================================================\n",
      " ЗНАЧЕНИЕ p-value: 75.567725%\n",
      "--------------------------------------\n",
      " ВЫВОД: Дисперсии выборок - РАВНЫЕ\n",
      "\n",
      "\n",
      "=================================================================================\n",
      "  Для сравнения выборок выбран тест: Т-критерий Стьюдента\n",
      "=================================================================================\n",
      " ЗНАЧЕНИЕ p-value при тестировании выборок: 38.020606%\n",
      "-------------------------------------------------------\n",
      " ВЫВОД: выборки статистически значимо НЕ ИМЕЮТ РАЗНИЦЫ (гипотеза H0)\n"
     ]
    },
    {
     "data": {
      "text/plain": [
       "{'Условие зависимости выборок': 'no_dependency',\n",
       " 'Предпроверка 1': {'name_test': 'Тест Шапиро',\n",
       "  'p-value df1': 0.06376481056213379,\n",
       "  'p-value df2': 0.08279553800821304},\n",
       " 'Предпроверка 2': {'name_test': 'Тест Левене', 'p-value': 0.7556772546730324},\n",
       " 'Результат': {'name_test': 'Т-критерий Стьюдента',\n",
       "  'p-value': 0.3802060638211032}}"
      ]
     },
     "execution_count": 15,
     "metadata": {},
     "output_type": "execute_result"
    }
   ],
   "source": [
    "# Применим разработанный класс (см. файл package.select_run_test)\n",
    "# для определения статистически значисого отличия сформированных выборок\n",
    "test = SampleComparisonTest(print_console_flag=True)\n",
    "test.select_run_test(df_test_age['cost'], df_control_age['cost'])"
   ]
  },
  {
   "cell_type": "code",
   "execution_count": 16,
   "id": "464a978f",
   "metadata": {
    "ExecuteTime": {
     "end_time": "2023-11-06T23:09:36.449125Z",
     "start_time": "2023-11-06T23:09:36.422055Z"
    }
   },
   "outputs": [],
   "source": [
    "# Сформируем выборки по возрастным категориям и частоте покупок\n",
    "df_test_age = df_test.groupby('age_rank').agg({'product': 'count'})\n",
    "df_control_age = df_control.groupby('age_rank').agg({'product': 'count'})"
   ]
  },
  {
   "cell_type": "code",
   "execution_count": 17,
   "id": "7310d853",
   "metadata": {
    "ExecuteTime": {
     "end_time": "2023-11-06T23:09:38.854054Z",
     "start_time": "2023-11-06T23:09:38.838165Z"
    }
   },
   "outputs": [
    {
     "name": "stdout",
     "output_type": "stream",
     "text": [
      "\n",
      "Пользователь задал условие - выборки НЕЗАВИСИМЫЕ\n",
      "\n",
      "=================================================================\n",
      " Проверка каждой выборки на прараметричность тестом Шапира-Уилка\n",
      "=================================================================\n",
      " ЗНАЧЕНИЯ p-value ВЫБОРОК\n",
      "  - первая выборка: 13.581373%\n",
      "  - вторая выборка: 11.491381%\n",
      "--------------------------------------\n",
      " ВЫВОД: Все выборки ПАРАМЕТРИЧЕСКИЕ (распеределены по нормальному закону распределения)\n",
      "\n",
      "====================================================\n",
      " Проверка равенства Дисперсий выборок тестом Левене\n",
      "====================================================\n",
      " ЗНАЧЕНИЕ p-value: 71.835853%\n",
      "--------------------------------------\n",
      " ВЫВОД: Дисперсии выборок - РАВНЫЕ\n",
      "\n",
      "\n",
      "=================================================================================\n",
      "  Для сравнения выборок выбран тест: Т-критерий Стьюдента\n",
      "=================================================================================\n",
      " ЗНАЧЕНИЕ p-value при тестировании выборок: 39.650172%\n",
      "-------------------------------------------------------\n",
      " ВЫВОД: выборки статистически значимо НЕ ИМЕЮТ РАЗНИЦЫ (гипотеза H0)\n"
     ]
    },
    {
     "data": {
      "text/plain": [
       "{'Условие зависимости выборок': 'no_dependency',\n",
       " 'Предпроверка 1': {'name_test': 'Тест Шапиро',\n",
       "  'p-value df1': 0.13581372797489166,\n",
       "  'p-value df2': 0.11491381376981735},\n",
       " 'Предпроверка 2': {'name_test': 'Тест Левене', 'p-value': 0.7183585280977867},\n",
       " 'Результат': {'name_test': 'Т-критерий Стьюдента',\n",
       "  'p-value': 0.39650172030040165}}"
      ]
     },
     "execution_count": 17,
     "metadata": {},
     "output_type": "execute_result"
    }
   ],
   "source": [
    "# Применим разработанный класс (см. файл package.select_run_test)\n",
    "# для определения статистически значисого отличия сформированных выборок\n",
    "test = SampleComparisonTest(print_console_flag=True)\n",
    "test.select_run_test(df_test_age['product'], df_control_age['product'])"
   ]
  },
  {
   "cell_type": "markdown",
   "id": "71733d19",
   "metadata": {},
   "source": [
    "**Вывод:** проведение рекламной кампании не позволило увеличить стоимость и частоту покупок более состоятельной группой клиентов."
   ]
  },
  {
   "cell_type": "markdown",
   "id": "2ec02ce0",
   "metadata": {},
   "source": [
    "**Общие выводы**:\n",
    "1) Рекламная кампания мотивировала большее количество клиентов на повторные покупки и значительно увеличила выручку. Это с одно стороны позволит снизить издержк и на инфраструктуру обслуживания клинетов, так как она будет загружена более равномерно, а с другой стороны увеличит доходы за счёт повтороного возврата клиентов, ожидающих дополнительных акций. Для поддержания эффекта целесообразно посторять такие рекламные кампании с сезонной периодичночтью.  \n",
    "2) Однако, в отношении наиболее состоятельных групп клиентов - в будущих кампаниях рекомендуется акцентировать внимание на конкретных возростных групах, таким образом, чтобы наиболее сильно мотивировать к повторным покупкам группы клиентов со средним и высоким доходом (от 31 до 61 года), которые смогут в будущем совершать более дорогие и более частые покупки."
   ]
  },
  {
   "cell_type": "markdown",
   "id": "019e07d7",
   "metadata": {},
   "source": [
    "## 3.3. Оценка второй рекламной кампании"
   ]
  },
  {
   "cell_type": "markdown",
   "id": "06ebede5",
   "metadata": {},
   "source": [
    "Поскольку вторая рекламная кампания проводилась на отдельной территории (город №1134) её эффективность можно проверить по изменившейся плотности вероятночти покупок покупателями в дни акции в данном городе в сравнении с другими городами."
   ]
  },
  {
   "cell_type": "code",
   "execution_count": 18,
   "id": "f698b18a",
   "metadata": {
    "ExecuteTime": {
     "end_time": "2023-11-06T23:10:00.221835Z",
     "start_time": "2023-11-06T23:10:00.165254Z"
    }
   },
   "outputs": [
    {
     "name": "stdout",
     "output_type": "stream",
     "text": [
      "Количество покупателей в городе 1134 (тестовая группа): 796\n",
      "Количество покупателей в других городах (контрольная группа): 1973\n"
     ]
    }
   ],
   "source": [
    "# Получим датасет выбранный для AB тестирования второй маркетенговой компании\n",
    "df_AB_2 = df_all[~df_all.test.isna()]\n",
    "df_test = df_AB_2[(df_AB_2.city == 1134) & (df_AB_2.dt.isin([15, 45]))]\n",
    "df_control = df_AB_2[(df_AB_2.city != 1134) & (df_AB_2.dt.isin([15, 45]))]\n",
    "# Сформируем выборки по частоте покупок покупателями\n",
    "df_test_client = df_test.groupby('id').agg({'product': 'count'})\n",
    "df_control_client = df_control.groupby('id').agg({'product': 'count'})\n",
    "print(f\"Количество покупателей в городе 1134 (тестовая группа): {len(df_test_client)}\")\n",
    "print(f\"Количество покупателей в других городах (контрольная группа): {len(df_control_client)}\")"
   ]
  },
  {
   "cell_type": "markdown",
   "id": "a18b9a4e",
   "metadata": {},
   "source": [
    "Так как вторая рекламна кампания проводилась через канал в конкретном городе, количесвто пользователей которого неконтролируется, то контрольную группу для такой кампании можно выбрать в качестве контрольной группы только покупателей на других территориях. Соответсвенно оценку проведённой рекламной кампании будем проводить по относительному показателю (плотность вероятности покупок), а значит балансировка размеров тестовой и контрольной выборок нецелесообразны."
   ]
  },
  {
   "cell_type": "code",
   "execution_count": 19,
   "id": "e27bfa80",
   "metadata": {
    "ExecuteTime": {
     "end_time": "2023-11-06T23:10:06.410986Z",
     "start_time": "2023-11-06T23:10:06.316851Z"
    }
   },
   "outputs": [
    {
     "name": "stderr",
     "output_type": "stream",
     "text": [
      "/opt/anaconda3/lib/python3.9/site-packages/seaborn/distributions.py:2619: FutureWarning: `distplot` is a deprecated function and will be removed in a future version. Please adapt your code to use either `displot` (a figure-level function with similar flexibility) or `kdeplot` (an axes-level function for kernel density plots).\n",
      "  warnings.warn(msg, FutureWarning)\n",
      "/opt/anaconda3/lib/python3.9/site-packages/seaborn/distributions.py:2619: FutureWarning: `distplot` is a deprecated function and will be removed in a future version. Please adapt your code to use either `displot` (a figure-level function with similar flexibility) or `kdeplot` (an axes-level function for kernel density plots).\n",
      "  warnings.warn(msg, FutureWarning)\n"
     ]
    },
    {
     "data": {
      "image/png": "[encoded data removed]",
      "text/plain": [
       "<Figure size 1200x300 with 1 Axes>"
      ]
     },
     "metadata": {},
     "output_type": "display_data"
    }
   ],
   "source": [
    "# Визуализируем распределения\n",
    "fig, ax = plt.subplots(figsize=(12, 3))\n",
    "ax.set_title('ПЛОТНОСТЬ ВЕРОЯТНОСТИ ПОКУПУКИ')\n",
    "ax.set_ylabel('Вероятность')\n",
    "ax.set_xlim(0, 12)\n",
    "ax = sns.distplot(df_test_client['product'],hist=False, kde=True, color='green',\n",
    "                  label='Тестовая группа', kde_kws = {'linewidth': 3})\n",
    "ax = sns.distplot(df_control_client['product'], hist=False, kde=True, color='gray',\n",
    "                  label='Контрольная группа', kde_kws = {'shade': True, 'linewidth': 2})\n",
    "plt.xlabel('Количество покупок')\n",
    "plt.legend();"
   ]
  },
  {
   "cell_type": "markdown",
   "id": "c936a1e6",
   "metadata": {},
   "source": [
    "**Вывод**: Вторая рекламная кампания снизила вероятноть 1 покупки, что является положительным фактором, в случае роста вероятности нескольких покупок, однако этого не произошло. Таким образом вторую рекламную кампанию можно прихзнать неудачной. В будущем её необходимо переработать, например сориентировав на группы с большей доходностью, либо отказаться от её проведения."
   ]
  },
  {
   "cell_type": "code",
   "execution_count": 20,
   "id": "2f7e94b3",
   "metadata": {
    "ExecuteTime": {
     "end_time": "2023-11-06T23:10:14.693128Z",
     "start_time": "2023-11-06T23:10:12.321771Z"
    }
   },
   "outputs": [
    {
     "name": "stdout",
     "output_type": "stream",
     "text": [
      "База данных подключена\n",
      "Таблица заполнена\n",
      "Соединение с базой данных закрыто\n"
     ]
    }
   ],
   "source": [
    "# Загрузим итоговый датаcет в хранилище (база данных sqlite3)\n",
    "connection = db.connect('data/purchases.db')\n",
    "print(\"База данных подключена\")\n",
    "df_all.to_sql(\"full_table\", connection, if_exists=\"replace\", index=False)\n",
    "print(\"Таблица заполнена\")\n",
    "connection.close()\n",
    "print(\"Соединение с базой данных закрыто\")"
   ]
  },
  {
   "cell_type": "code",
   "execution_count": 28,
   "id": "0e5cd0de",
   "metadata": {
    "ExecuteTime": {
     "end_time": "2023-11-03T14:27:37.750975Z",
     "start_time": "2023-11-03T14:27:37.731964Z"
    }
   },
   "outputs": [],
   "source": [
    "# Оптимизируем используемую память\n",
    "# Определяем список загруженных датафреймов\n",
    "dfs = []\n",
    "local_variable_scope =locals().keys()\n",
    "for elem in local_variable_scope:\n",
    "    if 'df' in elem:\n",
    "        dfs.append(elem)\n",
    "# Удаляем не используемые датафреймы\n",
    "for elem in dfs:\n",
    "    del locals()[elem]"
   ]
  },
  {
   "cell_type": "code",
   "execution_count": null,
   "id": "489410a4",
   "metadata": {},
   "outputs": [],
   "source": []
  }
 ],
 "metadata": {
  "kernelspec": {
   "display_name": "Python 3 (ipykernel)",
   "language": "python",
   "name": "python3"
  },
  "language_info": {
   "codemirror_mode": {
    "name": "ipython",
    "version": 3
   },
   "file_extension": ".py",
   "mimetype": "text/x-python",
   "name": "python",
   "nbconvert_exporter": "python",
   "pygments_lexer": "ipython3",
   "version": "3.9.13"
  },
  "toc": {
   "base_numbering": 1,
   "nav_menu": {},
   "number_sections": false,
   "sideBar": true,
   "skip_h1_title": false,
   "title_cell": "СОДЕРЖАНИЕ РАЗДЕЛА 3",
   "title_sidebar": "Contents",
   "toc_cell": true,
   "toc_position": {},
   "toc_section_display": true,
   "toc_window_display": true
  },
  "varInspector": {
   "cols": {
    "lenName": 16,
    "lenType": 16,
    "lenVar": 40
   },
   "kernels_config": {
    "python": {
     "delete_cmd_postfix": "",
     "delete_cmd_prefix": "del ",
     "library": "var_list.py",
     "varRefreshCmd": "print(var_dic_list())"
    },
    "r": {
     "delete_cmd_postfix": ") ",
     "delete_cmd_prefix": "rm(",
     "library": "var_list.r",
     "varRefreshCmd": "cat(var_dic_list()) "
    }
   },
   "types_to_exclude": [
    "module",
    "function",
    "builtin_function_or_method",
    "instance",
    "_Feature"
   ],
   "window_display": false
  }
 },
 "nbformat": 4,
 "nbformat_minor": 5
}
