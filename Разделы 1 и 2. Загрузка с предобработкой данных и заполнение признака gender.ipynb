{
 "cells": [
  {
   "cell_type": "markdown",
   "id": "d2c2dc13",
   "metadata": {
    "cell_style": "split"
   },
   "source": [
    "![](pictures/shopping_propensity.png)"
   ]
  },
  {
   "cell_type": "markdown",
   "id": "5ba1f770",
   "metadata": {
    "cell_style": "split"
   },
   "source": [
    "<b>  </b>  \n",
    "<b>  </b>  \n",
    "<b>  </b>  \n",
    "<b>  </b>  \n",
    "Ноутбук от 30.09.23 \n",
    "<b>  </b>  \n",
    "<b>  </b>  \n",
    "<b>  </b>  \n",
    "<b>  </b>  \n",
    "<b>  </b>  \n",
    "<b>  </b>  \n",
    "<b>  </b>   \n",
    "**_\"Data Science Analyst\"_  \n",
    "_МОДЕЛЬ СКЛОННОСТИ КЛИЕНТОВ К ПОКУПКАМ В ФЕДЕРАЛЬНОЙ СЕТИ ПРОДАЖ СПОРТИВНЫХ ТОВАРОВ_**  \n",
    "\n",
    "Выполнено по технологии CRISP-DM:  \n",
    "Аргентов Сергей, г.Липецк  \n",
    "https://argentov.pro\n",
    "<b>  </b>  \n",
    "<b>  </b>  "
   ]
  },
  {
   "cell_type": "markdown",
   "id": "eee88739",
   "metadata": {
    "toc": true
   },
   "source": [
    "<h1>СОДЕРЖАНИЕ РАЗДЕЛОВ 1 и 2<span class=\"tocSkip\"></span></h1>\n",
    "<div class=\"toc\"><ul class=\"toc-item\"><li><span><a href=\"#1.-Загрузка-и-предобработка-данных\" data-toc-modified-id=\"1.-Загрузка-и-предобработка-данных-1\">1. Загрузка и предобработка данных</a></span><ul class=\"toc-item\"><li><span><a href=\"#1.1.-Анализ-источников-данных\" data-toc-modified-id=\"1.1.-Анализ-источников-данных-1.1\">1.1. Анализ источников данных</a></span></li><li><span><a href=\"#1.2.-Устранение-пропусков-в-данных\" data-toc-modified-id=\"1.2.-Устранение-пропусков-в-данных-1.2\">1.2. Устранение пропусков в данных</a></span><ul class=\"toc-item\"><li><span><a href=\"#1.2.1.-Устранение-пропусков-значений-в-признаках-'product_sex'-и-'colour'\" data-toc-modified-id=\"1.2.1.-Устранение-пропусков-значений-в-признаках-'product_sex'-и-'colour'-1.2.1\">1.2.1. Устранение пропусков значений в признаках 'product_sex' и 'colour'</a></span></li><li><span><a href=\"#1.2.2.-Проверка-гипотезы-о-причинах-пропусков-значений-в-признаке-&quot;цвет&quot;\" data-toc-modified-id=\"1.2.2.-Проверка-гипотезы-о-причинах-пропусков-значений-в-признаке-&quot;цвет&quot;-1.2.2\">1.2.2. Проверка гипотезы о причинах пропусков значений в признаке \"цвет\"</a></span><ul class=\"toc-item\"><li><span><a href=\"#1.2.2.1.-Проверка-наличия-информации-об-уникальных-значениях-признака-&quot;цвет&quot;-в-наименовании-товара-с-пропущенными-значениями-признака-&quot;цвет&quot;\" data-toc-modified-id=\"1.2.2.1.-Проверка-наличия-информации-об-уникальных-значениях-признака-&quot;цвет&quot;-в-наименовании-товара-с-пропущенными-значениями-признака-&quot;цвет&quot;-1.2.2.1\">1.2.2.1. Проверка наличия информации об уникальных значениях признака \"цвет\" в наименовании товара с пропущенными значениями признака \"цвет\"</a></span></li><li><span><a href=\"#1.2.2.2.-Проверка-наличия-одноимённых-товаров-с-заполненным-значением-в-признаке-&quot;цвет&quot;-для-товаров-с-пропущенным-значением-в-признаке-&quot;цвет&quot;\" data-toc-modified-id=\"1.2.2.2.-Проверка-наличия-одноимённых-товаров-с-заполненным-значением-в-признаке-&quot;цвет&quot;-для-товаров-с-пропущенным-значением-в-признаке-&quot;цвет&quot;-1.2.2.2\">1.2.2.2. Проверка наличия одноимённых товаров с заполненным значением в признаке \"цвет\" для товаров с пропущенным значением в признаке \"цвет\"</a></span></li><li><span><a href=\"#1.2.2.3.-Заполнение-признака-цвет-для-оставшихся-3,2-тыс.-товаров-при-наличии-соответсвующих-сведений-в-наименовании-товара,-не-определённых-автоматически\" data-toc-modified-id=\"1.2.2.3.-Заполнение-признака-цвет-для-оставшихся-3,2-тыс.-товаров-при-наличии-соответсвующих-сведений-в-наименовании-товара,-не-определённых-автоматически-1.2.2.3\">1.2.2.3. Заполнение признака цвет для оставшихся 3,2 тыс. товаров при наличии соответсвующих сведений в наименовании товара, не определённых автоматически</a></span></li><li><span><a href=\"#1.2.2.4.-Проверка-однородности-значений-признаков-&quot;цвет&quot;\" data-toc-modified-id=\"1.2.2.4.-Проверка-однородности-значений-признаков-&quot;цвет&quot;-1.2.2.4\">1.2.2.4. Проверка однородности значений признаков \"цвет\"</a></span></li></ul></li></ul></li></ul></li><li><span><a href=\"#2.-Обогащение-данных-таблицы-personal_data\" data-toc-modified-id=\"2.-Обогащение-данных-таблицы-personal_data-2\">2. Обогащение данных таблицы personal_data</a></span><ul class=\"toc-item\"><li><span><a href=\"#2.1.-Загрузка-данных-из-дополнительного-источника\" data-toc-modified-id=\"2.1.-Загрузка-данных-из-дополнительного-источника-2.1\">2.1. Загрузка данных из дополнительного источника</a></span></li><li><span><a href=\"#2.2.-Восстановление-данных-признака-gender-моделями-машинного-обучения\" data-toc-modified-id=\"2.2.-Восстановление-данных-признака-gender-моделями-машинного-обучения-2.2\">2.2. Восстановление данных признака gender моделями машинного обучения</a></span></li></ul></li></ul></div>"
   ]
  },
  {
   "cell_type": "code",
   "execution_count": 1,
   "id": "7d67c532",
   "metadata": {
    "ExecuteTime": {
     "end_time": "2023-11-07T00:20:03.061772Z",
     "start_time": "2023-11-07T00:20:02.198845Z"
    }
   },
   "outputs": [],
   "source": [
    "# Загрузка биьлиотек\n",
    "import pandas as pd\n",
    "import sqlite3 as db\n",
    "\n",
    "import datetime as dt\n",
    "import multiprocessing\n",
    "from multiprocessing import Pool, Manager\n",
    "\n",
    "from sklearn.preprocessing import LabelEncoder\n",
    "from sklearn.neighbors import LocalOutlierFactor\n",
    "from sklearn.ensemble import IsolationForest\n",
    "import pprint\n",
    "from sklearn.preprocessing import OneHotEncoder, StandardScaler, OrdinalEncoder\n",
    "\n",
    "from sklearn.model_selection import train_test_split\n",
    "\n",
    "from sklearn.ensemble import RandomForestClassifier\n",
    "from sklearn.linear_model import LogisticRegression\n",
    "from sklearn.neural_network import MLPClassifier\n",
    "\n",
    "from sklearn.metrics import accuracy_score\n",
    "from package.select_run_test import SampleComparisonTest\n",
    "\n",
    "# Загрузим функции поиска во всех записях о товаре наиболее часто встречающихся значений признака \"цвет\"\n",
    "# для наименований товаров, по которым есть записи с незаполненым признаком \"цвет\"\n",
    "# (функции написаны в отдельном модуле для обеспечения требований блиотеки  multiprocessing)\n",
    "from package.preparation import add_freq_product_color, freq_product_color\n",
    "\n",
    "import matplotlib.pyplot as plt\n",
    "import seaborn as sns\n",
    "\n",
    "from matplotlib.ticker import FormatStrFormatter\n",
    "\n",
    "from sklearn.preprocessing import StandardScaler\n",
    "from sklearn.manifold import TSNE\n",
    "from sklearn.cluster import AgglomerativeClustering, KMeans\n",
    "from sklearn.metrics import silhouette_score"
   ]
  },
  {
   "cell_type": "markdown",
   "id": "a32826d4",
   "metadata": {},
   "source": [
    "# 1. Загрузка и предобработка данных"
   ]
  },
  {
   "cell_type": "markdown",
   "id": "84984c98",
   "metadata": {},
   "source": [
    "## 1.1. Анализ источников данных"
   ]
  },
  {
   "cell_type": "code",
   "execution_count": 2,
   "id": "856bbd30",
   "metadata": {
    "ExecuteTime": {
     "end_time": "2023-11-07T00:20:21.127743Z",
     "start_time": "2023-11-07T00:20:19.656954Z"
    }
   },
   "outputs": [
    {
     "name": "stdout",
     "output_type": "stream",
     "text": [
      "\n",
      "purchases\n",
      "<class 'pandas.core.frame.DataFrame'>\n",
      "RangeIndex: 786260 entries, 0 to 786259\n",
      "Data columns (total 7 columns):\n",
      " #   Column       Non-Null Count   Dtype  \n",
      "---  ------       --------------   -----  \n",
      " 0   id           786260 non-null  int64  \n",
      " 1   product      786260 non-null  object \n",
      " 2   colour       666736 non-null  object \n",
      " 3   cost         786260 non-null  int64  \n",
      " 4   product_sex  471548 non-null  float64\n",
      " 5   base_sale    786260 non-null  int64  \n",
      " 6   dt           786260 non-null  int64  \n",
      "dtypes: float64(1), int64(4), object(2)\n",
      "memory usage: 42.0+ MB\n",
      "None\n",
      "\n",
      "personal_data_coeffs\n",
      "<class 'pandas.core.frame.DataFrame'>\n",
      "RangeIndex: 104989 entries, 0 to 104988\n",
      "Data columns (total 5 columns):\n",
      " #   Column         Non-Null Count   Dtype  \n",
      "---  ------         --------------   -----  \n",
      " 0   id             104989 non-null  int64  \n",
      " 1   lbt_coef       104989 non-null  float64\n",
      " 2   ac_coef        104989 non-null  float64\n",
      " 3   sm_coef        104989 non-null  float64\n",
      " 4   personal_coef  104989 non-null  float64\n",
      "dtypes: float64(4), int64(1)\n",
      "memory usage: 4.0 MB\n",
      "None\n",
      "\n",
      "personal_data\n",
      "<class 'pandas.core.frame.DataFrame'>\n",
      "RangeIndex: 89241 entries, 0 to 89240\n",
      "Data columns (total 6 columns):\n",
      " #   Column     Non-Null Count  Dtype \n",
      "---  ------     --------------  ----- \n",
      " 0   id         89241 non-null  int64 \n",
      " 1   gender     89241 non-null  int64 \n",
      " 2   age        89241 non-null  int64 \n",
      " 3   education  89241 non-null  object\n",
      " 4   city       89241 non-null  int64 \n",
      " 5   country    89241 non-null  int64 \n",
      "dtypes: int64(5), object(1)\n",
      "memory usage: 4.1+ MB\n",
      "None\n"
     ]
    }
   ],
   "source": [
    "# Предоставленная база данных\n",
    "with db.connect('data/result_data/shop_database.db') as con:\n",
    "    rows = con.cursor().execute(\"SELECT name FROM sqlite_master WHERE type='table';\").fetchall()\n",
    "    dfs = {}\n",
    "    for row in rows:\n",
    "        dfs[row[0]] = pd.read_sql(f'SELECT * FROM {row[0]}', con)\n",
    "        print(f'\\n{row[0]}')\n",
    "        print(dfs[row[0]].info())"
   ]
  },
  {
   "cell_type": "markdown",
   "id": "ba89cdd6",
   "metadata": {},
   "source": [
    "## 1.2. Устранение пропусков в данных"
   ]
  },
  {
   "cell_type": "markdown",
   "id": "c264fa5a",
   "metadata": {},
   "source": [
    "### 1.2.1. Устранение пропусков значений в признаках 'product_sex' и 'colour'"
   ]
  },
  {
   "cell_type": "markdown",
   "id": "2587012e",
   "metadata": {},
   "source": [
    "Пропущенные значения есть в таблице `product_sex` (15%) и `colour` (40%). Это может быть следствием технической/организационой ошибок при заполнении данных или может отображать следующее:  \n",
    "- для признака `product_sex` в случае унисекс товаров данные о гендерной принадлежности потенциальных покупателей товара не проставлялась,\n",
    "- для признака `colour` часть информации могла попасть в наименование товара, часть информации может быть получены из информации по одноимённым товарам, а в случае когда товар не имеет цветовой характеристики (пищевые продукты, лекарственные средствва и т.п. или товары с незафиксированным признаком цвета по техническим или организационным причинам) цвет товара не проставлялся.  \n",
    "Проверим вышеуказанные гипотизы"
   ]
  },
  {
   "cell_type": "code",
   "execution_count": 3,
   "id": "77656531",
   "metadata": {
    "ExecuteTime": {
     "end_time": "2023-11-07T00:20:25.865650Z",
     "start_time": "2023-11-07T00:20:25.684996Z"
    }
   },
   "outputs": [
    {
     "name": "stdout",
     "output_type": "stream",
     "text": [
      "Уникальные значения гендерной принадлежности потенциального покупателя: [nan  0.  1.]\n",
      "Количесвто уникальных товаров: 23145\n"
     ]
    }
   ],
   "source": [
    "# Соберём уникальный перечень покупок\n",
    "df_product_sex = dfs['purchases'].groupby('product').agg({'product_sex': 'max'})\n",
    "df_product_sex['product'] = df_product_sex.index\n",
    "df_product_sex.reset_index(drop=True, inplace=True)\n",
    "print(f'Уникальные значения гендерной принадлежности '\n",
    "      f'потенциального покупателя: {df_product_sex.product_sex.unique()}\\n'\n",
    "      f'Количесвто уникальных товаров: {len(df_product_sex)}')"
   ]
  },
  {
   "cell_type": "code",
   "execution_count": 4,
   "id": "565c0a41",
   "metadata": {
    "ExecuteTime": {
     "end_time": "2023-11-07T00:20:26.601990Z",
     "start_time": "2023-11-07T00:20:26.564880Z"
    }
   },
   "outputs": [],
   "source": [
    "# Функция проверки какие покупки и с какими признаками гендерной принадлежности\n",
    "# имеют в наименовании товара слова 'муж, жен'\n",
    "def check_product_name_sex(x, fit) -> int:\n",
    "    if fit in x:\n",
    "        return 1\n",
    "    else:\n",
    "        return 0\n",
    "\n",
    "df_product_sex['муж'] = df_product_sex['product'].\\\n",
    "                        apply(lambda x:check_product_name_sex(x,'муж'))\n",
    "df_product_sex['жен'] = df_product_sex['product'].\\\n",
    "                        apply(lambda x: check_product_name_sex(x,'жен'))"
   ]
  },
  {
   "cell_type": "code",
   "execution_count": 5,
   "id": "e8407d43",
   "metadata": {
    "ExecuteTime": {
     "end_time": "2023-11-07T00:20:27.644759Z",
     "start_time": "2023-11-07T00:20:27.514985Z"
    }
   },
   "outputs": [
    {
     "data": {
      "text/plain": [
       "0"
      ]
     },
     "execution_count": 5,
     "metadata": {},
     "output_type": "execute_result"
    }
   ],
   "source": [
    "# Проверим все ли товары,\n",
    "# не имеющие гендерной принадлежности потенциального покупателя\n",
    "# не имеют в названии явного указания на пол 'муж', 'жен'\n",
    "df_product_sex['унисекс'] = df_product_sex.\\\n",
    "                            apply(lambda x: 1\n",
    "                                 if x['муж'] == 0 and x['жен'] == 0\n",
    "                                 else 0,\n",
    "                                 axis=1)\n",
    "# Определим количество строк где в названиии продукта нет гендерной принадлежности\n",
    "# потенциального покупатнлы и не проставлены соответсвующие признаки\n",
    "len(df_product_sex[(df_product_sex['унисекс'] != 1) & (df_product_sex.product_sex.isna())])"
   ]
  },
  {
   "cell_type": "markdown",
   "id": "0da78e43",
   "metadata": {},
   "source": [
    "**Вывод:** В признаке `product_sex` пропущенные данные с большой вероятностью обозначают что товар пренадлежит к категории `унисекс`. Для возможности использования данного признака в дальнейшем проставим ему в датасете значение 2.0"
   ]
  },
  {
   "cell_type": "code",
   "execution_count": 6,
   "id": "324650a1",
   "metadata": {
    "ExecuteTime": {
     "end_time": "2023-11-07T00:20:29.504802Z",
     "start_time": "2023-11-07T00:20:29.485458Z"
    }
   },
   "outputs": [],
   "source": [
    "# Заменим пустые значения признака `product_sex` на значение 2.0\n",
    "dfs['purchases'].product_sex = dfs['purchases'].product_sex.fillna(2.0)"
   ]
  },
  {
   "cell_type": "markdown",
   "id": "ef905ace",
   "metadata": {},
   "source": [
    "### 1.2.2. Проверка гипотезы о причинах пропусков значений в признаке \"цвет\""
   ]
  },
  {
   "cell_type": "code",
   "execution_count": 7,
   "id": "44b49313",
   "metadata": {
    "ExecuteTime": {
     "end_time": "2023-11-07T00:20:30.916206Z",
     "start_time": "2023-11-07T00:20:30.864412Z"
    }
   },
   "outputs": [
    {
     "data": {
      "text/plain": [
       "15.2"
      ]
     },
     "execution_count": 7,
     "metadata": {},
     "output_type": "execute_result"
    }
   ],
   "source": [
    "# Определим первоначальный процент строк без заполненного значения признака \"цвет\"\n",
    "round((len(dfs['purchases'][dfs['purchases']['colour'].isna()])/len(dfs['purchases'])) * 100, 2)"
   ]
  },
  {
   "cell_type": "markdown",
   "id": "3682d7d2",
   "metadata": {},
   "source": [
    "#### 1.2.2.1. Проверка наличия информации об уникальных значениях признака \"цвет\" в наименовании товара с пропущенными значениями признака \"цвет\""
   ]
  },
  {
   "cell_type": "code",
   "execution_count": 8,
   "id": "bc8cfddf",
   "metadata": {
    "ExecuteTime": {
     "end_time": "2023-11-07T00:20:32.928447Z",
     "start_time": "2023-11-07T00:20:32.331125Z"
    }
   },
   "outputs": [
    {
     "name": "stdout",
     "output_type": "stream",
     "text": [
      "Количесвто уникальных цветов: 361\n"
     ]
    }
   ],
   "source": [
    "# Создадим множество используемых названий цветов в товарах с проставленным признаком \"цвет\"\n",
    "colors = list(dfs['purchases'][~dfs['purchases']['colour'].isna()]['colour'].\n",
    "              apply(lambda x: x.split('/')))\n",
    "colors_all = []\n",
    "for color in colors:\n",
    "    if isinstance(color, list):\n",
    "        colors_all.extend(color)\n",
    "colors_set = set(colors_all)\n",
    "print(f'Количесвто уникальных цветов: {len(colors_set)}')"
   ]
  },
  {
   "cell_type": "code",
   "execution_count": 9,
   "id": "875adda3",
   "metadata": {
    "ExecuteTime": {
     "end_time": "2023-11-07T00:20:33.301640Z",
     "start_time": "2023-11-07T00:20:33.299582Z"
    }
   },
   "outputs": [],
   "source": [
    "# Функция проверки наличия информации о цвете товара в наименовании товара\n",
    "def check_name_product(product):\n",
    "    colors = []\n",
    "    for word in product.split(' '):\n",
    "        if word in colors_set:\n",
    "            colors.append(word)\n",
    "    if len(colors):\n",
    "        return '/'.join(colors)"
   ]
  },
  {
   "cell_type": "code",
   "execution_count": 10,
   "id": "ff6f411e",
   "metadata": {
    "ExecuteTime": {
     "end_time": "2023-11-07T00:20:34.357195Z",
     "start_time": "2023-11-07T00:20:34.236419Z"
    }
   },
   "outputs": [
    {
     "name": "stderr",
     "output_type": "stream",
     "text": [
      "/var/folders/5h/1vkpjwr90l19cmzfgsfrcpvm0000gp/T/ipykernel_41442/1099927576.py:3: SettingWithCopyWarning: \n",
      "A value is trying to be set on a copy of a slice from a DataFrame.\n",
      "Try using .loc[row_indexer,col_indexer] = value instead\n",
      "\n",
      "See the caveats in the documentation: https://pandas.pydata.org/pandas-docs/stable/user_guide/indexing.html#returning-a-view-versus-a-copy\n",
      "  df_non_colors['colorus_new'] = df_non_colors['product'].apply(lambda x: check_name_product(x))\n"
     ]
    }
   ],
   "source": [
    "# Получим датасет с отсутствующими значениями в признаке \"цвет\"\n",
    "df_non_colors = dfs['purchases'][dfs['purchases']['colour'].isna()]\n",
    "df_non_colors['colorus_new'] = df_non_colors['product'].apply(lambda x: check_name_product(x))\n",
    "indexs_color = df_non_colors[~df_non_colors['colorus_new'].isna()]['colorus_new']"
   ]
  },
  {
   "cell_type": "code",
   "execution_count": 11,
   "id": "694b1e65",
   "metadata": {
    "ExecuteTime": {
     "end_time": "2023-11-07T00:20:36.119916Z",
     "start_time": "2023-11-07T00:20:35.844868Z"
    }
   },
   "outputs": [],
   "source": [
    "# Добавим полученные цвета в столбец датасета с покупками\n",
    "for index, new_color in zip(indexs_color.index, indexs_color[indexs_color.index]):\n",
    "    dfs['purchases'].loc[index, ['colour']] = new_color"
   ]
  },
  {
   "cell_type": "code",
   "execution_count": 12,
   "id": "e70f78e9",
   "metadata": {
    "ExecuteTime": {
     "end_time": "2023-11-07T00:20:36.997181Z",
     "start_time": "2023-11-07T00:20:36.936013Z"
    }
   },
   "outputs": [
    {
     "data": {
      "text/plain": [
       "15.04"
      ]
     },
     "execution_count": 12,
     "metadata": {},
     "output_type": "execute_result"
    }
   ],
   "source": [
    "# Процент строк без заполненного значения признака \"цвет\" после первого этапа предобработки данных\n",
    "round((len(dfs['purchases'][dfs['purchases']['colour'].isna()])/len(dfs['purchases'])) * 100, 2)"
   ]
  },
  {
   "cell_type": "markdown",
   "id": "4979bd19",
   "metadata": {},
   "source": [
    "**Вывод:** Данным методом удалось добавить только 0.16% значений признака \"цвет\""
   ]
  },
  {
   "cell_type": "markdown",
   "id": "5dc763e7",
   "metadata": {},
   "source": [
    "#### 1.2.2.2. Проверка наличия одноимённых товаров с заполненным значением в признаке \"цвет\" для товаров с пропущенным значением в признаке \"цвет\""
   ]
  },
  {
   "cell_type": "markdown",
   "id": "15dc6762",
   "metadata": {},
   "source": [
    "Проставим каждому товару из списка товаров без признака \"цвет\" наиболее часто встречающееся значение цвета.  \n",
    "Для экономии времени при расчёте выполним присвоение в мультипроцессорном режиме."
   ]
  },
  {
   "cell_type": "code",
   "execution_count": 14,
   "id": "95413087",
   "metadata": {
    "ExecuteTime": {
     "end_time": "2023-11-07T00:20:43.946686Z",
     "start_time": "2023-11-07T00:20:43.553092Z"
    }
   },
   "outputs": [],
   "source": [
    "# Сформируем датасеты:\n",
    "\n",
    "# df_1 - датасет, в котором среди уникальных наименований товара будем искать такие товары,\n",
    "#        в которых проставлено наиболее часто встречающееся значение признака \"цвет\"\n",
    "#        для каждого товара\n",
    "df_1 = dfs['purchases'][['product', 'colour']]\n",
    "\n",
    "# df_2 - датасет в котором сформируем список всех уникальных товаров\n",
    "#        с пропущенным значение признака \"цвет\"\n",
    "df_2 = df_1[df_1['colour'].isna()].groupby('product').agg({'colour': 'max'})\n",
    "df_2.reset_index(inplace=True)"
   ]
  },
  {
   "cell_type": "code",
   "execution_count": 15,
   "id": "b4db6b00",
   "metadata": {
    "ExecuteTime": {
     "end_time": "2023-11-07T00:20:44.384267Z",
     "start_time": "2023-11-07T00:20:44.382113Z"
    }
   },
   "outputs": [
    {
     "name": "stdout",
     "output_type": "stream",
     "text": [
      "Количество доступных процессоров: 9\n",
      "Размеры подмассивов: 1308 \n",
      "\n"
     ]
    }
   ],
   "source": [
    "######   ЗАПУСКАЕМ РАСЧЁТЫ В МНОГОПРОЦЕССОРНОМ РЕЖИМЕ   ######\n",
    "# 1. Рассчитываем количество ядер процесса, которые можно задействовать для вычислений\n",
    "#    (уменьшаем количество доступных ядер на 1 ядро, которое оставляем на системные потребности)\n",
    "n_cpu = multiprocessing.cpu_count() - 1\n",
    "print('Количество доступных процессоров:', n_cpu)\n",
    "\n",
    "# 2. Расчитаем минимальный размер обрабатываемых парралельно подмассивов\n",
    "# (по кратности ядер, которые будем использовать)\n",
    "val_sub = int(len(df_2)/n_cpu)\n",
    "print('Размеры подмассивов:', val_sub, '\\n')"
   ]
  },
  {
   "cell_type": "code",
   "execution_count": 16,
   "id": "5909d06d",
   "metadata": {
    "ExecuteTime": {
     "end_time": "2023-11-07T00:22:06.373683Z",
     "start_time": "2023-11-07T00:20:49.578771Z"
    }
   },
   "outputs": [
    {
     "name": "stdout",
     "output_type": "stream",
     "text": [
      "ВРЕМЯ СТАРТА РАСЧЁТА: 2023-11-07 03:20:49.613042 \n",
      "\n",
      "Размеры массивов: 11775 и 786260\n",
      "\n",
      "\n",
      "Подготовлен 1 массив размером: 1308 для сравнения с 786260\n",
      "Подготовлен 2 массив размером: 1308 для сравнения с 786260\n",
      "Подготовлен 3 массив размером: 1308 для сравнения с 786260\n",
      "Подготовлен 4 массив размером: 1308 для сравнения с 786260\n",
      "Подготовлен 5 массив размером: 1308 для сравнения с 786260\n",
      "Подготовлен 6 массив размером: 1308 для сравнения с 786260\n",
      "Подготовлен 7 массив размером: 1308 для сравнения с 786260\n",
      "Подготовлен 8 массив размером: 1308 для сравнения с 786260\n",
      "Подготовлен последний массив размером: 1311 для сравнения с 786260\n",
      "... запущен параллельный расчёт на 9 ядрах процессора ...\n",
      "\n",
      "\n",
      "ВРЕМЯ ОКОНЧАНИЯ РАСЧЁТА: 2023-11-07 03:22:06.372060\n",
      "ВРЕМЯ ВЫПОЛНЕНИЯ: 0:01:16.759018 \n",
      "\n",
      "\n"
     ]
    }
   ],
   "source": [
    "# Ииспользуем признак работы в главном модуле (для обеспечения требований блиотеки  multiprocessing)\n",
    "if __name__ == '__main__':\n",
    "    \n",
    "    # Начнём замер времени\n",
    "    start_time = dt.datetime.now()\n",
    "    print('ВРЕМЯ СТАРТА РАСЧЁТА:', start_time, '\\n')\n",
    "    \n",
    "    # Распарралелим расчёты между доступными ядрами процессора\n",
    "    # 3. Создаём менеджера парралельных процессов\n",
    "    #    и его пространство имён для обмена данными между процессами\n",
    "    with Manager() as mng:\n",
    "        ns = mng.Namespace()\n",
    "        ns.dfs = mng.list()\n",
    "        df = df_1\n",
    "        df_u = df_2\n",
    "        print(f'Размеры массивов: {len(df_u)} и {len(df)}\\n\\n')\n",
    "        \n",
    "        # 4. Делим датасет на составляющие,\n",
    "        #    которые будут рассчитываться в парралельных процессах\n",
    "        for i in range(n_cpu - 1):\n",
    "            df = df_1.copy()\n",
    "            ns.dfs.append((df_u[val_sub*i:val_sub*(i+1)], df.copy()))\n",
    "            print(f'Подготовлен {i+1} массив размером: {len(ns.dfs[i][0])} для сравнения с {len(ns.dfs[i][1])}')\n",
    "        ns.dfs.append((df_u[(n_cpu-1)*val_sub:], df.copy()))\n",
    "        print(f'Подготовлен последний массив размером: {len(ns.dfs[i+1][0])} для сравнения с {len(ns.dfs[i+1][1])}')\n",
    "\n",
    "        # 5. Запустим пул парралельных процессов вычислений\n",
    "        #    и результат объединим в единый датафрейм\n",
    "        with Pool(processes=n_cpu) as p:\n",
    "            print(f'... запущен параллельный расчёт на {n_cpu} ядрах процессора ...')\n",
    "            df_non_colours = pd.concat(list(p.map(add_freq_product_color, ns.dfs)), axis=0)\n",
    "\n",
    "    # Закончим замер времени\n",
    "    finish_time = dt.datetime.now()\n",
    "    print('\\n\\nВРЕМЯ ОКОНЧАНИЯ РАСЧЁТА:', finish_time)\n",
    "    print('ВРЕМЯ ВЫПОЛНЕНИЯ:', finish_time - start_time, '\\n' * 2)"
   ]
  },
  {
   "cell_type": "code",
   "execution_count": 17,
   "id": "f15052ad",
   "metadata": {
    "ExecuteTime": {
     "end_time": "2023-11-07T00:22:26.578475Z",
     "start_time": "2023-11-07T00:22:26.558415Z"
    }
   },
   "outputs": [],
   "source": [
    "# Сформируем датасет с вновь заполненным признаком \"цвет\"\n",
    "df_3 = df_non_colours[~df_non_colours['freq_color'].isna()]\n",
    "\n",
    "# Создадим словарь восстановленных данных о признаке \"цвет\"\n",
    "recovered_color_data = {}\n",
    "for key, value in zip(list(df_3['product']), list(df_3['freq_color'])):\n",
    "    recovered_color_data[key] = value"
   ]
  },
  {
   "cell_type": "code",
   "execution_count": 18,
   "id": "e96929b8",
   "metadata": {
    "ExecuteTime": {
     "end_time": "2023-11-07T00:22:27.455009Z",
     "start_time": "2023-11-07T00:22:27.444230Z"
    }
   },
   "outputs": [],
   "source": [
    "# Функция добавления восстановленных данных в признак \"цвет\"\n",
    "def replace_none_1(product, colour, recovered_color_data):\n",
    "    if pd.isna(colour):\n",
    "        if product in list(recovered_color_data.keys()):\n",
    "            return recovered_color_data[product]\n",
    "        else:\n",
    "            return None\n",
    "    else:\n",
    "        return colour"
   ]
  },
  {
   "cell_type": "code",
   "execution_count": 19,
   "id": "6fe24240",
   "metadata": {
    "ExecuteTime": {
     "end_time": "2023-11-07T00:22:42.508807Z",
     "start_time": "2023-11-07T00:22:28.356402Z"
    }
   },
   "outputs": [],
   "source": [
    "# Добавим восстановленные записи признака \"цвет\" в исходный датасет с товарами\n",
    "dfs['purchases']['colour'] = dfs['purchases'].apply(lambda x:\n",
    "                                                    replace_none_1(x['product'],\n",
    "                                                                   x['colour'],\n",
    "                                                                   recovered_color_data),\n",
    "                                                    axis=1)"
   ]
  },
  {
   "cell_type": "code",
   "execution_count": 20,
   "id": "75f6dcd2",
   "metadata": {
    "ExecuteTime": {
     "end_time": "2023-11-07T00:22:45.637166Z",
     "start_time": "2023-11-07T00:22:45.552360Z"
    }
   },
   "outputs": [
    {
     "data": {
      "text/plain": [
       "0.42"
      ]
     },
     "execution_count": 20,
     "metadata": {},
     "output_type": "execute_result"
    }
   ],
   "source": [
    "# Процент строк без заполненного значения признака \"цвет\" после первого этапа предобработки данных\n",
    "round((len(dfs['purchases'][dfs['purchases']['colour'].isna()])/len(dfs['purchases'])) * 100, 2)"
   ]
  },
  {
   "cell_type": "markdown",
   "id": "7424f7ae",
   "metadata": {},
   "source": [
    "**Вывод:** Данным методом удалось добавить 14.62% значений признака \"цвет\" и довести уровень заполненности данного признака до 99,6%"
   ]
  },
  {
   "cell_type": "markdown",
   "id": "1fac8454",
   "metadata": {},
   "source": [
    "#### 1.2.2.3. Заполнение признака цвет для оставшихся 3,2 тыс. товаров при наличии соответсвующих сведений в наименовании товара, не определённых автоматически"
   ]
  },
  {
   "cell_type": "markdown",
   "id": "3a115da1",
   "metadata": {},
   "source": [
    "Создадим словарь цветов и их сочетаний, визуально выявленных в названиях 3,2 тыс. товаров, в которых не удалось проставить признак \"цвет\" автоматически"
   ]
  },
  {
   "cell_type": "code",
   "execution_count": 21,
   "id": "07aba20c",
   "metadata": {
    "ExecuteTime": {
     "end_time": "2023-11-07T00:33:16.495409Z",
     "start_time": "2023-11-07T00:33:16.487493Z"
    }
   },
   "outputs": [],
   "source": [
    "colors_manual = {'(бесцветный)': 'бесцветный', '(зеленый': 'зеленый', 'зеленый)': 'зеленый',\n",
    "                 '(камуфляж)': 'милитари', '(серый': 'серый', 'серый)': 'серый',\n",
    "                 'белая': 'белый', 'голубой/белый': 'голубой/белый',\n",
    "                 'горчичный/темно-серый': 'горчичный/темно-серый',\n",
    "                 'зеленый/морковный': 'зеленый/морковный', 'красный/никель': 'красный/никель',\n",
    "                 'люминисцентно-желтый': 'люминисцентно-желтый', 'синий/авокадо': 'синий/авокадо',\n",
    "                 'фиолетовый/белый': 'фиолетовый/белый',\n",
    "                 'black': 'черный', 'white': 'белый', 'blue': 'синий', 'red': 'красный',\n",
    "                 'green': 'green', 'gray': 'серый', 'lavender': 'лавандовый',\n",
    "                 'blue/green': 'синий/зеленый', 'blue/white': 'синий/зеленый',\n",
    "                 'bright blue': 'светло-синий', 'dark blue': 'темно-синий',\n",
    "                 'multicolor': 'мультицвет', 'white/gray/lavender': 'белый/серый/лавандовый'}"
   ]
  },
  {
   "cell_type": "code",
   "execution_count": 22,
   "id": "1decf598",
   "metadata": {
    "ExecuteTime": {
     "end_time": "2023-11-07T00:33:17.467974Z",
     "start_time": "2023-11-07T00:33:17.458607Z"
    }
   },
   "outputs": [],
   "source": [
    "# Функция добавления в признак \"цвет\" восстановленных данных из названия товара\n",
    "def replace_none_2(product, colour, recovered_color_data):\n",
    "    if pd.isna(colour):\n",
    "        for word in product.split(' '):\n",
    "            if word in list(recovered_color_data.keys()):\n",
    "                return recovered_color_data[word]\n",
    "            else:\n",
    "                return None\n",
    "    else:\n",
    "        return colour"
   ]
  },
  {
   "cell_type": "code",
   "execution_count": 23,
   "id": "aa9d0464",
   "metadata": {
    "ExecuteTime": {
     "end_time": "2023-11-07T00:33:23.103809Z",
     "start_time": "2023-11-07T00:33:18.927174Z"
    }
   },
   "outputs": [],
   "source": [
    "# Добавим восстановленные записи признака \"цвет\" в исходный датасет с товарами\n",
    "dfs['purchases']['colour'] = dfs['purchases'].apply(lambda x:\n",
    "                                                    replace_none_2(x['product'],\n",
    "                                                                   x['colour'],\n",
    "                                                                   colors_manual),\n",
    "                                                    axis=1)"
   ]
  },
  {
   "cell_type": "code",
   "execution_count": 24,
   "id": "4485fbcf",
   "metadata": {
    "ExecuteTime": {
     "end_time": "2023-11-07T00:33:26.647898Z",
     "start_time": "2023-11-07T00:33:26.562826Z"
    }
   },
   "outputs": [
    {
     "data": {
      "text/plain": [
       "0.42"
      ]
     },
     "execution_count": 24,
     "metadata": {},
     "output_type": "execute_result"
    }
   ],
   "source": [
    "# Процент строк без заполненного значения признака \"цвет\" после первого этапа предобработки данных\n",
    "round((len(dfs['purchases'][dfs['purchases']['colour'].isna()])/len(dfs['purchases'])) * 100, 2)"
   ]
  },
  {
   "cell_type": "markdown",
   "id": "e7652a71",
   "metadata": {},
   "source": [
    "**Вывод:** Данным методом удалось добавить только 0.03% значений признака \"цвет\", уровень заполненности данного признака остался  равным 99,6%"
   ]
  },
  {
   "cell_type": "markdown",
   "id": "1b354dfa",
   "metadata": {},
   "source": [
    "#### 1.2.2.4. Проверка однородности значений признаков \"цвет\""
   ]
  },
  {
   "cell_type": "code",
   "execution_count": 25,
   "id": "24611aaa",
   "metadata": {
    "ExecuteTime": {
     "end_time": "2023-11-07T00:33:30.092298Z",
     "start_time": "2023-11-07T00:33:30.082843Z"
    }
   },
   "outputs": [],
   "source": [
    "# Функция приведения всех букв признака цвет к нижнему регистру и замены буквы 'ё' на 'е'\n",
    "def replace_symbol(colour):\n",
    "    if not pd.isna(colour):\n",
    "        colour = colour.lower()\n",
    "        colour = colour.replace('ё', 'е')\n",
    "        return colour\n",
    "    else:\n",
    "        return None"
   ]
  },
  {
   "cell_type": "code",
   "execution_count": 26,
   "id": "6bad2bed",
   "metadata": {
    "ExecuteTime": {
     "end_time": "2023-11-07T00:33:31.245005Z",
     "start_time": "2023-11-07T00:33:30.892390Z"
    }
   },
   "outputs": [],
   "source": [
    "# Приведём все значения признаков цвет к нижнему регистру и заменим все буквы 'ё' на 'е'\n",
    "dfs['purchases']['colour'] = dfs['purchases']['colour'].apply(lambda x: replace_symbol(x))"
   ]
  },
  {
   "cell_type": "code",
   "execution_count": 27,
   "id": "75bb62de",
   "metadata": {
    "ExecuteTime": {
     "end_time": "2023-11-07T00:33:33.146363Z",
     "start_time": "2023-11-07T00:33:32.383849Z"
    }
   },
   "outputs": [
    {
     "name": "stdout",
     "output_type": "stream",
     "text": [
      "Количесвто уникальных цветов: 328\n"
     ]
    }
   ],
   "source": [
    "# Создадим множество используемых названий цветов в товарах с проставленным признаком \"цвет\"\n",
    "colors = list(dfs['purchases'][~dfs['purchases']['colour'].isna()]['colour'].\n",
    "              apply(lambda x: x.split('/')))\n",
    "colors_all = []\n",
    "for color in colors:\n",
    "    if isinstance(color, list):\n",
    "        colors_all.extend(color)\n",
    "colors_set = set(colors_all)\n",
    "print(f'Количесвто уникальных цветов: {len(colors_set)}')"
   ]
  },
  {
   "cell_type": "code",
   "execution_count": 28,
   "id": "aa553010",
   "metadata": {
    "ExecuteTime": {
     "end_time": "2023-11-07T00:33:36.039603Z",
     "start_time": "2023-11-07T00:33:36.026517Z"
    }
   },
   "outputs": [],
   "source": [
    "# Создадим словарь одородности названий признака \"цвет\"\n",
    "uniformity_colours = {\n",
    "                      'cеребряный': 'серебряный',\n",
    "                      'антрацит': 'антрацитовый', 'бeлый': 'белый', 'волна': 'волны',\n",
    "                      'графит': 'графитовый', 'золото': 'золотистый', 'золотой': 'золотистый',\n",
    "                      'ирис': 'ирисовый', 'камуфляж': 'камуфляжный', 'клетка': 'клетчатый',\n",
    "                      'коралл': 'коралловый', 'лайм': 'лаймовый', 'леопард': 'леопардовый',\n",
    "                      'металлик': 'металлический', 'милитари': 'камуфляжный',\n",
    "                      'мультиколор': 'многоцветный', 'мультицвет': 'многоцветный',\n",
    "                      'нюд': 'нюдовый', 'персик': 'персиковый', 'полоски': 'полоска',\n",
    "                      'св.розовый': 'светло-розовый', 'серебро': 'серебряный',\n",
    "                      'серебристый': 'серебряный', 'сиинй': 'синий', 'синий-белый': 'сине-белый',\n",
    "                      'хром': 'хромовый', 'цветной': 'многоцветный',\n",
    "                      'черный-белый': 'черно-белый', 'черный-желтый': 'черно-желтый',\n",
    "                      'черный-красный': 'черно-красный', 'яблоко': 'яблочный', \n",
    "                      }"
   ]
  },
  {
   "cell_type": "code",
   "execution_count": 29,
   "id": "a46fc218",
   "metadata": {
    "ExecuteTime": {
     "end_time": "2023-11-07T00:33:38.095965Z",
     "start_time": "2023-11-07T00:33:38.083663Z"
    }
   },
   "outputs": [],
   "source": [
    "# Функция замены значения признака \"цвет\" на однородное по всему датасету\n",
    "def replace_none_3(colour, uniformity_colours):\n",
    "    if not pd.isna(colour):\n",
    "        words_colour = colour.split('/')\n",
    "        words_uniformity = []\n",
    "        for word in words_colour:\n",
    "            if word in list(uniformity_colours.keys()):\n",
    "                words_uniformity.append(uniformity_colours[word])\n",
    "            else:\n",
    "                words_uniformity.append(word)\n",
    "        return ('/').join(words_uniformity)\n",
    "    else:\n",
    "        return None"
   ]
  },
  {
   "cell_type": "code",
   "execution_count": 30,
   "id": "8a8d7ef7",
   "metadata": {
    "ExecuteTime": {
     "end_time": "2023-11-07T00:33:39.727787Z",
     "start_time": "2023-11-07T00:33:38.967559Z"
    }
   },
   "outputs": [],
   "source": [
    "# Приведём все значения признака \"цвет\" к однородным\n",
    "dfs['purchases']['colour'] = dfs['purchases']['colour'].apply(lambda x:\n",
    "                                                              replace_none_3(x,\n",
    "                                                                             uniformity_colours))"
   ]
  },
  {
   "cell_type": "code",
   "execution_count": 31,
   "id": "2863a807",
   "metadata": {
    "ExecuteTime": {
     "end_time": "2023-11-07T00:33:41.101639Z",
     "start_time": "2023-11-07T00:33:40.449916Z"
    }
   },
   "outputs": [
    {
     "name": "stdout",
     "output_type": "stream",
     "text": [
      "Количесвто уникальных цветов: 299\n"
     ]
    }
   ],
   "source": [
    "# Создадим множество используемых названий цветов в товарах с проставленным признаком \"цвет\"\n",
    "colors = list(dfs['purchases'][~dfs['purchases']['colour'].isna()]['colour'].\n",
    "              apply(lambda x: x.split('/')))\n",
    "colors_all = []\n",
    "for color in colors:\n",
    "    if isinstance(color, list):\n",
    "        colors_all.extend(color)\n",
    "colors_set = set(colors_all)\n",
    "print(f'Количесвто уникальных цветов: {len(colors_set)}')"
   ]
  },
  {
   "cell_type": "code",
   "execution_count": 32,
   "id": "400243e9",
   "metadata": {
    "ExecuteTime": {
     "end_time": "2023-11-07T00:33:42.745745Z",
     "start_time": "2023-11-07T00:33:42.569294Z"
    }
   },
   "outputs": [
    {
     "name": "stdout",
     "output_type": "stream",
     "text": [
      "<class 'pandas.core.frame.DataFrame'>\n",
      "RangeIndex: 786260 entries, 0 to 786259\n",
      "Data columns (total 7 columns):\n",
      " #   Column       Non-Null Count   Dtype  \n",
      "---  ------       --------------   -----  \n",
      " 0   id           786260 non-null  int64  \n",
      " 1   product      786260 non-null  object \n",
      " 2   colour       786260 non-null  object \n",
      " 3   cost         786260 non-null  int64  \n",
      " 4   product_sex  786260 non-null  float64\n",
      " 5   base_sale    786260 non-null  int64  \n",
      " 6   dt           786260 non-null  int64  \n",
      "dtypes: float64(1), int64(4), object(2)\n",
      "memory usage: 42.0+ MB\n"
     ]
    }
   ],
   "source": [
    "# Заменим пустые значения признака \"цвет\" на значение 'неопределенный',\n",
    "# так как оно уже существует в значениях признака отдельных товаров\n",
    "dfs['purchases'].colour = dfs['purchases'].colour.fillna('неопределенный')\n",
    "dfs['purchases'].info()"
   ]
  },
  {
   "cell_type": "markdown",
   "id": "0f01cb81",
   "metadata": {},
   "source": [
    " # 2. Обогащение данных таблицы personal_data"
   ]
  },
  {
   "cell_type": "markdown",
   "id": "57902aa0",
   "metadata": {},
   "source": [
    "## 2.1. Загрузка данных из дополнительного источника"
   ]
  },
  {
   "cell_type": "code",
   "execution_count": 33,
   "id": "9963bd0f",
   "metadata": {
    "ExecuteTime": {
     "end_time": "2023-11-07T00:35:29.703745Z",
     "start_time": "2023-11-07T00:35:29.675721Z"
    }
   },
   "outputs": [
    {
     "name": "stdout",
     "output_type": "stream",
     "text": [
      "<class 'pandas.core.frame.DataFrame'>\n",
      "RangeIndex: 15748 entries, 0 to 15747\n",
      "Data columns (total 5 columns):\n",
      " #   Column     Non-Null Count  Dtype \n",
      "---  ------     --------------  ----- \n",
      " 0   id         15748 non-null  int64 \n",
      " 1   age        15748 non-null  int64 \n",
      " 2   education  15748 non-null  object\n",
      " 3   city       15748 non-null  int64 \n",
      " 4   country    15748 non-null  int64 \n",
      "dtypes: int64(4), object(1)\n",
      "memory usage: 615.3+ KB\n"
     ]
    }
   ],
   "source": [
    "# Прочитаем восстановленные данные\n",
    "df_recovered  = pd.read_csv('data/result_data/personal_data.csv')\n",
    "df_recovered.info()"
   ]
  },
  {
   "cell_type": "code",
   "execution_count": 34,
   "id": "683ad44c",
   "metadata": {
    "ExecuteTime": {
     "end_time": "2023-11-07T00:35:30.705252Z",
     "start_time": "2023-11-07T00:35:30.671856Z"
    }
   },
   "outputs": [
    {
     "name": "stdout",
     "output_type": "stream",
     "text": [
      "<class 'pandas.core.frame.DataFrame'>\n",
      "Int64Index: 104989 entries, 0 to 15747\n",
      "Data columns (total 6 columns):\n",
      " #   Column     Non-Null Count   Dtype  \n",
      "---  ------     --------------   -----  \n",
      " 0   id         104989 non-null  int64  \n",
      " 1   gender     89241 non-null   float64\n",
      " 2   age        104989 non-null  int64  \n",
      " 3   education  104989 non-null  object \n",
      " 4   city       104989 non-null  int64  \n",
      " 5   country    104989 non-null  int64  \n",
      "dtypes: float64(1), int64(4), object(1)\n",
      "memory usage: 5.6+ MB\n"
     ]
    }
   ],
   "source": [
    "# Добавим восстановленные данные в общий датафрейм таблицы personal_data\n",
    "dfs['personal_data_recovered'] = pd.concat([dfs['personal_data'], df_recovered], axis=0)\n",
    "dfs['personal_data_recovered'].info()"
   ]
  },
  {
   "cell_type": "markdown",
   "id": "2bf73da3",
   "metadata": {},
   "source": [
    "## 2.2. Восстановление данных признака gender моделями машинного обучения"
   ]
  },
  {
   "cell_type": "markdown",
   "id": "7161301d",
   "metadata": {
    "ExecuteTime": {
     "end_time": "2023-11-01T22:03:58.593670Z",
     "start_time": "2023-11-01T22:03:58.587190Z"
    }
   },
   "source": [
    "Необхлодимо выбрать и обучить модель для прогнозирования признака \"gender\" в записях с недостающими значениями такого признака. Для обучения подготовим датасет."
   ]
  },
  {
   "cell_type": "code",
   "execution_count": 35,
   "id": "9d39e300",
   "metadata": {
    "ExecuteTime": {
     "end_time": "2023-11-07T00:35:35.964932Z",
     "start_time": "2023-11-07T00:35:35.804037Z"
    }
   },
   "outputs": [],
   "source": [
    "# С целью получения максимально большого массива данных для обучении модели\n",
    "# объединим датасеты 'purchases', 'personal_data_coeffs', 'personal_data'\n",
    "df_personal = dfs['personal_data_recovered'].set_index('id').\\\n",
    "                                             join(dfs['personal_data_coeffs'].set_index('id'))\n",
    "df = dfs['purchases'].set_index('id').join(df_personal)\n",
    "# Перенесём id покупателя в отдельный признак итогового датасета и сбросим индексы\n",
    "# (это необходимо для дальнейшей работы при выявлении аномальных записей в датасете)\n",
    "df.reset_index(drop=False, inplace=True)"
   ]
  },
  {
   "cell_type": "code",
   "execution_count": 36,
   "id": "e5501f0e",
   "metadata": {
    "ExecuteTime": {
     "end_time": "2023-11-07T00:35:38.532234Z",
     "start_time": "2023-11-07T00:35:38.424929Z"
    }
   },
   "outputs": [
    {
     "data": {
      "text/html": [
       "<div>\n",
       "<style scoped>\n",
       "    .dataframe tbody tr th:only-of-type {\n",
       "        vertical-align: middle;\n",
       "    }\n",
       "\n",
       "    .dataframe tbody tr th {\n",
       "        vertical-align: top;\n",
       "    }\n",
       "\n",
       "    .dataframe thead th {\n",
       "        text-align: right;\n",
       "    }\n",
       "</style>\n",
       "<table border=\"1\" class=\"dataframe\">\n",
       "  <thead>\n",
       "    <tr style=\"text-align: right;\">\n",
       "      <th></th>\n",
       "      <th>index</th>\n",
       "      <th>id</th>\n",
       "      <th>product</th>\n",
       "      <th>colour</th>\n",
       "      <th>cost</th>\n",
       "      <th>product_sex</th>\n",
       "      <th>base_sale</th>\n",
       "      <th>dt</th>\n",
       "      <th>gender</th>\n",
       "      <th>age</th>\n",
       "      <th>education</th>\n",
       "      <th>city</th>\n",
       "      <th>country</th>\n",
       "      <th>lbt_coef</th>\n",
       "      <th>ac_coef</th>\n",
       "      <th>sm_coef</th>\n",
       "      <th>personal_coef</th>\n",
       "    </tr>\n",
       "  </thead>\n",
       "  <tbody>\n",
       "    <tr>\n",
       "      <th>0</th>\n",
       "      <td>0</td>\n",
       "      <td>0</td>\n",
       "      <td>Велосипед горный женский Stern Mira 2.0 26\"</td>\n",
       "      <td>белый/синий</td>\n",
       "      <td>13599</td>\n",
       "      <td>0.0</td>\n",
       "      <td>1</td>\n",
       "      <td>7</td>\n",
       "      <td>0.0</td>\n",
       "      <td>36</td>\n",
       "      <td>среднее</td>\n",
       "      <td>1201</td>\n",
       "      <td>32</td>\n",
       "      <td>5.078678</td>\n",
       "      <td>-0.307147</td>\n",
       "      <td>0.959027</td>\n",
       "      <td>0.5072</td>\n",
       "    </tr>\n",
       "    <tr>\n",
       "      <th>1</th>\n",
       "      <td>1</td>\n",
       "      <td>0</td>\n",
       "      <td>Стол Outventure</td>\n",
       "      <td>зеленый</td>\n",
       "      <td>1499</td>\n",
       "      <td>2.0</td>\n",
       "      <td>0</td>\n",
       "      <td>37</td>\n",
       "      <td>0.0</td>\n",
       "      <td>36</td>\n",
       "      <td>среднее</td>\n",
       "      <td>1201</td>\n",
       "      <td>32</td>\n",
       "      <td>5.078678</td>\n",
       "      <td>-0.307147</td>\n",
       "      <td>0.959027</td>\n",
       "      <td>0.5072</td>\n",
       "    </tr>\n",
       "    <tr>\n",
       "      <th>2</th>\n",
       "      <td>2</td>\n",
       "      <td>0</td>\n",
       "      <td>Набор Outventure: стол + 4 стула</td>\n",
       "      <td>бежевый</td>\n",
       "      <td>4799</td>\n",
       "      <td>2.0</td>\n",
       "      <td>0</td>\n",
       "      <td>37</td>\n",
       "      <td>0.0</td>\n",
       "      <td>36</td>\n",
       "      <td>среднее</td>\n",
       "      <td>1201</td>\n",
       "      <td>32</td>\n",
       "      <td>5.078678</td>\n",
       "      <td>-0.307147</td>\n",
       "      <td>0.959027</td>\n",
       "      <td>0.5072</td>\n",
       "    </tr>\n",
       "  </tbody>\n",
       "</table>\n",
       "</div>"
      ],
      "text/plain": [
       "   index  id                                      product       colour   cost  \\\n",
       "0      0   0  Велосипед горный женский Stern Mira 2.0 26\"  белый/синий  13599   \n",
       "1      1   0                              Стол Outventure      зеленый   1499   \n",
       "2      2   0             Набор Outventure: стол + 4 стула      бежевый   4799   \n",
       "\n",
       "   product_sex  base_sale  dt  gender  age education  city  country  lbt_coef  \\\n",
       "0          0.0          1   7     0.0   36   среднее  1201       32  5.078678   \n",
       "1          2.0          0  37     0.0   36   среднее  1201       32  5.078678   \n",
       "2          2.0          0  37     0.0   36   среднее  1201       32  5.078678   \n",
       "\n",
       "    ac_coef   sm_coef  personal_coef  \n",
       "0 -0.307147  0.959027         0.5072  \n",
       "1 -0.307147  0.959027         0.5072  \n",
       "2 -0.307147  0.959027         0.5072  "
      ]
     },
     "execution_count": 36,
     "metadata": {},
     "output_type": "execute_result"
    }
   ],
   "source": [
    "# Выделим данные с заполненным признаком 'gender' для формирования датасета для обучения модели классификации\n",
    "df_train_test = df[~df.gender.isna()]\n",
    "df_train_test.reset_index(inplace=True)\n",
    "df_train_test.head(3)"
   ]
  },
  {
   "cell_type": "markdown",
   "id": "a2239945",
   "metadata": {},
   "source": [
    "Перед обучением модели целесообразно проверить данные на аномалии и исключить такие данные из обучающего датасета.  \n",
    "1) При проверке датасета на аномальные записи используем три метода, результаты которых дополним друг другом для повышения качества обучающей выборки.  \n",
    "2) При проверке данных на аномалии не будем учитывать значения признаков `id`, `lbt_coef`, `ac_coef`, `sm_coef` - так как эти данные уникальны почти для каждого покупателя, а значит не принесут пользы для факторной оценки данных и дальнейшего обучения модели.  \n",
    "3) При использовании методов попризнакового выявления аномалий не будем учитывать признаки `product_sex`,`base_sale`,`education` - так как они имеют понятные уникальные значения без аномалий (выявлено визуально). Также не будем учитывать признак `gender` - так как это целевая переменная для обуения модели.  "
   ]
  },
  {
   "cell_type": "code",
   "execution_count": 37,
   "id": "a65930b4",
   "metadata": {
    "ExecuteTime": {
     "end_time": "2023-11-07T00:35:46.989239Z",
     "start_time": "2023-11-07T00:35:46.983408Z"
    }
   },
   "outputs": [],
   "source": [
    "# Определим колонки для попризнакового выявления аномалий\n",
    "check_columns = ['index', 'product', 'colour', 'cost', 'dt', 'age', 'city', 'country', 'personal_coef']"
   ]
  },
  {
   "cell_type": "code",
   "execution_count": 38,
   "id": "1b9949b0",
   "metadata": {
    "ExecuteTime": {
     "end_time": "2023-11-07T00:35:48.322412Z",
     "start_time": "2023-11-07T00:35:47.888169Z"
    }
   },
   "outputs": [
    {
     "data": {
      "text/html": [
       "<div>\n",
       "<style scoped>\n",
       "    .dataframe tbody tr th:only-of-type {\n",
       "        vertical-align: middle;\n",
       "    }\n",
       "\n",
       "    .dataframe tbody tr th {\n",
       "        vertical-align: top;\n",
       "    }\n",
       "\n",
       "    .dataframe thead th {\n",
       "        text-align: right;\n",
       "    }\n",
       "</style>\n",
       "<table border=\"1\" class=\"dataframe\">\n",
       "  <thead>\n",
       "    <tr style=\"text-align: right;\">\n",
       "      <th></th>\n",
       "      <th>product</th>\n",
       "      <th>colour</th>\n",
       "      <th>cost</th>\n",
       "      <th>dt</th>\n",
       "      <th>age</th>\n",
       "      <th>city</th>\n",
       "      <th>country</th>\n",
       "      <th>personal_coef</th>\n",
       "    </tr>\n",
       "    <tr>\n",
       "      <th>index</th>\n",
       "      <th></th>\n",
       "      <th></th>\n",
       "      <th></th>\n",
       "      <th></th>\n",
       "      <th></th>\n",
       "      <th></th>\n",
       "      <th></th>\n",
       "      <th></th>\n",
       "    </tr>\n",
       "  </thead>\n",
       "  <tbody>\n",
       "    <tr>\n",
       "      <th>0</th>\n",
       "      <td>3259</td>\n",
       "      <td>203</td>\n",
       "      <td>1475</td>\n",
       "      <td>7</td>\n",
       "      <td>31</td>\n",
       "      <td>694</td>\n",
       "      <td>16</td>\n",
       "      <td>13</td>\n",
       "    </tr>\n",
       "    <tr>\n",
       "      <th>1</th>\n",
       "      <td>17773</td>\n",
       "      <td>433</td>\n",
       "      <td>371</td>\n",
       "      <td>37</td>\n",
       "      <td>31</td>\n",
       "      <td>694</td>\n",
       "      <td>16</td>\n",
       "      <td>13</td>\n",
       "    </tr>\n",
       "    <tr>\n",
       "      <th>2</th>\n",
       "      <td>12187</td>\n",
       "      <td>35</td>\n",
       "      <td>882</td>\n",
       "      <td>37</td>\n",
       "      <td>31</td>\n",
       "      <td>694</td>\n",
       "      <td>16</td>\n",
       "      <td>13</td>\n",
       "    </tr>\n",
       "    <tr>\n",
       "      <th>3</th>\n",
       "      <td>15582</td>\n",
       "      <td>1456</td>\n",
       "      <td>1256</td>\n",
       "      <td>0</td>\n",
       "      <td>30</td>\n",
       "      <td>627</td>\n",
       "      <td>16</td>\n",
       "      <td>13</td>\n",
       "    </tr>\n",
       "    <tr>\n",
       "      <th>4</th>\n",
       "      <td>21057</td>\n",
       "      <td>87</td>\n",
       "      <td>907</td>\n",
       "      <td>0</td>\n",
       "      <td>30</td>\n",
       "      <td>627</td>\n",
       "      <td>16</td>\n",
       "      <td>13</td>\n",
       "    </tr>\n",
       "  </tbody>\n",
       "</table>\n",
       "</div>"
      ],
      "text/plain": [
       "       product  colour  cost  dt  age  city  country  personal_coef\n",
       "index                                                              \n",
       "0         3259     203  1475   7   31   694       16             13\n",
       "1        17773     433   371  37   31   694       16             13\n",
       "2        12187      35   882  37   31   694       16             13\n",
       "3        15582    1456  1256   0   30   627       16             13\n",
       "4        21057      87   907   0   30   627       16             13"
      ]
     },
     "execution_count": 38,
     "metadata": {},
     "output_type": "execute_result"
    }
   ],
   "source": [
    "# Закодируем каждый признак\n",
    "df_fit = pd.DataFrame()\n",
    "for column in check_columns:\n",
    "    le = LabelEncoder()\n",
    "    df_fit[column] = le.fit_transform(df_train_test[column])\n",
    "df_fit.index = df_fit['index']\n",
    "df_fit.drop(columns=['index'], axis=1, inplace=True)\n",
    "df_fit.head()"
   ]
  },
  {
   "cell_type": "code",
   "execution_count": 39,
   "id": "c0453f0e",
   "metadata": {
    "ExecuteTime": {
     "end_time": "2023-11-07T00:35:50.760355Z",
     "start_time": "2023-11-07T00:35:50.750165Z"
    }
   },
   "outputs": [],
   "source": [
    "# Инициализируем словарь индексов, в котором будем фиксировать:\n",
    "# метод выявления аномалий; список индексов записей-аномалий\n",
    "indexs = {'Quantile': []}"
   ]
  },
  {
   "cell_type": "code",
   "execution_count": 40,
   "id": "bd3857c8",
   "metadata": {
    "ExecuteTime": {
     "end_time": "2023-11-07T00:35:51.649162Z",
     "start_time": "2023-11-07T00:35:51.585948Z"
    }
   },
   "outputs": [],
   "source": [
    "# Заполним словарь индексов записей-аномалий, индексами аномалий,\n",
    "# выявленными квантилями более 3-сигма\n",
    "for column in df_fit.columns:\n",
    "    quantile_indexs = list(df_fit[df_fit[column] > df_fit[column].quantile(0.997)].index)\n",
    "    if len(quantile_indexs) > 0:\n",
    "        indexs['Quantile'].extend(quantile_indexs)\n",
    "indexs['Quantile'] = list(set(indexs['Quantile']))"
   ]
  },
  {
   "cell_type": "code",
   "execution_count": 41,
   "id": "bdf454bd",
   "metadata": {
    "ExecuteTime": {
     "end_time": "2023-11-07T00:37:09.772502Z",
     "start_time": "2023-11-07T00:35:52.234229Z"
    }
   },
   "outputs": [],
   "source": [
    "# Заполним словарь индексов записей-аномалий, индексами аномалий,\n",
    "# выявленными Локалфактором и Изолесом\n",
    "lof = LocalOutlierFactor(n_neighbors=693, n_jobs=-1)\n",
    "ifo = IsolationForest(max_samples=12300, n_jobs=-1, random_state=42)\n",
    "pred_lof = lof.fit_predict(df_fit)\n",
    "pred_ifo = ifo.fit_predict(df_fit)\n",
    "indexs['LocalOutlierFactor'] = list(df_fit[pred_lof == -1].index)\n",
    "indexs['IsolationForest'] = list(df_fit[pred_ifo == -1].index)"
   ]
  },
  {
   "cell_type": "code",
   "execution_count": 42,
   "id": "8d318eba",
   "metadata": {
    "ExecuteTime": {
     "end_time": "2023-11-07T00:37:13.626097Z",
     "start_time": "2023-11-07T00:37:13.602578Z"
    }
   },
   "outputs": [
    {
     "name": "stdout",
     "output_type": "stream",
     "text": [
      "Методом 'Quantile' выявлено 8928 записей-аномалий, что составляет 1.33% всех записей\n",
      "Методом 'LocalOutlierFactor' выявлено 35630 записей-аномалий, что составляет 5.32% всех записей\n",
      "Методом 'IsolationForest' выявлено 61030 записей-аномалий, что составляет 9.11% всех записей\n",
      "\n",
      "ИТОГО вывленных записей-аномалий 82150, что составляет 12.26% всех записей\n"
     ]
    }
   ],
   "source": [
    "# Сформируем единый список индексов, полученных всеми методами\n",
    "indexs_all = []\n",
    "# Определим долю выбросов, выявленную каждым методом\n",
    "for method in indexs.keys():\n",
    "    count_anomaly = len(indexs[method])\n",
    "    print(f\"Методом '{method}' выявлено {count_anomaly} записей-аномалий,\", end=' ')\n",
    "    print(f\"что составляет {round(count_anomaly/len(df_train_test) * 100, 2)}% всех записей\")\n",
    "    indexs_all.extend(indexs[method])\n",
    "indexs_all = list(set(indexs_all))\n",
    "indexs_all.sort()\n",
    "print(f'\\nИТОГО вывленных записей-аномалий {len(indexs_all)},', end=' ')\n",
    "print(f'что составляет {round(len(indexs_all)/len(df_train_test) * 100, 2)}% всех записей')"
   ]
  },
  {
   "cell_type": "code",
   "execution_count": 43,
   "id": "09d6d0f6",
   "metadata": {
    "ExecuteTime": {
     "end_time": "2023-11-07T00:37:53.157636Z",
     "start_time": "2023-11-07T00:37:53.098950Z"
    }
   },
   "outputs": [],
   "source": [
    "# Удалим из обучающего датасета записи с признаками аномалий\n",
    "df_train_test_norm = df_train_test.drop(index=indexs_all)"
   ]
  },
  {
   "cell_type": "code",
   "execution_count": 44,
   "id": "b16142e7",
   "metadata": {
    "ExecuteTime": {
     "end_time": "2023-11-07T00:37:54.197000Z",
     "start_time": "2023-11-07T00:37:54.176863Z"
    }
   },
   "outputs": [
    {
     "name": "stdout",
     "output_type": "stream",
     "text": [
      "Положительный класс: 324347 (55)%\n",
      "Отрицательный класс: 263459 (45)%\n"
     ]
    }
   ],
   "source": [
    "# Проверим сбалансированность записей датасета по целевому признаку\n",
    "balance = df_train_test_norm.gender.value_counts()\n",
    "print(f'Положительный класс: {balance[1]} ({round(balance[1]/(balance[0]+balance[1])*100)})%')\n",
    "print(f'Отрицательный класс: {balance[0]} ({round(balance[0]/(balance[0]+balance[1])*100)})%')"
   ]
  },
  {
   "cell_type": "markdown",
   "id": "437cc068",
   "metadata": {},
   "source": [
    "**Вывод:** Так как датасет неполностью сбалансирован используем при обучении моделей параметр `class_weight='balanced'`, который позволяет учесть разбалансировку до соотношения (57%/43%)"
   ]
  },
  {
   "cell_type": "code",
   "execution_count": 45,
   "id": "5fbc8c67",
   "metadata": {
    "ExecuteTime": {
     "end_time": "2023-11-07T00:38:04.068830Z",
     "start_time": "2023-11-07T00:38:03.612898Z"
    }
   },
   "outputs": [],
   "source": [
    "# Закодируем категориальные признаки 'product', 'colour', 'education':\n",
    "le1 = LabelEncoder()\n",
    "df_train_test_norm_ = df_train_test_norm.copy()\n",
    "for col in ['product', 'colour', 'education']:\n",
    "    le1.fit(list(set(df_train_test_norm_[col].dropna().unique())))\n",
    "    df_train_test_norm_[col] = le1.transform(df_train_test_norm_[col])"
   ]
  },
  {
   "cell_type": "code",
   "execution_count": 46,
   "id": "8f2bff7d",
   "metadata": {
    "ExecuteTime": {
     "end_time": "2023-11-07T00:38:05.164804Z",
     "start_time": "2023-11-07T00:38:04.998259Z"
    }
   },
   "outputs": [
    {
     "data": {
      "text/html": [
       "<div>\n",
       "<style scoped>\n",
       "    .dataframe tbody tr th:only-of-type {\n",
       "        vertical-align: middle;\n",
       "    }\n",
       "\n",
       "    .dataframe tbody tr th {\n",
       "        vertical-align: top;\n",
       "    }\n",
       "\n",
       "    .dataframe thead th {\n",
       "        text-align: right;\n",
       "    }\n",
       "</style>\n",
       "<table border=\"1\" class=\"dataframe\">\n",
       "  <thead>\n",
       "    <tr style=\"text-align: right;\">\n",
       "      <th></th>\n",
       "      <th>index</th>\n",
       "      <th>id</th>\n",
       "      <th>product</th>\n",
       "      <th>colour</th>\n",
       "      <th>cost</th>\n",
       "      <th>product_sex</th>\n",
       "      <th>base_sale</th>\n",
       "      <th>dt</th>\n",
       "      <th>gender</th>\n",
       "      <th>age</th>\n",
       "      <th>education</th>\n",
       "      <th>city</th>\n",
       "      <th>country</th>\n",
       "      <th>lbt_coef</th>\n",
       "      <th>ac_coef</th>\n",
       "      <th>sm_coef</th>\n",
       "      <th>personal_coef</th>\n",
       "    </tr>\n",
       "  </thead>\n",
       "  <tbody>\n",
       "    <tr>\n",
       "      <th>0</th>\n",
       "      <td>0</td>\n",
       "      <td>0</td>\n",
       "      <td>-1.358996</td>\n",
       "      <td>-1.533852</td>\n",
       "      <td>1.542745</td>\n",
       "      <td>0.0</td>\n",
       "      <td>1</td>\n",
       "      <td>-1.046609</td>\n",
       "      <td>0.0</td>\n",
       "      <td>-0.27796</td>\n",
       "      <td>1</td>\n",
       "      <td>0.828864</td>\n",
       "      <td>0.0</td>\n",
       "      <td>5.078678</td>\n",
       "      <td>-0.307147</td>\n",
       "      <td>0.959027</td>\n",
       "      <td>0.803887</td>\n",
       "    </tr>\n",
       "    <tr>\n",
       "      <th>1</th>\n",
       "      <td>1</td>\n",
       "      <td>0</td>\n",
       "      <td>0.979997</td>\n",
       "      <td>-1.034691</td>\n",
       "      <td>-0.530135</td>\n",
       "      <td>2.0</td>\n",
       "      <td>0</td>\n",
       "      <td>0.705950</td>\n",
       "      <td>0.0</td>\n",
       "      <td>-0.27796</td>\n",
       "      <td>1</td>\n",
       "      <td>0.828864</td>\n",
       "      <td>0.0</td>\n",
       "      <td>5.078678</td>\n",
       "      <td>-0.307147</td>\n",
       "      <td>0.959027</td>\n",
       "      <td>0.803887</td>\n",
       "    </tr>\n",
       "    <tr>\n",
       "      <th>2</th>\n",
       "      <td>2</td>\n",
       "      <td>0</td>\n",
       "      <td>0.096869</td>\n",
       "      <td>-1.890718</td>\n",
       "      <td>0.035196</td>\n",
       "      <td>2.0</td>\n",
       "      <td>0</td>\n",
       "      <td>0.705950</td>\n",
       "      <td>0.0</td>\n",
       "      <td>-0.27796</td>\n",
       "      <td>1</td>\n",
       "      <td>0.828864</td>\n",
       "      <td>0.0</td>\n",
       "      <td>5.078678</td>\n",
       "      <td>-0.307147</td>\n",
       "      <td>0.959027</td>\n",
       "      <td>0.803887</td>\n",
       "    </tr>\n",
       "  </tbody>\n",
       "</table>\n",
       "</div>"
      ],
      "text/plain": [
       "   index  id   product    colour      cost  product_sex  base_sale        dt  \\\n",
       "0      0   0 -1.358996 -1.533852  1.542745          0.0          1 -1.046609   \n",
       "1      1   0  0.979997 -1.034691 -0.530135          2.0          0  0.705950   \n",
       "2      2   0  0.096869 -1.890718  0.035196          2.0          0  0.705950   \n",
       "\n",
       "   gender      age  education      city  country  lbt_coef   ac_coef  \\\n",
       "0     0.0 -0.27796          1  0.828864      0.0  5.078678 -0.307147   \n",
       "1     0.0 -0.27796          1  0.828864      0.0  5.078678 -0.307147   \n",
       "2     0.0 -0.27796          1  0.828864      0.0  5.078678 -0.307147   \n",
       "\n",
       "    sm_coef  personal_coef  \n",
       "0  0.959027       0.803887  \n",
       "1  0.959027       0.803887  \n",
       "2  0.959027       0.803887  "
      ]
     },
     "execution_count": 46,
     "metadata": {},
     "output_type": "execute_result"
    }
   ],
   "source": [
    "# Стандартизуем не бинарные признаки, которые будем использовать при обучении\n",
    "ss = StandardScaler()\n",
    "for col in ['product', 'colour', 'cost', 'dt', 'age', 'city', 'country', 'personal_coef']:\n",
    "    df_train_test_norm_[col] = ss.fit_transform(df_train_test_norm_[[col]])\n",
    "df_train_test_norm_.head(3)"
   ]
  },
  {
   "cell_type": "code",
   "execution_count": 47,
   "id": "d78452d7",
   "metadata": {
    "ExecuteTime": {
     "end_time": "2023-11-07T00:38:09.401270Z",
     "start_time": "2023-11-07T00:38:09.391045Z"
    }
   },
   "outputs": [],
   "source": [
    "# Признаки, используемые при обучении модели\n",
    "cols = ['product', 'colour', 'cost', 'product_sex', 'base_sale', 'dt', 'age', 'education',\n",
    "        'city', 'country', 'personal_coef']"
   ]
  },
  {
   "cell_type": "code",
   "execution_count": 48,
   "id": "a8d10e54",
   "metadata": {
    "ExecuteTime": {
     "end_time": "2023-11-07T00:38:10.713328Z",
     "start_time": "2023-11-07T00:38:10.639161Z"
    }
   },
   "outputs": [],
   "source": [
    "# Подготовим датасет для обучения\n",
    "X_train, X_test, y_train, y_test = train_test_split(df_train_test_norm_[cols],\n",
    "                                                    df_train_test_norm_['gender'],\n",
    "                                                    test_size=0.3, random_state=42)"
   ]
  },
  {
   "cell_type": "code",
   "execution_count": 49,
   "id": "31302eb8",
   "metadata": {
    "ExecuteTime": {
     "end_time": "2023-11-07T00:38:12.037875Z",
     "start_time": "2023-11-07T00:38:11.536773Z"
    }
   },
   "outputs": [
    {
     "name": "stdout",
     "output_type": "stream",
     "text": [
      "Метрика: 0.9912783114629526\n"
     ]
    }
   ],
   "source": [
    "# Обучим модель \"Линейная регресия\"\n",
    "lr = LogisticRegression(class_weight='balanced')\n",
    "lr.fit(X_train, y_train)\n",
    "y_pred = lr.predict(X_test)\n",
    "print(f'Метрика: {accuracy_score(y_test, y_pred)}')"
   ]
  },
  {
   "cell_type": "code",
   "execution_count": 50,
   "id": "818f913c",
   "metadata": {
    "ExecuteTime": {
     "end_time": "2023-11-07T00:38:24.978810Z",
     "start_time": "2023-11-07T00:38:12.927175Z"
    }
   },
   "outputs": [
    {
     "name": "stdout",
     "output_type": "stream",
     "text": [
      "Метрика: 1.0\n"
     ]
    }
   ],
   "source": [
    "# Обучим модель \"Случайный лес Деревьев принятия решения\"\n",
    "rf = RandomForestClassifier(class_weight='balanced')\n",
    "rf.fit(X_train, y_train)\n",
    "y_pred = rf.predict(X_test)\n",
    "print(f'Метрика: {accuracy_score(y_test, y_pred)}')"
   ]
  },
  {
   "cell_type": "code",
   "execution_count": 51,
   "id": "78d0bf12",
   "metadata": {
    "ExecuteTime": {
     "end_time": "2023-11-07T00:39:01.733075Z",
     "start_time": "2023-11-07T00:38:44.162953Z"
    }
   },
   "outputs": [
    {
     "name": "stdout",
     "output_type": "stream",
     "text": [
      "Метрика: 1.0\n"
     ]
    }
   ],
   "source": [
    "# Обучим модель \"Нейронная сеть - ПЕРЦЕПТРОН\"\n",
    "mlp = MLPClassifier()\n",
    "mlp.fit(X_train, y_train)\n",
    "y_pred = rf.predict(X_test)\n",
    "print(f'Метрика: {accuracy_score(y_test, y_pred)}')"
   ]
  },
  {
   "cell_type": "markdown",
   "id": "2616c732",
   "metadata": {},
   "source": [
    "**Вывод:** Метрики трёх алгоритмов машинного обучения показали высокое качество предсказаний, что может свидетельствовать о наличии признаков, тесно связанных с целевой переменной. При решении нашей задачи - это положительный фактор. Для восстановления пропущенных данных в признаке `gender` выбирем алгоритм \"Случайный лес\" так как данный алгоритм показал максимальное значение метрики (1) при минимальном времени обучения (12 сек.)."
   ]
  },
  {
   "cell_type": "code",
   "execution_count": 52,
   "id": "1749846a",
   "metadata": {
    "ExecuteTime": {
     "end_time": "2023-11-07T00:41:39.033547Z",
     "start_time": "2023-11-07T00:41:21.913344Z"
    }
   },
   "outputs": [
    {
     "data": {
      "text/html": [
       "<style>#sk-container-id-1 {color: black;background-color: white;}#sk-container-id-1 pre{padding: 0;}#sk-container-id-1 div.sk-toggleable {background-color: white;}#sk-container-id-1 label.sk-toggleable__label {cursor: pointer;display: block;width: 100%;margin-bottom: 0;padding: 0.3em;box-sizing: border-box;text-align: center;}#sk-container-id-1 label.sk-toggleable__label-arrow:before {content: \"▸\";float: left;margin-right: 0.25em;color: #696969;}#sk-container-id-1 label.sk-toggleable__label-arrow:hover:before {color: black;}#sk-container-id-1 div.sk-estimator:hover label.sk-toggleable__label-arrow:before {color: black;}#sk-container-id-1 div.sk-toggleable__content {max-height: 0;max-width: 0;overflow: hidden;text-align: left;background-color: #f0f8ff;}#sk-container-id-1 div.sk-toggleable__content pre {margin: 0.2em;color: black;border-radius: 0.25em;background-color: #f0f8ff;}#sk-container-id-1 input.sk-toggleable__control:checked~div.sk-toggleable__content {max-height: 200px;max-width: 100%;overflow: auto;}#sk-container-id-1 input.sk-toggleable__control:checked~label.sk-toggleable__label-arrow:before {content: \"▾\";}#sk-container-id-1 div.sk-estimator input.sk-toggleable__control:checked~label.sk-toggleable__label {background-color: #d4ebff;}#sk-container-id-1 div.sk-label input.sk-toggleable__control:checked~label.sk-toggleable__label {background-color: #d4ebff;}#sk-container-id-1 input.sk-hidden--visually {border: 0;clip: rect(1px 1px 1px 1px);clip: rect(1px, 1px, 1px, 1px);height: 1px;margin: -1px;overflow: hidden;padding: 0;position: absolute;width: 1px;}#sk-container-id-1 div.sk-estimator {font-family: monospace;background-color: #f0f8ff;border: 1px dotted black;border-radius: 0.25em;box-sizing: border-box;margin-bottom: 0.5em;}#sk-container-id-1 div.sk-estimator:hover {background-color: #d4ebff;}#sk-container-id-1 div.sk-parallel-item::after {content: \"\";width: 100%;border-bottom: 1px solid gray;flex-grow: 1;}#sk-container-id-1 div.sk-label:hover label.sk-toggleable__label {background-color: #d4ebff;}#sk-container-id-1 div.sk-serial::before {content: \"\";position: absolute;border-left: 1px solid gray;box-sizing: border-box;top: 0;bottom: 0;left: 50%;z-index: 0;}#sk-container-id-1 div.sk-serial {display: flex;flex-direction: column;align-items: center;background-color: white;padding-right: 0.2em;padding-left: 0.2em;position: relative;}#sk-container-id-1 div.sk-item {position: relative;z-index: 1;}#sk-container-id-1 div.sk-parallel {display: flex;align-items: stretch;justify-content: center;background-color: white;position: relative;}#sk-container-id-1 div.sk-item::before, #sk-container-id-1 div.sk-parallel-item::before {content: \"\";position: absolute;border-left: 1px solid gray;box-sizing: border-box;top: 0;bottom: 0;left: 50%;z-index: -1;}#sk-container-id-1 div.sk-parallel-item {display: flex;flex-direction: column;z-index: 1;position: relative;background-color: white;}#sk-container-id-1 div.sk-parallel-item:first-child::after {align-self: flex-end;width: 50%;}#sk-container-id-1 div.sk-parallel-item:last-child::after {align-self: flex-start;width: 50%;}#sk-container-id-1 div.sk-parallel-item:only-child::after {width: 0;}#sk-container-id-1 div.sk-dashed-wrapped {border: 1px dashed gray;margin: 0 0.4em 0.5em 0.4em;box-sizing: border-box;padding-bottom: 0.4em;background-color: white;}#sk-container-id-1 div.sk-label label {font-family: monospace;font-weight: bold;display: inline-block;line-height: 1.2em;}#sk-container-id-1 div.sk-label-container {text-align: center;}#sk-container-id-1 div.sk-container {/* jupyter's `normalize.less` sets `[hidden] { display: none; }` but bootstrap.min.css set `[hidden] { display: none !important; }` so we also need the `!important` here to be able to override the default hidden behavior on the sphinx rendered scikit-learn.org. See: https://github.com/scikit-learn/scikit-learn/issues/21755 */display: inline-block !important;position: relative;}#sk-container-id-1 div.sk-text-repr-fallback {display: none;}</style><div id=\"sk-container-id-1\" class=\"sk-top-container\"><div class=\"sk-text-repr-fallback\"><pre>RandomForestClassifier(class_weight=&#x27;balanced&#x27;)</pre><b>In a Jupyter environment, please rerun this cell to show the HTML representation or trust the notebook. <br />On GitHub, the HTML representation is unable to render, please try loading this page with nbviewer.org.</b></div><div class=\"sk-container\" hidden><div class=\"sk-item\"><div class=\"sk-estimator sk-toggleable\"><input class=\"sk-toggleable__control sk-hidden--visually\" id=\"sk-estimator-id-1\" type=\"checkbox\" checked><label for=\"sk-estimator-id-1\" class=\"sk-toggleable__label sk-toggleable__label-arrow\">RandomForestClassifier</label><div class=\"sk-toggleable__content\"><pre>RandomForestClassifier(class_weight=&#x27;balanced&#x27;)</pre></div></div></div></div></div>"
      ],
      "text/plain": [
       "RandomForestClassifier(class_weight='balanced')"
      ]
     },
     "execution_count": 52,
     "metadata": {},
     "output_type": "execute_result"
    }
   ],
   "source": [
    "# Обучим модель \"Случайный лес Деревьев принятия решения\" на всех имеющихся данных \n",
    "rf = RandomForestClassifier(class_weight='balanced')\n",
    "rf.fit(df_train_test_norm_[cols], df_train_test_norm_['gender'])"
   ]
  },
  {
   "cell_type": "code",
   "execution_count": 53,
   "id": "f9a7c199",
   "metadata": {
    "ExecuteTime": {
     "end_time": "2023-11-07T00:41:41.995837Z",
     "start_time": "2023-11-07T00:41:41.815868Z"
    }
   },
   "outputs": [
    {
     "data": {
      "text/html": [
       "<div>\n",
       "<style scoped>\n",
       "    .dataframe tbody tr th:only-of-type {\n",
       "        vertical-align: middle;\n",
       "    }\n",
       "\n",
       "    .dataframe tbody tr th {\n",
       "        vertical-align: top;\n",
       "    }\n",
       "\n",
       "    .dataframe thead th {\n",
       "        text-align: right;\n",
       "    }\n",
       "</style>\n",
       "<table border=\"1\" class=\"dataframe\">\n",
       "  <thead>\n",
       "    <tr style=\"text-align: right;\">\n",
       "      <th></th>\n",
       "      <th>id</th>\n",
       "      <th>product</th>\n",
       "      <th>colour</th>\n",
       "      <th>cost</th>\n",
       "      <th>product_sex</th>\n",
       "      <th>base_sale</th>\n",
       "      <th>dt</th>\n",
       "      <th>gender</th>\n",
       "      <th>age</th>\n",
       "      <th>education</th>\n",
       "      <th>city</th>\n",
       "      <th>country</th>\n",
       "      <th>lbt_coef</th>\n",
       "      <th>ac_coef</th>\n",
       "      <th>sm_coef</th>\n",
       "      <th>personal_coef</th>\n",
       "    </tr>\n",
       "  </thead>\n",
       "  <tbody>\n",
       "    <tr>\n",
       "      <th>3</th>\n",
       "      <td>3</td>\n",
       "      <td>-1.404714</td>\n",
       "      <td>-1.711752</td>\n",
       "      <td>-0.370080</td>\n",
       "      <td>1.0</td>\n",
       "      <td>0</td>\n",
       "      <td>-0.693454</td>\n",
       "      <td>NaN</td>\n",
       "      <td>-0.601036</td>\n",
       "      <td>1</td>\n",
       "      <td>0.018259</td>\n",
       "      <td>0.003842</td>\n",
       "      <td>7.764766</td>\n",
       "      <td>-0.030225</td>\n",
       "      <td>0.79472</td>\n",
       "      <td>-0.474307</td>\n",
       "    </tr>\n",
       "    <tr>\n",
       "      <th>4</th>\n",
       "      <td>3</td>\n",
       "      <td>0.091138</td>\n",
       "      <td>-0.553376</td>\n",
       "      <td>0.177158</td>\n",
       "      <td>2.0</td>\n",
       "      <td>0</td>\n",
       "      <td>0.116252</td>\n",
       "      <td>NaN</td>\n",
       "      <td>-0.601036</td>\n",
       "      <td>1</td>\n",
       "      <td>0.018259</td>\n",
       "      <td>0.003842</td>\n",
       "      <td>7.764766</td>\n",
       "      <td>-0.030225</td>\n",
       "      <td>0.79472</td>\n",
       "      <td>-0.474307</td>\n",
       "    </tr>\n",
       "    <tr>\n",
       "      <th>5</th>\n",
       "      <td>3</td>\n",
       "      <td>-0.859274</td>\n",
       "      <td>-1.711752</td>\n",
       "      <td>-0.252814</td>\n",
       "      <td>1.0</td>\n",
       "      <td>1</td>\n",
       "      <td>0.521105</td>\n",
       "      <td>NaN</td>\n",
       "      <td>-0.601036</td>\n",
       "      <td>1</td>\n",
       "      <td>0.018259</td>\n",
       "      <td>0.003842</td>\n",
       "      <td>7.764766</td>\n",
       "      <td>-0.030225</td>\n",
       "      <td>0.79472</td>\n",
       "      <td>-0.474307</td>\n",
       "    </tr>\n",
       "  </tbody>\n",
       "</table>\n",
       "</div>"
      ],
      "text/plain": [
       "   id   product    colour      cost  product_sex  base_sale        dt  gender  \\\n",
       "3   3 -1.404714 -1.711752 -0.370080          1.0          0 -0.693454     NaN   \n",
       "4   3  0.091138 -0.553376  0.177158          2.0          0  0.116252     NaN   \n",
       "5   3 -0.859274 -1.711752 -0.252814          1.0          1  0.521105     NaN   \n",
       "\n",
       "        age  education      city   country  lbt_coef   ac_coef  sm_coef  \\\n",
       "3 -0.601036          1  0.018259  0.003842  7.764766 -0.030225  0.79472   \n",
       "4 -0.601036          1  0.018259  0.003842  7.764766 -0.030225  0.79472   \n",
       "5 -0.601036          1  0.018259  0.003842  7.764766 -0.030225  0.79472   \n",
       "\n",
       "   personal_coef  \n",
       "3      -0.474307  \n",
       "4      -0.474307  \n",
       "5      -0.474307  "
      ]
     },
     "execution_count": 53,
     "metadata": {},
     "output_type": "execute_result"
    }
   ],
   "source": [
    "# Выберем, закодируем и стандартизуем признаки записей,\n",
    "# в которых необходимо восстановить значени признака 'gender'\n",
    "df_pred = df[df.gender.isna()]\n",
    "gender_index = df_pred.index\n",
    "\n",
    "# Закодируем категориальные признаки 'product', 'colour', 'education':\n",
    "le2 = LabelEncoder()\n",
    "df_pred_ = df_pred.copy()\n",
    "for col in ['product', 'colour', 'education']:\n",
    "    le1.fit(list(set(df_pred_[col].dropna().unique())))\n",
    "    df_pred_[col] = le1.transform(df_pred_[col])\n",
    "\n",
    "# Стандартизуем не бинарные признаки, которые будем использовать при обучении\n",
    "ss = StandardScaler()\n",
    "for col in ['product', 'colour', 'cost', 'dt', 'age', 'city', 'country', 'personal_coef']:\n",
    "    df_pred_[col] = ss.fit_transform(df_pred_[[col]])\n",
    "df_pred_.head(3)"
   ]
  },
  {
   "cell_type": "code",
   "execution_count": 54,
   "id": "48d93d99",
   "metadata": {
    "ExecuteTime": {
     "end_time": "2023-11-07T00:41:45.075985Z",
     "start_time": "2023-11-07T00:41:44.671365Z"
    }
   },
   "outputs": [],
   "source": [
    "# Восстановим признак 'gender' с помощью обученной ранее модели, используя признаки с непустыми данными\n",
    "gender_pred = rf.predict(df_pred_[cols])\n",
    "df_gender = pd.DataFrame({'gender': gender_pred})\n",
    "df_gender.index = gender_index"
   ]
  },
  {
   "cell_type": "code",
   "execution_count": 55,
   "id": "cf768886",
   "metadata": {
    "ExecuteTime": {
     "end_time": "2023-11-07T00:41:49.160418Z",
     "start_time": "2023-11-07T00:41:45.921017Z"
    }
   },
   "outputs": [
    {
     "name": "stdout",
     "output_type": "stream",
     "text": [
      "<class 'pandas.core.frame.DataFrame'>\n",
      "RangeIndex: 786260 entries, 0 to 786259\n",
      "Data columns (total 16 columns):\n",
      " #   Column         Non-Null Count   Dtype  \n",
      "---  ------         --------------   -----  \n",
      " 0   id             786260 non-null  int64  \n",
      " 1   product        786260 non-null  object \n",
      " 2   colour         786260 non-null  object \n",
      " 3   cost           786260 non-null  int64  \n",
      " 4   product_sex    786260 non-null  float64\n",
      " 5   base_sale      786260 non-null  int64  \n",
      " 6   dt             786260 non-null  int64  \n",
      " 7   gender         786260 non-null  float64\n",
      " 8   age            786260 non-null  int64  \n",
      " 9   education      786260 non-null  object \n",
      " 10  city           786260 non-null  int64  \n",
      " 11  country        786260 non-null  int64  \n",
      " 12  lbt_coef       786260 non-null  float64\n",
      " 13  ac_coef        786260 non-null  float64\n",
      " 14  sm_coef        786260 non-null  float64\n",
      " 15  personal_coef  786260 non-null  float64\n",
      "dtypes: float64(6), int64(7), object(3)\n",
      "memory usage: 96.0+ MB\n"
     ]
    }
   ],
   "source": [
    "# Добавим восстановленные значения в общий датафрейм\n",
    "for ind in df_gender.index:\n",
    "    df.loc[ind, 'gender'] = df_gender.loc[ind, 'gender']\n",
    "# Проверим полноту данных в итоговом датасете\n",
    "df.info()"
   ]
  },
  {
   "cell_type": "code",
   "execution_count": 56,
   "id": "69b90ab6",
   "metadata": {
    "ExecuteTime": {
     "end_time": "2023-11-07T00:41:55.482748Z",
     "start_time": "2023-11-07T00:41:53.538194Z"
    }
   },
   "outputs": [
    {
     "name": "stdout",
     "output_type": "stream",
     "text": [
      "База данных подключена\n",
      "Таблица заполнена\n",
      "Соединение с базой данных закрыто\n"
     ]
    }
   ],
   "source": [
    "# Загрузим итоговый датаcет в хранилище (база данных sqlite3)\n",
    "connection = db.connect('data/purchases.db')\n",
    "print(\"База данных подключена\")\n",
    "df.to_sql(\"full_table\", connection, if_exists=\"replace\", index=False)\n",
    "print(\"Таблица заполнена\")\n",
    "connection.close()\n",
    "print(\"Соединение с базой данных закрыто\")"
   ]
  },
  {
   "cell_type": "code",
   "execution_count": 59,
   "id": "b5504fae",
   "metadata": {
    "ExecuteTime": {
     "end_time": "2023-11-07T00:42:02.822550Z",
     "start_time": "2023-11-07T00:42:02.815093Z"
    }
   },
   "outputs": [],
   "source": [
    "# Оптимизируем используемую память\n",
    "# Определяем список загруженных датафреймов\n",
    "dfs = []\n",
    "local_variable_scope =locals().keys()\n",
    "for elem in local_variable_scope:\n",
    "    if 'df' in elem:\n",
    "        dfs.append(elem)\n",
    "# Удаляем не используемые датафреймы\n",
    "for elem in dfs:\n",
    "    del locals()[elem]"
   ]
  }
 ],
 "metadata": {
  "kernelspec": {
   "display_name": "Python 3 (ipykernel)",
   "language": "python",
   "name": "python3"
  },
  "language_info": {
   "codemirror_mode": {
    "name": "ipython",
    "version": 3
   },
   "file_extension": ".py",
   "mimetype": "text/x-python",
   "name": "python",
   "nbconvert_exporter": "python",
   "pygments_lexer": "ipython3",
   "version": "3.9.13"
  },
  "toc": {
   "base_numbering": 1,
   "nav_menu": {},
   "number_sections": false,
   "sideBar": true,
   "skip_h1_title": false,
   "title_cell": "СОДЕРЖАНИЕ РАЗДЕЛОВ 1 и 2",
   "title_sidebar": "Contents",
   "toc_cell": true,
   "toc_position": {},
   "toc_section_display": true,
   "toc_window_display": true
  },
  "varInspector": {
   "cols": {
    "lenName": 16,
    "lenType": 16,
    "lenVar": 40
   },
   "kernels_config": {
    "python": {
     "delete_cmd_postfix": "",
     "delete_cmd_prefix": "del ",
     "library": "var_list.py",
     "varRefreshCmd": "print(var_dic_list())"
    },
    "r": {
     "delete_cmd_postfix": ") ",
     "delete_cmd_prefix": "rm(",
     "library": "var_list.r",
     "varRefreshCmd": "cat(var_dic_list()) "
    }
   },
   "types_to_exclude": [
    "module",
    "function",
    "builtin_function_or_method",
    "instance",
    "_Feature"
   ],
   "window_display": false
  }
 },
 "nbformat": 4,
 "nbformat_minor": 5
}
