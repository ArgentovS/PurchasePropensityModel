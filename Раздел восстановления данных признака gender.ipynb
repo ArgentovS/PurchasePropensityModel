{
 "cells": [
  {
   "cell_type": "markdown",
   "id": "c6fc1567",
   "metadata": {
    "cell_style": "split"
   },
   "source": [
    "![](pictures/shopping_propensity.png)"
   ]
  },
  {
   "cell_type": "markdown",
   "id": "a44fe294",
   "metadata": {
    "cell_style": "split"
   },
   "source": [
    "<b>  </b>  \n",
    "<b>  </b>  \n",
    "<b>  </b>  \n",
    "<b>  </b>  \n",
    "Ноутбук от 30.09.23 \n",
    "<b>  </b>  \n",
    "<b>  </b>  \n",
    "<b>  </b>  \n",
    "<b>  </b>  \n",
    "<b>  </b>  \n",
    "<b>  </b>  \n",
    "<b>  </b>   \n",
    "**_\"Data Science Analyst\"_  \n",
    "_МОДЕЛЬ СКЛОННОСТИ КЛИЕНТОВ К ПОКУПКАМ В ФЕДЕРАЛЬНОЙ СЕТИ ПРОДАЖ СПОРТИВНЫХ ТОВАРОВ_**  \n",
    "\n",
    "Выполнено по технологии CRISP-DM:  \n",
    "Аргентов Сергей, г.Липецк  \n",
    "https://argentov.pro\n",
    "<b>  </b>  \n",
    "<b>  </b>  "
   ]
  },
  {
   "cell_type": "markdown",
   "id": "9db302d7",
   "metadata": {
    "toc": true
   },
   "source": [
    "<h1>СОДЕРЖАНИЕ<span class=\"tocSkip\"></span></h1>\n",
    "<div class=\"toc\"><ul class=\"toc-item\"><li><span><a href=\"#2.-Обогащение-данных-таблицы-personal_data\" data-toc-modified-id=\"2.-Обогащение-данных-таблицы-personal_data-1\">2. Обогащение данных таблицы personal_data</a></span><ul class=\"toc-item\"><li><span><a href=\"#2.1.-Получим-данные-из-дополнительного-источника\" data-toc-modified-id=\"2.1.-Получим-данные-из-дополнительного-источника-1.1\">2.1. Получим данные из дополнительного источника</a></span></li><li><span><a href=\"#2.2.-Восстановим-данные-моделями-машинного-обучения\" data-toc-modified-id=\"2.2.-Восстановим-данные-моделями-машинного-обучения-1.2\">2.2. Восстановим данные моделями машинного обучения</a></span></li></ul></li></ul></div>"
   ]
  },
  {
   "cell_type": "code",
   "execution_count": 1,
   "id": "106183f9",
   "metadata": {
    "ExecuteTime": {
     "end_time": "2023-10-31T14:53:46.496992Z",
     "start_time": "2023-10-31T14:53:42.657225Z"
    }
   },
   "outputs": [],
   "source": [
    "# Загрузка биьлиотек\n",
    "import pandas as pd\n",
    "import sqlite3 as db\n",
    "\n",
    "import datetime as dt\n",
    "import multiprocessing\n",
    "from multiprocessing import Pool, Manager\n",
    "\n",
    "from sklearn.preprocessing import LabelEncoder\n",
    "from sklearn.neighbors import LocalOutlierFactor\n",
    "from sklearn.ensemble import IsolationForest\n",
    "import pprint\n",
    "from sklearn.preprocessing import OneHotEncoder, StandardScaler, OrdinalEncoder\n",
    "\n",
    "from sklearn.model_selection import train_test_split\n",
    "\n",
    "from sklearn.ensemble import RandomForestClassifier\n",
    "from sklearn.linear_model import LogisticRegression\n",
    "from sklearn.neural_network import MLPClassifier\n",
    "\n",
    "from sklearn.metrics import accuracy_score"
   ]
  },
  {
   "cell_type": "markdown",
   "id": "32b53955",
   "metadata": {},
   "source": [
    "# 2. Обогащение данных таблицы personal_data"
   ]
  },
  {
   "cell_type": "code",
   "execution_count": 2,
   "id": "009fc0e3",
   "metadata": {
    "ExecuteTime": {
     "end_time": "2023-10-31T14:55:04.339085Z",
     "start_time": "2023-10-31T14:55:02.854381Z"
    }
   },
   "outputs": [
    {
     "name": "stdout",
     "output_type": "stream",
     "text": [
      "\n",
      "personal_data_coeffs\n",
      "<class 'pandas.core.frame.DataFrame'>\n",
      "RangeIndex: 104989 entries, 0 to 104988\n",
      "Data columns (total 5 columns):\n",
      " #   Column         Non-Null Count   Dtype  \n",
      "---  ------         --------------   -----  \n",
      " 0   id             104989 non-null  int64  \n",
      " 1   lbt_coef       104989 non-null  float64\n",
      " 2   ac_coef        104989 non-null  float64\n",
      " 3   sm_coef        104989 non-null  float64\n",
      " 4   personal_coef  104989 non-null  float64\n",
      "dtypes: float64(4), int64(1)\n",
      "memory usage: 4.0 MB\n",
      "None\n",
      "\n",
      "personal_data\n",
      "<class 'pandas.core.frame.DataFrame'>\n",
      "RangeIndex: 89241 entries, 0 to 89240\n",
      "Data columns (total 6 columns):\n",
      " #   Column     Non-Null Count  Dtype \n",
      "---  ------     --------------  ----- \n",
      " 0   id         89241 non-null  int64 \n",
      " 1   gender     89241 non-null  int64 \n",
      " 2   age        89241 non-null  int64 \n",
      " 3   education  89241 non-null  object\n",
      " 4   city       89241 non-null  int64 \n",
      " 5   country    89241 non-null  int64 \n",
      "dtypes: int64(5), object(1)\n",
      "memory usage: 4.1+ MB\n",
      "None\n",
      "\n",
      "purchases\n",
      "<class 'pandas.core.frame.DataFrame'>\n",
      "RangeIndex: 786260 entries, 0 to 786259\n",
      "Data columns (total 7 columns):\n",
      " #   Column       Non-Null Count   Dtype  \n",
      "---  ------       --------------   -----  \n",
      " 0   id           786260 non-null  int64  \n",
      " 1   product      786260 non-null  object \n",
      " 2   colour       786260 non-null  object \n",
      " 3   cost         786260 non-null  int64  \n",
      " 4   product_sex  786260 non-null  float64\n",
      " 5   base_sale    786260 non-null  int64  \n",
      " 6   dt           786260 non-null  int64  \n",
      "dtypes: float64(1), int64(4), object(2)\n",
      "memory usage: 42.0+ MB\n",
      "None\n"
     ]
    }
   ],
   "source": [
    "# Загрузим данные из базы данных (с добавленными ранее восстановленными данными по product_sex и colour)\n",
    "with db.connect('data/result_data/shop_database_.db') as con:\n",
    "    rows = con.cursor().execute(\"SELECT name FROM sqlite_master WHERE type='table';\").fetchall()\n",
    "    dfs = {}\n",
    "    for row in rows:\n",
    "        dfs[row[0]] = pd.read_sql(f'SELECT * FROM {row[0]}', con)\n",
    "        print(f'\\n{row[0]}')\n",
    "        print(dfs[row[0]].info())"
   ]
  },
  {
   "cell_type": "markdown",
   "id": "24f2abcb",
   "metadata": {},
   "source": [
    "## 2.1. Получим данные из дополнительного источника"
   ]
  },
  {
   "cell_type": "code",
   "execution_count": 3,
   "id": "ad18980c",
   "metadata": {
    "ExecuteTime": {
     "end_time": "2023-10-31T14:55:11.203963Z",
     "start_time": "2023-10-31T14:55:11.178511Z"
    }
   },
   "outputs": [
    {
     "name": "stdout",
     "output_type": "stream",
     "text": [
      "<class 'pandas.core.frame.DataFrame'>\n",
      "RangeIndex: 15748 entries, 0 to 15747\n",
      "Data columns (total 5 columns):\n",
      " #   Column     Non-Null Count  Dtype \n",
      "---  ------     --------------  ----- \n",
      " 0   id         15748 non-null  int64 \n",
      " 1   age        15748 non-null  int64 \n",
      " 2   education  15748 non-null  object\n",
      " 3   city       15748 non-null  int64 \n",
      " 4   country    15748 non-null  int64 \n",
      "dtypes: int64(4), object(1)\n",
      "memory usage: 615.3+ KB\n"
     ]
    }
   ],
   "source": [
    "# Прочитаем восстановленные данные\n",
    "df_recovered  = pd.read_csv('data/result_data/personal_data.csv')\n",
    "df_recovered.info()"
   ]
  },
  {
   "cell_type": "code",
   "execution_count": 4,
   "id": "f2f2a34b",
   "metadata": {
    "ExecuteTime": {
     "end_time": "2023-10-31T14:55:16.507882Z",
     "start_time": "2023-10-31T14:55:16.474580Z"
    }
   },
   "outputs": [
    {
     "name": "stdout",
     "output_type": "stream",
     "text": [
      "<class 'pandas.core.frame.DataFrame'>\n",
      "Int64Index: 104989 entries, 0 to 15747\n",
      "Data columns (total 6 columns):\n",
      " #   Column     Non-Null Count   Dtype  \n",
      "---  ------     --------------   -----  \n",
      " 0   id         104989 non-null  int64  \n",
      " 1   gender     89241 non-null   float64\n",
      " 2   age        104989 non-null  int64  \n",
      " 3   education  104989 non-null  object \n",
      " 4   city       104989 non-null  int64  \n",
      " 5   country    104989 non-null  int64  \n",
      "dtypes: float64(1), int64(4), object(1)\n",
      "memory usage: 5.6+ MB\n"
     ]
    }
   ],
   "source": [
    "# Добавим восстановленные данные в общий датафрейм\n",
    "dfs['personal_data_recovered'] = pd.concat([dfs['personal_data'], df_recovered], axis=0)\n",
    "dfs['personal_data_recovered'].info()"
   ]
  },
  {
   "cell_type": "markdown",
   "id": "acfa3aad",
   "metadata": {},
   "source": [
    "## 2.2. Восстановим данные моделями машинного обучения"
   ]
  },
  {
   "cell_type": "markdown",
   "id": "173d6c6e",
   "metadata": {},
   "source": [
    "Необхлодимо выбрать и обучить модель для прогнозирования признака \"gender\" в записях с недостающими значениями такого признака.  \n",
    "Для обучения подготовим датасет"
   ]
  },
  {
   "cell_type": "code",
   "execution_count": 5,
   "id": "142f9ab2",
   "metadata": {
    "ExecuteTime": {
     "end_time": "2023-10-31T14:55:58.723469Z",
     "start_time": "2023-10-31T14:55:58.579681Z"
    }
   },
   "outputs": [],
   "source": [
    "# С целью получения максимально большого массива данных для обучении модели\n",
    "# объединим датасеты 'purchases', 'personal_data_coeffs', 'personal_data'\n",
    "df_personal = dfs['personal_data_recovered'].set_index('id').\\\n",
    "                                             join(dfs['personal_data_coeffs'].set_index('id'))\n",
    "df = dfs['purchases'].set_index('id').join(df_personal)\n",
    "# Перенесём id покупателя в отдельный признак итогового датасета и сбросим индексы\n",
    "# (это необходимо для дальнейшей работы при выявлении аномальных записей в датасете)\n",
    "df.reset_index(drop=False, inplace=True)"
   ]
  },
  {
   "cell_type": "code",
   "execution_count": 6,
   "id": "e95a605e",
   "metadata": {
    "ExecuteTime": {
     "end_time": "2023-10-31T14:56:16.265123Z",
     "start_time": "2023-10-31T14:56:16.145465Z"
    }
   },
   "outputs": [
    {
     "data": {
      "text/html": [
       "<div>\n",
       "<style scoped>\n",
       "    .dataframe tbody tr th:only-of-type {\n",
       "        vertical-align: middle;\n",
       "    }\n",
       "\n",
       "    .dataframe tbody tr th {\n",
       "        vertical-align: top;\n",
       "    }\n",
       "\n",
       "    .dataframe thead th {\n",
       "        text-align: right;\n",
       "    }\n",
       "</style>\n",
       "<table border=\"1\" class=\"dataframe\">\n",
       "  <thead>\n",
       "    <tr style=\"text-align: right;\">\n",
       "      <th></th>\n",
       "      <th>index</th>\n",
       "      <th>id</th>\n",
       "      <th>product</th>\n",
       "      <th>colour</th>\n",
       "      <th>cost</th>\n",
       "      <th>product_sex</th>\n",
       "      <th>base_sale</th>\n",
       "      <th>dt</th>\n",
       "      <th>gender</th>\n",
       "      <th>age</th>\n",
       "      <th>education</th>\n",
       "      <th>city</th>\n",
       "      <th>country</th>\n",
       "      <th>lbt_coef</th>\n",
       "      <th>ac_coef</th>\n",
       "      <th>sm_coef</th>\n",
       "      <th>personal_coef</th>\n",
       "    </tr>\n",
       "  </thead>\n",
       "  <tbody>\n",
       "    <tr>\n",
       "      <th>0</th>\n",
       "      <td>0</td>\n",
       "      <td>0</td>\n",
       "      <td>Велосипед горный женский Stern Mira 2.0 26\"</td>\n",
       "      <td>белый/синий</td>\n",
       "      <td>13599</td>\n",
       "      <td>0.0</td>\n",
       "      <td>1</td>\n",
       "      <td>7</td>\n",
       "      <td>0.0</td>\n",
       "      <td>36</td>\n",
       "      <td>среднее</td>\n",
       "      <td>1201</td>\n",
       "      <td>32</td>\n",
       "      <td>5.078678</td>\n",
       "      <td>-0.307147</td>\n",
       "      <td>0.959027</td>\n",
       "      <td>0.5072</td>\n",
       "    </tr>\n",
       "    <tr>\n",
       "      <th>1</th>\n",
       "      <td>1</td>\n",
       "      <td>0</td>\n",
       "      <td>Стол Outventure</td>\n",
       "      <td>зеленый</td>\n",
       "      <td>1499</td>\n",
       "      <td>2.0</td>\n",
       "      <td>0</td>\n",
       "      <td>37</td>\n",
       "      <td>0.0</td>\n",
       "      <td>36</td>\n",
       "      <td>среднее</td>\n",
       "      <td>1201</td>\n",
       "      <td>32</td>\n",
       "      <td>5.078678</td>\n",
       "      <td>-0.307147</td>\n",
       "      <td>0.959027</td>\n",
       "      <td>0.5072</td>\n",
       "    </tr>\n",
       "    <tr>\n",
       "      <th>2</th>\n",
       "      <td>2</td>\n",
       "      <td>0</td>\n",
       "      <td>Набор Outventure: стол + 4 стула</td>\n",
       "      <td>бежевый</td>\n",
       "      <td>4799</td>\n",
       "      <td>2.0</td>\n",
       "      <td>0</td>\n",
       "      <td>37</td>\n",
       "      <td>0.0</td>\n",
       "      <td>36</td>\n",
       "      <td>среднее</td>\n",
       "      <td>1201</td>\n",
       "      <td>32</td>\n",
       "      <td>5.078678</td>\n",
       "      <td>-0.307147</td>\n",
       "      <td>0.959027</td>\n",
       "      <td>0.5072</td>\n",
       "    </tr>\n",
       "  </tbody>\n",
       "</table>\n",
       "</div>"
      ],
      "text/plain": [
       "   index  id                                      product       colour   cost  \\\n",
       "0      0   0  Велосипед горный женский Stern Mira 2.0 26\"  белый/синий  13599   \n",
       "1      1   0                              Стол Outventure      зеленый   1499   \n",
       "2      2   0             Набор Outventure: стол + 4 стула      бежевый   4799   \n",
       "\n",
       "   product_sex  base_sale  dt  gender  age education  city  country  lbt_coef  \\\n",
       "0          0.0          1   7     0.0   36   среднее  1201       32  5.078678   \n",
       "1          2.0          0  37     0.0   36   среднее  1201       32  5.078678   \n",
       "2          2.0          0  37     0.0   36   среднее  1201       32  5.078678   \n",
       "\n",
       "    ac_coef   sm_coef  personal_coef  \n",
       "0 -0.307147  0.959027         0.5072  \n",
       "1 -0.307147  0.959027         0.5072  \n",
       "2 -0.307147  0.959027         0.5072  "
      ]
     },
     "execution_count": 6,
     "metadata": {},
     "output_type": "execute_result"
    }
   ],
   "source": [
    "# Выделим данные с заполненным признаком 'gender' для формирования датасета для обучения модели классификации\n",
    "df_train_test = df[~df.gender.isna()]\n",
    "df_train_test.reset_index(inplace=True)\n",
    "df_train_test.head(3)"
   ]
  },
  {
   "cell_type": "markdown",
   "id": "3d49e8d3",
   "metadata": {
    "ExecuteTime": {
     "end_time": "2023-10-03T00:14:09.963912Z",
     "start_time": "2023-10-03T00:14:09.763290Z"
    }
   },
   "source": [
    "Перед обучением модели целесообразно проверить данные на аномалии и исключить такие данные из обучающего датасета.  \n",
    "1) При проверки датасета на аномальные записи используем три метода, результаты которых дополним друг другом для повышения качества обучающей выборки.  \n",
    "2) При проверки данных на аномалии не будем учитывать значения признаков `id`, `lbt_coef`, `ac_coef`, `sm_coef` - так как эти данные уникальны почти для каждого покупателя, а значит не принесут пользы для факторной оценки данных и дальнейшего обучения модели.  \n",
    "3) При использовании методов попризнакового выявления аномалий не будем учитывать признаки `product_sex`,`base_sale`,`education` - так как они имеют понятные уникальные значения без аномалий (выявлено визуально). Также не будем учитывать признак `gender` - так как это целевая переменная для обуения модели.  "
   ]
  },
  {
   "cell_type": "code",
   "execution_count": 7,
   "id": "0f047eb8",
   "metadata": {
    "ExecuteTime": {
     "end_time": "2023-10-31T14:56:24.867776Z",
     "start_time": "2023-10-31T14:56:24.864254Z"
    }
   },
   "outputs": [],
   "source": [
    "# Определим колонки для попризнакового выявления аномалий\n",
    "check_columns = ['index', 'product', 'colour', 'cost', 'dt', 'age', 'city', 'country', 'personal_coef']"
   ]
  },
  {
   "cell_type": "code",
   "execution_count": 8,
   "id": "be1c31f9",
   "metadata": {
    "ExecuteTime": {
     "end_time": "2023-10-31T14:56:27.537693Z",
     "start_time": "2023-10-31T14:56:27.114973Z"
    }
   },
   "outputs": [
    {
     "data": {
      "text/html": [
       "<div>\n",
       "<style scoped>\n",
       "    .dataframe tbody tr th:only-of-type {\n",
       "        vertical-align: middle;\n",
       "    }\n",
       "\n",
       "    .dataframe tbody tr th {\n",
       "        vertical-align: top;\n",
       "    }\n",
       "\n",
       "    .dataframe thead th {\n",
       "        text-align: right;\n",
       "    }\n",
       "</style>\n",
       "<table border=\"1\" class=\"dataframe\">\n",
       "  <thead>\n",
       "    <tr style=\"text-align: right;\">\n",
       "      <th></th>\n",
       "      <th>index</th>\n",
       "      <th>product</th>\n",
       "      <th>colour</th>\n",
       "      <th>cost</th>\n",
       "      <th>dt</th>\n",
       "      <th>age</th>\n",
       "      <th>city</th>\n",
       "      <th>country</th>\n",
       "      <th>personal_coef</th>\n",
       "    </tr>\n",
       "  </thead>\n",
       "  <tbody>\n",
       "    <tr>\n",
       "      <th>0</th>\n",
       "      <td>0</td>\n",
       "      <td>3259</td>\n",
       "      <td>203</td>\n",
       "      <td>1475</td>\n",
       "      <td>7</td>\n",
       "      <td>31</td>\n",
       "      <td>694</td>\n",
       "      <td>16</td>\n",
       "      <td>13</td>\n",
       "    </tr>\n",
       "    <tr>\n",
       "      <th>1</th>\n",
       "      <td>1</td>\n",
       "      <td>17773</td>\n",
       "      <td>433</td>\n",
       "      <td>371</td>\n",
       "      <td>37</td>\n",
       "      <td>31</td>\n",
       "      <td>694</td>\n",
       "      <td>16</td>\n",
       "      <td>13</td>\n",
       "    </tr>\n",
       "    <tr>\n",
       "      <th>2</th>\n",
       "      <td>2</td>\n",
       "      <td>12187</td>\n",
       "      <td>35</td>\n",
       "      <td>882</td>\n",
       "      <td>37</td>\n",
       "      <td>31</td>\n",
       "      <td>694</td>\n",
       "      <td>16</td>\n",
       "      <td>13</td>\n",
       "    </tr>\n",
       "    <tr>\n",
       "      <th>3</th>\n",
       "      <td>3</td>\n",
       "      <td>15582</td>\n",
       "      <td>1456</td>\n",
       "      <td>1256</td>\n",
       "      <td>0</td>\n",
       "      <td>30</td>\n",
       "      <td>627</td>\n",
       "      <td>16</td>\n",
       "      <td>13</td>\n",
       "    </tr>\n",
       "    <tr>\n",
       "      <th>4</th>\n",
       "      <td>4</td>\n",
       "      <td>21057</td>\n",
       "      <td>87</td>\n",
       "      <td>907</td>\n",
       "      <td>0</td>\n",
       "      <td>30</td>\n",
       "      <td>627</td>\n",
       "      <td>16</td>\n",
       "      <td>13</td>\n",
       "    </tr>\n",
       "  </tbody>\n",
       "</table>\n",
       "</div>"
      ],
      "text/plain": [
       "   index  product  colour  cost  dt  age  city  country  personal_coef\n",
       "0      0     3259     203  1475   7   31   694       16             13\n",
       "1      1    17773     433   371  37   31   694       16             13\n",
       "2      2    12187      35   882  37   31   694       16             13\n",
       "3      3    15582    1456  1256   0   30   627       16             13\n",
       "4      4    21057      87   907   0   30   627       16             13"
      ]
     },
     "execution_count": 8,
     "metadata": {},
     "output_type": "execute_result"
    }
   ],
   "source": [
    "# Проведём кодирование каждого признака \n",
    "df_fit = pd.DataFrame()\n",
    "for column in check_columns:\n",
    "    le = LabelEncoder()\n",
    "    df_fit[column] = le.fit_transform(df_train_test[column])\n",
    "df_fit.head()"
   ]
  },
  {
   "cell_type": "code",
   "execution_count": 9,
   "id": "d84def37",
   "metadata": {
    "ExecuteTime": {
     "end_time": "2023-10-31T14:56:34.572691Z",
     "start_time": "2023-10-31T14:56:34.538527Z"
    }
   },
   "outputs": [],
   "source": [
    "df_fit.index = df_fit['index']\n",
    "df_fit.drop(columns=['index'], axis=1, inplace=True)"
   ]
  },
  {
   "cell_type": "code",
   "execution_count": 10,
   "id": "4aca196d",
   "metadata": {
    "ExecuteTime": {
     "end_time": "2023-10-31T14:56:36.721138Z",
     "start_time": "2023-10-31T14:56:36.711245Z"
    }
   },
   "outputs": [],
   "source": [
    "# Инициализируем словарь индексов, в котором будем фиксировать:\n",
    "# метод выявления аномалий; список индексов записей-аномалий\n",
    "indexs = {'Quantile': []}"
   ]
  },
  {
   "cell_type": "code",
   "execution_count": 11,
   "id": "bc38b8db",
   "metadata": {
    "ExecuteTime": {
     "end_time": "2023-10-31T14:56:37.461002Z",
     "start_time": "2023-10-31T14:56:37.390251Z"
    }
   },
   "outputs": [],
   "source": [
    "# Заполним словарь индексов записей-аномалий, индексами аномалий,\n",
    "# выявленными квантилями более 3-сигма\n",
    "for column in df_fit.columns:\n",
    "    quantile_indexs = list(df_fit[df_fit[column] > df_fit[column].quantile(0.997)].index)\n",
    "    if len(quantile_indexs) > 0:\n",
    "        indexs['Quantile'].extend(quantile_indexs)\n",
    "indexs['Quantile'] = list(set(indexs['Quantile']))"
   ]
  },
  {
   "cell_type": "code",
   "execution_count": 12,
   "id": "91e2a1c6",
   "metadata": {
    "ExecuteTime": {
     "end_time": "2023-10-31T14:57:57.055883Z",
     "start_time": "2023-10-31T14:56:39.142783Z"
    }
   },
   "outputs": [],
   "source": [
    "# Заполним словарь индексов записей-аномалий, индексами аномалий,\n",
    "# выявленными Локалфактором и Изолесом\n",
    "lof = LocalOutlierFactor(n_neighbors=693, n_jobs=-1)\n",
    "ifo = IsolationForest(max_samples=12300, n_jobs=-1, random_state=42)\n",
    "pred_lof = lof.fit_predict(df_fit)\n",
    "pred_ifo = ifo.fit_predict(df_fit)\n",
    "indexs['LocalOutlierFactor'] = list(df_fit[pred_lof == -1].index)\n",
    "indexs['IsolationForest'] = list(df_fit[pred_ifo == -1].index)"
   ]
  },
  {
   "cell_type": "code",
   "execution_count": 13,
   "id": "5f7b9e40",
   "metadata": {
    "ExecuteTime": {
     "end_time": "2023-10-31T14:57:57.115317Z",
     "start_time": "2023-10-31T14:57:57.104834Z"
    }
   },
   "outputs": [
    {
     "name": "stdout",
     "output_type": "stream",
     "text": [
      "Методом 'Quantile' выявлено 8928 записей-аномалий, что составляет 1.33% всех записей\n",
      "Методом 'LocalOutlierFactor' выявлено 35630 записей-аномалий, что составляет 5.32% всех записей\n",
      "Методом 'IsolationForest' выявлено 61030 записей-аномалий, что составляет 9.11% всех записей\n",
      "\n",
      "ИТОГО вывленных записей-аномалий 82150, что составляет 12.26% всех записей\n"
     ]
    }
   ],
   "source": [
    "# Сформируемый единый список индексов, полученных всеми методами\n",
    "indexs_all = []\n",
    "# Определим долю выбросов, выявленную каждым методом\n",
    "for method in indexs.keys():\n",
    "    count_anomaly = len(indexs[method])\n",
    "    print(f\"Методом '{method}' выявлено {count_anomaly} записей-аномалий,\", end=' ')\n",
    "    print(f\"что составляет {round(count_anomaly/len(df_train_test) * 100, 2)}% всех записей\")\n",
    "    indexs_all.extend(indexs[method])\n",
    "indexs_all = list(set(indexs_all))\n",
    "indexs_all.sort()\n",
    "print(f'\\nИТОГО вывленных записей-аномалий {len(indexs_all)},', end=' ')\n",
    "print(f'что составляет {round(len(indexs_all)/len(df_train_test) * 100, 2)}% всех записей')"
   ]
  },
  {
   "cell_type": "code",
   "execution_count": 14,
   "id": "691a64c9",
   "metadata": {
    "ExecuteTime": {
     "end_time": "2023-10-31T14:58:23.155633Z",
     "start_time": "2023-10-31T14:58:23.062672Z"
    }
   },
   "outputs": [],
   "source": [
    "# Удалим из обучающего датасета записи с признаками аномалий\n",
    "df_train_test_norm = df_train_test.drop(index=indexs_all)"
   ]
  },
  {
   "cell_type": "code",
   "execution_count": 15,
   "id": "31543739",
   "metadata": {
    "ExecuteTime": {
     "end_time": "2023-10-31T14:58:47.653479Z",
     "start_time": "2023-10-31T14:58:47.635324Z"
    }
   },
   "outputs": [
    {
     "name": "stdout",
     "output_type": "stream",
     "text": [
      "Положительный класс: 324347 (55)%\n",
      "Отрицательный класс: 263459 (45)%\n"
     ]
    }
   ],
   "source": [
    "# Проверим сбалансированность записей датасета по целевому признаку\n",
    "balance = df_train_test_norm.gender.value_counts()\n",
    "print(f'Положительный класс: {balance[1]} ({round(balance[1]/(balance[0]+balance[1])*100)})%')\n",
    "print(f'Отрицательный класс: {balance[0]} ({round(balance[0]/(balance[0]+balance[1])*100)})%')"
   ]
  },
  {
   "cell_type": "markdown",
   "id": "922a7e1e",
   "metadata": {},
   "source": [
    "**Вывод:** Так как датасет неполностью сбалансирован используем при обучении моделей параметр `class_weight='balanced'`, который позволяет учесть разбалансировку до соотношения (57%/43%)"
   ]
  },
  {
   "cell_type": "code",
   "execution_count": 16,
   "id": "ae28ae70",
   "metadata": {
    "ExecuteTime": {
     "end_time": "2023-10-31T14:58:51.809973Z",
     "start_time": "2023-10-31T14:58:51.788345Z"
    }
   },
   "outputs": [
    {
     "data": {
      "text/html": [
       "<div>\n",
       "<style scoped>\n",
       "    .dataframe tbody tr th:only-of-type {\n",
       "        vertical-align: middle;\n",
       "    }\n",
       "\n",
       "    .dataframe tbody tr th {\n",
       "        vertical-align: top;\n",
       "    }\n",
       "\n",
       "    .dataframe thead th {\n",
       "        text-align: right;\n",
       "    }\n",
       "</style>\n",
       "<table border=\"1\" class=\"dataframe\">\n",
       "  <thead>\n",
       "    <tr style=\"text-align: right;\">\n",
       "      <th></th>\n",
       "      <th>index</th>\n",
       "      <th>id</th>\n",
       "      <th>product</th>\n",
       "      <th>colour</th>\n",
       "      <th>cost</th>\n",
       "      <th>product_sex</th>\n",
       "      <th>base_sale</th>\n",
       "      <th>dt</th>\n",
       "      <th>gender</th>\n",
       "      <th>age</th>\n",
       "      <th>education</th>\n",
       "      <th>city</th>\n",
       "      <th>country</th>\n",
       "      <th>lbt_coef</th>\n",
       "      <th>ac_coef</th>\n",
       "      <th>sm_coef</th>\n",
       "      <th>personal_coef</th>\n",
       "    </tr>\n",
       "  </thead>\n",
       "  <tbody>\n",
       "    <tr>\n",
       "      <th>0</th>\n",
       "      <td>0</td>\n",
       "      <td>0</td>\n",
       "      <td>Велосипед горный женский Stern Mira 2.0 26\"</td>\n",
       "      <td>белый/синий</td>\n",
       "      <td>13599</td>\n",
       "      <td>0.0</td>\n",
       "      <td>1</td>\n",
       "      <td>7</td>\n",
       "      <td>0.0</td>\n",
       "      <td>36</td>\n",
       "      <td>среднее</td>\n",
       "      <td>1201</td>\n",
       "      <td>32</td>\n",
       "      <td>5.078678</td>\n",
       "      <td>-0.307147</td>\n",
       "      <td>0.959027</td>\n",
       "      <td>0.5072</td>\n",
       "    </tr>\n",
       "    <tr>\n",
       "      <th>1</th>\n",
       "      <td>1</td>\n",
       "      <td>0</td>\n",
       "      <td>Стол Outventure</td>\n",
       "      <td>зеленый</td>\n",
       "      <td>1499</td>\n",
       "      <td>2.0</td>\n",
       "      <td>0</td>\n",
       "      <td>37</td>\n",
       "      <td>0.0</td>\n",
       "      <td>36</td>\n",
       "      <td>среднее</td>\n",
       "      <td>1201</td>\n",
       "      <td>32</td>\n",
       "      <td>5.078678</td>\n",
       "      <td>-0.307147</td>\n",
       "      <td>0.959027</td>\n",
       "      <td>0.5072</td>\n",
       "    </tr>\n",
       "    <tr>\n",
       "      <th>2</th>\n",
       "      <td>2</td>\n",
       "      <td>0</td>\n",
       "      <td>Набор Outventure: стол + 4 стула</td>\n",
       "      <td>бежевый</td>\n",
       "      <td>4799</td>\n",
       "      <td>2.0</td>\n",
       "      <td>0</td>\n",
       "      <td>37</td>\n",
       "      <td>0.0</td>\n",
       "      <td>36</td>\n",
       "      <td>среднее</td>\n",
       "      <td>1201</td>\n",
       "      <td>32</td>\n",
       "      <td>5.078678</td>\n",
       "      <td>-0.307147</td>\n",
       "      <td>0.959027</td>\n",
       "      <td>0.5072</td>\n",
       "    </tr>\n",
       "  </tbody>\n",
       "</table>\n",
       "</div>"
      ],
      "text/plain": [
       "   index  id                                      product       colour   cost  \\\n",
       "0      0   0  Велосипед горный женский Stern Mira 2.0 26\"  белый/синий  13599   \n",
       "1      1   0                              Стол Outventure      зеленый   1499   \n",
       "2      2   0             Набор Outventure: стол + 4 стула      бежевый   4799   \n",
       "\n",
       "   product_sex  base_sale  dt  gender  age education  city  country  lbt_coef  \\\n",
       "0          0.0          1   7     0.0   36   среднее  1201       32  5.078678   \n",
       "1          2.0          0  37     0.0   36   среднее  1201       32  5.078678   \n",
       "2          2.0          0  37     0.0   36   среднее  1201       32  5.078678   \n",
       "\n",
       "    ac_coef   sm_coef  personal_coef  \n",
       "0 -0.307147  0.959027         0.5072  \n",
       "1 -0.307147  0.959027         0.5072  \n",
       "2 -0.307147  0.959027         0.5072  "
      ]
     },
     "execution_count": 16,
     "metadata": {},
     "output_type": "execute_result"
    }
   ],
   "source": [
    "df_train_test_norm.head(3)"
   ]
  },
  {
   "cell_type": "code",
   "execution_count": 17,
   "id": "034e2ffb",
   "metadata": {
    "ExecuteTime": {
     "end_time": "2023-10-31T14:58:57.101203Z",
     "start_time": "2023-10-31T14:58:56.592606Z"
    }
   },
   "outputs": [
    {
     "data": {
      "text/html": [
       "<div>\n",
       "<style scoped>\n",
       "    .dataframe tbody tr th:only-of-type {\n",
       "        vertical-align: middle;\n",
       "    }\n",
       "\n",
       "    .dataframe tbody tr th {\n",
       "        vertical-align: top;\n",
       "    }\n",
       "\n",
       "    .dataframe thead th {\n",
       "        text-align: right;\n",
       "    }\n",
       "</style>\n",
       "<table border=\"1\" class=\"dataframe\">\n",
       "  <thead>\n",
       "    <tr style=\"text-align: right;\">\n",
       "      <th></th>\n",
       "      <th>index</th>\n",
       "      <th>id</th>\n",
       "      <th>product</th>\n",
       "      <th>colour</th>\n",
       "      <th>cost</th>\n",
       "      <th>product_sex</th>\n",
       "      <th>base_sale</th>\n",
       "      <th>dt</th>\n",
       "      <th>gender</th>\n",
       "      <th>age</th>\n",
       "      <th>education</th>\n",
       "      <th>city</th>\n",
       "      <th>country</th>\n",
       "      <th>lbt_coef</th>\n",
       "      <th>ac_coef</th>\n",
       "      <th>sm_coef</th>\n",
       "      <th>personal_coef</th>\n",
       "    </tr>\n",
       "  </thead>\n",
       "  <tbody>\n",
       "    <tr>\n",
       "      <th>0</th>\n",
       "      <td>0</td>\n",
       "      <td>0</td>\n",
       "      <td>2753</td>\n",
       "      <td>179</td>\n",
       "      <td>13599</td>\n",
       "      <td>0.0</td>\n",
       "      <td>1</td>\n",
       "      <td>7</td>\n",
       "      <td>0.0</td>\n",
       "      <td>36</td>\n",
       "      <td>1</td>\n",
       "      <td>1201</td>\n",
       "      <td>32</td>\n",
       "      <td>5.078678</td>\n",
       "      <td>-0.307147</td>\n",
       "      <td>0.959027</td>\n",
       "      <td>0.5072</td>\n",
       "    </tr>\n",
       "    <tr>\n",
       "      <th>1</th>\n",
       "      <td>1</td>\n",
       "      <td>0</td>\n",
       "      <td>16189</td>\n",
       "      <td>400</td>\n",
       "      <td>1499</td>\n",
       "      <td>2.0</td>\n",
       "      <td>0</td>\n",
       "      <td>37</td>\n",
       "      <td>0.0</td>\n",
       "      <td>36</td>\n",
       "      <td>1</td>\n",
       "      <td>1201</td>\n",
       "      <td>32</td>\n",
       "      <td>5.078678</td>\n",
       "      <td>-0.307147</td>\n",
       "      <td>0.959027</td>\n",
       "      <td>0.5072</td>\n",
       "    </tr>\n",
       "    <tr>\n",
       "      <th>2</th>\n",
       "      <td>2</td>\n",
       "      <td>0</td>\n",
       "      <td>11116</td>\n",
       "      <td>21</td>\n",
       "      <td>4799</td>\n",
       "      <td>2.0</td>\n",
       "      <td>0</td>\n",
       "      <td>37</td>\n",
       "      <td>0.0</td>\n",
       "      <td>36</td>\n",
       "      <td>1</td>\n",
       "      <td>1201</td>\n",
       "      <td>32</td>\n",
       "      <td>5.078678</td>\n",
       "      <td>-0.307147</td>\n",
       "      <td>0.959027</td>\n",
       "      <td>0.5072</td>\n",
       "    </tr>\n",
       "  </tbody>\n",
       "</table>\n",
       "</div>"
      ],
      "text/plain": [
       "   index  id  product  colour   cost  product_sex  base_sale  dt  gender  age  \\\n",
       "0      0   0     2753     179  13599          0.0          1   7     0.0   36   \n",
       "1      1   0    16189     400   1499          2.0          0  37     0.0   36   \n",
       "2      2   0    11116      21   4799          2.0          0  37     0.0   36   \n",
       "\n",
       "   education  city  country  lbt_coef   ac_coef   sm_coef  personal_coef  \n",
       "0          1  1201       32  5.078678 -0.307147  0.959027         0.5072  \n",
       "1          1  1201       32  5.078678 -0.307147  0.959027         0.5072  \n",
       "2          1  1201       32  5.078678 -0.307147  0.959027         0.5072  "
      ]
     },
     "execution_count": 17,
     "metadata": {},
     "output_type": "execute_result"
    }
   ],
   "source": [
    "# Закодируем категориальные признаки 'product', 'colour', 'education':\n",
    "le1 = LabelEncoder()\n",
    "df_train_test_norm_ = df_train_test_norm.copy()\n",
    "for col in ['product', 'colour', 'education']:\n",
    "    le1.fit(list(set(df_train_test_norm_[col].dropna().unique())))\n",
    "    df_train_test_norm_[col] = le1.transform(df_train_test_norm_[col])\n",
    "df_train_test_norm_.head(3)"
   ]
  },
  {
   "cell_type": "code",
   "execution_count": 18,
   "id": "03b2a3f2",
   "metadata": {
    "ExecuteTime": {
     "end_time": "2023-10-31T14:59:01.509019Z",
     "start_time": "2023-10-31T14:59:01.335653Z"
    }
   },
   "outputs": [
    {
     "data": {
      "text/html": [
       "<div>\n",
       "<style scoped>\n",
       "    .dataframe tbody tr th:only-of-type {\n",
       "        vertical-align: middle;\n",
       "    }\n",
       "\n",
       "    .dataframe tbody tr th {\n",
       "        vertical-align: top;\n",
       "    }\n",
       "\n",
       "    .dataframe thead th {\n",
       "        text-align: right;\n",
       "    }\n",
       "</style>\n",
       "<table border=\"1\" class=\"dataframe\">\n",
       "  <thead>\n",
       "    <tr style=\"text-align: right;\">\n",
       "      <th></th>\n",
       "      <th>index</th>\n",
       "      <th>id</th>\n",
       "      <th>product</th>\n",
       "      <th>colour</th>\n",
       "      <th>cost</th>\n",
       "      <th>product_sex</th>\n",
       "      <th>base_sale</th>\n",
       "      <th>dt</th>\n",
       "      <th>gender</th>\n",
       "      <th>age</th>\n",
       "      <th>education</th>\n",
       "      <th>city</th>\n",
       "      <th>country</th>\n",
       "      <th>lbt_coef</th>\n",
       "      <th>ac_coef</th>\n",
       "      <th>sm_coef</th>\n",
       "      <th>personal_coef</th>\n",
       "    </tr>\n",
       "  </thead>\n",
       "  <tbody>\n",
       "    <tr>\n",
       "      <th>0</th>\n",
       "      <td>0</td>\n",
       "      <td>0</td>\n",
       "      <td>-1.358996</td>\n",
       "      <td>-1.533852</td>\n",
       "      <td>1.542745</td>\n",
       "      <td>0.0</td>\n",
       "      <td>1</td>\n",
       "      <td>-1.046609</td>\n",
       "      <td>0.0</td>\n",
       "      <td>-0.27796</td>\n",
       "      <td>1</td>\n",
       "      <td>0.828864</td>\n",
       "      <td>0.0</td>\n",
       "      <td>5.078678</td>\n",
       "      <td>-0.307147</td>\n",
       "      <td>0.959027</td>\n",
       "      <td>0.803887</td>\n",
       "    </tr>\n",
       "    <tr>\n",
       "      <th>1</th>\n",
       "      <td>1</td>\n",
       "      <td>0</td>\n",
       "      <td>0.979997</td>\n",
       "      <td>-1.034691</td>\n",
       "      <td>-0.530135</td>\n",
       "      <td>2.0</td>\n",
       "      <td>0</td>\n",
       "      <td>0.705950</td>\n",
       "      <td>0.0</td>\n",
       "      <td>-0.27796</td>\n",
       "      <td>1</td>\n",
       "      <td>0.828864</td>\n",
       "      <td>0.0</td>\n",
       "      <td>5.078678</td>\n",
       "      <td>-0.307147</td>\n",
       "      <td>0.959027</td>\n",
       "      <td>0.803887</td>\n",
       "    </tr>\n",
       "    <tr>\n",
       "      <th>2</th>\n",
       "      <td>2</td>\n",
       "      <td>0</td>\n",
       "      <td>0.096869</td>\n",
       "      <td>-1.890718</td>\n",
       "      <td>0.035196</td>\n",
       "      <td>2.0</td>\n",
       "      <td>0</td>\n",
       "      <td>0.705950</td>\n",
       "      <td>0.0</td>\n",
       "      <td>-0.27796</td>\n",
       "      <td>1</td>\n",
       "      <td>0.828864</td>\n",
       "      <td>0.0</td>\n",
       "      <td>5.078678</td>\n",
       "      <td>-0.307147</td>\n",
       "      <td>0.959027</td>\n",
       "      <td>0.803887</td>\n",
       "    </tr>\n",
       "  </tbody>\n",
       "</table>\n",
       "</div>"
      ],
      "text/plain": [
       "   index  id   product    colour      cost  product_sex  base_sale        dt  \\\n",
       "0      0   0 -1.358996 -1.533852  1.542745          0.0          1 -1.046609   \n",
       "1      1   0  0.979997 -1.034691 -0.530135          2.0          0  0.705950   \n",
       "2      2   0  0.096869 -1.890718  0.035196          2.0          0  0.705950   \n",
       "\n",
       "   gender      age  education      city  country  lbt_coef   ac_coef  \\\n",
       "0     0.0 -0.27796          1  0.828864      0.0  5.078678 -0.307147   \n",
       "1     0.0 -0.27796          1  0.828864      0.0  5.078678 -0.307147   \n",
       "2     0.0 -0.27796          1  0.828864      0.0  5.078678 -0.307147   \n",
       "\n",
       "    sm_coef  personal_coef  \n",
       "0  0.959027       0.803887  \n",
       "1  0.959027       0.803887  \n",
       "2  0.959027       0.803887  "
      ]
     },
     "execution_count": 18,
     "metadata": {},
     "output_type": "execute_result"
    }
   ],
   "source": [
    "# Стандартизуем не бинарные признаки, которые будем использовать при обучении\n",
    "ss = StandardScaler()\n",
    "for col in ['product', 'colour', 'cost', 'dt', 'age', 'city', 'country', 'personal_coef']:\n",
    "    df_train_test_norm_[col] = ss.fit_transform(df_train_test_norm_[[col]])\n",
    "df_train_test_norm_.head(3)"
   ]
  },
  {
   "cell_type": "code",
   "execution_count": 19,
   "id": "1a74113a",
   "metadata": {
    "ExecuteTime": {
     "end_time": "2023-10-31T14:59:04.311126Z",
     "start_time": "2023-10-31T14:59:04.302616Z"
    }
   },
   "outputs": [],
   "source": [
    "# Признаки используемые при обучении модели\n",
    "cols = ['product', 'colour', 'cost', 'product_sex', 'base_sale', 'dt', 'age', 'education',\n",
    "        'city', 'country', 'personal_coef']"
   ]
  },
  {
   "cell_type": "code",
   "execution_count": 20,
   "id": "65c3d4bf",
   "metadata": {
    "ExecuteTime": {
     "end_time": "2023-10-31T15:02:26.701713Z",
     "start_time": "2023-10-31T15:02:09.931054Z"
    }
   },
   "outputs": [
    {
     "data": {
      "text/html": [
       "<style>#sk-container-id-1 {color: black;background-color: white;}#sk-container-id-1 pre{padding: 0;}#sk-container-id-1 div.sk-toggleable {background-color: white;}#sk-container-id-1 label.sk-toggleable__label {cursor: pointer;display: block;width: 100%;margin-bottom: 0;padding: 0.3em;box-sizing: border-box;text-align: center;}#sk-container-id-1 label.sk-toggleable__label-arrow:before {content: \"▸\";float: left;margin-right: 0.25em;color: #696969;}#sk-container-id-1 label.sk-toggleable__label-arrow:hover:before {color: black;}#sk-container-id-1 div.sk-estimator:hover label.sk-toggleable__label-arrow:before {color: black;}#sk-container-id-1 div.sk-toggleable__content {max-height: 0;max-width: 0;overflow: hidden;text-align: left;background-color: #f0f8ff;}#sk-container-id-1 div.sk-toggleable__content pre {margin: 0.2em;color: black;border-radius: 0.25em;background-color: #f0f8ff;}#sk-container-id-1 input.sk-toggleable__control:checked~div.sk-toggleable__content {max-height: 200px;max-width: 100%;overflow: auto;}#sk-container-id-1 input.sk-toggleable__control:checked~label.sk-toggleable__label-arrow:before {content: \"▾\";}#sk-container-id-1 div.sk-estimator input.sk-toggleable__control:checked~label.sk-toggleable__label {background-color: #d4ebff;}#sk-container-id-1 div.sk-label input.sk-toggleable__control:checked~label.sk-toggleable__label {background-color: #d4ebff;}#sk-container-id-1 input.sk-hidden--visually {border: 0;clip: rect(1px 1px 1px 1px);clip: rect(1px, 1px, 1px, 1px);height: 1px;margin: -1px;overflow: hidden;padding: 0;position: absolute;width: 1px;}#sk-container-id-1 div.sk-estimator {font-family: monospace;background-color: #f0f8ff;border: 1px dotted black;border-radius: 0.25em;box-sizing: border-box;margin-bottom: 0.5em;}#sk-container-id-1 div.sk-estimator:hover {background-color: #d4ebff;}#sk-container-id-1 div.sk-parallel-item::after {content: \"\";width: 100%;border-bottom: 1px solid gray;flex-grow: 1;}#sk-container-id-1 div.sk-label:hover label.sk-toggleable__label {background-color: #d4ebff;}#sk-container-id-1 div.sk-serial::before {content: \"\";position: absolute;border-left: 1px solid gray;box-sizing: border-box;top: 0;bottom: 0;left: 50%;z-index: 0;}#sk-container-id-1 div.sk-serial {display: flex;flex-direction: column;align-items: center;background-color: white;padding-right: 0.2em;padding-left: 0.2em;position: relative;}#sk-container-id-1 div.sk-item {position: relative;z-index: 1;}#sk-container-id-1 div.sk-parallel {display: flex;align-items: stretch;justify-content: center;background-color: white;position: relative;}#sk-container-id-1 div.sk-item::before, #sk-container-id-1 div.sk-parallel-item::before {content: \"\";position: absolute;border-left: 1px solid gray;box-sizing: border-box;top: 0;bottom: 0;left: 50%;z-index: -1;}#sk-container-id-1 div.sk-parallel-item {display: flex;flex-direction: column;z-index: 1;position: relative;background-color: white;}#sk-container-id-1 div.sk-parallel-item:first-child::after {align-self: flex-end;width: 50%;}#sk-container-id-1 div.sk-parallel-item:last-child::after {align-self: flex-start;width: 50%;}#sk-container-id-1 div.sk-parallel-item:only-child::after {width: 0;}#sk-container-id-1 div.sk-dashed-wrapped {border: 1px dashed gray;margin: 0 0.4em 0.5em 0.4em;box-sizing: border-box;padding-bottom: 0.4em;background-color: white;}#sk-container-id-1 div.sk-label label {font-family: monospace;font-weight: bold;display: inline-block;line-height: 1.2em;}#sk-container-id-1 div.sk-label-container {text-align: center;}#sk-container-id-1 div.sk-container {/* jupyter's `normalize.less` sets `[hidden] { display: none; }` but bootstrap.min.css set `[hidden] { display: none !important; }` so we also need the `!important` here to be able to override the default hidden behavior on the sphinx rendered scikit-learn.org. See: https://github.com/scikit-learn/scikit-learn/issues/21755 */display: inline-block !important;position: relative;}#sk-container-id-1 div.sk-text-repr-fallback {display: none;}</style><div id=\"sk-container-id-1\" class=\"sk-top-container\"><div class=\"sk-text-repr-fallback\"><pre>RandomForestClassifier(class_weight=&#x27;balanced&#x27;)</pre><b>In a Jupyter environment, please rerun this cell to show the HTML representation or trust the notebook. <br />On GitHub, the HTML representation is unable to render, please try loading this page with nbviewer.org.</b></div><div class=\"sk-container\" hidden><div class=\"sk-item\"><div class=\"sk-estimator sk-toggleable\"><input class=\"sk-toggleable__control sk-hidden--visually\" id=\"sk-estimator-id-1\" type=\"checkbox\" checked><label for=\"sk-estimator-id-1\" class=\"sk-toggleable__label sk-toggleable__label-arrow\">RandomForestClassifier</label><div class=\"sk-toggleable__content\"><pre>RandomForestClassifier(class_weight=&#x27;balanced&#x27;)</pre></div></div></div></div></div>"
      ],
      "text/plain": [
       "RandomForestClassifier(class_weight='balanced')"
      ]
     },
     "execution_count": 20,
     "metadata": {},
     "output_type": "execute_result"
    }
   ],
   "source": [
    "# Обучим модель \"Случайный лес Деревьев принятия решения\" на всех имеющихся данных \n",
    "rf = RandomForestClassifier(class_weight='balanced')\n",
    "rf.fit(df_train_test_norm_[cols], df_train_test_norm_['gender'])"
   ]
  },
  {
   "cell_type": "code",
   "execution_count": 21,
   "id": "c149c085",
   "metadata": {
    "ExecuteTime": {
     "end_time": "2023-10-31T15:02:32.389399Z",
     "start_time": "2023-10-31T15:02:32.205131Z"
    }
   },
   "outputs": [
    {
     "data": {
      "text/html": [
       "<div>\n",
       "<style scoped>\n",
       "    .dataframe tbody tr th:only-of-type {\n",
       "        vertical-align: middle;\n",
       "    }\n",
       "\n",
       "    .dataframe tbody tr th {\n",
       "        vertical-align: top;\n",
       "    }\n",
       "\n",
       "    .dataframe thead th {\n",
       "        text-align: right;\n",
       "    }\n",
       "</style>\n",
       "<table border=\"1\" class=\"dataframe\">\n",
       "  <thead>\n",
       "    <tr style=\"text-align: right;\">\n",
       "      <th></th>\n",
       "      <th>id</th>\n",
       "      <th>product</th>\n",
       "      <th>colour</th>\n",
       "      <th>cost</th>\n",
       "      <th>product_sex</th>\n",
       "      <th>base_sale</th>\n",
       "      <th>dt</th>\n",
       "      <th>gender</th>\n",
       "      <th>age</th>\n",
       "      <th>education</th>\n",
       "      <th>city</th>\n",
       "      <th>country</th>\n",
       "      <th>lbt_coef</th>\n",
       "      <th>ac_coef</th>\n",
       "      <th>sm_coef</th>\n",
       "      <th>personal_coef</th>\n",
       "    </tr>\n",
       "  </thead>\n",
       "  <tbody>\n",
       "    <tr>\n",
       "      <th>3</th>\n",
       "      <td>3</td>\n",
       "      <td>-1.404714</td>\n",
       "      <td>-1.711752</td>\n",
       "      <td>-0.370080</td>\n",
       "      <td>1.0</td>\n",
       "      <td>0</td>\n",
       "      <td>-0.693454</td>\n",
       "      <td>NaN</td>\n",
       "      <td>-0.601036</td>\n",
       "      <td>1</td>\n",
       "      <td>0.018259</td>\n",
       "      <td>0.003842</td>\n",
       "      <td>7.764766</td>\n",
       "      <td>-0.030225</td>\n",
       "      <td>0.79472</td>\n",
       "      <td>-0.474307</td>\n",
       "    </tr>\n",
       "    <tr>\n",
       "      <th>4</th>\n",
       "      <td>3</td>\n",
       "      <td>0.091138</td>\n",
       "      <td>-0.553376</td>\n",
       "      <td>0.177158</td>\n",
       "      <td>2.0</td>\n",
       "      <td>0</td>\n",
       "      <td>0.116252</td>\n",
       "      <td>NaN</td>\n",
       "      <td>-0.601036</td>\n",
       "      <td>1</td>\n",
       "      <td>0.018259</td>\n",
       "      <td>0.003842</td>\n",
       "      <td>7.764766</td>\n",
       "      <td>-0.030225</td>\n",
       "      <td>0.79472</td>\n",
       "      <td>-0.474307</td>\n",
       "    </tr>\n",
       "    <tr>\n",
       "      <th>5</th>\n",
       "      <td>3</td>\n",
       "      <td>-0.859274</td>\n",
       "      <td>-1.711752</td>\n",
       "      <td>-0.252814</td>\n",
       "      <td>1.0</td>\n",
       "      <td>1</td>\n",
       "      <td>0.521105</td>\n",
       "      <td>NaN</td>\n",
       "      <td>-0.601036</td>\n",
       "      <td>1</td>\n",
       "      <td>0.018259</td>\n",
       "      <td>0.003842</td>\n",
       "      <td>7.764766</td>\n",
       "      <td>-0.030225</td>\n",
       "      <td>0.79472</td>\n",
       "      <td>-0.474307</td>\n",
       "    </tr>\n",
       "  </tbody>\n",
       "</table>\n",
       "</div>"
      ],
      "text/plain": [
       "   id   product    colour      cost  product_sex  base_sale        dt  gender  \\\n",
       "3   3 -1.404714 -1.711752 -0.370080          1.0          0 -0.693454     NaN   \n",
       "4   3  0.091138 -0.553376  0.177158          2.0          0  0.116252     NaN   \n",
       "5   3 -0.859274 -1.711752 -0.252814          1.0          1  0.521105     NaN   \n",
       "\n",
       "        age  education      city   country  lbt_coef   ac_coef  sm_coef  \\\n",
       "3 -0.601036          1  0.018259  0.003842  7.764766 -0.030225  0.79472   \n",
       "4 -0.601036          1  0.018259  0.003842  7.764766 -0.030225  0.79472   \n",
       "5 -0.601036          1  0.018259  0.003842  7.764766 -0.030225  0.79472   \n",
       "\n",
       "   personal_coef  \n",
       "3      -0.474307  \n",
       "4      -0.474307  \n",
       "5      -0.474307  "
      ]
     },
     "execution_count": 21,
     "metadata": {},
     "output_type": "execute_result"
    }
   ],
   "source": [
    "# Выберем, закодируем и стандартизуем признаки записей,\n",
    "# в которых необходимо восстановить знпачени признака 'gender'\n",
    "df_pred = df[df.gender.isna()]\n",
    "gender_index = df_pred.index\n",
    "\n",
    "# Закодируем категориальные признаки 'product', 'colour', 'education':\n",
    "le2 = LabelEncoder()\n",
    "df_pred_ = df_pred.copy()\n",
    "for col in ['product', 'colour', 'education']:\n",
    "    le1.fit(list(set(df_pred_[col].dropna().unique())))\n",
    "    df_pred_[col] = le1.transform(df_pred_[col])\n",
    "\n",
    "# Стандартизуем не бинарные признаки, которые будем использовать при обучении\n",
    "ss = StandardScaler()\n",
    "for col in ['product', 'colour', 'cost', 'dt', 'age', 'city', 'country', 'personal_coef']:\n",
    "    df_pred_[col] = ss.fit_transform(df_pred_[[col]])\n",
    "df_pred_.head(3)"
   ]
  },
  {
   "cell_type": "code",
   "execution_count": 22,
   "id": "782b649c",
   "metadata": {
    "ExecuteTime": {
     "end_time": "2023-10-31T15:02:52.164121Z",
     "start_time": "2023-10-31T15:02:51.751571Z"
    }
   },
   "outputs": [],
   "source": [
    "# Восстановим признак 'gender' с помощью обученной ранее модели, используя признаки с непустыми данными\n",
    "gender_pred = rf.predict(df_pred_[cols])\n",
    "df_gender = pd.DataFrame({'gender': gender_pred})\n",
    "df_gender.index = gender_index"
   ]
  },
  {
   "cell_type": "code",
   "execution_count": 23,
   "id": "1b6177ae",
   "metadata": {
    "ExecuteTime": {
     "end_time": "2023-10-31T15:03:17.520503Z",
     "start_time": "2023-10-31T15:03:14.440366Z"
    }
   },
   "outputs": [
    {
     "data": {
      "text/html": [
       "<div>\n",
       "<style scoped>\n",
       "    .dataframe tbody tr th:only-of-type {\n",
       "        vertical-align: middle;\n",
       "    }\n",
       "\n",
       "    .dataframe tbody tr th {\n",
       "        vertical-align: top;\n",
       "    }\n",
       "\n",
       "    .dataframe thead th {\n",
       "        text-align: right;\n",
       "    }\n",
       "</style>\n",
       "<table border=\"1\" class=\"dataframe\">\n",
       "  <thead>\n",
       "    <tr style=\"text-align: right;\">\n",
       "      <th></th>\n",
       "      <th>id</th>\n",
       "      <th>product</th>\n",
       "      <th>colour</th>\n",
       "      <th>cost</th>\n",
       "      <th>product_sex</th>\n",
       "      <th>base_sale</th>\n",
       "      <th>dt</th>\n",
       "      <th>gender</th>\n",
       "      <th>age</th>\n",
       "      <th>education</th>\n",
       "      <th>city</th>\n",
       "      <th>country</th>\n",
       "      <th>lbt_coef</th>\n",
       "      <th>ac_coef</th>\n",
       "      <th>sm_coef</th>\n",
       "      <th>personal_coef</th>\n",
       "    </tr>\n",
       "  </thead>\n",
       "  <tbody>\n",
       "    <tr>\n",
       "      <th>0</th>\n",
       "      <td>0</td>\n",
       "      <td>Велосипед горный женский Stern Mira 2.0 26\"</td>\n",
       "      <td>белый/синий</td>\n",
       "      <td>13599</td>\n",
       "      <td>0.0</td>\n",
       "      <td>1</td>\n",
       "      <td>7</td>\n",
       "      <td>0.0</td>\n",
       "      <td>36</td>\n",
       "      <td>среднее</td>\n",
       "      <td>1201</td>\n",
       "      <td>32</td>\n",
       "      <td>5.078678</td>\n",
       "      <td>-0.307147</td>\n",
       "      <td>0.959027</td>\n",
       "      <td>0.5072</td>\n",
       "    </tr>\n",
       "    <tr>\n",
       "      <th>1</th>\n",
       "      <td>0</td>\n",
       "      <td>Стол Outventure</td>\n",
       "      <td>зеленый</td>\n",
       "      <td>1499</td>\n",
       "      <td>2.0</td>\n",
       "      <td>0</td>\n",
       "      <td>37</td>\n",
       "      <td>0.0</td>\n",
       "      <td>36</td>\n",
       "      <td>среднее</td>\n",
       "      <td>1201</td>\n",
       "      <td>32</td>\n",
       "      <td>5.078678</td>\n",
       "      <td>-0.307147</td>\n",
       "      <td>0.959027</td>\n",
       "      <td>0.5072</td>\n",
       "    </tr>\n",
       "    <tr>\n",
       "      <th>2</th>\n",
       "      <td>0</td>\n",
       "      <td>Набор Outventure: стол + 4 стула</td>\n",
       "      <td>бежевый</td>\n",
       "      <td>4799</td>\n",
       "      <td>2.0</td>\n",
       "      <td>0</td>\n",
       "      <td>37</td>\n",
       "      <td>0.0</td>\n",
       "      <td>36</td>\n",
       "      <td>среднее</td>\n",
       "      <td>1201</td>\n",
       "      <td>32</td>\n",
       "      <td>5.078678</td>\n",
       "      <td>-0.307147</td>\n",
       "      <td>0.959027</td>\n",
       "      <td>0.5072</td>\n",
       "    </tr>\n",
       "    <tr>\n",
       "      <th>3</th>\n",
       "      <td>3</td>\n",
       "      <td>Бутсы мужские GSD Astro</td>\n",
       "      <td>белый</td>\n",
       "      <td>1599</td>\n",
       "      <td>1.0</td>\n",
       "      <td>0</td>\n",
       "      <td>13</td>\n",
       "      <td>1.0</td>\n",
       "      <td>31</td>\n",
       "      <td>среднее</td>\n",
       "      <td>1134</td>\n",
       "      <td>32</td>\n",
       "      <td>7.764766</td>\n",
       "      <td>-0.030225</td>\n",
       "      <td>0.794720</td>\n",
       "      <td>0.4304</td>\n",
       "    </tr>\n",
       "    <tr>\n",
       "      <th>4</th>\n",
       "      <td>3</td>\n",
       "      <td>Мяч футбольный PUMA TEAMFINAL 21.2 FIFA QUALIT...</td>\n",
       "      <td>многоцветный</td>\n",
       "      <td>7199</td>\n",
       "      <td>2.0</td>\n",
       "      <td>0</td>\n",
       "      <td>27</td>\n",
       "      <td>1.0</td>\n",
       "      <td>31</td>\n",
       "      <td>среднее</td>\n",
       "      <td>1134</td>\n",
       "      <td>32</td>\n",
       "      <td>7.764766</td>\n",
       "      <td>-0.030225</td>\n",
       "      <td>0.794720</td>\n",
       "      <td>0.4304</td>\n",
       "    </tr>\n",
       "    <tr>\n",
       "      <th>5</th>\n",
       "      <td>3</td>\n",
       "      <td>Кеды мужские FILA A-Low</td>\n",
       "      <td>белый</td>\n",
       "      <td>2799</td>\n",
       "      <td>1.0</td>\n",
       "      <td>1</td>\n",
       "      <td>34</td>\n",
       "      <td>1.0</td>\n",
       "      <td>31</td>\n",
       "      <td>среднее</td>\n",
       "      <td>1134</td>\n",
       "      <td>32</td>\n",
       "      <td>7.764766</td>\n",
       "      <td>-0.030225</td>\n",
       "      <td>0.794720</td>\n",
       "      <td>0.4304</td>\n",
       "    </tr>\n",
       "  </tbody>\n",
       "</table>\n",
       "</div>"
      ],
      "text/plain": [
       "   id                                            product        colour   cost  \\\n",
       "0   0        Велосипед горный женский Stern Mira 2.0 26\"   белый/синий  13599   \n",
       "1   0                                    Стол Outventure       зеленый   1499   \n",
       "2   0                   Набор Outventure: стол + 4 стула       бежевый   4799   \n",
       "3   3                            Бутсы мужские GSD Astro         белый   1599   \n",
       "4   3  Мяч футбольный PUMA TEAMFINAL 21.2 FIFA QUALIT...  многоцветный   7199   \n",
       "5   3                            Кеды мужские FILA A-Low         белый   2799   \n",
       "\n",
       "   product_sex  base_sale  dt  gender  age education  city  country  lbt_coef  \\\n",
       "0          0.0          1   7     0.0   36   среднее  1201       32  5.078678   \n",
       "1          2.0          0  37     0.0   36   среднее  1201       32  5.078678   \n",
       "2          2.0          0  37     0.0   36   среднее  1201       32  5.078678   \n",
       "3          1.0          0  13     1.0   31   среднее  1134       32  7.764766   \n",
       "4          2.0          0  27     1.0   31   среднее  1134       32  7.764766   \n",
       "5          1.0          1  34     1.0   31   среднее  1134       32  7.764766   \n",
       "\n",
       "    ac_coef   sm_coef  personal_coef  \n",
       "0 -0.307147  0.959027         0.5072  \n",
       "1 -0.307147  0.959027         0.5072  \n",
       "2 -0.307147  0.959027         0.5072  \n",
       "3 -0.030225  0.794720         0.4304  \n",
       "4 -0.030225  0.794720         0.4304  \n",
       "5 -0.030225  0.794720         0.4304  "
      ]
     },
     "execution_count": 23,
     "metadata": {},
     "output_type": "execute_result"
    }
   ],
   "source": [
    "# Добавим восстановленные значения в общий датафрейм\n",
    "for ind in df_gender.index:\n",
    "    df.loc[ind, 'gender'] = df_gender.loc[ind, 'gender']\n",
    "df.head(6)"
   ]
  },
  {
   "cell_type": "code",
   "execution_count": 24,
   "id": "70fd0e29",
   "metadata": {
    "ExecuteTime": {
     "end_time": "2023-10-31T15:03:23.668979Z",
     "start_time": "2023-10-31T15:03:21.577320Z"
    }
   },
   "outputs": [
    {
     "name": "stdout",
     "output_type": "stream",
     "text": [
      "База данных создана и подключена\n",
      "Таблица заполнена\n",
      "Соединение с базой данных закрыто\n"
     ]
    }
   ],
   "source": [
    "# Загрузим итоговый датаcет в хранилище (база данных sqlite3)\n",
    "connection = db.connect('data/purchases.db')\n",
    "print(\"База данных создана и подключена\")\n",
    "df.to_sql(\"full_table\", connection, if_exists=\"replace\", index=False)\n",
    "print(\"Таблица заполнена\")\n",
    "connection.close()\n",
    "print(\"Соединение с базой данных закрыто\")"
   ]
  },
  {
   "cell_type": "code",
   "execution_count": 25,
   "id": "9b804e81",
   "metadata": {
    "ExecuteTime": {
     "end_time": "2023-10-31T15:03:24.739250Z",
     "start_time": "2023-10-31T15:03:24.544950Z"
    },
    "code_folding": [
     0
    ]
   },
   "outputs": [
    {
     "name": "stdout",
     "output_type": "stream",
     "text": [
      "<class 'pandas.core.frame.DataFrame'>\n",
      "RangeIndex: 786260 entries, 0 to 786259\n",
      "Data columns (total 16 columns):\n",
      " #   Column         Non-Null Count   Dtype  \n",
      "---  ------         --------------   -----  \n",
      " 0   id             786260 non-null  int64  \n",
      " 1   product        786260 non-null  object \n",
      " 2   colour         786260 non-null  object \n",
      " 3   cost           786260 non-null  int64  \n",
      " 4   product_sex    786260 non-null  float64\n",
      " 5   base_sale      786260 non-null  int64  \n",
      " 6   dt             786260 non-null  int64  \n",
      " 7   gender         786260 non-null  float64\n",
      " 8   age            786260 non-null  int64  \n",
      " 9   education      786260 non-null  object \n",
      " 10  city           786260 non-null  int64  \n",
      " 11  country        786260 non-null  int64  \n",
      " 12  lbt_coef       786260 non-null  float64\n",
      " 13  ac_coef        786260 non-null  float64\n",
      " 14  sm_coef        786260 non-null  float64\n",
      " 15  personal_coef  786260 non-null  float64\n",
      "dtypes: float64(6), int64(7), object(3)\n",
      "memory usage: 96.0+ MB\n"
     ]
    }
   ],
   "source": [
    "# Проверим полноту данных в итоговом датасете\n",
    "df.info()"
   ]
  },
  {
   "cell_type": "code",
   "execution_count": 27,
   "id": "76ba2223",
   "metadata": {
    "ExecuteTime": {
     "end_time": "2023-10-31T15:03:29.057096Z",
     "start_time": "2023-10-31T15:03:29.032648Z"
    }
   },
   "outputs": [],
   "source": [
    "# Оптимизируем используемую память\n",
    "# Определяем список загруженных датафреймов\n",
    "dfs = []\n",
    "local_variable_scope =locals().keys()\n",
    "for elem in local_variable_scope:\n",
    "    if 'df' in elem:\n",
    "        dfs.append(elem)\n",
    "# Удаляем не используемые датафреймы\n",
    "for elem in dfs:\n",
    "    del locals()[elem]"
   ]
  },
  {
   "cell_type": "code",
   "execution_count": null,
   "id": "9dcd1be1",
   "metadata": {},
   "outputs": [],
   "source": []
  }
 ],
 "metadata": {
  "kernelspec": {
   "display_name": "Python 3 (ipykernel)",
   "language": "python",
   "name": "python3"
  },
  "language_info": {
   "codemirror_mode": {
    "name": "ipython",
    "version": 3
   },
   "file_extension": ".py",
   "mimetype": "text/x-python",
   "name": "python",
   "nbconvert_exporter": "python",
   "pygments_lexer": "ipython3",
   "version": "3.9.13"
  },
  "toc": {
   "base_numbering": 1,
   "nav_menu": {},
   "number_sections": false,
   "sideBar": true,
   "skip_h1_title": false,
   "title_cell": "СОДЕРЖАНИЕ",
   "title_sidebar": "Contents",
   "toc_cell": true,
   "toc_position": {},
   "toc_section_display": true,
   "toc_window_display": false
  },
  "varInspector": {
   "cols": {
    "lenName": 16,
    "lenType": 16,
    "lenVar": 40
   },
   "kernels_config": {
    "python": {
     "delete_cmd_postfix": "",
     "delete_cmd_prefix": "del ",
     "library": "var_list.py",
     "varRefreshCmd": "print(var_dic_list())"
    },
    "r": {
     "delete_cmd_postfix": ") ",
     "delete_cmd_prefix": "rm(",
     "library": "var_list.r",
     "varRefreshCmd": "cat(var_dic_list()) "
    }
   },
   "types_to_exclude": [
    "module",
    "function",
    "builtin_function_or_method",
    "instance",
    "_Feature"
   ],
   "window_display": false
  }
 },
 "nbformat": 4,
 "nbformat_minor": 5
}
